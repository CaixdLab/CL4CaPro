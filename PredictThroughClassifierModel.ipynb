{
 "cells": [
  {
   "cell_type": "markdown",
   "source": [
    "# Sample Classifier Model Prediction through our model on Box\n",
    "\n",
    "*PredictThroughClassifierModel.ipynb* notebook is offering detailed step-by-step instructions on how to predict classifier results based on our models for each cancer.\n",
    "Please put this notebook at the same path as Classifier Models under CL4CaPro_Models folder\n",
    "\n",
    "### Pick Cancer"
   ],
   "metadata": {
    "collapsed": false
   }
  },
  {
   "cell_type": "code",
   "execution_count": 2,
   "metadata": {
    "collapsed": true,
    "ExecuteTime": {
     "start_time": "2024-04-03T07:14:27.068757Z",
     "end_time": "2024-04-03T07:14:27.098676Z"
    }
   },
   "outputs": [],
   "source": [
    "Cancer = 'BLCA'"
   ]
  },
  {
   "cell_type": "markdown",
   "source": [
    "### Put Input Patient Info\n",
    "e.g. put your input in *BLCA_predict_input.csv*\n",
    "\n",
    "The format of the data adheres to the following rules:\n",
    "1. The data starts with five columns to collect clinical information.\n",
    "2. The first column, named 'patient bar', contains identifying information for the patient. (Can be blank for both task)\n",
    "3. The second column is labeled 'PFI', which denotes the PFI (Progression-Free Interval) status—either censored or uncensored. A '1' indicates an event such as disease progression, local recurrence, distant metastasis, new primary tumor, or death from cancer without a new tumor event, including cases where the tumor type is unspecified. A '0' represents censored cases, with new primary tumors in other organs also being censored. (Can be blank for classifier task)\n",
    "4. The third column, 'PFItime', represents the progression-free interval time in days. For events, this could be the time to a new tumor event or death; for censored cases, it's the time to last contact or death, whichever is applicable. (Can be blank for classifier task)\n",
    "5. The fourth column, 'gen_id', refers to the type of cancer, such as BLCA, BRCA, etc.\n",
    "6. The fifth column is flexible and can include any additional information, such as comments or notes. This column is reserved for the user.\n",
    "7. The rest columns contain Gene expression values and header is corresponding Gene ID."
   ],
   "metadata": {
    "collapsed": false
   }
  },
  {
   "cell_type": "code",
   "execution_count": null,
   "outputs": [],
   "source": [
    "input_pth = 'BLCA_predict_input.csv' # your prepared RNA-seq input"
   ],
   "metadata": {
    "collapsed": false
   }
  },
  {
   "cell_type": "markdown",
   "source": [
    "### Read Input and Check"
   ],
   "metadata": {
    "collapsed": false
   }
  },
  {
   "cell_type": "code",
   "execution_count": null,
   "outputs": [],
   "source": [
    "import pandas as pd\n",
    "input_df = pd.read_csv(input_pth)\n",
    "input_df"
   ],
   "metadata": {
    "collapsed": false
   }
  },
  {
   "cell_type": "markdown",
   "source": [
    "### Add Risk Classifier Labels"
   ],
   "metadata": {
    "collapsed": false
   }
  },
  {
   "cell_type": "code",
   "execution_count": null,
   "outputs": [],
   "source": [
    "import numpy as np\n",
    "\n",
    "data_get = input_df[input_df.gen_id == Cancer]\n",
    "n = 2\n",
    "div_point = [1] * n\n",
    "threshold = 3 * 365\n",
    "data_get = data_get[(data_get.PFI == 1) | (data_get.PFItime > threshold)]\n",
    "data_get.insert(4, 'predicted_label', 0, True)\n",
    "timelabel = []\n",
    "for item in data_get['PFItime'].tolist():\n",
    "    i = 0\n",
    "    if item < threshold:\n",
    "        timelabel.append(0)\n",
    "    else:\n",
    "        timelabel.append(1)\n",
    "\n",
    "data_get['predicted_label'] = np.array(timelabel)\n",
    "data_get.to_csv('./Dataset/CancerRNA_Prediction_{}_Risk_2.txt'.format(Cancer), index=None)"
   ],
   "metadata": {
    "collapsed": false
   }
  },
  {
   "cell_type": "markdown",
   "source": [
    "### Generate contrastive learning features based on the public cancer model\n",
    "\n",
    "#### Get model path"
   ],
   "metadata": {
    "collapsed": false
   }
  },
  {
   "cell_type": "code",
   "execution_count": null,
   "outputs": [],
   "source": [
    "import os\n",
    "\n",
    "def find_clcp_folder_name(directory):\n",
    "    for folder_name in os.listdir(directory):\n",
    "        if folder_name.startswith('CLCP'):\n",
    "            return folder_name\n",
    "    return 'No CLCP folder found.'\n",
    "\n",
    "# Assuming the directory to search is the current working directory\n",
    "directory_to_search = './CL4CaPro_Models/Classifier Models/{}'.format(Cancer)\n",
    "clcp_folder_name = find_clcp_folder_name(directory_to_search)\n",
    "model_pth = os.path.join(directory_to_search, clcp_folder_name)"
   ],
   "metadata": {
    "collapsed": false
   }
  },
  {
   "cell_type": "markdown",
   "source": [
    "#### Generate feature"
   ],
   "metadata": {
    "collapsed": false
   }
  },
  {
   "cell_type": "code",
   "execution_count": null,
   "outputs": [],
   "source": [
    "para = clcp_folder_name.split('_')\n",
    "input_dim = para[1]\n",
    "model_n_hidden_1 = para[2]\n",
    "model_out_dim = para[3]\n",
    "feat_dim = para[5]\n",
    "batch_size = para[-3]\n",
    "l2_rate = para[9]\n",
    "seed = para[13]\n",
    "round = para[11]\n",
    "device = 0\n",
    "lr = para[7]"
   ],
   "metadata": {
    "collapsed": false
   }
  },
  {
   "cell_type": "code",
   "execution_count": null,
   "outputs": [],
   "source": [
    "! python GenerateFeatures_Predict.py --layer_name feat --model_in_dim {input_dim} --dim_1_list {model_n_hidden_1} \\\n",
    "                                     --dim_2_list {model_out_dim} --dim_3_list {feat_dim} --batch_size {batch_size} \\\n",
    "                                     --l2_rate {l2_rate} --seed {seed} --round {round} --gpu_device {device} \\\n",
    "                                     --learning_rate_list {lr} --task Risk --model_pth {model_pth} \\\n",
    "                                     --cancer_group {Cancer}"
   ],
   "metadata": {
    "collapsed": false
   }
  },
  {
   "cell_type": "markdown",
   "source": [
    "#### Predict Results\n",
    "\n",
    "Predict Risk"
   ],
   "metadata": {
    "collapsed": false
   }
  },
  {
   "cell_type": "code",
   "execution_count": null,
   "outputs": [],
   "source": [
    "from xgboost import XGBClassifier\n",
    "\n",
    "# Initialize a model instance\n",
    "loaded_classifier_model = XGBClassifier()\n",
    "\n",
    "# Load the model from the file\n",
    "loaded_classifier_model.load_model('./CL4CaPro_Models/Classifier Models/{}/classifier_model.json'.format(Cancer))\n",
    "\n",
    "predict_input_df = pd.read_csv('Features/PredictFeature_{}.txt'.format(Cancer))\n",
    "X = predict_input_df.iloc[:, 6:]\n",
    "\n",
    "predictions = loaded_classifier_model.predict(X)"
   ],
   "metadata": {
    "collapsed": false
   }
  },
  {
   "cell_type": "markdown",
   "source": [
    "Calculate AUC for multiple patients"
   ],
   "metadata": {
    "collapsed": false
   }
  },
  {
   "cell_type": "code",
   "execution_count": null,
   "outputs": [],
   "source": [
    "import matplotlib.pyplot as plt\n",
    "from sklearn.metrics import accuracy_score, f1_score, precision_score, recall_score, roc_curve, roc_auc_score\n",
    "\n",
    "prob_predictions = loaded_classifier_model.predict_proba(X)[:, 1]\n",
    "\n",
    "y = predict_input_df['predicted_label']\n",
    "\n",
    "# Compute ROC curve and ROC area for each class\n",
    "fpr, tpr, _ = roc_curve(y, prob_predictions)\n",
    "auc_roc = roc_auc_score(y, prob_predictions)\n",
    "print(auc_roc)\n",
    "\n",
    "# Plot\n",
    "plt.figure()\n",
    "lw = 2\n",
    "plt.plot(fpr, tpr, color='darkorange',\n",
    "         lw=lw, label='ROC curve (area = %0.2f)' % auc_roc)\n",
    "plt.plot([0, 1], [0, 1], color='navy', lw=lw, linestyle='--')\n",
    "plt.xlim([0.0, 1.0])\n",
    "plt.ylim([0.0, 1.05])\n",
    "plt.xlabel('False Positive Rate')\n",
    "plt.ylabel('True Positive Rate')\n",
    "plt.title('Receiver Operating Characteristic (ROC) Curve')\n",
    "plt.legend(loc=\"lower right\")\n",
    "plt.show\n",
    "\n",
    "f1 = f1_score(y, predictions)\n",
    "accuracy = accuracy_score(y, predictions)\n",
    "precision = precision_score(y, predictions)\n",
    "recall = recall_score(y, predictions)"
   ],
   "metadata": {
    "collapsed": false
   }
  },
  {
   "cell_type": "markdown",
   "source": [],
   "metadata": {
    "collapsed": false
   }
  }
 ],
 "metadata": {
  "kernelspec": {
   "display_name": "Python 3",
   "language": "python",
   "name": "python3"
  },
  "language_info": {
   "codemirror_mode": {
    "name": "ipython",
    "version": 2
   },
   "file_extension": ".py",
   "mimetype": "text/x-python",
   "name": "python",
   "nbconvert_exporter": "python",
   "pygments_lexer": "ipython2",
   "version": "2.7.6"
  }
 },
 "nbformat": 4,
 "nbformat_minor": 0
}
