{
 "cells": [
  {
   "cell_type": "markdown",
   "metadata": {},
   "source": [
    "# Make prediction using the classifiers trained with TCGA data \n",
    "\n",
    "\n",
    "*PredictThroughClassifierModel.ipynb* notebook accepts tumor RNA-seq data and classify the patient into a high- or low-risk group using the CL-XGBoost classfiers trained with TCGA data. The trained models are in Box folder CL4CaPro/CL4CaPro_Models (https://miami.box.com/s/ylmvqynbtchx5xhof0quaeu9w62mxaca). This notebook should be placed in the same path as the classifier models in the CL4CaPro_Models folder.\n",
    "\n",
    "\n",
    "### Select a cancer type\n",
    "To make prediction using the model trained with the data of a single type of cancer, assign the varialbe Cancer a name in the following list: BLCA, BRCA, CESC, COAD, HNSC, KIRC, KIRP, LGG, LIHC, LUAD, LUSC, OV, PRAD, SARC, SKCM, STAD, THCA, and UCEC.\n",
    "\n",
    "To make precition using the model trained with the data of a group of cancer types, assign the variable Cancer a name in the followling list: CCPRC, GG, and SM."
   ]
  },
  {
   "cell_type": "code",
   "execution_count": 2,
   "metadata": {
    "ExecuteTime": {
     "end_time": "2024-04-03T07:14:27.098676Z",
     "start_time": "2024-04-03T07:14:27.068757Z"
    },
    "collapsed": true
   },
   "outputs": [],
   "source": [
    "Cancer = 'BLCA'"
   ]
  },
  {
   "cell_type": "markdown",
   "metadata": {},
   "source": [
    "### Place your  input file in the same path as this notebook\n",
    "\n",
    "The format of the input file, e.g., *BLCA_predict_input.csv*, is as follows:\n",
    "1. The data starts with six columns to collect clinical information.\n",
    "2. The first column, named 'patient bar', contains identifying information for the patient (can be blank for both tasks).\n",
    "3. The second column is labeled 'PFI', which denotes the PFI status—either censored ('0') or uncensored ('1').\n",
    "4. The third column, 'PFItime', represents the progression-free interval time in days.\n",
    "5. The fourth column, 'gen_id', refers to the type of cancer, such as BLCA, BRCA, etc.\n",
    "6. The fifth and sixth columns can include any information or be blank.\n",
    "7. The rest columns contain gene expression values and  the header of each column is the corresponding gene ID."
   ]
  },
  {
   "cell_type": "code",
   "execution_count": 1,
   "metadata": {},
   "outputs": [],
   "source": [
    "input_pth = 'BLCA_predict_input.csv' # your input data file"
   ]
  },
  {
   "cell_type": "markdown",
   "metadata": {},
   "source": [
    "### Read Input and Check"
   ]
  },
  {
   "cell_type": "code",
   "execution_count": null,
   "metadata": {},
   "outputs": [],
   "source": [
    "import pandas as pd\n",
    "input_df = pd.read_csv(input_pth)\n",
    "input_df"
   ]
  },
  {
   "cell_type": "markdown",
   "metadata": {},
   "source": [
    "### Add Risk Classifier Labels"
   ]
  },
  {
   "cell_type": "code",
   "execution_count": null,
   "metadata": {},
   "outputs": [],
   "source": [
    "import numpy as np\n",
    "\n",
    "data_get = input_df[input_df.gen_id == Cancer]\n",
    "n = 2\n",
    "div_point = [1] * n\n",
    "threshold = 3 * 365\n",
    "data_get = data_get[(data_get.PFI == 1) | (data_get.PFItime > threshold)]\n",
    "data_get.columns.values[4] = 'predicted_label'  # Rename the fifth column\n",
    "data_get['predicted_label'] = 0                 # Initialize with 0 to all rows in the 'predicted_label' column\n",
    "timelabel = []\n",
    "for item in data_get['PFItime'].tolist():\n",
    "    i = 0\n",
    "    if item < threshold:\n",
    "        timelabel.append(0)\n",
    "    else:\n",
    "        timelabel.append(1)\n",
    "\n",
    "data_get['predicted_label'] = np.array(timelabel)\n",
    "data_get.to_csv('./Dataset/CancerRNA_Prediction_{}_Risk_2.txt'.format(Cancer), index=None)"
   ]
  },
  {
   "cell_type": "markdown",
   "metadata": {},
   "source": [
    "### Generate contrastive learning features based on the public cancer model\n",
    "\n",
    "#### Get model path"
   ]
  },
  {
   "cell_type": "code",
   "execution_count": null,
   "metadata": {},
   "outputs": [],
   "source": [
    "import os\n",
    "\n",
    "def find_clcp_folder_name(directory):\n",
    "    for folder_name in os.listdir(directory):\n",
    "        if folder_name.startswith('CLCP'):\n",
    "            return folder_name\n",
    "    return 'No CLCP folder found.'\n",
    "\n",
    "# Assuming the directory to search is the current working directory\n",
    "directory_to_search = './CL4CaPro_Models/Classifier Models/{}'.format(Cancer)\n",
    "clcp_folder_name = find_clcp_folder_name(directory_to_search)\n",
    "model_pth = os.path.join(directory_to_search, clcp_folder_name)"
   ]
  },
  {
   "cell_type": "markdown",
   "metadata": {},
   "source": [
    "#### Generate feature"
   ]
  },
  {
   "cell_type": "code",
   "execution_count": null,
   "metadata": {},
   "outputs": [],
   "source": [
    "para = clcp_folder_name.split('_')\n",
    "input_dim = para[1]\n",
    "model_n_hidden_1 = para[2]\n",
    "model_out_dim = para[3]\n",
    "feat_dim = para[5]\n",
    "batch_size = para[-3]\n",
    "l2_rate = para[9]\n",
    "seed = para[13]\n",
    "round = para[11]\n",
    "device = 0\n",
    "lr = para[7]"
   ]
  },
  {
   "cell_type": "code",
   "execution_count": null,
   "metadata": {},
   "outputs": [],
   "source": [
    "! python GenerateFeatures_Predict.py --layer_name feat --model_in_dim {input_dim} --dim_1_list {model_n_hidden_1} \\\n",
    "                                     --dim_2_list {model_out_dim} --dim_3_list {feat_dim} --batch_size {batch_size} \\\n",
    "                                     --l2_rate {l2_rate} --seed {seed} --round {round} --gpu_device {device} \\\n",
    "                                     --learning_rate_list {lr} --task Risk --model_pth {model_pth} \\\n",
    "                                     --cancer_group {Cancer}"
   ]
  },
  {
   "cell_type": "markdown",
   "metadata": {},
   "source": [
    "#### Predict Results\n",
    "\n",
    "Predict Risk"
   ]
  },
  {
   "cell_type": "code",
   "execution_count": null,
   "metadata": {},
   "outputs": [],
   "source": [
    "from xgboost import XGBClassifier\n",
    "\n",
    "# Initialize a model instance\n",
    "loaded_classifier_model = XGBClassifier()\n",
    "\n",
    "# Load the model from the file\n",
    "loaded_classifier_model.load_model('./CL4CaPro_Models/Classifier Models/{}/classifier_model.json'.format(Cancer))\n",
    "\n",
    "predict_input_df = pd.read_csv('Features/PredictFeature_{}.txt'.format(Cancer))\n",
    "X = predict_input_df.iloc[:, 6:]\n",
    "\n",
    "predictions = loaded_classifier_model.predict(X)"
   ]
  },
  {
   "cell_type": "markdown",
   "metadata": {},
   "source": [
    "Calculate AUC for multiple patients"
   ]
  },
  {
   "cell_type": "code",
   "execution_count": null,
   "metadata": {},
   "outputs": [],
   "source": [
    "import matplotlib.pyplot as plt\n",
    "from sklearn.metrics import accuracy_score, f1_score, precision_score, recall_score, roc_curve, roc_auc_score\n",
    "\n",
    "prob_predictions = loaded_classifier_model.predict_proba(X)[:, 1]\n",
    "\n",
    "y = predict_input_df['predicted_label']\n",
    "\n",
    "# Compute ROC curve and ROC area for each class\n",
    "fpr, tpr, _ = roc_curve(y, prob_predictions)\n",
    "auc_roc = roc_auc_score(y, prob_predictions)\n",
    "print(auc_roc)\n",
    "\n",
    "# Plot\n",
    "plt.figure()\n",
    "lw = 2\n",
    "plt.plot(fpr, tpr, color='darkorange',\n",
    "         lw=lw, label='ROC curve (area = %0.2f)' % auc_roc)\n",
    "plt.plot([0, 1], [0, 1], color='navy', lw=lw, linestyle='--')\n",
    "plt.xlim([0.0, 1.0])\n",
    "plt.ylim([0.0, 1.05])\n",
    "plt.xlabel('False Positive Rate')\n",
    "plt.ylabel('True Positive Rate')\n",
    "plt.title('Receiver Operating Characteristic (ROC) Curve')\n",
    "plt.legend(loc=\"lower right\")\n",
    "plt.show\n",
    "\n",
    "f1 = f1_score(y, predictions)\n",
    "accuracy = accuracy_score(y, predictions)\n",
    "precision = precision_score(y, predictions)\n",
    "recall = recall_score(y, predictions)"
   ]
  },
  {
   "cell_type": "markdown",
   "metadata": {},
   "source": []
  }
 ],
 "metadata": {
  "kernelspec": {
   "display_name": "Python 3 (ipykernel)",
   "language": "python",
   "name": "python3"
  },
  "language_info": {
   "codemirror_mode": {
    "name": "ipython",
    "version": 3
   },
   "file_extension": ".py",
   "mimetype": "text/x-python",
   "name": "python",
   "nbconvert_exporter": "python",
   "pygments_lexer": "ipython3",
   "version": "3.9.7"
  }
 },
 "nbformat": 4,
 "nbformat_minor": 1
}
