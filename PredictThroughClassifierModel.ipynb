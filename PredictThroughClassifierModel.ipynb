{
 "cells": [
  {
   "cell_type": "markdown",
   "source": [
    "# Contrastive Learning for Predicting Cancer Prognosis Using Gene Expression Values\n",
    "\n",
    "## Sample Model Prediction\n",
    "\n",
    "*PredictThroughClassifierModel.ipynb* notebook is offering comprehensive step-by-step instructions on how to effortlessly predict classifier results based on the public models for each cancer.\n",
    "Please put this notebook at the same path as Classifier Models under CL4CaPro_Models folder\n",
    "\n",
    "### Pick Cancer"
   ],
   "metadata": {
    "collapsed": false
   }
  },
  {
   "cell_type": "code",
   "execution_count": 2,
   "metadata": {
    "collapsed": true,
    "ExecuteTime": {
     "start_time": "2024-04-03T07:14:27.068757Z",
     "end_time": "2024-04-03T07:14:27.098676Z"
    }
   },
   "outputs": [],
   "source": [
    "Cancer = 'BLCA'"
   ]
  },
  {
   "cell_type": "markdown",
   "source": [
    "### Put Input Patient Info\n",
    "e.g. put your input in *BLCA_predict_input.csv*"
   ],
   "metadata": {
    "collapsed": false
   }
  },
  {
   "cell_type": "code",
   "execution_count": null,
   "outputs": [],
   "source": [
    "input_pth = 'BLCA_predict_input.csv'"
   ],
   "metadata": {
    "collapsed": false
   }
  },
  {
   "cell_type": "markdown",
   "source": [
    "### Read Input and Check"
   ],
   "metadata": {
    "collapsed": false
   }
  },
  {
   "cell_type": "code",
   "execution_count": null,
   "outputs": [],
   "source": [
    "import pandas as pd\n",
    "input_df = pd.read_csv(input_pth)\n",
    "input_df"
   ],
   "metadata": {
    "collapsed": false
   }
  },
  {
   "cell_type": "markdown",
   "source": [
    "### Generate contrastive learning features based on the public cancer model\n",
    "\n",
    "#### Get model path"
   ],
   "metadata": {
    "collapsed": false
   }
  },
  {
   "cell_type": "code",
   "execution_count": null,
   "outputs": [],
   "source": [
    "import os\n",
    "\n",
    "def find_clcp_folder_name(directory):\n",
    "    for folder_name in os.listdir(directory):\n",
    "        if folder_name.startswith('CLCP'):\n",
    "            return folder_name\n",
    "    return 'No CLCP folder found.'\n",
    "\n",
    "# Assuming the directory to search is the current working directory\n",
    "directory_to_search = './{}'.format(Cancer)\n",
    "clcp_folder_name = find_clcp_folder_name(directory_to_search)\n",
    "clcp_folder_name\n",
    "model_pth = './{}/{}'.format(Cancer, clcp_folder_name)"
   ],
   "metadata": {
    "collapsed": false
   }
  },
  {
   "cell_type": "markdown",
   "source": [
    "#### Generate feature"
   ],
   "metadata": {
    "collapsed": false
   }
  },
  {
   "cell_type": "code",
   "execution_count": null,
   "outputs": [],
   "source": [
    "para = clcp_folder_name.split('_')\n",
    "input_dim = para[1]\n",
    "model_n_hidden_1 = para[2]\n",
    "model_out_dim = para[3]\n",
    "feat_dim = para[5]\n",
    "batch_size = para[-3]\n",
    "l2_rate = para[9]\n",
    "seed = para[13]\n",
    "round = para[11]\n",
    "device = 0\n",
    "lr = para[7]"
   ],
   "metadata": {
    "collapsed": false
   }
  },
  {
   "cell_type": "code",
   "execution_count": null,
   "outputs": [],
   "source": [
    "! python GenerateFeatures_Predict.py --layer_name feat --model_in_dim {input_dim} --dim_1_list {model_n_hidden_1} \\\n",
    "                                     --dim_2_list {model_out_dim} --dim_3_list {feat_dim} --batch_size {batch_size} \\\n",
    "                                     --l2_rate {l2_rate} --seed {seed} --round {round} --gpu_device {device} \\\n",
    "                                     --learning_rate_list {lr} --task Risk \\\n",
    "                                     --cancer_group {cancer}"
   ],
   "metadata": {
    "collapsed": false
   }
  },
  {
   "cell_type": "markdown",
   "source": [
    "#### Predict Results"
   ],
   "metadata": {
    "collapsed": false
   }
  },
  {
   "cell_type": "code",
   "execution_count": null,
   "outputs": [],
   "source": [
    "from xgboost import XGBClassifier\n",
    "\n",
    "# Initialize a model instance\n",
    "loaded_classifier_model = XGBClassifier()\n",
    "\n",
    "# Load the model from the file\n",
    "loaded_classifier_model.load_model('./{}/classifier_model.json'.format(Cancer))\n",
    "\n",
    "predict_input_df = pd.read_csv('Features/PredictFeature_{}.txt'.format(Cancer))\n",
    "X = predict_input_df.iloc[:, 6:]\n",
    "\n",
    "predictions = loaded_classifier_model.predict(X)"
   ],
   "metadata": {
    "collapsed": false
   }
  },
  {
   "cell_type": "markdown",
   "source": [],
   "metadata": {
    "collapsed": false
   }
  }
 ],
 "metadata": {
  "kernelspec": {
   "display_name": "Python 3",
   "language": "python",
   "name": "python3"
  },
  "language_info": {
   "codemirror_mode": {
    "name": "ipython",
    "version": 2
   },
   "file_extension": ".py",
   "mimetype": "text/x-python",
   "name": "python",
   "nbconvert_exporter": "python",
   "pygments_lexer": "ipython2",
   "version": "2.7.6"
  }
 },
 "nbformat": 4,
 "nbformat_minor": 0
}
