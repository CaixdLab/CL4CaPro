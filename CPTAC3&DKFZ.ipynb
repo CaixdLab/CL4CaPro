{
 "cells": [
  {
   "cell_type": "markdown",
   "source": [
    "# Contrastive Learning for Predicting Cancer Prognosis Using Gene Expression Values\n",
    "\n",
    "## CPTAC3 and DKFZ Validation\n",
    "\n",
    "*CPTAC3&DKFZ.ipynb* notebook is offering detailed step-by-step instructions on how to validate CPTAC-3 LUAD, LUSC and DKFZ PRAD dataset through contrastive learning model trained by TCGA dataset.\n",
    "\n",
    "### Setup Dataset\n",
    "\n",
    "Pick Cancer and Task and choose corresponding prepared mapped dataset (Download in CPTAC-3&DKFZ folder in the GitHub repo)"
   ],
   "metadata": {
    "collapsed": false
   }
  },
  {
   "cell_type": "code",
   "execution_count": null,
   "metadata": {
    "collapsed": true
   },
   "outputs": [],
   "source": [
    "Task = 'Risk'\n",
    "Cancer = 'LUAD'\n",
    "dataset_pth = 'CancerRNA_CPTAC3_LUAD_Risk_2.txt' #Put Dataset in the folder called CPTAC-3 or DKFZ (if pick DKFZ dataset)"
   ]
  },
  {
   "cell_type": "markdown",
   "source": [
    "Get Contrastive Learning Model path"
   ],
   "metadata": {
    "collapsed": false
   }
  },
  {
   "cell_type": "code",
   "execution_count": null,
   "outputs": [],
   "source": [
    "import os\n",
    "\n",
    "def find_clcp_folder_name(directory):\n",
    "    for folder_name in os.listdir(directory):\n",
    "        if folder_name.startswith('CLCP'):\n",
    "            return folder_name\n",
    "    return 'No CLCP folder found.'\n",
    "\n",
    "# Assuming the directory to search is the current working directory\n",
    "if Task == 'Risk':\n",
    "    directory_to_search = './Classifier Models/{}'.format(Cancer)\n",
    "else:\n",
    "    directory_to_search = './Cox Models/{}'.format(Cancer)\n",
    "clcp_folder_name = find_clcp_folder_name(directory_to_search)\n",
    "clcp_folder_name\n",
    "model_pth = './{}/{}'.format(Cancer, clcp_folder_name)"
   ],
   "metadata": {
    "collapsed": false
   }
  },
  {
   "cell_type": "markdown",
   "source": [
    "Generate Contrastive Learning Model features"
   ],
   "metadata": {
    "collapsed": false
   }
  },
  {
   "cell_type": "code",
   "execution_count": null,
   "outputs": [],
   "source": [
    "para = clcp_folder_name.split('_')\n",
    "input_dim = para[1]\n",
    "model_n_hidden_1 = para[2]\n",
    "model_out_dim = para[3]\n",
    "feat_dim = para[5]\n",
    "batch_size = para[-3]\n",
    "l2_rate = para[9]\n",
    "seed = para[13]\n",
    "round = para[11]\n",
    "device = 0\n",
    "lr = para[7]"
   ],
   "metadata": {
    "collapsed": false
   }
  },
  {
   "cell_type": "code",
   "execution_count": null,
   "outputs": [],
   "source": [
    "! python GenerateFeatures_CPTAC3.py --layer_name feat --model_in_dim {input_dim} --dim_1_list {model_n_hidden_1} \\\n",
    "                                    --dim_2_list {model_out_dim} --dim_3_list {feat_dim} --batch_size {batch_size} \\\n",
    "                                    --l2_rate {l2_rate} --seed {seed} --round {round} --gpu_device {device} \\\n",
    "                                    --learning_rate_list {lr} --task Risk \\\n",
    "                                    --cancer_group {cancer}"
   ],
   "metadata": {
    "collapsed": false
   }
  },
  {
   "cell_type": "markdown",
   "source": [
    "### Predict Results\n",
    "\n",
    "#### XGB Classifier\n",
    "Predict Results and Calculate AUC_ROC"
   ],
   "metadata": {
    "collapsed": false
   }
  },
  {
   "cell_type": "code",
   "execution_count": null,
   "outputs": [],
   "source": [
    "import numpy as np\n",
    "def calculate_sensitivity_specificity(y_test, predictions):\n",
    "    true_positive = np.sum((y_test == 1) & (predictions == 1))\n",
    "    true_negative = np.sum((y_test == 0) & (predictions == 0))\n",
    "    false_positive = np.sum((y_test == 0) & (predictions == 1))\n",
    "    false_negative = np.sum((y_test == 1) & (predictions == 0))\n",
    "\n",
    "    sensitivity = true_positive / (true_positive + false_negative)\n",
    "    specificity = true_negative / (true_negative + false_positive)\n",
    "\n",
    "    return sensitivity, specificity"
   ],
   "metadata": {
    "collapsed": false
   }
  },
  {
   "cell_type": "code",
   "execution_count": null,
   "outputs": [],
   "source": [
    "from xgboost import XGBClassifier\n",
    "import matplotlib.pyplot as plt\n",
    "import pandas as pd\n",
    "from sklearn.metrics import accuracy_score, f1_score, roc_auc_score, precision_score, recall_score, auc, roc_curve, roc_auc_score\n",
    "\n",
    "# Initialize a model instance\n",
    "loaded_classifier_model = XGBClassifier()\n",
    "\n",
    "# Load the model from the file\n",
    "loaded_classifier_model.load_model('./Classifier Models/{}/classifier_model.json'.format(Cancer))\n",
    "\n",
    "predict_input_df = pd.read_csv('Features/PredictFeature_{}.txt'.format(Cancer))\n",
    "X = predict_input_df.iloc[:, 6:]\n",
    "y_test = predict_input_df[['PFItime', 'PFI']]\n",
    "\n",
    "predictions = loaded_classifier_model.predict(X)\n",
    "\n",
    "prob_predictions = loaded_classifier_model.predict_proba(X)[:, 1]\n",
    "\n",
    "# Compute ROC curve and ROC area for each class\n",
    "fpr, tpr, _ = roc_curve(y_test, prob_predictions)\n",
    "auc_roc = roc_auc_score(y_test, prob_predictions)\n",
    "print(auc_roc)\n",
    "\n",
    "# Plot\n",
    "plt.figure()\n",
    "lw = 2\n",
    "plt.plot(fpr, tpr, color='darkorange',\n",
    "         lw=lw, label='ROC curve (area = %0.2f)' % auc_roc)\n",
    "plt.plot([0, 1], [0, 1], color='navy', lw=lw, linestyle='--')\n",
    "plt.xlim([0.0, 1.0])\n",
    "plt.ylim([0.0, 1.05])\n",
    "plt.xlabel('False Positive Rate')\n",
    "plt.ylabel('True Positive Rate')\n",
    "plt.title('Receiver Operating Characteristic (ROC) Curve')\n",
    "plt.legend(loc=\"lower right\")\n",
    "plt.show\n",
    "\n",
    "f1 = f1_score(y_test, predictions)\n",
    "accuracy = accuracy_score(y_test, predictions)\n",
    "precision = precision_score(y_test, predictions)\n",
    "recall = recall_score(y_test, predictions)\n",
    "sensitivity, specificity = calculate_sensitivity_specificity(y_test, predictions)"
   ],
   "metadata": {
    "collapsed": false
   }
  },
  {
   "cell_type": "markdown",
   "source": [
    "#### Cox-XGB\n",
    "Predict Results and Calculate C-index and IBS"
   ],
   "metadata": {
    "collapsed": false
   }
  },
  {
   "cell_type": "code",
   "execution_count": null,
   "outputs": [],
   "source": [
    "import xgboost as xgb\n",
    "from xgbse.converters import convert_data_to_xgb_format\n",
    "from sksurv.metrics import concordance_index_censored, integrated_brier_score\n",
    "\n",
    "# Initialize a model instance\n",
    "loaded_cox_model = xgb.Booster()\n",
    "\n",
    "# Load the model from the file\n",
    "loaded_cox_model.load_model('./Cox Models/{}/coxxgb_model.json'.format(Cancer))\n",
    "\n",
    "predict_input_df = pd.read_csv('Features/PredictFeature_{}.txt'.format(Cancer))\n",
    "X = predict_input_df.iloc[:, 6:]\n",
    "y_test = predict_input_df[['PFItime', 'PFI']]\n",
    "\n",
    "train_input_df = pd.read_csv('./Cox Models/{}/model_CLCP_*.txt'.format(Cancer))\n",
    "x_train = train_input_df.iloc[:, 6:]\n",
    "y = train_input_df[['PFItime', 'PFI']]\n",
    "\n",
    "dval = convert_data_to_xgb_format(X, y_test, 'survival:cox')\n",
    "dtrain = convert_data_to_xgb_format(x_train, y, 'survival:cox')\n",
    "\n",
    "predictions = loaded_cox_model.predict(X)\n",
    "\n",
    "test_pred = loaded_cox_model.predict(dval)\n",
    "train_pred = loaded_cox_model.predict(dtrain)\n",
    "\n",
    "scores = concordance_index_censored(y['Status'], y['Survival_in_days'], predictions)\n",
    "c_index = round(scores[0], 10)\n",
    "\n",
    "baseline_model = BreslowEstimator().fit(train_pred, y['Status'], y['Survival_in_days'])\n",
    "survs = baseline_model.get_survival_function(test_pred)\n",
    "preds = np.asarray([[fn(t) for t in times] for fn in survs])\n",
    "scores = integrated_brier_score(y, y_test, preds, times)\n",
    "ibs = round(scores[0], 6)\n",
    "\n",
    "print(predictions, c_index, ibs)"
   ],
   "metadata": {
    "collapsed": false
   }
  },
  {
   "cell_type": "markdown",
   "source": [
    "#### Cox-EN\n",
    "Predict Results and Calculate C-index and IBS"
   ],
   "metadata": {
    "collapsed": false
   }
  },
  {
   "cell_type": "code",
   "execution_count": null,
   "outputs": [],
   "source": [
    "from joblib import load\n",
    "from sksurv.metrics import concordance_index_censored, integrated_brier_score\n",
    "\n",
    "# Load the model from file\n",
    "estimator_loaded = load('./Cox Models/{}/coxen_model.joblib'.format(Cancer))\n",
    "\n",
    "predict_input_df = pd.read_csv('Features/PredictFeature_{}.txt'.format(Cancer))\n",
    "X = predict_input_df.iloc[:, 6:]\n",
    "y_test = predict_input_df[['PFItime', 'PFI']]\n",
    "\n",
    "train_input_df = pd.read_csv('./Cox Models/{}/model_CLCP_*.txt'.format(Cancer))\n",
    "x_train = train_input_df.iloc[:, 6:]\n",
    "y = train_input_df[['PFItime', 'PFI']]\n",
    "\n",
    "# Now you can use estimator_loaded for predictions\n",
    "test_pred = estimator_loaded.predict(X)\n",
    "\n",
    "scores = concordance_index_censored(y['Status'], y['Survival_in_days'], estimator_loaded.predict(X))\n",
    "c_index = round(scores[0], 6)\n",
    "\n",
    "train_preds = estimator_loaded.predict(x_train)\n",
    "baseline_model = BreslowEstimator().fit(train_preds, y['Status'], y['Survival_in_days'])\n",
    "survs = baseline_model.get_survival_function(test_pred)\n",
    "preds = np.asarray([[fn(t) for t in times] for fn in survs])\n",
    "scores = integrated_brier_score(y, y_test, preds, times)\n",
    "ibs = round(scores[0], 6)\n",
    "\n",
    "print(predictions, c_index, ibs)"
   ],
   "metadata": {
    "collapsed": false
   }
  },
  {
   "cell_type": "markdown",
   "source": [
    "#### Cox-nnet\n",
    "Predict Results and Calculate C-index and IBS"
   ],
   "metadata": {
    "collapsed": false
   }
  },
  {
   "cell_type": "code",
   "execution_count": null,
   "outputs": [],
   "source": [
    "from cox_nnet import *\n",
    "from sksurv.metrics import concordance_index_censored, integrated_brier_score\n",
    "\n",
    "# Load the model from file\n",
    "coxnnet_loaded = loadModel('./Cox Models/{}/coxnn_model.pkl'.format(Cancer))\n",
    "\n",
    "predict_input_df = pd.read_csv('Features/PredictFeature_{}.txt'.format(Cancer))\n",
    "X = predict_input_df.iloc[:, 6:]\n",
    "y_test = predict_input_df[['PFItime', 'PFI']]\n",
    "\n",
    "train_input_df = pd.read_csv('./Cox Models/{}/model_CLCP_*.txt'.format(Cancer))\n",
    "x_train = train_input_df.iloc[:, 6:]\n",
    "y = train_input_df[['PFItime', 'PFI']]\n",
    "\n",
    "test_pred = coxnnet_loaded.predictNewData(X)\n",
    "\n",
    "scores = concordance_index_censored(y['Status'], y['Survival_in_days'], coxnnet_loaded.predictNewData(X))\n",
    "c_index = round(scores[0], 6)\n",
    "\n",
    "train_preds = coxnnet_loaded.predictNewData(x_train)\n",
    "baseline_model = BreslowEstimator().fit(train_preds, y['Status'], y['Survival_in_days'])\n",
    "survs = baseline_model.get_survival_function(test_pred)\n",
    "preds = np.asarray([[fn(t) for t in times] for fn in survs])\n",
    "scores = integrated_brier_score(y, y_test, preds, times)\n",
    "ibs = round(scores[0], 6)\n",
    "\n",
    "print(predictions, c_index, ibs)"
   ],
   "metadata": {
    "collapsed": false
   }
  }
 ],
 "metadata": {
  "kernelspec": {
   "display_name": "Python 3",
   "language": "python",
   "name": "python3"
  },
  "language_info": {
   "codemirror_mode": {
    "name": "ipython",
    "version": 2
   },
   "file_extension": ".py",
   "mimetype": "text/x-python",
   "name": "python",
   "nbconvert_exporter": "python",
   "pygments_lexer": "ipython2",
   "version": "2.7.6"
  }
 },
 "nbformat": 4,
 "nbformat_minor": 0
}
