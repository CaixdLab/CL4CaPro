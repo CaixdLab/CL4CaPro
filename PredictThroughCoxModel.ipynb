{
 "cells": [
  {
   "cell_type": "markdown",
   "source": [
    "# Sample Cox Model Prediction through our model on Box\n",
    "\n",
    "*PredictThroughCoxModel.ipynb* notebook is offering detailed step-by-step instructions on how to predict cox hazards results based on our models for each cancer.\n",
    "Please put this notebook at the same path as Cox Models under CL4CaPro_Models folder\n",
    "\n",
    "### Pick Cancer"
   ],
   "metadata": {
    "collapsed": false
   }
  },
  {
   "cell_type": "code",
   "execution_count": 2,
   "metadata": {
    "collapsed": true,
    "ExecuteTime": {
     "start_time": "2024-04-03T07:14:27.068757Z",
     "end_time": "2024-04-03T07:14:27.098676Z"
    }
   },
   "outputs": [],
   "source": [
    "Cancer = 'BLCA'"
   ]
  },
  {
   "cell_type": "markdown",
   "source": [
    "### Put Input Patient Info\n",
    "e.g. put your input in *BLCA_predict_input.csv*\n",
    "\n",
    "The format of the data adheres to the following rules:\n",
    "1. The data starts with six columns to collect clinical information. (Can be blank for both task)\n",
    "2. The first column, named 'patient bar', contains identifying information for the patient.\n",
    "3. The second column is labeled 'PFI', which denotes the PFI (Progression-Free Interval) status—either censored or uncensored. A '1' indicates an event such as disease progression, local recurrence, distant metastasis, new primary tumor, or death from cancer without a new tumor event, including cases where the tumor type is unspecified. A '0' represents censored cases, with new primary tumors in other organs also being censored.\n",
    "4. The third column, 'PFItime', represents the progression-free interval time in days. For events, this could be the time to a new tumor event or death; for censored cases, it's the time to last contact or death, whichever is applicable.\n",
    "5. The fourth column, 'gen_id', refers to the type of cancer, such as BLCA, BRCA, etc.\n",
    "6. The fifth column, 'predicted_label', assign 0 or leave blank for cox task.\n",
    "7. The sixth column is flexible and can include any additional information, such as comments or notes. This column is reserved for the user.\n",
    "8. The rest column contain Gene expression values and header is corresponding Gene ID."
   ],
   "metadata": {
    "collapsed": false
   }
  },
  {
   "cell_type": "code",
   "execution_count": null,
   "outputs": [],
   "source": [
    "input_pth = 'BLCA_predict_input.csv'"
   ],
   "metadata": {
    "collapsed": false
   }
  },
  {
   "cell_type": "markdown",
   "source": [
    "### Read Input and Check"
   ],
   "metadata": {
    "collapsed": false
   }
  },
  {
   "cell_type": "code",
   "execution_count": null,
   "outputs": [],
   "source": [
    "import pandas as pd\n",
    "input_df = pd.read_csv(input_pth)\n",
    "input_df.to_csv('./Dataset/CancerRNA_Prediction_{}_WholeTimeSeq_3.txt'.format(Cancer), index=None)\n",
    "input_df"
   ],
   "metadata": {
    "collapsed": false
   }
  },
  {
   "cell_type": "markdown",
   "source": [
    "### Generate contrastive learning features based on the public cancer model\n",
    "\n",
    "#### Get model path"
   ],
   "metadata": {
    "collapsed": false
   }
  },
  {
   "cell_type": "code",
   "execution_count": null,
   "outputs": [],
   "source": [
    "import os\n",
    "\n",
    "def find_clcp_folder_name(directory):\n",
    "    for folder_name in os.listdir(directory):\n",
    "        if folder_name.startswith('CLCP'):\n",
    "            return folder_name\n",
    "    return 'No CLCP folder found.'\n",
    "\n",
    "# Assuming the directory to search is the current working directory\n",
    "directory_to_search = './CL4CaPro_Models/Cox Models/{}'.format(Cancer)\n",
    "clcp_folder_name = find_clcp_folder_name(directory_to_search)\n",
    "model_pth = os.path.join(directory_to_search, clcp_folder_name)"
   ],
   "metadata": {
    "collapsed": false
   }
  },
  {
   "cell_type": "markdown",
   "source": [
    "#### Generate feature"
   ],
   "metadata": {
    "collapsed": false
   }
  },
  {
   "cell_type": "code",
   "execution_count": null,
   "outputs": [],
   "source": [
    "para = clcp_folder_name.split('_')\n",
    "input_dim = para[1]\n",
    "model_n_hidden_1 = para[2]\n",
    "model_out_dim = para[3]\n",
    "feat_dim = para[5]\n",
    "batch_size = para[-3]\n",
    "l2_rate = para[9]\n",
    "seed = para[13]\n",
    "round = para[11]\n",
    "device = 0\n",
    "lr = para[7]"
   ],
   "metadata": {
    "collapsed": false
   }
  },
  {
   "cell_type": "code",
   "execution_count": null,
   "outputs": [],
   "source": [
    "! python GenerateFeatures_Predict.py --layer_name feat --model_in_dim {input_dim} --dim_1_list {model_n_hidden_1} \\\n",
    "                                     --dim_2_list {model_out_dim} --dim_3_list {feat_dim} --batch_size {batch_size} \\\n",
    "                                     --l2_rate {l2_rate} --seed {seed} --round {round} --gpu_device {device} \\\n",
    "                                     --learning_rate_list {lr} --task WholeTimeSeq --model_pth {model_pth} \\\n",
    "                                     --cancer_group {cancer}"
   ],
   "metadata": {
    "collapsed": false
   }
  },
  {
   "cell_type": "markdown",
   "source": [
    "#### Predict Results\n",
    "\n",
    "##### Cox-XGB\n",
    "Predict Results"
   ],
   "metadata": {
    "collapsed": false
   }
  },
  {
   "cell_type": "code",
   "execution_count": null,
   "outputs": [],
   "source": [
    "import xgboost as xgb\n",
    "\n",
    "# Initialize a model instance\n",
    "loaded_cox_model = xgb.Booster()\n",
    "\n",
    "# Load the model from the file\n",
    "loaded_cox_model.load_model('./CL4CaPro_Models/Cox Models/{}/coxxgb_model.json'.format(Cancer))\n",
    "\n",
    "predict_input_df = pd.read_csv('Features/PredictFeature_{}.txt'.format(Cancer))\n",
    "X = predict_input_df.iloc[:, 6:]\n",
    "\n",
    "\n",
    "test_pred = loaded_cox_model.predict(X)"
   ],
   "metadata": {
    "collapsed": false
   }
  },
  {
   "cell_type": "markdown",
   "source": [
    "Calculate C-index and IBS"
   ],
   "metadata": {
    "collapsed": false
   }
  },
  {
   "cell_type": "code",
   "execution_count": null,
   "outputs": [],
   "source": [
    "from xgbse.converters import convert_data_to_xgb_format\n",
    "from sksurv.metrics import concordance_index_censored, integrated_brier_score\n",
    "from Cal_IBS import BreslowEstimator\n",
    "import numpy as np\n",
    "\n",
    "train_input_df = pd.read_csv('./CL4CaPro_Models/Cox Models/{}/model_CLCP_*.txt'.format(Cancer))\n",
    "x_train = train_input_df.iloc[:, 6:]\n",
    "y = train_input_df[['PFItime', 'PFI']]\n",
    "\n",
    "y_test = predict_input_df[['PFItime', 'PFI']]\n",
    "\n",
    "# Calculate the time points\n",
    "combined_time_test_list = list(zip(y_test['Status'], y_test['Survival_in_days']))\n",
    "combined_time_train_list = list(zip(y['Status'], y['Survival_in_days']))\n",
    "sorted_combined_time_test_list = sorted(combined_time_test_list, key=lambda x: x[1])\n",
    "sorted_combined_time_train_list = sorted(combined_time_train_list, key=lambda x: x[1])\n",
    "sorted_status_test, sorted_time_test = zip(*sorted_combined_time_test_list)\n",
    "sorted_status_train, sorted_time_train = zip(*sorted_combined_time_train_list)\n",
    "\n",
    "last_true_index = -1\n",
    "num_thre = 20\n",
    "for index, status in reversed(list(enumerate(sorted_status_train))):\n",
    "    if status and index <= len(sorted_status_train) - (num_thre + 1):\n",
    "        last_true_index = index\n",
    "        break\n",
    "sorted_time_train_end = sorted_time_train[last_true_index]\n",
    "\n",
    "last_true_index = -1\n",
    "num_thre = 20\n",
    "for index, status in reversed(list(enumerate(sorted_status_test))):\n",
    "    if status and index <= len(sorted_status_test) - (num_thre + 1):\n",
    "        last_true_index = index\n",
    "        break\n",
    "sorted_time_test_end = sorted_time_train[last_true_index]\n",
    "\n",
    "# sorted_time_test_end = sorted_time_test[int(0.8 * len(sorted_time_test))]\n",
    "sorted_time_test_start = sorted_time_test[int(0 * len(sorted_time_test))]\n",
    "# sorted_time_train_end = sorted_time_train[int(0.8 * len(sorted_time_train))]\n",
    "sorted_time_train_start = sorted_time_train[int(0 * len(sorted_time_train))]\n",
    "times = np.arange(max(sorted_time_test_start, sorted_time_train_start),\n",
    "                  min(sorted_time_test_end, sorted_time_train_end))\n",
    "\n",
    "dval = convert_data_to_xgb_format(X, y_test, 'survival:cox')\n",
    "dtrain = convert_data_to_xgb_format(x_train, y, 'survival:cox')\n",
    "\n",
    "predictions = loaded_cox_model.predict(X)\n",
    "\n",
    "test_pred = loaded_cox_model.predict(dval)\n",
    "train_pred = loaded_cox_model.predict(dtrain)\n",
    "\n",
    "scores = concordance_index_censored(y_test['Status'], y_test['Survival_in_days'], predictions)\n",
    "c_index = round(scores[0], 10)\n",
    "\n",
    "baseline_model = BreslowEstimator().fit(train_pred, y['Status'], y['Survival_in_days'])\n",
    "survs = baseline_model.get_survival_function(test_pred)\n",
    "preds = np.asarray([[fn(t) for t in times] for fn in survs])\n",
    "scores = integrated_brier_score(y, y_test, preds, times)\n",
    "ibs = round(scores[0], 6)\n",
    "\n",
    "print(c_index, ibs)"
   ],
   "metadata": {
    "collapsed": false
   }
  },
  {
   "cell_type": "markdown",
   "source": [
    "##### Cox-EN\n",
    "Predict Results"
   ],
   "metadata": {
    "collapsed": false
   }
  },
  {
   "cell_type": "code",
   "execution_count": null,
   "outputs": [],
   "source": [
    "from joblib import load\n",
    "\n",
    "# Load the model from file\n",
    "estimator_loaded = load('./CL4CaPro_Models/Cox Models/{}/coxen_model.joblib'.format(Cancer))\n",
    "\n",
    "predict_input_df = pd.read_csv('Features/PredictFeature_{}.txt'.format(Cancer))\n",
    "X = predict_input_df.iloc[:, 6:]\n",
    "\n",
    "# Now you can use estimator_loaded for predictions\n",
    "test_pred = estimator_loaded.predict(X)"
   ],
   "metadata": {
    "collapsed": false
   }
  },
  {
   "cell_type": "markdown",
   "source": [
    "Calculate C-index and IBS"
   ],
   "metadata": {
    "collapsed": false
   }
  },
  {
   "cell_type": "code",
   "execution_count": null,
   "outputs": [],
   "source": [
    "from sksurv.metrics import concordance_index_censored, integrated_brier_score\n",
    "from Cal_IBS import BreslowEstimator\n",
    "import numpy as np\n",
    "\n",
    "train_input_df = pd.read_csv('./CL4CaPro_Models/Cox Models/{}/model_CLCP_*.txt'.format(Cancer))\n",
    "x_train = train_input_df.iloc[:, 6:]\n",
    "y = train_input_df[['PFItime', 'PFI']]\n",
    "\n",
    "y_test = predict_input_df[['PFItime', 'PFI']]\n",
    "\n",
    "# Calculate the time points\n",
    "combined_time_test_list = list(zip(y_test['Status'], y_test['Survival_in_days']))\n",
    "combined_time_train_list = list(zip(y['Status'], y['Survival_in_days']))\n",
    "sorted_combined_time_test_list = sorted(combined_time_test_list, key=lambda x: x[1])\n",
    "sorted_combined_time_train_list = sorted(combined_time_train_list, key=lambda x: x[1])\n",
    "sorted_status_test, sorted_time_test = zip(*sorted_combined_time_test_list)\n",
    "sorted_status_train, sorted_time_train = zip(*sorted_combined_time_train_list)\n",
    "\n",
    "last_true_index = -1\n",
    "num_thre = 20\n",
    "for index, status in reversed(list(enumerate(sorted_status_train))):\n",
    "    if status and index <= len(sorted_status_train) - (num_thre + 1):\n",
    "        last_true_index = index\n",
    "        break\n",
    "sorted_time_train_end = sorted_time_train[last_true_index]\n",
    "\n",
    "last_true_index = -1\n",
    "num_thre = 20\n",
    "for index, status in reversed(list(enumerate(sorted_status_test))):\n",
    "    if status and index <= len(sorted_status_test) - (num_thre + 1):\n",
    "        last_true_index = index\n",
    "        break\n",
    "sorted_time_test_end = sorted_time_train[last_true_index]\n",
    "\n",
    "# sorted_time_test_end = sorted_time_test[int(0.8 * len(sorted_time_test))]\n",
    "sorted_time_test_start = sorted_time_test[int(0 * len(sorted_time_test))]\n",
    "# sorted_time_train_end = sorted_time_train[int(0.8 * len(sorted_time_train))]\n",
    "sorted_time_train_start = sorted_time_train[int(0 * len(sorted_time_train))]\n",
    "times = np.arange(max(sorted_time_test_start, sorted_time_train_start),\n",
    "                  min(sorted_time_test_end, sorted_time_train_end))\n",
    "\n",
    "scores = concordance_index_censored(y_test['Status'], y_test['Survival_in_days'], estimator_loaded.predict(X))\n",
    "c_index = round(scores[0], 6)\n",
    "\n",
    "train_pred = estimator_loaded.predict(x_train)\n",
    "baseline_model = BreslowEstimator().fit(train_pred, y['Status'], y['Survival_in_days'])\n",
    "survs = baseline_model.get_survival_function(test_pred)\n",
    "preds = np.asarray([[fn(t) for t in times] for fn in survs])\n",
    "scores = integrated_brier_score(y, y_test, preds, times)\n",
    "ibs = round(scores[0], 6)\n",
    "\n",
    "print(c_index, ibs)"
   ],
   "metadata": {
    "collapsed": false
   }
  },
  {
   "cell_type": "markdown",
   "source": [
    "##### Cox-nnet\n",
    "Predict Results"
   ],
   "metadata": {
    "collapsed": false
   }
  },
  {
   "cell_type": "code",
   "execution_count": null,
   "outputs": [],
   "source": [
    "from cox_nnet import *\n",
    "\n",
    "# Load the model from file\n",
    "coxnnet_loaded = loadModel('./CL4CaPro_Models/Cox Models/{}/coxnn_model.pkl'.format(Cancer))\n",
    "\n",
    "predict_input_df = pd.read_csv('Features/PredictFeature_{}.txt'.format(Cancer))\n",
    "X = predict_input_df.iloc[:, 6:]\n",
    "\n",
    "test_pred = coxnnet_loaded.predictNewData(X)"
   ],
   "metadata": {
    "collapsed": false
   }
  },
  {
   "cell_type": "markdown",
   "source": [
    "Calculate C-index and IBS"
   ],
   "metadata": {
    "collapsed": false
   }
  },
  {
   "cell_type": "code",
   "execution_count": null,
   "outputs": [],
   "source": [
    "from sksurv.metrics import concordance_index_censored, integrated_brier_score\n",
    "from Cal_IBS import BreslowEstimator\n",
    "import numpy as np\n",
    "\n",
    "train_input_df = pd.read_csv('./CL4CaPro_Models/Cox Models/{}/model_CLCP_*.txt'.format(Cancer))\n",
    "x_train = train_input_df.iloc[:, 6:]\n",
    "y = train_input_df[['PFItime', 'PFI']]\n",
    "\n",
    "y_test = predict_input_df[['PFItime', 'PFI']]\n",
    "\n",
    "# Calculate the time points\n",
    "combined_time_test_list = list(zip(y_test['Status'], y_test['Survival_in_days']))\n",
    "combined_time_train_list = list(zip(y['Status'], y['Survival_in_days']))\n",
    "sorted_combined_time_test_list = sorted(combined_time_test_list, key=lambda x: x[1])\n",
    "sorted_combined_time_train_list = sorted(combined_time_train_list, key=lambda x: x[1])\n",
    "sorted_status_test, sorted_time_test = zip(*sorted_combined_time_test_list)\n",
    "sorted_status_train, sorted_time_train = zip(*sorted_combined_time_train_list)\n",
    "\n",
    "last_true_index = -1\n",
    "num_thre = 20\n",
    "for index, status in reversed(list(enumerate(sorted_status_train))):\n",
    "    if status and index <= len(sorted_status_train) - (num_thre + 1):\n",
    "        last_true_index = index\n",
    "        break\n",
    "sorted_time_train_end = sorted_time_train[last_true_index]\n",
    "\n",
    "last_true_index = -1\n",
    "num_thre = 20\n",
    "for index, status in reversed(list(enumerate(sorted_status_test))):\n",
    "    if status and index <= len(sorted_status_test) - (num_thre + 1):\n",
    "        last_true_index = index\n",
    "        break\n",
    "sorted_time_test_end = sorted_time_train[last_true_index]\n",
    "\n",
    "# sorted_time_test_end = sorted_time_test[int(0.8 * len(sorted_time_test))]\n",
    "sorted_time_test_start = sorted_time_test[int(0 * len(sorted_time_test))]\n",
    "# sorted_time_train_end = sorted_time_train[int(0.8 * len(sorted_time_train))]\n",
    "sorted_time_train_start = sorted_time_train[int(0 * len(sorted_time_train))]\n",
    "times = np.arange(max(sorted_time_test_start, sorted_time_train_start),\n",
    "                  min(sorted_time_test_end, sorted_time_train_end))\n",
    "\n",
    "scores = concordance_index_censored(y_test['Status'], y_test['Survival_in_days'], coxnnet_loaded.predictNewData(X))\n",
    "c_index = round(scores[0], 6)\n",
    "\n",
    "train_pred = coxnnet_loaded.predictNewData(x_train)\n",
    "baseline_model = BreslowEstimator().fit(train_pred, y['Status'], y['Survival_in_days'])\n",
    "survs = baseline_model.get_survival_function(test_pred)\n",
    "preds = np.asarray([[fn(t) for t in times] for fn in survs])\n",
    "scores = integrated_brier_score(y, y_test, preds, times)\n",
    "ibs = round(scores[0], 6)\n",
    "\n",
    "print(c_index, ibs)"
   ],
   "metadata": {
    "collapsed": false
   }
  }
 ],
 "metadata": {
  "kernelspec": {
   "display_name": "Python 3",
   "language": "python",
   "name": "python3"
  },
  "language_info": {
   "codemirror_mode": {
    "name": "ipython",
    "version": 2
   },
   "file_extension": ".py",
   "mimetype": "text/x-python",
   "name": "python",
   "nbconvert_exporter": "python",
   "pygments_lexer": "ipython2",
   "version": "2.7.6"
  }
 },
 "nbformat": 4,
 "nbformat_minor": 0
}
