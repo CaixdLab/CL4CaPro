{
 "cells": [
  {
   "cell_type": "code",
   "execution_count": 1,
   "outputs": [],
   "source": [
    "import pandas as pd\n",
    "'''\n",
    "The original affy ID indexed expression data with 22268 features and 947 samples can be downloaded here: https://filetransfer.abbvie.com/w/f-0572ba21-9252-48e3-b8ac-ad36ab1c4feb\n",
    "'''\n",
    "affy_gen_df = pd.read_csv('OncotypeDX/expression_matrix_org.csv')\n",
    "affy_cl_df = pd.read_csv('OncotypeDX/clinical_info.csv')"
   ],
   "metadata": {
    "collapsed": false,
    "ExecuteTime": {
     "start_time": "2024-03-03T00:56:13.684937Z",
     "end_time": "2024-03-03T00:56:20.023380Z"
    }
   }
  },
  {
   "cell_type": "code",
   "execution_count": 6,
   "outputs": [
    {
     "name": "stderr",
     "output_type": "stream",
     "text": [
      "C:\\Users\\anchen.sun\\AppData\\Local\\Temp\\ipykernel_8164\\1151284332.py:4: FutureWarning: Dropping of nuisance columns in DataFrame reductions (with 'numeric_only=None') is deprecated; in a future version this will raise TypeError.  Select only valid columns before calling the reduction.\n",
      "  max_values_per_row = affy_gen_df.max(axis=1)\n",
      "C:\\Users\\anchen.sun\\AppData\\Local\\Temp\\ipykernel_8164\\1151284332.py:5: FutureWarning: Dropping of nuisance columns in DataFrame reductions (with 'numeric_only=None') is deprecated; in a future version this will raise TypeError.  Select only valid columns before calling the reduction.\n",
      "  min_values_per_row = affy_gen_df.min(axis=1)\n",
      "C:\\Users\\anchen.sun\\AppData\\Local\\Temp\\ipykernel_8164\\1151284332.py:6: FutureWarning: Dropping of nuisance columns in DataFrame reductions (with 'numeric_only=None') is deprecated; in a future version this will raise TypeError.  Select only valid columns before calling the reduction.\n",
      "  mean_values_per_row = affy_gen_df.mean(axis=1)\n"
     ]
    },
    {
     "data": {
      "text/plain": "(0        2.568443\n 1        1.229111\n 2        2.388225\n 3        0.912364\n 4        1.135979\n            ...   \n 22263    0.955611\n 22264    0.729383\n 22265    1.170196\n 22266    0.771968\n 22267    0.756150\n Length: 22268, dtype: float64,\n 0       -2.069573\n 1       -1.449080\n 2       -1.022861\n 3       -0.696989\n 4       -0.657191\n            ...   \n 22263   -1.020828\n 22264   -0.826825\n 22265   -0.942946\n 22266   -0.659937\n 22267   -0.693570\n Length: 22268, dtype: float64,\n 0       -0.038103\n 1        0.016105\n 2        0.024581\n 3       -0.014952\n 4       -0.003764\n            ...   \n 22263   -0.019109\n 22264    0.004261\n 22265    0.028173\n 22266   -0.013231\n 22267   -0.006587\n Length: 22268, dtype: float64)"
     },
     "execution_count": 6,
     "metadata": {},
     "output_type": "execute_result"
    }
   ],
   "source": [
    "# Calculate statistical measures for each column\n",
    "affy_gen_df = pd.read_csv('OncotypeDX/expression_matrix_org.csv')\n",
    "\n",
    "max_values_per_row = affy_gen_df.max(axis=1)\n",
    "min_values_per_row = affy_gen_df.min(axis=1)\n",
    "mean_values_per_row = affy_gen_df.mean(axis=1)\n",
    "\n",
    "max_values_per_row, min_values_per_row, mean_values_per_row"
   ],
   "metadata": {
    "collapsed": false,
    "ExecuteTime": {
     "start_time": "2024-01-12T10:49:54.092636Z",
     "end_time": "2024-01-12T10:50:07.222595Z"
    }
   }
  },
  {
   "cell_type": "code",
   "execution_count": 54,
   "outputs": [
    {
     "data": {
      "text/plain": "            Unnamed: 0   des_001   des_002   des_003   des_004   des_005  \\\n0            1007_s_at -0.459250  0.091440 -0.117059  0.244498  0.597816   \n1              1053_at  0.057326  0.474603  0.011278  0.230887 -0.020778   \n2               117_at  0.529216  0.149211 -0.163298  0.024389  0.280793   \n3               121_at  0.079541  0.012037 -0.096993  0.056254 -0.109642   \n4            1255_g_at  0.330342 -0.180168  0.163056 -0.105653 -0.108637   \n...                ...       ...       ...       ...       ...       ...   \n22263   AFFX-ThrX-5_at  0.103996  0.016942 -0.074449  0.116376  0.043077   \n22264   AFFX-ThrX-M_at  0.002520 -0.334322  0.117141 -0.069753 -0.081087   \n22265  AFFX-TrpnX-3_at  0.005663 -0.430126 -0.011320 -0.109137 -0.098861   \n22266  AFFX-TrpnX-5_at -0.021495 -0.172303  0.138411  0.023689  0.036391   \n22267  AFFX-TrpnX-M_at  0.057514 -0.177791  0.060146 -0.062546 -0.102837   \n\n        des_006   des_007   des_008   des_009  ...  chin_114  chin_115  \\\n0     -0.070166  0.234270  0.018377  0.354669  ... -0.672712  0.286362   \n1      0.103665  0.505089  0.001211  0.295851  ... -0.176822  0.681828   \n2     -0.240386  0.349907 -0.077751 -0.078685  ... -0.139025 -0.024728   \n3      0.130479 -0.054854  0.212392  0.468894  ...  0.605527  0.049816   \n4     -0.211124 -0.180042 -0.153856 -0.042845  ...  0.376646 -0.231620   \n...         ...       ...       ...       ...  ...       ...       ...   \n22263 -0.263181 -0.058079 -0.114486  0.109581  ...  0.359580 -0.070270   \n22264 -0.056240 -0.186825 -0.132919  0.019038  ...  0.535954 -0.168652   \n22265 -0.258126 -0.344913 -0.315889 -0.094361  ...  0.166479 -0.319097   \n22266 -0.028029 -0.225620 -0.026913  0.035573  ...  0.276444 -0.211435   \n22267 -0.091435 -0.229051 -0.076542 -0.116732  ...  0.417172 -0.223378   \n\n       chin_116  chin_117  chin_118  chin_119  chin_120  chin_121  chin_122  \\\n0      0.789653  0.143224 -0.734002 -0.640233  0.396192 -0.071743 -0.363812   \n1     -0.023026  0.583604  0.169207 -0.271077 -0.081942 -0.452789  0.316862   \n2      0.158030 -0.378516  2.388225  0.304630  0.724551 -0.392097  0.611968   \n3      0.539691  0.709344  0.401906  0.334862  0.078856  0.912364 -0.000135   \n4      0.141601  0.239232  0.094140  0.075791  0.206457  0.301791  0.233434   \n...         ...       ...       ...       ...       ...       ...       ...   \n22263  0.098649  0.153441  0.091914  0.067424  0.009794  0.282920  0.246111   \n22264 -0.008714  0.323122  0.047297  0.022380  0.063375  0.293320  0.159020   \n22265 -0.054583  0.346123  0.227134  0.190458  0.130353  0.107681  0.108631   \n22266 -0.112786  0.255768  0.059140 -0.057402 -0.129331  0.138101  0.087742   \n22267  0.126348  0.363179  0.063711  0.032339  0.035179  0.400034  0.249185   \n\n       chin_123  \n0     -0.450985  \n1     -0.252576  \n2      0.383572  \n3      0.489546  \n4      0.124802  \n...         ...  \n22263  0.211060  \n22264  0.277077  \n22265  0.157889  \n22266  0.102973  \n22267  0.272345  \n\n[22268 rows x 948 columns]",
      "text/html": "<div>\n<style scoped>\n    .dataframe tbody tr th:only-of-type {\n        vertical-align: middle;\n    }\n\n    .dataframe tbody tr th {\n        vertical-align: top;\n    }\n\n    .dataframe thead th {\n        text-align: right;\n    }\n</style>\n<table border=\"1\" class=\"dataframe\">\n  <thead>\n    <tr style=\"text-align: right;\">\n      <th></th>\n      <th>Unnamed: 0</th>\n      <th>des_001</th>\n      <th>des_002</th>\n      <th>des_003</th>\n      <th>des_004</th>\n      <th>des_005</th>\n      <th>des_006</th>\n      <th>des_007</th>\n      <th>des_008</th>\n      <th>des_009</th>\n      <th>...</th>\n      <th>chin_114</th>\n      <th>chin_115</th>\n      <th>chin_116</th>\n      <th>chin_117</th>\n      <th>chin_118</th>\n      <th>chin_119</th>\n      <th>chin_120</th>\n      <th>chin_121</th>\n      <th>chin_122</th>\n      <th>chin_123</th>\n    </tr>\n  </thead>\n  <tbody>\n    <tr>\n      <th>0</th>\n      <td>1007_s_at</td>\n      <td>-0.459250</td>\n      <td>0.091440</td>\n      <td>-0.117059</td>\n      <td>0.244498</td>\n      <td>0.597816</td>\n      <td>-0.070166</td>\n      <td>0.234270</td>\n      <td>0.018377</td>\n      <td>0.354669</td>\n      <td>...</td>\n      <td>-0.672712</td>\n      <td>0.286362</td>\n      <td>0.789653</td>\n      <td>0.143224</td>\n      <td>-0.734002</td>\n      <td>-0.640233</td>\n      <td>0.396192</td>\n      <td>-0.071743</td>\n      <td>-0.363812</td>\n      <td>-0.450985</td>\n    </tr>\n    <tr>\n      <th>1</th>\n      <td>1053_at</td>\n      <td>0.057326</td>\n      <td>0.474603</td>\n      <td>0.011278</td>\n      <td>0.230887</td>\n      <td>-0.020778</td>\n      <td>0.103665</td>\n      <td>0.505089</td>\n      <td>0.001211</td>\n      <td>0.295851</td>\n      <td>...</td>\n      <td>-0.176822</td>\n      <td>0.681828</td>\n      <td>-0.023026</td>\n      <td>0.583604</td>\n      <td>0.169207</td>\n      <td>-0.271077</td>\n      <td>-0.081942</td>\n      <td>-0.452789</td>\n      <td>0.316862</td>\n      <td>-0.252576</td>\n    </tr>\n    <tr>\n      <th>2</th>\n      <td>117_at</td>\n      <td>0.529216</td>\n      <td>0.149211</td>\n      <td>-0.163298</td>\n      <td>0.024389</td>\n      <td>0.280793</td>\n      <td>-0.240386</td>\n      <td>0.349907</td>\n      <td>-0.077751</td>\n      <td>-0.078685</td>\n      <td>...</td>\n      <td>-0.139025</td>\n      <td>-0.024728</td>\n      <td>0.158030</td>\n      <td>-0.378516</td>\n      <td>2.388225</td>\n      <td>0.304630</td>\n      <td>0.724551</td>\n      <td>-0.392097</td>\n      <td>0.611968</td>\n      <td>0.383572</td>\n    </tr>\n    <tr>\n      <th>3</th>\n      <td>121_at</td>\n      <td>0.079541</td>\n      <td>0.012037</td>\n      <td>-0.096993</td>\n      <td>0.056254</td>\n      <td>-0.109642</td>\n      <td>0.130479</td>\n      <td>-0.054854</td>\n      <td>0.212392</td>\n      <td>0.468894</td>\n      <td>...</td>\n      <td>0.605527</td>\n      <td>0.049816</td>\n      <td>0.539691</td>\n      <td>0.709344</td>\n      <td>0.401906</td>\n      <td>0.334862</td>\n      <td>0.078856</td>\n      <td>0.912364</td>\n      <td>-0.000135</td>\n      <td>0.489546</td>\n    </tr>\n    <tr>\n      <th>4</th>\n      <td>1255_g_at</td>\n      <td>0.330342</td>\n      <td>-0.180168</td>\n      <td>0.163056</td>\n      <td>-0.105653</td>\n      <td>-0.108637</td>\n      <td>-0.211124</td>\n      <td>-0.180042</td>\n      <td>-0.153856</td>\n      <td>-0.042845</td>\n      <td>...</td>\n      <td>0.376646</td>\n      <td>-0.231620</td>\n      <td>0.141601</td>\n      <td>0.239232</td>\n      <td>0.094140</td>\n      <td>0.075791</td>\n      <td>0.206457</td>\n      <td>0.301791</td>\n      <td>0.233434</td>\n      <td>0.124802</td>\n    </tr>\n    <tr>\n      <th>...</th>\n      <td>...</td>\n      <td>...</td>\n      <td>...</td>\n      <td>...</td>\n      <td>...</td>\n      <td>...</td>\n      <td>...</td>\n      <td>...</td>\n      <td>...</td>\n      <td>...</td>\n      <td>...</td>\n      <td>...</td>\n      <td>...</td>\n      <td>...</td>\n      <td>...</td>\n      <td>...</td>\n      <td>...</td>\n      <td>...</td>\n      <td>...</td>\n      <td>...</td>\n      <td>...</td>\n    </tr>\n    <tr>\n      <th>22263</th>\n      <td>AFFX-ThrX-5_at</td>\n      <td>0.103996</td>\n      <td>0.016942</td>\n      <td>-0.074449</td>\n      <td>0.116376</td>\n      <td>0.043077</td>\n      <td>-0.263181</td>\n      <td>-0.058079</td>\n      <td>-0.114486</td>\n      <td>0.109581</td>\n      <td>...</td>\n      <td>0.359580</td>\n      <td>-0.070270</td>\n      <td>0.098649</td>\n      <td>0.153441</td>\n      <td>0.091914</td>\n      <td>0.067424</td>\n      <td>0.009794</td>\n      <td>0.282920</td>\n      <td>0.246111</td>\n      <td>0.211060</td>\n    </tr>\n    <tr>\n      <th>22264</th>\n      <td>AFFX-ThrX-M_at</td>\n      <td>0.002520</td>\n      <td>-0.334322</td>\n      <td>0.117141</td>\n      <td>-0.069753</td>\n      <td>-0.081087</td>\n      <td>-0.056240</td>\n      <td>-0.186825</td>\n      <td>-0.132919</td>\n      <td>0.019038</td>\n      <td>...</td>\n      <td>0.535954</td>\n      <td>-0.168652</td>\n      <td>-0.008714</td>\n      <td>0.323122</td>\n      <td>0.047297</td>\n      <td>0.022380</td>\n      <td>0.063375</td>\n      <td>0.293320</td>\n      <td>0.159020</td>\n      <td>0.277077</td>\n    </tr>\n    <tr>\n      <th>22265</th>\n      <td>AFFX-TrpnX-3_at</td>\n      <td>0.005663</td>\n      <td>-0.430126</td>\n      <td>-0.011320</td>\n      <td>-0.109137</td>\n      <td>-0.098861</td>\n      <td>-0.258126</td>\n      <td>-0.344913</td>\n      <td>-0.315889</td>\n      <td>-0.094361</td>\n      <td>...</td>\n      <td>0.166479</td>\n      <td>-0.319097</td>\n      <td>-0.054583</td>\n      <td>0.346123</td>\n      <td>0.227134</td>\n      <td>0.190458</td>\n      <td>0.130353</td>\n      <td>0.107681</td>\n      <td>0.108631</td>\n      <td>0.157889</td>\n    </tr>\n    <tr>\n      <th>22266</th>\n      <td>AFFX-TrpnX-5_at</td>\n      <td>-0.021495</td>\n      <td>-0.172303</td>\n      <td>0.138411</td>\n      <td>0.023689</td>\n      <td>0.036391</td>\n      <td>-0.028029</td>\n      <td>-0.225620</td>\n      <td>-0.026913</td>\n      <td>0.035573</td>\n      <td>...</td>\n      <td>0.276444</td>\n      <td>-0.211435</td>\n      <td>-0.112786</td>\n      <td>0.255768</td>\n      <td>0.059140</td>\n      <td>-0.057402</td>\n      <td>-0.129331</td>\n      <td>0.138101</td>\n      <td>0.087742</td>\n      <td>0.102973</td>\n    </tr>\n    <tr>\n      <th>22267</th>\n      <td>AFFX-TrpnX-M_at</td>\n      <td>0.057514</td>\n      <td>-0.177791</td>\n      <td>0.060146</td>\n      <td>-0.062546</td>\n      <td>-0.102837</td>\n      <td>-0.091435</td>\n      <td>-0.229051</td>\n      <td>-0.076542</td>\n      <td>-0.116732</td>\n      <td>...</td>\n      <td>0.417172</td>\n      <td>-0.223378</td>\n      <td>0.126348</td>\n      <td>0.363179</td>\n      <td>0.063711</td>\n      <td>0.032339</td>\n      <td>0.035179</td>\n      <td>0.400034</td>\n      <td>0.249185</td>\n      <td>0.272345</td>\n    </tr>\n  </tbody>\n</table>\n<p>22268 rows × 948 columns</p>\n</div>"
     },
     "execution_count": 54,
     "metadata": {},
     "output_type": "execute_result"
    }
   ],
   "source": [
    "affy_gen_df"
   ],
   "metadata": {
    "collapsed": false,
    "ExecuteTime": {
     "start_time": "2024-01-17T07:48:06.046268Z",
     "end_time": "2024-01-17T07:48:06.106110Z"
    }
   }
  },
  {
   "cell_type": "code",
   "execution_count": 10,
   "outputs": [
    {
     "data": {
      "text/plain": "                    ID  GB_ACC       Gene Symbol\n0            1007_s_at  U48705  DDR1 /// MIR4640\n1              1053_at  M87338              RFC2\n2               117_at  X51757             HSPA6\n3               121_at  X69699              PAX8\n4            1255_g_at  L36861            GUCA1A\n...                ...     ...               ...\n22278   AFFX-ThrX-5_at     NaN               NaN\n22279   AFFX-ThrX-M_at     NaN               NaN\n22280  AFFX-TrpnX-3_at     NaN               NaN\n22281  AFFX-TrpnX-5_at     NaN               NaN\n22282  AFFX-TrpnX-M_at     NaN               NaN\n\n[22283 rows x 3 columns]",
      "text/html": "<div>\n<style scoped>\n    .dataframe tbody tr th:only-of-type {\n        vertical-align: middle;\n    }\n\n    .dataframe tbody tr th {\n        vertical-align: top;\n    }\n\n    .dataframe thead th {\n        text-align: right;\n    }\n</style>\n<table border=\"1\" class=\"dataframe\">\n  <thead>\n    <tr style=\"text-align: right;\">\n      <th></th>\n      <th>ID</th>\n      <th>GB_ACC</th>\n      <th>Gene Symbol</th>\n    </tr>\n  </thead>\n  <tbody>\n    <tr>\n      <th>0</th>\n      <td>1007_s_at</td>\n      <td>U48705</td>\n      <td>DDR1 /// MIR4640</td>\n    </tr>\n    <tr>\n      <th>1</th>\n      <td>1053_at</td>\n      <td>M87338</td>\n      <td>RFC2</td>\n    </tr>\n    <tr>\n      <th>2</th>\n      <td>117_at</td>\n      <td>X51757</td>\n      <td>HSPA6</td>\n    </tr>\n    <tr>\n      <th>3</th>\n      <td>121_at</td>\n      <td>X69699</td>\n      <td>PAX8</td>\n    </tr>\n    <tr>\n      <th>4</th>\n      <td>1255_g_at</td>\n      <td>L36861</td>\n      <td>GUCA1A</td>\n    </tr>\n    <tr>\n      <th>...</th>\n      <td>...</td>\n      <td>...</td>\n      <td>...</td>\n    </tr>\n    <tr>\n      <th>22278</th>\n      <td>AFFX-ThrX-5_at</td>\n      <td>NaN</td>\n      <td>NaN</td>\n    </tr>\n    <tr>\n      <th>22279</th>\n      <td>AFFX-ThrX-M_at</td>\n      <td>NaN</td>\n      <td>NaN</td>\n    </tr>\n    <tr>\n      <th>22280</th>\n      <td>AFFX-TrpnX-3_at</td>\n      <td>NaN</td>\n      <td>NaN</td>\n    </tr>\n    <tr>\n      <th>22281</th>\n      <td>AFFX-TrpnX-5_at</td>\n      <td>NaN</td>\n      <td>NaN</td>\n    </tr>\n    <tr>\n      <th>22282</th>\n      <td>AFFX-TrpnX-M_at</td>\n      <td>NaN</td>\n      <td>NaN</td>\n    </tr>\n  </tbody>\n</table>\n<p>22283 rows × 3 columns</p>\n</div>"
     },
     "execution_count": 10,
     "metadata": {},
     "output_type": "execute_result"
    }
   ],
   "source": [
    "mapping_dic = pd.read_csv('OncotypeDX/GPL96-57554Map.txt', sep='\\t')\n",
    "mapping_dic"
   ],
   "metadata": {
    "collapsed": false,
    "ExecuteTime": {
     "start_time": "2024-03-03T00:58:36.303088Z",
     "end_time": "2024-03-03T00:58:36.734059Z"
    }
   }
  },
  {
   "cell_type": "code",
   "execution_count": 11,
   "outputs": [
    {
     "data": {
      "text/plain": "{'1007_s_at': 'DDR1',\n '1053_at': 'RFC2',\n '117_at': 'HSPA6',\n '121_at': 'PAX8',\n '1255_g_at': 'GUCA1A',\n '1294_at': 'MIR5193',\n '1316_at': 'THRA',\n '1320_at': 'PTPN21',\n '1405_i_at': 'CCL5',\n '1431_at': 'CYP2E1',\n '1438_at': 'EPHB3',\n '1487_at': 'ESRRA',\n '1494_f_at': 'CYP2A6',\n '1598_g_at': 'GAS6',\n '160020_at': 'MMP14',\n '1729_at': 'TRADD',\n '1773_at': 'CHURC1-FNTB',\n '177_at': 'PLD1',\n '179_at': 'DTX2P1-UPK3BP1-PMS2P11',\n '1861_at': 'BAD',\n '200000_s_at': 'PRPF8',\n '200001_at': 'CAPNS1',\n '200002_at': 'RPL35',\n '200003_s_at': 'MIR6805',\n '200004_at': 'EIF4G2',\n '200005_at': 'EIF3D',\n '200006_at': 'PARK7',\n '200007_at': 'SRP14',\n '200008_s_at': 'GDI2',\n '200009_at': 'GDI2',\n '200010_at': 'RPL11',\n '200011_s_at': 'ARF3',\n '200012_x_at': 'RPL21',\n '200013_at': 'RPL24',\n '200014_s_at': 'HNRNPC',\n '200015_s_at': '2-Sep',\n '200016_x_at': 'HNRNPA1',\n '200017_at': 'RPS27A',\n '200018_at': 'LOC100508408',\n '200019_s_at': 'FAU',\n '200020_at': 'TARDBP',\n '200021_at': 'CFL1',\n '200022_at': 'RPL18',\n '200023_s_at': 'EIF3F',\n '200024_at': 'RPS5',\n '200025_s_at': 'RPL27',\n '200026_at': 'RPL34',\n '200027_at': 'NARS',\n '200028_s_at': 'STARD7',\n '200029_at': 'RPL19',\n '200030_s_at': 'SLC25A3',\n '200031_s_at': 'RPS11',\n '200032_s_at': 'RPL9',\n '200033_at': 'DDX5',\n '200034_s_at': 'RPL6',\n '200035_at': 'CTDNEP1',\n '200036_s_at': 'RPL10A',\n '200037_s_at': 'CBX3',\n '200038_s_at': 'C18orf32',\n '200039_s_at': 'PSMB2',\n '200040_at': 'KHDRBS1',\n '200041_s_at': 'ATP6V1G2-DDX39B',\n '200042_at': 'RTCB',\n '200043_at': 'ERH',\n '200044_at': 'GATC',\n '200045_at': 'ABCF1',\n '200046_at': 'DAD1',\n '200047_s_at': 'YY1',\n '200048_s_at': 'JTB',\n '200049_at': 'KAT7',\n '200050_at': 'ZNF146',\n '200051_at': 'SART1',\n '200052_s_at': 'ILF2',\n '200053_at': 'SPAG7',\n '200054_at': 'ZPR1',\n '200055_at': 'TAF10',\n '200056_s_at': 'C1D',\n '200057_s_at': 'NONO',\n '200058_s_at': 'LOC101929240',\n '200059_s_at': 'RHOA',\n '200060_s_at': 'RNPS1',\n '200061_s_at': 'RPS24',\n '200062_s_at': 'RPL30',\n '200063_s_at': 'NPM1',\n '200064_at': 'HSP90AB1',\n '200065_s_at': 'ARF1',\n '200066_at': 'IK',\n '200067_x_at': 'SNX3',\n '200068_s_at': 'CANX',\n '200069_at': 'SART3',\n '200070_at': 'CNPPD1',\n '200071_at': 'SMNDC1',\n '200072_s_at': 'HNRNPM',\n '200073_s_at': 'HNRNPD',\n '200074_s_at': 'RPL14',\n '200075_s_at': 'GUK1',\n '200076_s_at': 'KXD1',\n '200077_s_at': 'OAZ1',\n '200078_s_at': 'ATP6V0B',\n '200079_s_at': 'KARS',\n '200080_s_at': 'H3F3A',\n '200081_s_at': 'RPS6',\n '200082_s_at': 'RPS7',\n '200083_at': 'USP22',\n '200084_at': 'C11orf58',\n '200085_s_at': 'TCEB2',\n '200086_s_at': 'COX4I1',\n '200087_s_at': 'TMED2',\n '200088_x_at': 'NBEAL1',\n '200089_s_at': 'RPL4',\n '200090_at': 'FNTA',\n '200091_s_at': 'RPS25',\n '200092_s_at': 'RPL37',\n '200093_s_at': 'HINT1',\n '200094_s_at': 'EEF2',\n '200095_x_at': 'RPS10',\n '200096_s_at': 'ATP6V0E1',\n '200097_s_at': 'HNRNPK',\n '200098_s_at': 'ANAPC5',\n '200099_s_at': 'RPS3A',\n '200593_s_at': 'HNRNPU',\n '200594_x_at': 'HNRNPU',\n '200595_s_at': 'EIF3A',\n '200596_s_at': 'EIF3A',\n '200597_at': 'EIF3A',\n '200598_s_at': 'HSP90B1',\n '200599_s_at': 'HSP90B1',\n '200600_at': 'MSN',\n '200601_at': 'ACTN4',\n '200602_at': 'APP',\n '200603_at': 'PRKAR1A',\n '200604_s_at': 'PRKAR1A',\n '200605_s_at': 'PRKAR1A',\n '200606_at': 'DSP',\n '200607_s_at': 'RAD21',\n '200608_s_at': 'RAD21',\n '200609_s_at': 'WDR1',\n '200610_s_at': 'NCL',\n '200611_s_at': 'WDR1',\n '200612_s_at': 'AP2B1',\n '200613_at': 'AP2M1',\n '200614_at': 'CLTC',\n '200615_s_at': 'AP2B1',\n '200616_s_at': 'MLEC',\n '200617_at': 'MLEC',\n '200618_at': 'LASP1',\n '200619_at': 'SF3B2',\n '200620_at': 'TMEM59',\n '200621_at': 'CSRP1',\n '200622_x_at': 'CALM1',\n '200623_s_at': 'CALM1',\n '200624_s_at': 'MATR3',\n '200625_s_at': 'CAP1',\n '200626_s_at': 'MATR3',\n '200627_at': 'PTGES3',\n '200628_s_at': 'WARS',\n '200629_at': 'WARS',\n '200630_x_at': 'SET',\n '200631_s_at': 'SET',\n '200632_s_at': 'NDRG1',\n '200633_at': 'UBB',\n '200634_at': 'PFN1',\n '200635_s_at': 'PTPRF',\n '200636_s_at': 'PTPRF',\n '200637_s_at': 'PTPRF',\n '200638_s_at': 'YWHAZ',\n '200639_s_at': 'YWHAZ',\n '200640_at': 'YWHAZ',\n '200641_s_at': 'YWHAZ',\n '200642_at': 'SOD1',\n '200643_at': 'HDLBP',\n '200644_at': 'MARCKSL1',\n '200645_at': 'GABARAP',\n '200646_s_at': 'NUCB1',\n '200647_x_at': 'EIF3C',\n '200648_s_at': 'GLUL',\n '200649_at': 'NUCB1',\n '200650_s_at': 'LDHA',\n '200651_at': 'GNB2L1',\n '200652_at': 'SSR2',\n '200653_s_at': 'CALM1',\n '200654_at': 'P4HB',\n '200655_s_at': 'CALM1',\n '200656_s_at': 'P4HB',\n '200657_at': 'SLC25A5',\n '200658_s_at': 'PHB',\n '200659_s_at': 'PHB',\n '200660_at': 'S100A11',\n '200661_at': 'CTSA',\n '200662_s_at': 'TOMM20',\n '200663_at': 'CD63',\n '200664_s_at': 'DNAJB1',\n '200665_s_at': 'SPARC',\n '200666_s_at': 'DNAJB1',\n '200667_at': 'UBE2D3',\n '200668_s_at': 'UBE2D3',\n '200669_s_at': 'UBE2D3',\n '200670_at': 'XBP1',\n '200671_s_at': 'SPTBN1',\n '200672_x_at': 'SPTBN1',\n '200673_at': 'LAPTM4A',\n '200674_s_at': 'RPL32',\n '200675_at': 'CD81',\n '200676_s_at': 'UBE2L3',\n '200677_at': 'PTTG1IP',\n '200678_x_at': 'GRN',\n '200679_x_at': 'HMGB1',\n '200680_x_at': 'HMGB1',\n '200681_at': 'GLO1',\n '200682_s_at': 'UBE2L3',\n '200683_s_at': 'UBE2L3',\n '200684_s_at': 'UBE2L3',\n '200685_at': 'SRSF11',\n '200686_s_at': 'SRSF11',\n '200687_s_at': 'SF3B3',\n '200688_at': 'SF3B3',\n '200689_x_at': 'EEF1G',\n '200690_at': 'HSPA9',\n '200691_s_at': 'HSPA9',\n '200692_s_at': 'HSPA9',\n '200693_at': 'YWHAQ',\n '200694_s_at': 'DDX24',\n '200695_at': 'PPP2R1A',\n '200696_s_at': 'GSN',\n '200697_at': 'HK1',\n '200698_at': 'KDELR2',\n '200699_at': 'KDELR2',\n '200700_s_at': 'KDELR2',\n '200701_at': 'NPC2',\n '200702_s_at': 'DDX24',\n '200703_at': 'DYNLL1',\n '200704_at': 'LITAF',\n '200705_s_at': 'EEF1B2',\n '200706_s_at': 'LITAF',\n '200707_at': 'PRKCSH',\n '200708_at': 'GOT2',\n '200709_at': 'FKBP1A',\n '200710_at': 'ACADVL',\n '200711_s_at': 'SKP1',\n '200712_s_at': 'MAPRE1',\n '200713_s_at': 'MAPRE1',\n '200714_x_at': 'OS9',\n '200715_x_at': 'RPL13A',\n '200716_x_at': 'RPL13A',\n '200717_x_at': 'RPL7',\n '200718_s_at': 'SKP1',\n '200719_at': 'SKP1',\n '200720_s_at': 'ACTR1A',\n '200721_s_at': 'ACTR1A',\n '200722_s_at': 'CAPRIN1',\n '200723_s_at': 'CAPRIN1',\n '200724_at': 'RPL10',\n '200725_x_at': 'RPL10',\n '200726_at': 'PPP1CC',\n '200727_s_at': 'ACTR2',\n '200728_at': 'ACTR2',\n '200729_s_at': 'ACTR2',\n '200730_s_at': 'PTP4A1',\n '200731_s_at': 'PTP4A1',\n '200732_s_at': 'PTP4A1',\n '200733_s_at': 'PTP4A1',\n '200734_s_at': 'ARF3',\n '200735_x_at': 'NACA',\n '200736_s_at': 'GPX1',\n '200737_at': 'PGK1',\n '200738_s_at': 'PGK1',\n '200739_s_at': 'SUMO3',\n '200740_s_at': 'SUMO3',\n '200741_s_at': 'RPS27',\n '200742_s_at': 'TPP1',\n '200743_s_at': 'TPP1',\n '200744_s_at': 'GNB1',\n '200745_s_at': 'GNB1',\n '200746_s_at': 'GNB1',\n '200747_s_at': 'NUMA1',\n '200748_s_at': 'FTH1',\n '200749_at': 'RAN',\n '200750_s_at': 'RAN',\n '200751_s_at': 'HNRNPC',\n '200752_s_at': 'CAPN1',\n '200753_x_at': 'MIR636',\n '200754_x_at': 'MIR636',\n '200755_s_at': 'CALU',\n '200756_x_at': 'CALU',\n '200757_s_at': 'CALU',\n '200758_s_at': 'NFE2L1',\n '200759_x_at': 'NFE2L1',\n '200760_s_at': 'ARL6IP5',\n '200761_s_at': 'ARL6IP5',\n '200762_at': 'DPYSL2',\n '200763_s_at': 'RPLP1',\n '200764_s_at': 'CTNNA1',\n '200765_x_at': 'CTNNA1',\n '200766_at': 'CTSD',\n '200767_s_at': 'FAM120A',\n '200768_s_at': 'MAT2A',\n '200769_s_at': 'MAT2A',\n '200770_s_at': 'LAMC1',\n '200771_at': 'LAMC1',\n '200772_x_at': 'LOC100506248',\n '200773_x_at': 'PTMA',\n '200774_at': 'FAM120A',\n '200775_s_at': 'HNRNPK',\n '200776_s_at': 'BZW1',\n '200777_s_at': 'BZW1',\n '200778_s_at': '2-Sep',\n '200779_at': 'ATF4',\n '200780_x_at': 'GNAS',\n '200781_s_at': 'RPS15A',\n '200782_at': 'ANXA5',\n '200783_s_at': 'STMN1',\n '200784_s_at': 'LRP1',\n '200785_s_at': 'LRP1',\n '200786_at': 'PSMB7',\n '200787_s_at': 'PEA15',\n '200788_s_at': 'PEA15',\n '200789_at': 'ECH1',\n '200790_at': 'ODC1',\n '200791_s_at': 'IQGAP1',\n '200792_at': 'XRCC6',\n '200793_s_at': 'ACO2',\n '200794_x_at': 'DAZAP2',\n '200795_at': 'SPARCL1',\n '200796_s_at': 'MCL1',\n '200797_s_at': 'MCL1',\n '200798_x_at': 'MCL1',\n '200799_at': 'HSPA1A',\n '200800_s_at': 'HSPA1A',\n '200801_x_at': 'ACTB',\n '200802_at': 'SARS',\n '200803_s_at': 'TMBIM6',\n '200804_at': 'TMBIM6',\n '200805_at': 'LMAN2',\n '200806_s_at': 'HSPD1',\n '200807_s_at': 'HSPD1',\n '200808_s_at': 'ZYX',\n '200809_x_at': 'RPL12',\n '200810_s_at': 'CIRBP',\n '200811_at': 'CIRBP',\n '200812_at': 'CCT7',\n '200813_s_at': 'PAFAH1B1',\n '200814_at': 'PSME1',\n '200815_s_at': 'PAFAH1B1',\n '200816_s_at': 'PAFAH1B1',\n '200817_x_at': 'RPS10',\n '200818_at': 'ATP5O',\n '200819_s_at': 'RPS15',\n '200820_at': 'PSMD8',\n '200821_at': 'LAMP2',\n '200822_x_at': 'TPI1',\n '200823_x_at': 'RPL29',\n '200824_at': 'GSTP1',\n '200825_s_at': 'HYOU1',\n '200826_at': 'SNRPD2',\n '200827_at': 'PLOD1',\n '200828_s_at': 'ZNF207',\n '200829_x_at': 'ZNF207',\n '200830_at': 'PSMD2',\n '200831_s_at': 'SCD',\n '200832_s_at': 'SCD',\n '200833_s_at': 'RAP1B',\n '200834_s_at': 'RPS21',\n '200835_s_at': 'MAP4',\n '200836_s_at': 'MAP4',\n '200837_at': 'BCAP31',\n '200838_at': 'CTSB',\n '200839_s_at': 'CTSB',\n '200840_at': 'KARS',\n '200841_s_at': 'EPRS',\n '200842_s_at': 'EPRS',\n '200843_s_at': 'EPRS',\n '200844_s_at': 'PRDX6',\n '200845_s_at': 'PRDX6',\n '200846_s_at': 'PPP1CA',\n '200847_s_at': 'SARAF',\n '200848_at': 'AHCYL1',\n '200849_s_at': 'AHCYL1',\n '200850_s_at': 'AHCYL1',\n '200851_s_at': 'IST1',\n '200852_x_at': 'GNB2',\n '200853_at': 'H2AFZ',\n '200854_at': 'NCOR1',\n '200855_at': 'NCOR1',\n '200856_x_at': 'NCOR1',\n '200857_s_at': 'NCOR1',\n '200858_s_at': 'RPS8',\n '200859_x_at': 'FLNA',\n '200860_s_at': 'CNOT1',\n '200861_at': 'CNOT1',\n '200862_at': 'DHCR24',\n '200863_s_at': 'RAB11A',\n '200864_s_at': 'RAB11A',\n '200865_at': 'EIF3F',\n '200866_s_at': 'PSAP',\n '200867_at': 'RNF114',\n '200868_s_at': 'RNF114',\n '200869_at': 'RPL18A',\n '200870_at': 'STRAP',\n '200871_s_at': 'PSAP',\n '200872_at': 'S100A10',\n '200873_s_at': 'CCT8',\n '200874_s_at': 'MIR1292',\n '200875_s_at': 'MIR1292',\n '200876_s_at': 'PSMB1',\n '200877_at': 'CCT4',\n '200878_at': 'EPAS1',\n '200879_s_at': 'EPAS1',\n '200880_at': 'DNAJA1',\n '200881_s_at': 'DNAJA1',\n '200882_s_at': 'PSMD4',\n '200883_at': 'UQCRC2',\n '200884_at': 'CKB',\n '200885_at': 'RHOC',\n '200886_s_at': 'PGAM1',\n '200887_s_at': 'STAT1',\n '200888_s_at': 'RPL23',\n '200889_s_at': 'SSR1',\n '200890_s_at': 'SSR1',\n '200891_s_at': 'SSR1',\n '200892_s_at': 'TRA2B',\n '200893_at': 'TRA2B',\n '200894_s_at': 'FKBP4',\n '200895_s_at': 'FKBP4',\n '200896_x_at': 'HDGF',\n '200897_s_at': 'PALLD',\n '200898_s_at': 'MGEA5',\n '200899_s_at': 'MGEA5',\n '200900_s_at': 'M6PR',\n '200901_s_at': 'M6PR',\n '200902_at': '15-Sep',\n '200903_s_at': 'AHCY',\n '200904_at': 'HLA-E',\n '200905_x_at': 'HLA-E',\n '200906_s_at': 'PALLD',\n '200907_s_at': 'PALLD',\n '200908_s_at': 'RPLP2',\n '200909_s_at': 'RPLP2',\n '200910_at': 'CCT3',\n '200911_s_at': 'TACC1',\n '200912_s_at': 'EIF4A2',\n '200913_at': 'PPM1G',\n '200914_x_at': 'KTN1',\n '200915_x_at': 'KTN1',\n '200916_at': 'TAGLN2',\n '200917_s_at': 'SRPR',\n '200918_s_at': 'SRPR',\n '200919_at': 'PHC2',\n '200920_s_at': 'BTG1',\n '200921_s_at': 'BTG1',\n '200922_at': 'KDELR1',\n '200923_at': 'LGALS3BP',\n '200924_s_at': 'SLC3A2',\n '200925_at': 'COX6A1',\n '200926_at': 'RPS23',\n '200927_s_at': 'RAB14',\n '200928_s_at': 'RAB14',\n '200929_at': 'TMED10',\n '200930_s_at': 'VCL',\n '200931_s_at': 'VCL',\n '200932_s_at': 'DCTN2',\n '200933_x_at': 'RPS4X',\n '200934_at': 'DEK',\n '200935_at': 'CALR',\n '200936_at': 'RPL8',\n '200937_s_at': 'RPL5',\n '200938_s_at': 'RERE',\n '200939_s_at': 'RERE',\n '200940_s_at': 'RERE',\n '200941_at': 'HSBP1',\n '200942_s_at': 'HSBP1',\n '200943_at': 'HMGN1',\n '200944_s_at': 'HMGN1',\n '200945_s_at': 'SEC31A',\n '200946_x_at': 'GLUD1',\n '200947_s_at': 'GLUD1',\n '200948_at': 'MLF2',\n '200949_x_at': 'RPS20',\n '200950_at': 'ARPC1A',\n '200951_s_at': 'CCND2',\n '200952_s_at': 'CCND2',\n '200953_s_at': 'CCND2',\n '200954_at': 'ATP6V0C',\n '200955_at': 'IMMT',\n '200956_s_at': 'SSRP1',\n '200957_s_at': 'SSRP1',\n '200958_s_at': 'SDCBP',\n '200959_at': 'FUS',\n '200960_x_at': 'CLTA',\n '200961_at': 'SEPHS2',\n '200962_at': 'RPL31',\n '200963_x_at': 'RPL31',\n '200964_at': 'UBA1',\n '200965_s_at': 'ABLIM1',\n '200966_x_at': 'ALDOA',\n '200967_at': 'PPIB',\n '200968_s_at': 'PPIB',\n '200969_at': 'LOC101928061',\n '200970_s_at': 'SERP1',\n '200971_s_at': 'LOC101928061',\n '200972_at': 'TSPAN3',\n '200973_s_at': 'TSPAN3',\n '200974_at': 'ACTA2',\n '200975_at': 'PPT1',\n '200976_s_at': 'TAX1BP1',\n '200977_s_at': 'TAX1BP1',\n '200978_at': 'MDH1',\n '200979_at': 'PDHA1',\n '200980_s_at': 'PDHA1',\n '200981_x_at': 'GNAS',\n '200982_s_at': 'ANXA6',\n '200983_x_at': 'CD59',\n '200984_s_at': 'CD59',\n '200985_s_at': 'CD59',\n '200986_at': 'SERPING1',\n '200987_x_at': 'PSME3',\n '200988_s_at': 'PSME3',\n '200989_at': 'HIF1A',\n '200990_at': 'TRIM28',\n '200991_s_at': 'SNX17',\n '200992_at': 'IPO7',\n '200993_at': 'IPO7',\n '200994_at': 'IPO7',\n '200995_at': 'IPO7',\n '200996_at': 'ACTR3',\n '200997_at': 'RBM14-RBM4',\n '200998_s_at': 'CKAP4',\n '200999_s_at': 'CKAP4',\n '201000_at': 'AARS',\n '201001_s_at': 'TMEM189',\n '201002_s_at': 'TMEM189',\n '201003_x_at': 'TMEM189',\n '201004_at': 'SSR4',\n '201005_at': 'CD9',\n '201006_at': 'PRDX2',\n '201007_at': 'HADHB',\n '201008_s_at': 'TXNIP',\n '201009_s_at': 'TXNIP',\n '201010_s_at': 'TXNIP',\n '201011_at': 'RPN1',\n '201012_at': 'ANXA1',\n '201013_s_at': 'PAICS',\n '201014_s_at': 'PAICS',\n '201015_s_at': 'JUP',\n '201016_at': 'EIF1AX',\n '201017_at': 'EIF1AX',\n '201018_at': 'EIF1AX',\n '201019_s_at': 'EIF1AX',\n '201020_at': 'YWHAH',\n '201021_s_at': 'DSTN',\n '201022_s_at': 'DSTN',\n '201023_at': 'TAF7',\n '201024_x_at': 'EIF5B',\n '201025_at': 'EIF5B',\n '201026_at': 'EIF5B',\n '201027_s_at': 'EIF5B',\n '201028_s_at': 'CD99',\n '201029_s_at': 'CD99',\n '201030_x_at': 'LDHB',\n '201031_s_at': 'HNRNPH1',\n '201032_at': 'BLCAP',\n '201033_x_at': 'RPLP0',\n '201034_at': 'ADD3',\n '201035_s_at': 'HADH',\n '201036_s_at': 'HADH',\n '201037_at': 'PFKP',\n '201038_s_at': 'ANP32A',\n '201039_s_at': 'RAD23A',\n '201040_at': 'GNAI2',\n '201041_s_at': 'DUSP1',\n '201042_at': 'TGM2',\n '201043_s_at': 'ANP32A',\n '201044_x_at': 'DUSP1',\n '201045_s_at': 'RAB6A',\n '201046_s_at': 'RAD23A',\n '201047_x_at': 'RAB6A',\n '201048_x_at': 'RAB6A',\n '201049_s_at': 'RPS18',\n '201050_at': 'PLD3',\n '201051_at': 'ANP32A',\n '201052_s_at': 'PSMF1',\n '201053_s_at': 'PSMF1',\n '201054_at': 'HNRNPA0',\n '201055_s_at': 'HNRNPA0',\n '201056_at': 'GOLGB1',\n '201057_s_at': 'GOLGB1',\n '201058_s_at': 'MYL9',\n '201059_at': 'CTTN',\n '201060_x_at': 'STOM',\n '201061_s_at': 'STOM',\n '201062_at': 'STOM',\n '201063_at': 'RCN1',\n '201064_s_at': 'LOC100996696',\n '201065_s_at': 'GTF2I',\n '201066_at': 'CYC1',\n '201067_at': 'PSMC2',\n '201068_s_at': 'PSMC2',\n '201069_at': 'MMP2',\n '201070_x_at': 'SF3B1',\n '201071_x_at': 'SF3B1',\n '201072_s_at': 'SMARCC1',\n '201073_s_at': 'SMARCC1',\n '201074_at': 'SMARCC1',\n '201075_s_at': 'SMARCC1',\n '201076_at': 'NHP2L1',\n '201077_s_at': 'ANXA2',\n '201078_at': 'TM9SF2',\n '201079_at': 'SYNGR2',\n '201080_at': 'PIP4K2B',\n '201081_s_at': 'PIP4K2B',\n '201082_s_at': 'DCTN1',\n '201083_s_at': 'BCLAF1',\n '201084_s_at': 'BCLAF1',\n '201085_s_at': 'SON',\n '201086_x_at': 'SON',\n '201087_at': 'PXN',\n '201088_at': 'KPNA2',\n '201089_at': 'ATP6V1B2',\n '201090_x_at': 'TUBA1B',\n '201091_s_at': 'CBX3',\n '201092_at': 'RBBP7',\n '201093_x_at': 'SDHA',\n '201094_at': 'RPS29',\n '201095_at': 'DAP',\n '201096_s_at': 'ARF4',\n '201097_s_at': 'ARF4',\n '201098_at': 'COPB2',\n '201099_at': 'USP9X',\n '201100_s_at': 'USP9X',\n '201101_s_at': 'BCLAF1',\n '201102_s_at': 'PFKL',\n '201103_x_at': 'NBPF10',\n '201104_x_at': 'NBPF10',\n '201105_at': 'LGALS1',\n '201106_at': 'GPX4',\n '201107_s_at': 'THBS1',\n '201108_s_at': 'THBS1',\n '201109_s_at': 'THBS1',\n '201110_s_at': 'THBS1',\n '201111_at': 'CSE1L',\n '201112_s_at': 'CSE1L',\n '201113_at': 'TUFM',\n '201114_x_at': 'PSMA7',\n '201115_at': 'POLD2',\n '201116_s_at': 'CPE',\n '201117_s_at': 'CPE',\n '201118_at': 'PGD',\n '201119_s_at': 'COX8A',\n '201120_s_at': 'PGRMC1',\n '201121_s_at': 'PGRMC1',\n '201122_x_at': 'EIF5A',\n '201123_s_at': 'EIF5A',\n '201124_at': 'ITGB5',\n '201125_s_at': 'ITGB5',\n '201126_s_at': 'MGAT1',\n '201127_s_at': 'ACLY',\n '201128_s_at': 'ACLY',\n '201129_at': 'SRSF7',\n '201130_s_at': 'CDH1',\n '201131_s_at': 'CDH1',\n '201132_at': 'HNRNPH2',\n '201133_s_at': 'PJA2',\n '201134_x_at': 'COX7C',\n '201135_at': 'ECHS1',\n '201136_at': 'PLP2',\n '201137_s_at': 'HLA-DPB1',\n '201138_s_at': 'SSB',\n '201139_s_at': 'SSB',\n '201140_s_at': 'RAB5C',\n '201141_at': 'GPNMB',\n '201142_at': 'EIF2S1',\n '201143_s_at': 'EIF2S1',\n '201144_s_at': 'EIF2S1',\n '201145_at': 'HAX1',\n '201146_at': 'NFE2L2',\n '201147_s_at': 'TIMP3',\n '201148_s_at': 'TIMP3',\n '201149_s_at': 'TIMP3',\n '201150_s_at': 'TIMP3',\n '201151_s_at': 'MBNL1',\n '201152_s_at': 'MBNL1',\n '201153_s_at': 'MBNL1',\n '201154_x_at': 'RPL4',\n '201155_s_at': 'MFN2',\n '201156_s_at': 'RAB5C',\n '201157_s_at': 'NMT1',\n '201158_at': 'NMT1',\n '201159_s_at': 'NMT1',\n '201160_s_at': 'YBX3',\n '201161_s_at': 'YBX3',\n '201162_at': 'IGFBP7',\n '201163_s_at': 'IGFBP7',\n '201164_s_at': 'PUM1',\n '201165_s_at': 'PUM1',\n '201166_s_at': 'PUM1',\n '201167_x_at': 'ARHGDIA',\n '201168_x_at': 'ARHGDIA',\n '201169_s_at': 'BHLHE40',\n '201170_s_at': 'BHLHE40',\n '201171_at': 'ATP6V0E1',\n '201172_x_at': 'ATP6V0E1',\n '201173_x_at': 'NUDC',\n '201174_s_at': 'TERF2IP',\n '201175_at': 'TMX2',\n '201176_s_at': 'ARCN1',\n '201177_s_at': 'UBA2',\n '201178_at': 'FBXO7',\n '201179_s_at': 'GNAI3',\n '201180_s_at': 'GNAI3',\n '201181_at': 'GNAI3',\n '201182_s_at': 'CHD4',\n '201183_s_at': 'CHD4',\n '201184_s_at': 'CHD4',\n '201185_at': 'HTRA1',\n '201186_at': 'LRPAP1',\n '201187_s_at': 'ITPR3',\n '201188_s_at': 'ITPR3',\n '201189_s_at': 'ITPR3',\n '201190_s_at': 'PITPNA',\n '201191_at': 'PITPNA',\n '201192_s_at': 'PITPNA',\n '201193_at': 'IDH1',\n '201194_at': 'SEPW1',\n '201195_s_at': 'SLC7A5',\n '201196_s_at': 'AMD1',\n '201197_at': 'AMD1',\n '201198_s_at': 'PSMD1',\n '201199_s_at': 'PSMD1',\n '201200_at': 'CREG1',\n '201201_at': 'CSTB',\n '201202_at': 'PCNA',\n '201203_s_at': 'RRBP1',\n '201204_s_at': 'RRBP1',\n '201206_s_at': 'RRBP1',\n '201207_at': 'TNFAIP1',\n '201208_s_at': 'TNFAIP1',\n '201209_at': 'HDAC1',\n '201210_at': 'DDX3X',\n '201211_s_at': 'DDX3X',\n '201212_at': 'LGMN',\n '201213_at': 'PPP1R7',\n '201214_s_at': 'PPP1R7',\n '201215_at': 'PLS3',\n '201216_at': 'ERP29',\n '201217_x_at': 'RNU86',\n '201218_at': 'CTBP2',\n '201219_at': 'CTBP2',\n '201220_x_at': 'CTBP2',\n '201221_s_at': 'SNRNP70',\n '201222_s_at': 'RAD23B',\n '201223_s_at': 'RAD23B',\n '201224_s_at': 'SRRM1',\n '201225_s_at': 'SRRM1',\n '201226_at': 'NDUFB8',\n '201227_s_at': 'NDUFB8',\n '201228_s_at': 'ARIH2',\n '201229_s_at': 'ARIH2',\n '201230_s_at': 'ARIH2',\n '201231_s_at': 'ENO1',\n '201232_s_at': 'PSMD13',\n '201233_at': 'PSMD13',\n '201234_at': 'ILK',\n '201235_s_at': 'BTG2',\n '201236_s_at': 'BTG2',\n '201237_at': 'CAPZA2',\n '201238_s_at': 'CAPZA2',\n '201239_s_at': 'SPCS2',\n '201240_s_at': 'SPCS2',\n '201241_at': 'DDX1',\n '201242_s_at': 'ATP1B1',\n '201243_s_at': 'ATP1B1',\n '201244_s_at': 'RAF1',\n '201245_s_at': 'LOC101927673',\n '201246_s_at': 'LOC101927673',\n '201247_at': 'SREBF2',\n '201248_s_at': 'SREBF2',\n '201249_at': 'SLC2A1',\n '201250_s_at': 'SLC2A1',\n '201251_at': 'PKM',\n '201252_at': 'PSMC4',\n '201253_s_at': 'CDIPT',\n '201254_x_at': 'RPS6',\n '201255_x_at': 'BAG6',\n '201256_at': 'COX7A2L',\n '201257_x_at': 'RPS3A',\n '201258_at': 'RPS16',\n '201259_s_at': 'SYPL1',\n '201260_s_at': 'SYPL1',\n '201261_x_at': 'BGN',\n '201262_s_at': 'BGN',\n '201263_at': 'TARS',\n '201264_at': 'COPE',\n '201266_at': 'TXNRD1',\n '201267_s_at': 'PSMC3',\n '201268_at': 'NME1-NME2',\n '201269_s_at': 'NUDCD3',\n '201270_x_at': 'NUDCD3',\n '201271_s_at': 'RALY',\n '201272_at': 'AKR1B1',\n '201273_s_at': 'SRP9',\n '201274_at': 'PSMA5',\n '201275_at': 'FDPS',\n '201276_at': 'RAB5B',\n '201277_s_at': 'HNRNPAB',\n '201278_at': 'DAB2',\n '201279_s_at': 'DAB2',\n '201280_s_at': 'DAB2',\n '201281_at': 'ADRM1',\n '201282_at': 'OGDH',\n '201283_s_at': 'TRAK1',\n '201284_s_at': 'APEH',\n '201285_at': 'MKRN1',\n '201286_at': 'SDC1',\n '201287_s_at': 'SDC1',\n '201288_at': 'ARHGDIB',\n '201289_at': 'CYR61',\n '201290_at': 'SEC11A',\n '201291_s_at': 'TOP2A',\n '201292_at': 'TOP2A',\n '201293_x_at': 'LOC101060363',\n '201294_s_at': 'WSB1',\n '201295_s_at': 'WSB1',\n '201296_s_at': 'WSB1',\n '201297_s_at': 'MOB1A',\n '201298_s_at': 'MOB1A',\n '201299_s_at': 'MOB1A',\n '201300_s_at': 'PRNP',\n '201301_s_at': 'ANXA4',\n '201302_at': 'ANXA4',\n '201303_at': 'EIF4A3',\n '201304_at': 'NDUFA5',\n '201305_x_at': 'ANP32B',\n '201306_s_at': 'ANP32B',\n '201307_at': '11-Sep',\n '201308_s_at': '11-Sep',\n '201309_x_at': 'NREP',\n '201310_s_at': 'NREP',\n '201311_s_at': 'SH3BGRL',\n '201312_s_at': 'SH3BGRL',\n '201313_at': 'ENO2',\n '201314_at': 'STK25',\n '201315_x_at': 'IFITM2',\n '201316_at': 'PSMA2',\n '201317_s_at': 'PSMA2',\n '201318_s_at': 'MYL12A',\n '201319_at': 'MYL12A',\n '201320_at': 'SMARCC2',\n '201321_s_at': 'SMARCC2',\n '201322_at': 'ATP5B',\n '201323_at': 'EBNA1BP2',\n '201324_at': 'EMP1',\n '201325_s_at': 'EMP1',\n '201326_at': 'CCT6A',\n '201327_s_at': 'CCT6A',\n '201328_at': 'ETS2',\n '201329_s_at': 'ETS2',\n '201330_at': 'RARS',\n '201331_s_at': 'STAT6',\n '201332_s_at': 'STAT6',\n '201333_s_at': 'ARHGEF12',\n '201334_s_at': 'ARHGEF12',\n '201335_s_at': 'ARHGEF12',\n '201336_at': 'VAMP3',\n '201337_s_at': 'VAMP3',\n '201338_x_at': 'GTF3A',\n '201339_s_at': 'SCP2',\n '201340_s_at': 'ENC1',\n '201341_at': 'ENC1',\n '201342_at': 'SNRPC',\n '201343_at': 'UBE2D2',\n '201344_at': 'UBE2D2',\n '201345_s_at': 'UBE2D2',\n '201346_at': 'ADIPOR2',\n '201347_x_at': 'GRHPR',\n '201348_at': 'GPX3',\n '201349_at': 'SLC9A3R1',\n '201350_at': 'FLOT2',\n '201351_s_at': 'YME1L1',\n '201352_at': 'YME1L1',\n '201353_s_at': 'BAZ2A',\n '201354_s_at': 'BAZ2A',\n '201355_s_at': 'BAZ2A',\n '201356_at': 'SF3A1',\n '201357_s_at': 'SF3A1',\n '201358_s_at': 'COPB1',\n '201359_at': 'COPB1',\n '201360_at': 'CST3',\n '201361_at': 'TMEM109',\n '201362_at': 'IVNS1ABP',\n '201363_s_at': 'IVNS1ABP',\n '201364_s_at': 'OAZ2',\n '201365_at': 'OAZ2',\n '201366_at': 'ANXA7',\n '201367_s_at': 'ZFP36L2',\n '201368_at': 'ZFP36L2',\n '201369_s_at': 'ZFP36L2',\n '201370_s_at': 'CUL3',\n '201371_s_at': 'CUL3',\n '201372_s_at': 'CUL3',\n '201373_at': 'PLEC',\n '201374_x_at': 'PPP2CB',\n '201375_s_at': 'PPP2CB',\n '201376_s_at': 'HNRNPF',\n '201377_at': 'UBAP2L',\n '201378_s_at': 'UBAP2L',\n '201379_s_at': 'TPD52L2',\n '201380_at': 'CRTAP',\n '201381_x_at': 'CACYBP',\n '201382_at': 'CACYBP',\n '201383_s_at': 'NBR1',\n '201384_s_at': 'NBR1',\n '201385_at': 'DHX15',\n '201386_s_at': 'DHX15',\n '201387_s_at': 'UCHL1',\n '201388_at': 'PSMD3',\n '201389_at': 'ITGA5',\n '201390_s_at': 'CSNK2B',\n '201391_at': 'TRAP1',\n '201392_s_at': 'IGF2R',\n '201393_s_at': 'IGF2R',\n '201394_s_at': 'RBM5',\n '201395_at': 'RBM5',\n '201396_s_at': 'SGTA',\n '201397_at': 'PHGDH',\n '201398_s_at': 'TRAM1',\n '201399_s_at': 'TRAM1',\n '201400_at': 'PSMB3',\n '201401_s_at': 'ADRBK1',\n '201402_at': 'ADRBK1',\n '201403_s_at': 'MGST3',\n '201404_x_at': 'PSMB2',\n '201405_s_at': 'COPS6',\n '201406_at': 'RPL36A',\n '201407_s_at': 'PPP1CB',\n '201408_at': 'PPP1CB',\n '201409_s_at': 'PPP1CB',\n '201410_at': 'PLEKHB2',\n '201411_s_at': 'PLEKHB2',\n '201412_at': 'LRP10',\n '201413_at': 'HSD17B4',\n '201414_s_at': 'NAP1L4',\n '201415_at': 'GSS',\n '201416_at': 'SOX4',\n '201417_at': 'SOX4',\n '201418_s_at': 'SOX4',\n '201419_at': 'BAP1',\n '201420_s_at': 'WDR77',\n '201421_s_at': 'WDR77',\n '201422_at': 'IFI30',\n '201423_s_at': 'CUL4A',\n '201424_s_at': 'CUL4A',\n '201425_at': 'ALDH2',\n '201426_s_at': 'VIM',\n '201427_s_at': 'SEPP1',\n '201428_at': 'CLDN4',\n '201429_s_at': 'RPL37A',\n '201430_s_at': 'DPYSL3',\n '201431_s_at': 'DPYSL3',\n '201432_at': 'CAT',\n '201433_s_at': 'PTDSS1',\n '201434_at': 'TTC1',\n '201435_s_at': 'EIF4E',\n '201436_at': 'EIF4E',\n '201437_s_at': 'EIF4E',\n '201438_at': 'COL6A3',\n '201439_at': 'GBF1',\n '201440_at': 'DDX23',\n '201441_at': 'COX6B1',\n '201442_s_at': 'ATP6AP2',\n '201443_s_at': 'ATP6AP2',\n '201444_s_at': 'ATP6AP2',\n '201445_at': 'CNN3',\n '201446_s_at': 'TIA1',\n '201447_at': 'TIA1',\n '201448_at': 'TIA1',\n '201449_at': 'TIA1',\n '201450_s_at': 'TIA1',\n '201451_x_at': 'RHEB',\n '201452_at': 'RHEB',\n '201453_x_at': 'RHEB',\n '201454_s_at': 'NPEPPS',\n '201455_s_at': 'NPEPPS',\n '201456_s_at': 'BUB3',\n '201457_x_at': 'BUB3',\n '201458_s_at': 'BUB3',\n '201459_at': 'RUVBL2',\n '201460_at': 'MAPKAPK2',\n '201461_s_at': 'MAPKAPK2',\n '201462_at': 'SCRN1',\n '201463_s_at': 'TALDO1',\n '201464_x_at': 'JUN',\n '201465_s_at': 'JUN',\n '201466_s_at': 'JUN',\n '201467_s_at': 'NQO1',\n '201468_s_at': 'NQO1',\n '201469_s_at': 'SHC1',\n '201470_at': 'GSTO1',\n '201471_s_at': 'SQSTM1',\n '201472_at': 'VBP1',\n '201473_at': 'JUNB',\n '201474_s_at': 'ITGA3',\n ...}"
     },
     "execution_count": 11,
     "metadata": {},
     "output_type": "execute_result"
    }
   ],
   "source": [
    "mapping_dict = {}\n",
    "for _, row in mapping_dic.iterrows():\n",
    "    id = row[\"ID\"]\n",
    "    try:\n",
    "        genes = row[\"Gene Symbol\"].split('///')[0].strip()\n",
    "        mapping_dict[id] = genes\n",
    "    except:\n",
    "        continue\n",
    "\n",
    "mapping_dict"
   ],
   "metadata": {
    "collapsed": false,
    "ExecuteTime": {
     "start_time": "2024-03-03T00:58:38.389228Z",
     "end_time": "2024-03-03T00:58:39.750938Z"
    }
   }
  },
  {
   "cell_type": "code",
   "execution_count": 12,
   "outputs": [
    {
     "data": {
      "text/plain": "            Unnamed: 0    gene   des_001   des_002   des_003   des_004  \\\n0            1007_s_at    DDR1 -0.459250  0.091440 -0.117059  0.244498   \n1              1053_at    RFC2  0.057326  0.474603  0.011278  0.230887   \n2               117_at   HSPA6  0.529216  0.149211 -0.163298  0.024389   \n3               121_at    PAX8  0.079541  0.012037 -0.096993  0.056254   \n4            1255_g_at  GUCA1A  0.330342 -0.180168  0.163056 -0.105653   \n...                ...     ...       ...       ...       ...       ...   \n22263   AFFX-ThrX-5_at    None  0.103996  0.016942 -0.074449  0.116376   \n22264   AFFX-ThrX-M_at    None  0.002520 -0.334322  0.117141 -0.069753   \n22265  AFFX-TrpnX-3_at    None  0.005663 -0.430126 -0.011320 -0.109137   \n22266  AFFX-TrpnX-5_at    None -0.021495 -0.172303  0.138411  0.023689   \n22267  AFFX-TrpnX-M_at    None  0.057514 -0.177791  0.060146 -0.062546   \n\n        des_005   des_006   des_007   des_008  ...  chin_114  chin_115  \\\n0      0.597816 -0.070166  0.234270  0.018377  ... -0.672712  0.286362   \n1     -0.020778  0.103665  0.505089  0.001211  ... -0.176822  0.681828   \n2      0.280793 -0.240386  0.349907 -0.077751  ... -0.139025 -0.024728   \n3     -0.109642  0.130479 -0.054854  0.212392  ...  0.605527  0.049816   \n4     -0.108637 -0.211124 -0.180042 -0.153856  ...  0.376646 -0.231620   \n...         ...       ...       ...       ...  ...       ...       ...   \n22263  0.043077 -0.263181 -0.058079 -0.114486  ...  0.359580 -0.070270   \n22264 -0.081087 -0.056240 -0.186825 -0.132919  ...  0.535954 -0.168652   \n22265 -0.098861 -0.258126 -0.344913 -0.315889  ...  0.166479 -0.319097   \n22266  0.036391 -0.028029 -0.225620 -0.026913  ...  0.276444 -0.211435   \n22267 -0.102837 -0.091435 -0.229051 -0.076542  ...  0.417172 -0.223378   \n\n       chin_116  chin_117  chin_118  chin_119  chin_120  chin_121  chin_122  \\\n0      0.789653  0.143224 -0.734002 -0.640233  0.396192 -0.071743 -0.363812   \n1     -0.023026  0.583604  0.169207 -0.271077 -0.081942 -0.452789  0.316862   \n2      0.158030 -0.378516  2.388225  0.304630  0.724551 -0.392097  0.611968   \n3      0.539691  0.709344  0.401906  0.334862  0.078856  0.912364 -0.000135   \n4      0.141601  0.239232  0.094140  0.075791  0.206457  0.301791  0.233434   \n...         ...       ...       ...       ...       ...       ...       ...   \n22263  0.098649  0.153441  0.091914  0.067424  0.009794  0.282920  0.246111   \n22264 -0.008714  0.323122  0.047297  0.022380  0.063375  0.293320  0.159020   \n22265 -0.054583  0.346123  0.227134  0.190458  0.130353  0.107681  0.108631   \n22266 -0.112786  0.255768  0.059140 -0.057402 -0.129331  0.138101  0.087742   \n22267  0.126348  0.363179  0.063711  0.032339  0.035179  0.400034  0.249185   \n\n       chin_123  \n0     -0.450985  \n1     -0.252576  \n2      0.383572  \n3      0.489546  \n4      0.124802  \n...         ...  \n22263  0.211060  \n22264  0.277077  \n22265  0.157889  \n22266  0.102973  \n22267  0.272345  \n\n[22268 rows x 949 columns]",
      "text/html": "<div>\n<style scoped>\n    .dataframe tbody tr th:only-of-type {\n        vertical-align: middle;\n    }\n\n    .dataframe tbody tr th {\n        vertical-align: top;\n    }\n\n    .dataframe thead th {\n        text-align: right;\n    }\n</style>\n<table border=\"1\" class=\"dataframe\">\n  <thead>\n    <tr style=\"text-align: right;\">\n      <th></th>\n      <th>Unnamed: 0</th>\n      <th>gene</th>\n      <th>des_001</th>\n      <th>des_002</th>\n      <th>des_003</th>\n      <th>des_004</th>\n      <th>des_005</th>\n      <th>des_006</th>\n      <th>des_007</th>\n      <th>des_008</th>\n      <th>...</th>\n      <th>chin_114</th>\n      <th>chin_115</th>\n      <th>chin_116</th>\n      <th>chin_117</th>\n      <th>chin_118</th>\n      <th>chin_119</th>\n      <th>chin_120</th>\n      <th>chin_121</th>\n      <th>chin_122</th>\n      <th>chin_123</th>\n    </tr>\n  </thead>\n  <tbody>\n    <tr>\n      <th>0</th>\n      <td>1007_s_at</td>\n      <td>DDR1</td>\n      <td>-0.459250</td>\n      <td>0.091440</td>\n      <td>-0.117059</td>\n      <td>0.244498</td>\n      <td>0.597816</td>\n      <td>-0.070166</td>\n      <td>0.234270</td>\n      <td>0.018377</td>\n      <td>...</td>\n      <td>-0.672712</td>\n      <td>0.286362</td>\n      <td>0.789653</td>\n      <td>0.143224</td>\n      <td>-0.734002</td>\n      <td>-0.640233</td>\n      <td>0.396192</td>\n      <td>-0.071743</td>\n      <td>-0.363812</td>\n      <td>-0.450985</td>\n    </tr>\n    <tr>\n      <th>1</th>\n      <td>1053_at</td>\n      <td>RFC2</td>\n      <td>0.057326</td>\n      <td>0.474603</td>\n      <td>0.011278</td>\n      <td>0.230887</td>\n      <td>-0.020778</td>\n      <td>0.103665</td>\n      <td>0.505089</td>\n      <td>0.001211</td>\n      <td>...</td>\n      <td>-0.176822</td>\n      <td>0.681828</td>\n      <td>-0.023026</td>\n      <td>0.583604</td>\n      <td>0.169207</td>\n      <td>-0.271077</td>\n      <td>-0.081942</td>\n      <td>-0.452789</td>\n      <td>0.316862</td>\n      <td>-0.252576</td>\n    </tr>\n    <tr>\n      <th>2</th>\n      <td>117_at</td>\n      <td>HSPA6</td>\n      <td>0.529216</td>\n      <td>0.149211</td>\n      <td>-0.163298</td>\n      <td>0.024389</td>\n      <td>0.280793</td>\n      <td>-0.240386</td>\n      <td>0.349907</td>\n      <td>-0.077751</td>\n      <td>...</td>\n      <td>-0.139025</td>\n      <td>-0.024728</td>\n      <td>0.158030</td>\n      <td>-0.378516</td>\n      <td>2.388225</td>\n      <td>0.304630</td>\n      <td>0.724551</td>\n      <td>-0.392097</td>\n      <td>0.611968</td>\n      <td>0.383572</td>\n    </tr>\n    <tr>\n      <th>3</th>\n      <td>121_at</td>\n      <td>PAX8</td>\n      <td>0.079541</td>\n      <td>0.012037</td>\n      <td>-0.096993</td>\n      <td>0.056254</td>\n      <td>-0.109642</td>\n      <td>0.130479</td>\n      <td>-0.054854</td>\n      <td>0.212392</td>\n      <td>...</td>\n      <td>0.605527</td>\n      <td>0.049816</td>\n      <td>0.539691</td>\n      <td>0.709344</td>\n      <td>0.401906</td>\n      <td>0.334862</td>\n      <td>0.078856</td>\n      <td>0.912364</td>\n      <td>-0.000135</td>\n      <td>0.489546</td>\n    </tr>\n    <tr>\n      <th>4</th>\n      <td>1255_g_at</td>\n      <td>GUCA1A</td>\n      <td>0.330342</td>\n      <td>-0.180168</td>\n      <td>0.163056</td>\n      <td>-0.105653</td>\n      <td>-0.108637</td>\n      <td>-0.211124</td>\n      <td>-0.180042</td>\n      <td>-0.153856</td>\n      <td>...</td>\n      <td>0.376646</td>\n      <td>-0.231620</td>\n      <td>0.141601</td>\n      <td>0.239232</td>\n      <td>0.094140</td>\n      <td>0.075791</td>\n      <td>0.206457</td>\n      <td>0.301791</td>\n      <td>0.233434</td>\n      <td>0.124802</td>\n    </tr>\n    <tr>\n      <th>...</th>\n      <td>...</td>\n      <td>...</td>\n      <td>...</td>\n      <td>...</td>\n      <td>...</td>\n      <td>...</td>\n      <td>...</td>\n      <td>...</td>\n      <td>...</td>\n      <td>...</td>\n      <td>...</td>\n      <td>...</td>\n      <td>...</td>\n      <td>...</td>\n      <td>...</td>\n      <td>...</td>\n      <td>...</td>\n      <td>...</td>\n      <td>...</td>\n      <td>...</td>\n      <td>...</td>\n    </tr>\n    <tr>\n      <th>22263</th>\n      <td>AFFX-ThrX-5_at</td>\n      <td>None</td>\n      <td>0.103996</td>\n      <td>0.016942</td>\n      <td>-0.074449</td>\n      <td>0.116376</td>\n      <td>0.043077</td>\n      <td>-0.263181</td>\n      <td>-0.058079</td>\n      <td>-0.114486</td>\n      <td>...</td>\n      <td>0.359580</td>\n      <td>-0.070270</td>\n      <td>0.098649</td>\n      <td>0.153441</td>\n      <td>0.091914</td>\n      <td>0.067424</td>\n      <td>0.009794</td>\n      <td>0.282920</td>\n      <td>0.246111</td>\n      <td>0.211060</td>\n    </tr>\n    <tr>\n      <th>22264</th>\n      <td>AFFX-ThrX-M_at</td>\n      <td>None</td>\n      <td>0.002520</td>\n      <td>-0.334322</td>\n      <td>0.117141</td>\n      <td>-0.069753</td>\n      <td>-0.081087</td>\n      <td>-0.056240</td>\n      <td>-0.186825</td>\n      <td>-0.132919</td>\n      <td>...</td>\n      <td>0.535954</td>\n      <td>-0.168652</td>\n      <td>-0.008714</td>\n      <td>0.323122</td>\n      <td>0.047297</td>\n      <td>0.022380</td>\n      <td>0.063375</td>\n      <td>0.293320</td>\n      <td>0.159020</td>\n      <td>0.277077</td>\n    </tr>\n    <tr>\n      <th>22265</th>\n      <td>AFFX-TrpnX-3_at</td>\n      <td>None</td>\n      <td>0.005663</td>\n      <td>-0.430126</td>\n      <td>-0.011320</td>\n      <td>-0.109137</td>\n      <td>-0.098861</td>\n      <td>-0.258126</td>\n      <td>-0.344913</td>\n      <td>-0.315889</td>\n      <td>...</td>\n      <td>0.166479</td>\n      <td>-0.319097</td>\n      <td>-0.054583</td>\n      <td>0.346123</td>\n      <td>0.227134</td>\n      <td>0.190458</td>\n      <td>0.130353</td>\n      <td>0.107681</td>\n      <td>0.108631</td>\n      <td>0.157889</td>\n    </tr>\n    <tr>\n      <th>22266</th>\n      <td>AFFX-TrpnX-5_at</td>\n      <td>None</td>\n      <td>-0.021495</td>\n      <td>-0.172303</td>\n      <td>0.138411</td>\n      <td>0.023689</td>\n      <td>0.036391</td>\n      <td>-0.028029</td>\n      <td>-0.225620</td>\n      <td>-0.026913</td>\n      <td>...</td>\n      <td>0.276444</td>\n      <td>-0.211435</td>\n      <td>-0.112786</td>\n      <td>0.255768</td>\n      <td>0.059140</td>\n      <td>-0.057402</td>\n      <td>-0.129331</td>\n      <td>0.138101</td>\n      <td>0.087742</td>\n      <td>0.102973</td>\n    </tr>\n    <tr>\n      <th>22267</th>\n      <td>AFFX-TrpnX-M_at</td>\n      <td>None</td>\n      <td>0.057514</td>\n      <td>-0.177791</td>\n      <td>0.060146</td>\n      <td>-0.062546</td>\n      <td>-0.102837</td>\n      <td>-0.091435</td>\n      <td>-0.229051</td>\n      <td>-0.076542</td>\n      <td>...</td>\n      <td>0.417172</td>\n      <td>-0.223378</td>\n      <td>0.126348</td>\n      <td>0.363179</td>\n      <td>0.063711</td>\n      <td>0.032339</td>\n      <td>0.035179</td>\n      <td>0.400034</td>\n      <td>0.249185</td>\n      <td>0.272345</td>\n    </tr>\n  </tbody>\n</table>\n<p>22268 rows × 949 columns</p>\n</div>"
     },
     "execution_count": 12,
     "metadata": {},
     "output_type": "execute_result"
    }
   ],
   "source": [
    "# Function to add a new column 'gene' based on 'Unnamed: 0' using mapping_dict\n",
    "def add_gene_column(df, mapping_dict):\n",
    "    # Map the 'Unnamed: 0' column to Gene Symbols using the mapping dictionary\n",
    "    # If an ID maps to multiple Gene Symbols, concatenate them separated by ','\n",
    "    df['gene'] = df['Unnamed: 0'].apply(lambda x: mapping_dict.get(x))\n",
    "\n",
    "    # Move the 'gene' column to be the second column (after the first)\n",
    "    col_order = [df.columns[0]] + ['gene'] + df.columns[1:-1].tolist()\n",
    "    return df[col_order]\n",
    "\n",
    "# Add the 'gene' column to df\n",
    "updated_df = add_gene_column(affy_gen_df, mapping_dict)\n",
    "updated_df"
   ],
   "metadata": {
    "collapsed": false,
    "ExecuteTime": {
     "start_time": "2024-03-03T00:58:40.439716Z",
     "end_time": "2024-03-03T00:58:40.540699Z"
    }
   }
  },
  {
   "cell_type": "code",
   "execution_count": 13,
   "outputs": [
    {
     "data": {
      "text/plain": "          des_001   des_002   des_003   des_004   des_005   des_006   des_007  \\\ngene                                                                            \n1-Dec    0.080707 -0.144498  0.053662  0.043225 -0.153122 -0.406953  0.135682   \n1-Mar    0.126767  0.249914 -0.217517  0.082784 -0.236232  0.061302 -0.149141   \n10-Sep   0.681787 -0.669134  0.072756 -1.323946 -1.111532  0.497087 -0.100008   \n11-Sep  -0.107245 -0.507407  0.088203 -0.480760 -0.346052  0.186070 -0.152361   \n15-Sep   0.383370  0.091756  0.184783 -0.184404 -0.300368  0.178981 -0.068345   \n...           ...       ...       ...       ...       ...       ...       ...   \nZXDC    -0.405175  0.570790 -0.098968  0.076977  0.300887 -0.324874  0.480362   \nZYX      0.495197 -0.623655  0.399191 -0.314101  0.382069  0.199087  0.352436   \nZZEF1   -0.179264  0.100728 -0.245050  0.086247  0.101864 -0.096363  0.148950   \nZZZ3     1.062711 -0.627032 -0.125536 -0.714192 -0.800811 -0.170161 -0.773769   \nabParts -0.935563  1.406080  1.138263  1.452193 -0.772994  1.537229  4.328056   \n\n          des_008   des_009   des_010  ...  chin_114  chin_115  chin_116  \\\ngene                                   ...                                 \n1-Dec   -0.055058 -0.087079 -0.271023  ...  0.138812 -0.178442  0.132842   \n1-Mar    0.355748  0.301330 -0.027682  ... -0.099687  0.025479 -0.238690   \n10-Sep   0.380520 -0.554424  0.338919  ... -0.175750  0.013092  0.343684   \n11-Sep   0.900408 -0.341673  0.377041  ... -0.082383 -0.245674  0.592442   \n15-Sep  -0.030081  0.299531 -0.224218  ... -0.391921  0.338698  0.269875   \n...           ...       ...       ...  ...       ...       ...       ...   \nZXDC    -0.474222 -0.388274 -0.191527  ... -0.092318  0.864535 -0.347192   \nZYX      0.072205 -0.452748 -0.167902  ...  0.670593  0.379396  0.315731   \nZZEF1    0.076015  0.029519 -0.176746  ... -0.022014  0.278857 -0.036466   \nZZZ3     0.343186  0.535954 -0.113407  ... -0.429157  0.608723 -0.150688   \nabParts  0.685400 -0.707615  1.386778  ...  0.117864  0.189521  2.267023   \n\n         chin_117  chin_118  chin_119  chin_120  chin_121  chin_122  chin_123  \ngene                                                                           \n1-Dec   -0.010294  0.133377  0.092185  0.067500  0.273030  0.107638  0.372270  \n1-Mar    0.124758 -0.154201  0.275988  0.234737 -0.111077 -0.006313  0.554239  \n10-Sep  -0.119649 -0.044874 -0.607323 -1.013198 -0.411176  0.261992 -0.380183  \n11-Sep  -0.284326  0.165608 -0.329327  0.006865  0.098484 -0.041633 -0.185645  \n15-Sep  -0.810205 -0.237907 -0.183692  0.000969 -0.544073 -0.428076 -0.972438  \n...           ...       ...       ...       ...       ...       ...       ...  \nZXDC    -0.443608 -0.422669 -0.181808  0.832429 -0.313916  0.677694  0.001798  \nZYX      0.418045  0.518770 -0.380657 -0.302434  0.072109 -0.517645 -0.567315  \nZZEF1    0.033622 -0.239267 -0.115709 -0.160284  0.081729  0.184526  0.152645  \nZZZ3    -1.378941 -0.185272 -0.246299 -0.549442 -0.260302 -0.074965 -0.997686  \nabParts -0.677801 -0.641171  0.950697 -0.524765 -0.670864 -0.674244  2.362153  \n\n[13235 rows x 947 columns]",
      "text/html": "<div>\n<style scoped>\n    .dataframe tbody tr th:only-of-type {\n        vertical-align: middle;\n    }\n\n    .dataframe tbody tr th {\n        vertical-align: top;\n    }\n\n    .dataframe thead th {\n        text-align: right;\n    }\n</style>\n<table border=\"1\" class=\"dataframe\">\n  <thead>\n    <tr style=\"text-align: right;\">\n      <th></th>\n      <th>des_001</th>\n      <th>des_002</th>\n      <th>des_003</th>\n      <th>des_004</th>\n      <th>des_005</th>\n      <th>des_006</th>\n      <th>des_007</th>\n      <th>des_008</th>\n      <th>des_009</th>\n      <th>des_010</th>\n      <th>...</th>\n      <th>chin_114</th>\n      <th>chin_115</th>\n      <th>chin_116</th>\n      <th>chin_117</th>\n      <th>chin_118</th>\n      <th>chin_119</th>\n      <th>chin_120</th>\n      <th>chin_121</th>\n      <th>chin_122</th>\n      <th>chin_123</th>\n    </tr>\n    <tr>\n      <th>gene</th>\n      <th></th>\n      <th></th>\n      <th></th>\n      <th></th>\n      <th></th>\n      <th></th>\n      <th></th>\n      <th></th>\n      <th></th>\n      <th></th>\n      <th></th>\n      <th></th>\n      <th></th>\n      <th></th>\n      <th></th>\n      <th></th>\n      <th></th>\n      <th></th>\n      <th></th>\n      <th></th>\n      <th></th>\n    </tr>\n  </thead>\n  <tbody>\n    <tr>\n      <th>1-Dec</th>\n      <td>0.080707</td>\n      <td>-0.144498</td>\n      <td>0.053662</td>\n      <td>0.043225</td>\n      <td>-0.153122</td>\n      <td>-0.406953</td>\n      <td>0.135682</td>\n      <td>-0.055058</td>\n      <td>-0.087079</td>\n      <td>-0.271023</td>\n      <td>...</td>\n      <td>0.138812</td>\n      <td>-0.178442</td>\n      <td>0.132842</td>\n      <td>-0.010294</td>\n      <td>0.133377</td>\n      <td>0.092185</td>\n      <td>0.067500</td>\n      <td>0.273030</td>\n      <td>0.107638</td>\n      <td>0.372270</td>\n    </tr>\n    <tr>\n      <th>1-Mar</th>\n      <td>0.126767</td>\n      <td>0.249914</td>\n      <td>-0.217517</td>\n      <td>0.082784</td>\n      <td>-0.236232</td>\n      <td>0.061302</td>\n      <td>-0.149141</td>\n      <td>0.355748</td>\n      <td>0.301330</td>\n      <td>-0.027682</td>\n      <td>...</td>\n      <td>-0.099687</td>\n      <td>0.025479</td>\n      <td>-0.238690</td>\n      <td>0.124758</td>\n      <td>-0.154201</td>\n      <td>0.275988</td>\n      <td>0.234737</td>\n      <td>-0.111077</td>\n      <td>-0.006313</td>\n      <td>0.554239</td>\n    </tr>\n    <tr>\n      <th>10-Sep</th>\n      <td>0.681787</td>\n      <td>-0.669134</td>\n      <td>0.072756</td>\n      <td>-1.323946</td>\n      <td>-1.111532</td>\n      <td>0.497087</td>\n      <td>-0.100008</td>\n      <td>0.380520</td>\n      <td>-0.554424</td>\n      <td>0.338919</td>\n      <td>...</td>\n      <td>-0.175750</td>\n      <td>0.013092</td>\n      <td>0.343684</td>\n      <td>-0.119649</td>\n      <td>-0.044874</td>\n      <td>-0.607323</td>\n      <td>-1.013198</td>\n      <td>-0.411176</td>\n      <td>0.261992</td>\n      <td>-0.380183</td>\n    </tr>\n    <tr>\n      <th>11-Sep</th>\n      <td>-0.107245</td>\n      <td>-0.507407</td>\n      <td>0.088203</td>\n      <td>-0.480760</td>\n      <td>-0.346052</td>\n      <td>0.186070</td>\n      <td>-0.152361</td>\n      <td>0.900408</td>\n      <td>-0.341673</td>\n      <td>0.377041</td>\n      <td>...</td>\n      <td>-0.082383</td>\n      <td>-0.245674</td>\n      <td>0.592442</td>\n      <td>-0.284326</td>\n      <td>0.165608</td>\n      <td>-0.329327</td>\n      <td>0.006865</td>\n      <td>0.098484</td>\n      <td>-0.041633</td>\n      <td>-0.185645</td>\n    </tr>\n    <tr>\n      <th>15-Sep</th>\n      <td>0.383370</td>\n      <td>0.091756</td>\n      <td>0.184783</td>\n      <td>-0.184404</td>\n      <td>-0.300368</td>\n      <td>0.178981</td>\n      <td>-0.068345</td>\n      <td>-0.030081</td>\n      <td>0.299531</td>\n      <td>-0.224218</td>\n      <td>...</td>\n      <td>-0.391921</td>\n      <td>0.338698</td>\n      <td>0.269875</td>\n      <td>-0.810205</td>\n      <td>-0.237907</td>\n      <td>-0.183692</td>\n      <td>0.000969</td>\n      <td>-0.544073</td>\n      <td>-0.428076</td>\n      <td>-0.972438</td>\n    </tr>\n    <tr>\n      <th>...</th>\n      <td>...</td>\n      <td>...</td>\n      <td>...</td>\n      <td>...</td>\n      <td>...</td>\n      <td>...</td>\n      <td>...</td>\n      <td>...</td>\n      <td>...</td>\n      <td>...</td>\n      <td>...</td>\n      <td>...</td>\n      <td>...</td>\n      <td>...</td>\n      <td>...</td>\n      <td>...</td>\n      <td>...</td>\n      <td>...</td>\n      <td>...</td>\n      <td>...</td>\n      <td>...</td>\n    </tr>\n    <tr>\n      <th>ZXDC</th>\n      <td>-0.405175</td>\n      <td>0.570790</td>\n      <td>-0.098968</td>\n      <td>0.076977</td>\n      <td>0.300887</td>\n      <td>-0.324874</td>\n      <td>0.480362</td>\n      <td>-0.474222</td>\n      <td>-0.388274</td>\n      <td>-0.191527</td>\n      <td>...</td>\n      <td>-0.092318</td>\n      <td>0.864535</td>\n      <td>-0.347192</td>\n      <td>-0.443608</td>\n      <td>-0.422669</td>\n      <td>-0.181808</td>\n      <td>0.832429</td>\n      <td>-0.313916</td>\n      <td>0.677694</td>\n      <td>0.001798</td>\n    </tr>\n    <tr>\n      <th>ZYX</th>\n      <td>0.495197</td>\n      <td>-0.623655</td>\n      <td>0.399191</td>\n      <td>-0.314101</td>\n      <td>0.382069</td>\n      <td>0.199087</td>\n      <td>0.352436</td>\n      <td>0.072205</td>\n      <td>-0.452748</td>\n      <td>-0.167902</td>\n      <td>...</td>\n      <td>0.670593</td>\n      <td>0.379396</td>\n      <td>0.315731</td>\n      <td>0.418045</td>\n      <td>0.518770</td>\n      <td>-0.380657</td>\n      <td>-0.302434</td>\n      <td>0.072109</td>\n      <td>-0.517645</td>\n      <td>-0.567315</td>\n    </tr>\n    <tr>\n      <th>ZZEF1</th>\n      <td>-0.179264</td>\n      <td>0.100728</td>\n      <td>-0.245050</td>\n      <td>0.086247</td>\n      <td>0.101864</td>\n      <td>-0.096363</td>\n      <td>0.148950</td>\n      <td>0.076015</td>\n      <td>0.029519</td>\n      <td>-0.176746</td>\n      <td>...</td>\n      <td>-0.022014</td>\n      <td>0.278857</td>\n      <td>-0.036466</td>\n      <td>0.033622</td>\n      <td>-0.239267</td>\n      <td>-0.115709</td>\n      <td>-0.160284</td>\n      <td>0.081729</td>\n      <td>0.184526</td>\n      <td>0.152645</td>\n    </tr>\n    <tr>\n      <th>ZZZ3</th>\n      <td>1.062711</td>\n      <td>-0.627032</td>\n      <td>-0.125536</td>\n      <td>-0.714192</td>\n      <td>-0.800811</td>\n      <td>-0.170161</td>\n      <td>-0.773769</td>\n      <td>0.343186</td>\n      <td>0.535954</td>\n      <td>-0.113407</td>\n      <td>...</td>\n      <td>-0.429157</td>\n      <td>0.608723</td>\n      <td>-0.150688</td>\n      <td>-1.378941</td>\n      <td>-0.185272</td>\n      <td>-0.246299</td>\n      <td>-0.549442</td>\n      <td>-0.260302</td>\n      <td>-0.074965</td>\n      <td>-0.997686</td>\n    </tr>\n    <tr>\n      <th>abParts</th>\n      <td>-0.935563</td>\n      <td>1.406080</td>\n      <td>1.138263</td>\n      <td>1.452193</td>\n      <td>-0.772994</td>\n      <td>1.537229</td>\n      <td>4.328056</td>\n      <td>0.685400</td>\n      <td>-0.707615</td>\n      <td>1.386778</td>\n      <td>...</td>\n      <td>0.117864</td>\n      <td>0.189521</td>\n      <td>2.267023</td>\n      <td>-0.677801</td>\n      <td>-0.641171</td>\n      <td>0.950697</td>\n      <td>-0.524765</td>\n      <td>-0.670864</td>\n      <td>-0.674244</td>\n      <td>2.362153</td>\n    </tr>\n  </tbody>\n</table>\n<p>13235 rows × 947 columns</p>\n</div>"
     },
     "execution_count": 13,
     "metadata": {},
     "output_type": "execute_result"
    }
   ],
   "source": [
    "# Dropping the first column from 'updated_df'\n",
    "df_dropped_first_col = updated_df.drop(updated_df.columns[0], axis=1)\n",
    "\n",
    "# Merging rows based on the 'gene' column and averaging if there are multiple rows with the same gene value\n",
    "def merge_and_average_rows(df, groupby_col):\n",
    "    # Group by the specified column and calculate the mean for each group\n",
    "    return df.groupby(groupby_col).mean()\n",
    "\n",
    "# Apply the merge and average function\n",
    "merged_df = merge_and_average_rows(df_dropped_first_col, 'gene')\n",
    "merged_df"
   ],
   "metadata": {
    "collapsed": false,
    "ExecuteTime": {
     "start_time": "2024-03-03T00:58:43.046019Z",
     "end_time": "2024-03-03T00:58:43.514790Z"
    }
   }
  },
  {
   "cell_type": "code",
   "execution_count": 5,
   "outputs": [
    {
     "data": {
      "text/plain": "Unnamed: 0     index 1007_s_at   1053_at    117_at    121_at 1255_g_at  \\\n0            des_001  -0.45925  0.057326  0.529216  0.079541  0.330342   \n1            des_002   0.09144  0.474603  0.149211  0.012037 -0.180168   \n2            des_003 -0.117059  0.011278 -0.163298 -0.096993  0.163056   \n3            des_004  0.244498  0.230887  0.024389  0.056254 -0.105653   \n4            des_005  0.597816 -0.020778  0.280793 -0.109642 -0.108637   \n..               ...       ...       ...       ...       ...       ...   \n942         chin_119 -0.640233 -0.271077   0.30463  0.334862  0.075791   \n943         chin_120  0.396192 -0.081942  0.724551  0.078856  0.206457   \n944         chin_121 -0.071743 -0.452789 -0.392097  0.912364  0.301791   \n945         chin_122 -0.363812  0.316862  0.611968 -0.000135  0.233434   \n946         chin_123 -0.450985 -0.252576  0.383572  0.489546  0.124802   \n\nUnnamed: 0   1294_at   1316_at   1320_at 1405_i_at  ... AFFX-r2-Ec-bioD-3_at  \\\n0          -0.531871  0.153022  0.319375 -1.616176  ...            -0.292195   \n1           0.037256  -0.21036  0.106898  0.423479  ...            -0.234468   \n2          -0.432616   0.12983   -0.0621 -0.530517  ...             0.193887   \n3           0.138147  0.146261 -0.102944  2.789089  ...            -0.064498   \n4           0.945238 -0.134037 -0.004537 -1.287673  ...            -0.263338   \n..               ...       ...       ...       ...  ...                  ...   \n942        -0.461465 -0.122859 -0.048453  1.410598  ...             0.007317   \n943         0.606905  0.007627 -0.084347 -0.019116  ...             0.121743   \n944        -0.039596   0.60415  0.007106 -0.050289  ...             0.261208   \n945         0.598696 -0.028098  0.225085  0.024493  ...            -0.213411   \n946        -0.178155  0.016169  0.164103  1.616521  ...            -0.015176   \n\nUnnamed: 0 AFFX-r2-Ec-bioD-5_at AFFX-r2-P1-cre-3_at AFFX-r2-P1-cre-5_at  \\\n0                     -0.309975           -0.452575            -0.51182   \n1                     -0.111374           -0.215928           -0.289351   \n2                      0.146806           -0.049949             0.01806   \n3                     -0.231804           -0.311464           -0.514315   \n4                     -0.320511            -0.17383           -0.226142   \n..                          ...                 ...                 ...   \n942                   -0.008341             0.13031            0.203555   \n943                    0.109702           -0.001127            0.106534   \n944                    0.362515              0.0951            0.119127   \n945                   -0.121106           -0.017685            0.012318   \n946                   -0.048623           -0.077163           -0.114703   \n\nUnnamed: 0 AFFX-ThrX-3_at AFFX-ThrX-5_at AFFX-ThrX-M_at AFFX-TrpnX-3_at  \\\n0               -0.137902       0.103996        0.00252        0.005663   \n1               -0.100844       0.016942      -0.334322       -0.430126   \n2               -0.007516      -0.074449       0.117141        -0.01132   \n3               -0.035286       0.116376      -0.069753       -0.109137   \n4               -0.122679       0.043077      -0.081087       -0.098861   \n..                    ...            ...            ...             ...   \n942              0.106453       0.067424        0.02238        0.190458   \n943              0.002281       0.009794       0.063375        0.130353   \n944              0.066299        0.28292        0.29332        0.107681   \n945              0.240811       0.246111        0.15902        0.108631   \n946              0.166479        0.21106       0.277077        0.157889   \n\nUnnamed: 0 AFFX-TrpnX-5_at AFFX-TrpnX-M_at  \n0                -0.021495        0.057514  \n1                -0.172303       -0.177791  \n2                 0.138411        0.060146  \n3                 0.023689       -0.062546  \n4                 0.036391       -0.102837  \n..                     ...             ...  \n942              -0.057402        0.032339  \n943              -0.129331        0.035179  \n944               0.138101        0.400034  \n945               0.087742        0.249185  \n946               0.102973        0.272345  \n\n[947 rows x 22269 columns]",
      "text/html": "<div>\n<style scoped>\n    .dataframe tbody tr th:only-of-type {\n        vertical-align: middle;\n    }\n\n    .dataframe tbody tr th {\n        vertical-align: top;\n    }\n\n    .dataframe thead th {\n        text-align: right;\n    }\n</style>\n<table border=\"1\" class=\"dataframe\">\n  <thead>\n    <tr style=\"text-align: right;\">\n      <th>Unnamed: 0</th>\n      <th>index</th>\n      <th>1007_s_at</th>\n      <th>1053_at</th>\n      <th>117_at</th>\n      <th>121_at</th>\n      <th>1255_g_at</th>\n      <th>1294_at</th>\n      <th>1316_at</th>\n      <th>1320_at</th>\n      <th>1405_i_at</th>\n      <th>...</th>\n      <th>AFFX-r2-Ec-bioD-3_at</th>\n      <th>AFFX-r2-Ec-bioD-5_at</th>\n      <th>AFFX-r2-P1-cre-3_at</th>\n      <th>AFFX-r2-P1-cre-5_at</th>\n      <th>AFFX-ThrX-3_at</th>\n      <th>AFFX-ThrX-5_at</th>\n      <th>AFFX-ThrX-M_at</th>\n      <th>AFFX-TrpnX-3_at</th>\n      <th>AFFX-TrpnX-5_at</th>\n      <th>AFFX-TrpnX-M_at</th>\n    </tr>\n  </thead>\n  <tbody>\n    <tr>\n      <th>0</th>\n      <td>des_001</td>\n      <td>-0.45925</td>\n      <td>0.057326</td>\n      <td>0.529216</td>\n      <td>0.079541</td>\n      <td>0.330342</td>\n      <td>-0.531871</td>\n      <td>0.153022</td>\n      <td>0.319375</td>\n      <td>-1.616176</td>\n      <td>...</td>\n      <td>-0.292195</td>\n      <td>-0.309975</td>\n      <td>-0.452575</td>\n      <td>-0.51182</td>\n      <td>-0.137902</td>\n      <td>0.103996</td>\n      <td>0.00252</td>\n      <td>0.005663</td>\n      <td>-0.021495</td>\n      <td>0.057514</td>\n    </tr>\n    <tr>\n      <th>1</th>\n      <td>des_002</td>\n      <td>0.09144</td>\n      <td>0.474603</td>\n      <td>0.149211</td>\n      <td>0.012037</td>\n      <td>-0.180168</td>\n      <td>0.037256</td>\n      <td>-0.21036</td>\n      <td>0.106898</td>\n      <td>0.423479</td>\n      <td>...</td>\n      <td>-0.234468</td>\n      <td>-0.111374</td>\n      <td>-0.215928</td>\n      <td>-0.289351</td>\n      <td>-0.100844</td>\n      <td>0.016942</td>\n      <td>-0.334322</td>\n      <td>-0.430126</td>\n      <td>-0.172303</td>\n      <td>-0.177791</td>\n    </tr>\n    <tr>\n      <th>2</th>\n      <td>des_003</td>\n      <td>-0.117059</td>\n      <td>0.011278</td>\n      <td>-0.163298</td>\n      <td>-0.096993</td>\n      <td>0.163056</td>\n      <td>-0.432616</td>\n      <td>0.12983</td>\n      <td>-0.0621</td>\n      <td>-0.530517</td>\n      <td>...</td>\n      <td>0.193887</td>\n      <td>0.146806</td>\n      <td>-0.049949</td>\n      <td>0.01806</td>\n      <td>-0.007516</td>\n      <td>-0.074449</td>\n      <td>0.117141</td>\n      <td>-0.01132</td>\n      <td>0.138411</td>\n      <td>0.060146</td>\n    </tr>\n    <tr>\n      <th>3</th>\n      <td>des_004</td>\n      <td>0.244498</td>\n      <td>0.230887</td>\n      <td>0.024389</td>\n      <td>0.056254</td>\n      <td>-0.105653</td>\n      <td>0.138147</td>\n      <td>0.146261</td>\n      <td>-0.102944</td>\n      <td>2.789089</td>\n      <td>...</td>\n      <td>-0.064498</td>\n      <td>-0.231804</td>\n      <td>-0.311464</td>\n      <td>-0.514315</td>\n      <td>-0.035286</td>\n      <td>0.116376</td>\n      <td>-0.069753</td>\n      <td>-0.109137</td>\n      <td>0.023689</td>\n      <td>-0.062546</td>\n    </tr>\n    <tr>\n      <th>4</th>\n      <td>des_005</td>\n      <td>0.597816</td>\n      <td>-0.020778</td>\n      <td>0.280793</td>\n      <td>-0.109642</td>\n      <td>-0.108637</td>\n      <td>0.945238</td>\n      <td>-0.134037</td>\n      <td>-0.004537</td>\n      <td>-1.287673</td>\n      <td>...</td>\n      <td>-0.263338</td>\n      <td>-0.320511</td>\n      <td>-0.17383</td>\n      <td>-0.226142</td>\n      <td>-0.122679</td>\n      <td>0.043077</td>\n      <td>-0.081087</td>\n      <td>-0.098861</td>\n      <td>0.036391</td>\n      <td>-0.102837</td>\n    </tr>\n    <tr>\n      <th>...</th>\n      <td>...</td>\n      <td>...</td>\n      <td>...</td>\n      <td>...</td>\n      <td>...</td>\n      <td>...</td>\n      <td>...</td>\n      <td>...</td>\n      <td>...</td>\n      <td>...</td>\n      <td>...</td>\n      <td>...</td>\n      <td>...</td>\n      <td>...</td>\n      <td>...</td>\n      <td>...</td>\n      <td>...</td>\n      <td>...</td>\n      <td>...</td>\n      <td>...</td>\n      <td>...</td>\n    </tr>\n    <tr>\n      <th>942</th>\n      <td>chin_119</td>\n      <td>-0.640233</td>\n      <td>-0.271077</td>\n      <td>0.30463</td>\n      <td>0.334862</td>\n      <td>0.075791</td>\n      <td>-0.461465</td>\n      <td>-0.122859</td>\n      <td>-0.048453</td>\n      <td>1.410598</td>\n      <td>...</td>\n      <td>0.007317</td>\n      <td>-0.008341</td>\n      <td>0.13031</td>\n      <td>0.203555</td>\n      <td>0.106453</td>\n      <td>0.067424</td>\n      <td>0.02238</td>\n      <td>0.190458</td>\n      <td>-0.057402</td>\n      <td>0.032339</td>\n    </tr>\n    <tr>\n      <th>943</th>\n      <td>chin_120</td>\n      <td>0.396192</td>\n      <td>-0.081942</td>\n      <td>0.724551</td>\n      <td>0.078856</td>\n      <td>0.206457</td>\n      <td>0.606905</td>\n      <td>0.007627</td>\n      <td>-0.084347</td>\n      <td>-0.019116</td>\n      <td>...</td>\n      <td>0.121743</td>\n      <td>0.109702</td>\n      <td>-0.001127</td>\n      <td>0.106534</td>\n      <td>0.002281</td>\n      <td>0.009794</td>\n      <td>0.063375</td>\n      <td>0.130353</td>\n      <td>-0.129331</td>\n      <td>0.035179</td>\n    </tr>\n    <tr>\n      <th>944</th>\n      <td>chin_121</td>\n      <td>-0.071743</td>\n      <td>-0.452789</td>\n      <td>-0.392097</td>\n      <td>0.912364</td>\n      <td>0.301791</td>\n      <td>-0.039596</td>\n      <td>0.60415</td>\n      <td>0.007106</td>\n      <td>-0.050289</td>\n      <td>...</td>\n      <td>0.261208</td>\n      <td>0.362515</td>\n      <td>0.0951</td>\n      <td>0.119127</td>\n      <td>0.066299</td>\n      <td>0.28292</td>\n      <td>0.29332</td>\n      <td>0.107681</td>\n      <td>0.138101</td>\n      <td>0.400034</td>\n    </tr>\n    <tr>\n      <th>945</th>\n      <td>chin_122</td>\n      <td>-0.363812</td>\n      <td>0.316862</td>\n      <td>0.611968</td>\n      <td>-0.000135</td>\n      <td>0.233434</td>\n      <td>0.598696</td>\n      <td>-0.028098</td>\n      <td>0.225085</td>\n      <td>0.024493</td>\n      <td>...</td>\n      <td>-0.213411</td>\n      <td>-0.121106</td>\n      <td>-0.017685</td>\n      <td>0.012318</td>\n      <td>0.240811</td>\n      <td>0.246111</td>\n      <td>0.15902</td>\n      <td>0.108631</td>\n      <td>0.087742</td>\n      <td>0.249185</td>\n    </tr>\n    <tr>\n      <th>946</th>\n      <td>chin_123</td>\n      <td>-0.450985</td>\n      <td>-0.252576</td>\n      <td>0.383572</td>\n      <td>0.489546</td>\n      <td>0.124802</td>\n      <td>-0.178155</td>\n      <td>0.016169</td>\n      <td>0.164103</td>\n      <td>1.616521</td>\n      <td>...</td>\n      <td>-0.015176</td>\n      <td>-0.048623</td>\n      <td>-0.077163</td>\n      <td>-0.114703</td>\n      <td>0.166479</td>\n      <td>0.21106</td>\n      <td>0.277077</td>\n      <td>0.157889</td>\n      <td>0.102973</td>\n      <td>0.272345</td>\n    </tr>\n  </tbody>\n</table>\n<p>947 rows × 22269 columns</p>\n</div>"
     },
     "execution_count": 5,
     "metadata": {},
     "output_type": "execute_result"
    }
   ],
   "source": [
    "affy_gen_df_transposed = affy_gen_df.T\n",
    "# Set the first row as the header\n",
    "new_header = affy_gen_df_transposed.iloc[0]  # Take the first row for the header\n",
    "affy_gen_df_transposed = affy_gen_df_transposed[1:]  # Take the data less the header row\n",
    "affy_gen_df_transposed.columns = new_header\n",
    "\n",
    "affy_gen_df_transposed_reset = affy_gen_df_transposed.reset_index()\n",
    "affy_gen_df_transposed_reset"
   ],
   "metadata": {
    "collapsed": false,
    "ExecuteTime": {
     "start_time": "2024-03-03T00:58:15.897525Z",
     "end_time": "2024-03-03T00:58:17.661085Z"
    }
   }
  },
  {
   "cell_type": "code",
   "execution_count": 14,
   "outputs": [
    {
     "data": {
      "text/plain": "gene     index     1-Dec     1-Mar    10-Sep    11-Sep    15-Sep     2-Mar  \\\n0      des_001  0.080707  0.126767  0.681787 -0.107245  0.383370 -0.077458   \n1      des_002 -0.144498  0.249914 -0.669134 -0.507407  0.091756 -0.191485   \n2      des_003  0.053662 -0.217517  0.072756  0.088203  0.184783 -0.383735   \n3      des_004  0.043225  0.082784 -1.323946 -0.480760 -0.184404 -0.013510   \n4      des_005 -0.153122 -0.236232 -1.111532 -0.346052 -0.300368  0.347333   \n..         ...       ...       ...       ...       ...       ...       ...   \n942   chin_119  0.092185  0.275988 -0.607323 -0.329327 -0.183692 -0.527846   \n943   chin_120  0.067500  0.234737 -1.013198  0.006865  0.000969 -0.594941   \n944   chin_121  0.273030 -0.111077 -0.411176  0.098484 -0.544073 -0.275005   \n945   chin_122  0.107638 -0.006313  0.261992 -0.041633 -0.428076  0.219114   \n946   chin_123  0.372270  0.554239 -0.380183 -0.185645 -0.972438  0.654990   \n\ngene     2-Sep     3-Mar     4-Sep  ...      ZW10    ZWILCH     ZWINT  \\\n0    -0.129928 -0.292774 -0.268399  ... -0.044566 -0.646096  0.299383   \n1     0.091292  0.118621 -0.270015  ... -0.237177  0.365768  1.281030   \n2     0.291033  0.945899  0.087150  ... -0.266053  0.673942 -0.657683   \n3    -0.015894  0.281216 -0.022243  ... -0.308532 -0.469163  0.336068   \n4    -0.248380  1.111571  0.014610  ... -0.221240 -0.167294  0.027907   \n..         ...       ...       ...  ...       ...       ...       ...   \n942   0.212432  0.024914  0.113254  ... -0.037116 -0.228817  0.944593   \n943  -0.405614 -0.496628  0.041371  ...  0.037221 -0.896951 -0.468928   \n944  -0.184213 -0.281804  0.255874  ...  0.095100  0.059252 -0.141053   \n945  -0.245052  0.011690  0.167823  ... -0.005773 -0.403308 -0.244118   \n946  -0.354755  0.342113  0.004771  ... -0.003923 -0.067459 -0.233662   \n\ngene      ZXDA      ZXDB      ZXDC       ZYX     ZZEF1      ZZZ3   abParts  \n0     0.246231  0.250708 -0.405175  0.495197 -0.179264  1.062711 -0.935563  \n1    -0.209219 -0.244859  0.570790 -0.623655  0.100728 -0.627032  1.406080  \n2    -0.297079 -0.043282 -0.098968  0.399191 -0.245050 -0.125536  1.138263  \n3     0.259476  0.102245  0.076977 -0.314101  0.086247 -0.714192  1.452193  \n4     0.082342  0.213956  0.300887  0.382069  0.101864 -0.800811 -0.772994  \n..         ...       ...       ...       ...       ...       ...       ...  \n942   0.225527 -0.097065 -0.181808 -0.380657 -0.115709 -0.246299  0.950697  \n943  -0.080080  0.031021  0.832429 -0.302434 -0.160284 -0.549442 -0.524765  \n944   0.242307  0.113553 -0.313916  0.072109  0.081729 -0.260302 -0.670864  \n945   0.305542  0.075446  0.677694 -0.517645  0.184526 -0.074965 -0.674244  \n946   0.183295  0.001457  0.001798 -0.567315  0.152645 -0.997686  2.362153  \n\n[947 rows x 13236 columns]",
      "text/html": "<div>\n<style scoped>\n    .dataframe tbody tr th:only-of-type {\n        vertical-align: middle;\n    }\n\n    .dataframe tbody tr th {\n        vertical-align: top;\n    }\n\n    .dataframe thead th {\n        text-align: right;\n    }\n</style>\n<table border=\"1\" class=\"dataframe\">\n  <thead>\n    <tr style=\"text-align: right;\">\n      <th>gene</th>\n      <th>index</th>\n      <th>1-Dec</th>\n      <th>1-Mar</th>\n      <th>10-Sep</th>\n      <th>11-Sep</th>\n      <th>15-Sep</th>\n      <th>2-Mar</th>\n      <th>2-Sep</th>\n      <th>3-Mar</th>\n      <th>4-Sep</th>\n      <th>...</th>\n      <th>ZW10</th>\n      <th>ZWILCH</th>\n      <th>ZWINT</th>\n      <th>ZXDA</th>\n      <th>ZXDB</th>\n      <th>ZXDC</th>\n      <th>ZYX</th>\n      <th>ZZEF1</th>\n      <th>ZZZ3</th>\n      <th>abParts</th>\n    </tr>\n  </thead>\n  <tbody>\n    <tr>\n      <th>0</th>\n      <td>des_001</td>\n      <td>0.080707</td>\n      <td>0.126767</td>\n      <td>0.681787</td>\n      <td>-0.107245</td>\n      <td>0.383370</td>\n      <td>-0.077458</td>\n      <td>-0.129928</td>\n      <td>-0.292774</td>\n      <td>-0.268399</td>\n      <td>...</td>\n      <td>-0.044566</td>\n      <td>-0.646096</td>\n      <td>0.299383</td>\n      <td>0.246231</td>\n      <td>0.250708</td>\n      <td>-0.405175</td>\n      <td>0.495197</td>\n      <td>-0.179264</td>\n      <td>1.062711</td>\n      <td>-0.935563</td>\n    </tr>\n    <tr>\n      <th>1</th>\n      <td>des_002</td>\n      <td>-0.144498</td>\n      <td>0.249914</td>\n      <td>-0.669134</td>\n      <td>-0.507407</td>\n      <td>0.091756</td>\n      <td>-0.191485</td>\n      <td>0.091292</td>\n      <td>0.118621</td>\n      <td>-0.270015</td>\n      <td>...</td>\n      <td>-0.237177</td>\n      <td>0.365768</td>\n      <td>1.281030</td>\n      <td>-0.209219</td>\n      <td>-0.244859</td>\n      <td>0.570790</td>\n      <td>-0.623655</td>\n      <td>0.100728</td>\n      <td>-0.627032</td>\n      <td>1.406080</td>\n    </tr>\n    <tr>\n      <th>2</th>\n      <td>des_003</td>\n      <td>0.053662</td>\n      <td>-0.217517</td>\n      <td>0.072756</td>\n      <td>0.088203</td>\n      <td>0.184783</td>\n      <td>-0.383735</td>\n      <td>0.291033</td>\n      <td>0.945899</td>\n      <td>0.087150</td>\n      <td>...</td>\n      <td>-0.266053</td>\n      <td>0.673942</td>\n      <td>-0.657683</td>\n      <td>-0.297079</td>\n      <td>-0.043282</td>\n      <td>-0.098968</td>\n      <td>0.399191</td>\n      <td>-0.245050</td>\n      <td>-0.125536</td>\n      <td>1.138263</td>\n    </tr>\n    <tr>\n      <th>3</th>\n      <td>des_004</td>\n      <td>0.043225</td>\n      <td>0.082784</td>\n      <td>-1.323946</td>\n      <td>-0.480760</td>\n      <td>-0.184404</td>\n      <td>-0.013510</td>\n      <td>-0.015894</td>\n      <td>0.281216</td>\n      <td>-0.022243</td>\n      <td>...</td>\n      <td>-0.308532</td>\n      <td>-0.469163</td>\n      <td>0.336068</td>\n      <td>0.259476</td>\n      <td>0.102245</td>\n      <td>0.076977</td>\n      <td>-0.314101</td>\n      <td>0.086247</td>\n      <td>-0.714192</td>\n      <td>1.452193</td>\n    </tr>\n    <tr>\n      <th>4</th>\n      <td>des_005</td>\n      <td>-0.153122</td>\n      <td>-0.236232</td>\n      <td>-1.111532</td>\n      <td>-0.346052</td>\n      <td>-0.300368</td>\n      <td>0.347333</td>\n      <td>-0.248380</td>\n      <td>1.111571</td>\n      <td>0.014610</td>\n      <td>...</td>\n      <td>-0.221240</td>\n      <td>-0.167294</td>\n      <td>0.027907</td>\n      <td>0.082342</td>\n      <td>0.213956</td>\n      <td>0.300887</td>\n      <td>0.382069</td>\n      <td>0.101864</td>\n      <td>-0.800811</td>\n      <td>-0.772994</td>\n    </tr>\n    <tr>\n      <th>...</th>\n      <td>...</td>\n      <td>...</td>\n      <td>...</td>\n      <td>...</td>\n      <td>...</td>\n      <td>...</td>\n      <td>...</td>\n      <td>...</td>\n      <td>...</td>\n      <td>...</td>\n      <td>...</td>\n      <td>...</td>\n      <td>...</td>\n      <td>...</td>\n      <td>...</td>\n      <td>...</td>\n      <td>...</td>\n      <td>...</td>\n      <td>...</td>\n      <td>...</td>\n      <td>...</td>\n    </tr>\n    <tr>\n      <th>942</th>\n      <td>chin_119</td>\n      <td>0.092185</td>\n      <td>0.275988</td>\n      <td>-0.607323</td>\n      <td>-0.329327</td>\n      <td>-0.183692</td>\n      <td>-0.527846</td>\n      <td>0.212432</td>\n      <td>0.024914</td>\n      <td>0.113254</td>\n      <td>...</td>\n      <td>-0.037116</td>\n      <td>-0.228817</td>\n      <td>0.944593</td>\n      <td>0.225527</td>\n      <td>-0.097065</td>\n      <td>-0.181808</td>\n      <td>-0.380657</td>\n      <td>-0.115709</td>\n      <td>-0.246299</td>\n      <td>0.950697</td>\n    </tr>\n    <tr>\n      <th>943</th>\n      <td>chin_120</td>\n      <td>0.067500</td>\n      <td>0.234737</td>\n      <td>-1.013198</td>\n      <td>0.006865</td>\n      <td>0.000969</td>\n      <td>-0.594941</td>\n      <td>-0.405614</td>\n      <td>-0.496628</td>\n      <td>0.041371</td>\n      <td>...</td>\n      <td>0.037221</td>\n      <td>-0.896951</td>\n      <td>-0.468928</td>\n      <td>-0.080080</td>\n      <td>0.031021</td>\n      <td>0.832429</td>\n      <td>-0.302434</td>\n      <td>-0.160284</td>\n      <td>-0.549442</td>\n      <td>-0.524765</td>\n    </tr>\n    <tr>\n      <th>944</th>\n      <td>chin_121</td>\n      <td>0.273030</td>\n      <td>-0.111077</td>\n      <td>-0.411176</td>\n      <td>0.098484</td>\n      <td>-0.544073</td>\n      <td>-0.275005</td>\n      <td>-0.184213</td>\n      <td>-0.281804</td>\n      <td>0.255874</td>\n      <td>...</td>\n      <td>0.095100</td>\n      <td>0.059252</td>\n      <td>-0.141053</td>\n      <td>0.242307</td>\n      <td>0.113553</td>\n      <td>-0.313916</td>\n      <td>0.072109</td>\n      <td>0.081729</td>\n      <td>-0.260302</td>\n      <td>-0.670864</td>\n    </tr>\n    <tr>\n      <th>945</th>\n      <td>chin_122</td>\n      <td>0.107638</td>\n      <td>-0.006313</td>\n      <td>0.261992</td>\n      <td>-0.041633</td>\n      <td>-0.428076</td>\n      <td>0.219114</td>\n      <td>-0.245052</td>\n      <td>0.011690</td>\n      <td>0.167823</td>\n      <td>...</td>\n      <td>-0.005773</td>\n      <td>-0.403308</td>\n      <td>-0.244118</td>\n      <td>0.305542</td>\n      <td>0.075446</td>\n      <td>0.677694</td>\n      <td>-0.517645</td>\n      <td>0.184526</td>\n      <td>-0.074965</td>\n      <td>-0.674244</td>\n    </tr>\n    <tr>\n      <th>946</th>\n      <td>chin_123</td>\n      <td>0.372270</td>\n      <td>0.554239</td>\n      <td>-0.380183</td>\n      <td>-0.185645</td>\n      <td>-0.972438</td>\n      <td>0.654990</td>\n      <td>-0.354755</td>\n      <td>0.342113</td>\n      <td>0.004771</td>\n      <td>...</td>\n      <td>-0.003923</td>\n      <td>-0.067459</td>\n      <td>-0.233662</td>\n      <td>0.183295</td>\n      <td>0.001457</td>\n      <td>0.001798</td>\n      <td>-0.567315</td>\n      <td>0.152645</td>\n      <td>-0.997686</td>\n      <td>2.362153</td>\n    </tr>\n  </tbody>\n</table>\n<p>947 rows × 13236 columns</p>\n</div>"
     },
     "execution_count": 14,
     "metadata": {},
     "output_type": "execute_result"
    }
   ],
   "source": [
    "# Transposing 'merged_df'\n",
    "transposed_df = merged_df.T\n",
    "\n",
    "# Renaming the index column to 'Unnamed: 0'\n",
    "transposed_df.index.name = 'index'\n",
    "\n",
    "# Resetting index from 0\n",
    "reset_index_df = transposed_df.reset_index()\n",
    "reset_index_df"
   ],
   "metadata": {
    "collapsed": false,
    "ExecuteTime": {
     "start_time": "2024-03-03T00:58:49.729101Z",
     "end_time": "2024-03-03T00:58:49.858754Z"
    }
   }
  },
  {
   "cell_type": "code",
   "execution_count": 2,
   "outputs": [
    {
     "data": {
      "text/plain": "    Unnamed: 0                Arrays_ID     Sample_ID    set_1 set_2   Age  \\\n0      des_001                GSM177885  VDXGUYU_4002  desmedt   GUY  57.0   \n1      des_002                GSM177886  VDXGUYU_4008  desmedt   GUY  57.0   \n2      des_003                GSM177887  VDXGUYU_4011  desmedt   GUY  48.0   \n3      des_004                GSM177888  VDXGUYU_4014  desmedt   GUY  42.0   \n4      des_005                GSM177889  VDXGUYU_4022  desmedt   GUY  46.0   \n..         ...                      ...           ...      ...   ...   ...   \n942   chin_119  LBL_POP_W405609.H07.CEL         b0494     chin  chin  44.0   \n943   chin_120  LBL_POP_W405609.H08.CEL         s0019     chin  chin  35.0   \n944   chin_121  LBL_POP_W405609.H09.CEL         s0059     chin  chin  35.0   \n945   chin_122  LBL_POP_W405609.H10.CEL         s0103     chin  chin  59.0   \n946   chin_123  LBL_POP_W405609.H11.CEL         s0177     chin  chin  71.0   \n\n          t_rfs  e_rfs      t_dmfs  e_dmfs  ...  DMFS_month  DMFS_year  \\\n0     23.322581    1.0   23.322581     1.0  ...   23.322581   1.943548   \n1      5.903226    1.0  212.612903     0.0  ...  212.612903  17.717742   \n2     16.903226    1.0   16.903226     1.0  ...   16.903226   1.408602   \n3     70.709677    1.0  201.774193     1.0  ...  201.774193  16.814516   \n4    123.290323    1.0  123.290323     1.0  ...  123.290323  10.274194   \n..          ...    ...         ...     ...  ...         ...        ...   \n942  102.360000    0.0  102.360000     0.0  ...  102.360000   8.530000   \n943   83.280000    0.0   83.280000     0.0  ...   83.280000   6.940000   \n944   25.800000    1.0   25.800000     1.0  ...   25.800000   2.150000   \n945  119.280000    0.0  119.280000     0.0  ...  119.280000   9.940000   \n946   36.120000    1.0   36.120000     0.0  ...   36.120000   3.010000   \n\n        DMFS_day  DMFS    OS_month    OS_year       OS_day   OS    sample  \\\n0     699.677420   1.0   30.225806   2.518817   906.774194  1.0   des_001   \n1    6378.387096   0.0  212.612903  17.717742  6378.387096  0.0   des_002   \n2     507.096774   1.0   29.741935   2.478495   892.258064  1.0   des_003   \n3    6053.225805   1.0  201.774193  16.814516  6053.225805  1.0   des_004   \n4    3698.709678   1.0  133.322581  11.110215  3999.677418  1.0   des_005   \n..           ...   ...         ...        ...          ...  ...       ...   \n942  3070.800000   0.0  102.360000   8.530000  3070.800000  0.0  chin_119   \n943  2498.400000   0.0   83.280000   6.940000  2498.400000  0.0  chin_120   \n944   774.000000   1.0   30.240000   2.520000   907.200000  1.0  chin_121   \n945  3578.400000   0.0  119.280000   9.940000  3578.400000  0.0  chin_122   \n946  1083.600000   0.0   36.120000   3.010000  1083.600000  1.0  chin_123   \n\n     Subtype_PAM50  \n0             Her2  \n1             LumB  \n2            Basal  \n3             LumB  \n4             LumB  \n..             ...  \n942          Basal  \n943           LumB  \n944           Her2  \n945           LumB  \n946           LumA  \n\n[947 rows x 81 columns]",
      "text/html": "<div>\n<style scoped>\n    .dataframe tbody tr th:only-of-type {\n        vertical-align: middle;\n    }\n\n    .dataframe tbody tr th {\n        vertical-align: top;\n    }\n\n    .dataframe thead th {\n        text-align: right;\n    }\n</style>\n<table border=\"1\" class=\"dataframe\">\n  <thead>\n    <tr style=\"text-align: right;\">\n      <th></th>\n      <th>Unnamed: 0</th>\n      <th>Arrays_ID</th>\n      <th>Sample_ID</th>\n      <th>set_1</th>\n      <th>set_2</th>\n      <th>Age</th>\n      <th>t_rfs</th>\n      <th>e_rfs</th>\n      <th>t_dmfs</th>\n      <th>e_dmfs</th>\n      <th>...</th>\n      <th>DMFS_month</th>\n      <th>DMFS_year</th>\n      <th>DMFS_day</th>\n      <th>DMFS</th>\n      <th>OS_month</th>\n      <th>OS_year</th>\n      <th>OS_day</th>\n      <th>OS</th>\n      <th>sample</th>\n      <th>Subtype_PAM50</th>\n    </tr>\n  </thead>\n  <tbody>\n    <tr>\n      <th>0</th>\n      <td>des_001</td>\n      <td>GSM177885</td>\n      <td>VDXGUYU_4002</td>\n      <td>desmedt</td>\n      <td>GUY</td>\n      <td>57.0</td>\n      <td>23.322581</td>\n      <td>1.0</td>\n      <td>23.322581</td>\n      <td>1.0</td>\n      <td>...</td>\n      <td>23.322581</td>\n      <td>1.943548</td>\n      <td>699.677420</td>\n      <td>1.0</td>\n      <td>30.225806</td>\n      <td>2.518817</td>\n      <td>906.774194</td>\n      <td>1.0</td>\n      <td>des_001</td>\n      <td>Her2</td>\n    </tr>\n    <tr>\n      <th>1</th>\n      <td>des_002</td>\n      <td>GSM177886</td>\n      <td>VDXGUYU_4008</td>\n      <td>desmedt</td>\n      <td>GUY</td>\n      <td>57.0</td>\n      <td>5.903226</td>\n      <td>1.0</td>\n      <td>212.612903</td>\n      <td>0.0</td>\n      <td>...</td>\n      <td>212.612903</td>\n      <td>17.717742</td>\n      <td>6378.387096</td>\n      <td>0.0</td>\n      <td>212.612903</td>\n      <td>17.717742</td>\n      <td>6378.387096</td>\n      <td>0.0</td>\n      <td>des_002</td>\n      <td>LumB</td>\n    </tr>\n    <tr>\n      <th>2</th>\n      <td>des_003</td>\n      <td>GSM177887</td>\n      <td>VDXGUYU_4011</td>\n      <td>desmedt</td>\n      <td>GUY</td>\n      <td>48.0</td>\n      <td>16.903226</td>\n      <td>1.0</td>\n      <td>16.903226</td>\n      <td>1.0</td>\n      <td>...</td>\n      <td>16.903226</td>\n      <td>1.408602</td>\n      <td>507.096774</td>\n      <td>1.0</td>\n      <td>29.741935</td>\n      <td>2.478495</td>\n      <td>892.258064</td>\n      <td>1.0</td>\n      <td>des_003</td>\n      <td>Basal</td>\n    </tr>\n    <tr>\n      <th>3</th>\n      <td>des_004</td>\n      <td>GSM177888</td>\n      <td>VDXGUYU_4014</td>\n      <td>desmedt</td>\n      <td>GUY</td>\n      <td>42.0</td>\n      <td>70.709677</td>\n      <td>1.0</td>\n      <td>201.774193</td>\n      <td>1.0</td>\n      <td>...</td>\n      <td>201.774193</td>\n      <td>16.814516</td>\n      <td>6053.225805</td>\n      <td>1.0</td>\n      <td>201.774193</td>\n      <td>16.814516</td>\n      <td>6053.225805</td>\n      <td>1.0</td>\n      <td>des_004</td>\n      <td>LumB</td>\n    </tr>\n    <tr>\n      <th>4</th>\n      <td>des_005</td>\n      <td>GSM177889</td>\n      <td>VDXGUYU_4022</td>\n      <td>desmedt</td>\n      <td>GUY</td>\n      <td>46.0</td>\n      <td>123.290323</td>\n      <td>1.0</td>\n      <td>123.290323</td>\n      <td>1.0</td>\n      <td>...</td>\n      <td>123.290323</td>\n      <td>10.274194</td>\n      <td>3698.709678</td>\n      <td>1.0</td>\n      <td>133.322581</td>\n      <td>11.110215</td>\n      <td>3999.677418</td>\n      <td>1.0</td>\n      <td>des_005</td>\n      <td>LumB</td>\n    </tr>\n    <tr>\n      <th>...</th>\n      <td>...</td>\n      <td>...</td>\n      <td>...</td>\n      <td>...</td>\n      <td>...</td>\n      <td>...</td>\n      <td>...</td>\n      <td>...</td>\n      <td>...</td>\n      <td>...</td>\n      <td>...</td>\n      <td>...</td>\n      <td>...</td>\n      <td>...</td>\n      <td>...</td>\n      <td>...</td>\n      <td>...</td>\n      <td>...</td>\n      <td>...</td>\n      <td>...</td>\n      <td>...</td>\n    </tr>\n    <tr>\n      <th>942</th>\n      <td>chin_119</td>\n      <td>LBL_POP_W405609.H07.CEL</td>\n      <td>b0494</td>\n      <td>chin</td>\n      <td>chin</td>\n      <td>44.0</td>\n      <td>102.360000</td>\n      <td>0.0</td>\n      <td>102.360000</td>\n      <td>0.0</td>\n      <td>...</td>\n      <td>102.360000</td>\n      <td>8.530000</td>\n      <td>3070.800000</td>\n      <td>0.0</td>\n      <td>102.360000</td>\n      <td>8.530000</td>\n      <td>3070.800000</td>\n      <td>0.0</td>\n      <td>chin_119</td>\n      <td>Basal</td>\n    </tr>\n    <tr>\n      <th>943</th>\n      <td>chin_120</td>\n      <td>LBL_POP_W405609.H08.CEL</td>\n      <td>s0019</td>\n      <td>chin</td>\n      <td>chin</td>\n      <td>35.0</td>\n      <td>83.280000</td>\n      <td>0.0</td>\n      <td>83.280000</td>\n      <td>0.0</td>\n      <td>...</td>\n      <td>83.280000</td>\n      <td>6.940000</td>\n      <td>2498.400000</td>\n      <td>0.0</td>\n      <td>83.280000</td>\n      <td>6.940000</td>\n      <td>2498.400000</td>\n      <td>0.0</td>\n      <td>chin_120</td>\n      <td>LumB</td>\n    </tr>\n    <tr>\n      <th>944</th>\n      <td>chin_121</td>\n      <td>LBL_POP_W405609.H09.CEL</td>\n      <td>s0059</td>\n      <td>chin</td>\n      <td>chin</td>\n      <td>35.0</td>\n      <td>25.800000</td>\n      <td>1.0</td>\n      <td>25.800000</td>\n      <td>1.0</td>\n      <td>...</td>\n      <td>25.800000</td>\n      <td>2.150000</td>\n      <td>774.000000</td>\n      <td>1.0</td>\n      <td>30.240000</td>\n      <td>2.520000</td>\n      <td>907.200000</td>\n      <td>1.0</td>\n      <td>chin_121</td>\n      <td>Her2</td>\n    </tr>\n    <tr>\n      <th>945</th>\n      <td>chin_122</td>\n      <td>LBL_POP_W405609.H10.CEL</td>\n      <td>s0103</td>\n      <td>chin</td>\n      <td>chin</td>\n      <td>59.0</td>\n      <td>119.280000</td>\n      <td>0.0</td>\n      <td>119.280000</td>\n      <td>0.0</td>\n      <td>...</td>\n      <td>119.280000</td>\n      <td>9.940000</td>\n      <td>3578.400000</td>\n      <td>0.0</td>\n      <td>119.280000</td>\n      <td>9.940000</td>\n      <td>3578.400000</td>\n      <td>0.0</td>\n      <td>chin_122</td>\n      <td>LumB</td>\n    </tr>\n    <tr>\n      <th>946</th>\n      <td>chin_123</td>\n      <td>LBL_POP_W405609.H11.CEL</td>\n      <td>s0177</td>\n      <td>chin</td>\n      <td>chin</td>\n      <td>71.0</td>\n      <td>36.120000</td>\n      <td>1.0</td>\n      <td>36.120000</td>\n      <td>0.0</td>\n      <td>...</td>\n      <td>36.120000</td>\n      <td>3.010000</td>\n      <td>1083.600000</td>\n      <td>0.0</td>\n      <td>36.120000</td>\n      <td>3.010000</td>\n      <td>1083.600000</td>\n      <td>1.0</td>\n      <td>chin_123</td>\n      <td>LumA</td>\n    </tr>\n  </tbody>\n</table>\n<p>947 rows × 81 columns</p>\n</div>"
     },
     "execution_count": 2,
     "metadata": {},
     "output_type": "execute_result"
    }
   ],
   "source": [
    "affy_cl_df"
   ],
   "metadata": {
    "collapsed": false,
    "ExecuteTime": {
     "start_time": "2024-03-03T00:56:20.023380Z",
     "end_time": "2024-03-03T00:56:20.071196Z"
    }
   }
  },
  {
   "cell_type": "code",
   "execution_count": 15,
   "outputs": [
    {
     "data": {
      "text/plain": "    Unnamed: 0  PFI      PFItime gen_id  predicted_label  index     1-Dec  \\\n0      des_001  1.0   699.677420   BRCA                0    0.0  0.080707   \n1      des_002  0.0  6378.387096   BRCA                0    1.0 -0.144498   \n2      des_003  1.0   507.096774   BRCA                0    0.0  0.053662   \n3      des_004  1.0  6053.225805   BRCA                0    1.0  0.043225   \n4      des_005  1.0  3698.709678   BRCA                0    1.0 -0.153122   \n..         ...  ...          ...    ...              ...    ...       ...   \n942   chin_119  0.0  3070.800000   BRCA                0    0.0  0.092185   \n943   chin_120  0.0  2498.400000   BRCA                0    1.0  0.067500   \n944   chin_121  1.0   774.000000   BRCA                0    1.0  0.273030   \n945   chin_122  0.0  3578.400000   BRCA                0    1.0  0.107638   \n946   chin_123  0.0  1083.600000   BRCA                0    1.0  0.372270   \n\n        1-Mar    10-Sep    11-Sep  ...      ZW10    ZWILCH     ZWINT  \\\n0    0.126767  0.681787 -0.107245  ... -0.044566 -0.646096  0.299383   \n1    0.249914 -0.669134 -0.507407  ... -0.237177  0.365768  1.281030   \n2   -0.217517  0.072756  0.088203  ... -0.266053  0.673942 -0.657683   \n3    0.082784 -1.323946 -0.480760  ... -0.308532 -0.469163  0.336068   \n4   -0.236232 -1.111532 -0.346052  ... -0.221240 -0.167294  0.027907   \n..        ...       ...       ...  ...       ...       ...       ...   \n942  0.275988 -0.607323 -0.329327  ... -0.037116 -0.228817  0.944593   \n943  0.234737 -1.013198  0.006865  ...  0.037221 -0.896951 -0.468928   \n944 -0.111077 -0.411176  0.098484  ...  0.095100  0.059252 -0.141053   \n945 -0.006313  0.261992 -0.041633  ... -0.005773 -0.403308 -0.244118   \n946  0.554239 -0.380183 -0.185645  ... -0.003923 -0.067459 -0.233662   \n\n         ZXDA      ZXDB      ZXDC       ZYX     ZZEF1      ZZZ3   abParts  \n0    0.246231  0.250708 -0.405175  0.495197 -0.179264  1.062711 -0.935563  \n1   -0.209219 -0.244859  0.570790 -0.623655  0.100728 -0.627032  1.406080  \n2   -0.297079 -0.043282 -0.098968  0.399191 -0.245050 -0.125536  1.138263  \n3    0.259476  0.102245  0.076977 -0.314101  0.086247 -0.714192  1.452193  \n4    0.082342  0.213956  0.300887  0.382069  0.101864 -0.800811 -0.772994  \n..        ...       ...       ...       ...       ...       ...       ...  \n942  0.225527 -0.097065 -0.181808 -0.380657 -0.115709 -0.246299  0.950697  \n943 -0.080080  0.031021  0.832429 -0.302434 -0.160284 -0.549442 -0.524765  \n944  0.242307  0.113553 -0.313916  0.072109  0.081729 -0.260302 -0.670864  \n945  0.305542  0.075446  0.677694 -0.517645  0.184526 -0.074965 -0.674244  \n946  0.183295  0.001457  0.001798 -0.567315  0.152645 -0.997686  2.362153  \n\n[947 rows x 13241 columns]",
      "text/html": "<div>\n<style scoped>\n    .dataframe tbody tr th:only-of-type {\n        vertical-align: middle;\n    }\n\n    .dataframe tbody tr th {\n        vertical-align: top;\n    }\n\n    .dataframe thead th {\n        text-align: right;\n    }\n</style>\n<table border=\"1\" class=\"dataframe\">\n  <thead>\n    <tr style=\"text-align: right;\">\n      <th></th>\n      <th>Unnamed: 0</th>\n      <th>PFI</th>\n      <th>PFItime</th>\n      <th>gen_id</th>\n      <th>predicted_label</th>\n      <th>index</th>\n      <th>1-Dec</th>\n      <th>1-Mar</th>\n      <th>10-Sep</th>\n      <th>11-Sep</th>\n      <th>...</th>\n      <th>ZW10</th>\n      <th>ZWILCH</th>\n      <th>ZWINT</th>\n      <th>ZXDA</th>\n      <th>ZXDB</th>\n      <th>ZXDC</th>\n      <th>ZYX</th>\n      <th>ZZEF1</th>\n      <th>ZZZ3</th>\n      <th>abParts</th>\n    </tr>\n  </thead>\n  <tbody>\n    <tr>\n      <th>0</th>\n      <td>des_001</td>\n      <td>1.0</td>\n      <td>699.677420</td>\n      <td>BRCA</td>\n      <td>0</td>\n      <td>0.0</td>\n      <td>0.080707</td>\n      <td>0.126767</td>\n      <td>0.681787</td>\n      <td>-0.107245</td>\n      <td>...</td>\n      <td>-0.044566</td>\n      <td>-0.646096</td>\n      <td>0.299383</td>\n      <td>0.246231</td>\n      <td>0.250708</td>\n      <td>-0.405175</td>\n      <td>0.495197</td>\n      <td>-0.179264</td>\n      <td>1.062711</td>\n      <td>-0.935563</td>\n    </tr>\n    <tr>\n      <th>1</th>\n      <td>des_002</td>\n      <td>0.0</td>\n      <td>6378.387096</td>\n      <td>BRCA</td>\n      <td>0</td>\n      <td>1.0</td>\n      <td>-0.144498</td>\n      <td>0.249914</td>\n      <td>-0.669134</td>\n      <td>-0.507407</td>\n      <td>...</td>\n      <td>-0.237177</td>\n      <td>0.365768</td>\n      <td>1.281030</td>\n      <td>-0.209219</td>\n      <td>-0.244859</td>\n      <td>0.570790</td>\n      <td>-0.623655</td>\n      <td>0.100728</td>\n      <td>-0.627032</td>\n      <td>1.406080</td>\n    </tr>\n    <tr>\n      <th>2</th>\n      <td>des_003</td>\n      <td>1.0</td>\n      <td>507.096774</td>\n      <td>BRCA</td>\n      <td>0</td>\n      <td>0.0</td>\n      <td>0.053662</td>\n      <td>-0.217517</td>\n      <td>0.072756</td>\n      <td>0.088203</td>\n      <td>...</td>\n      <td>-0.266053</td>\n      <td>0.673942</td>\n      <td>-0.657683</td>\n      <td>-0.297079</td>\n      <td>-0.043282</td>\n      <td>-0.098968</td>\n      <td>0.399191</td>\n      <td>-0.245050</td>\n      <td>-0.125536</td>\n      <td>1.138263</td>\n    </tr>\n    <tr>\n      <th>3</th>\n      <td>des_004</td>\n      <td>1.0</td>\n      <td>6053.225805</td>\n      <td>BRCA</td>\n      <td>0</td>\n      <td>1.0</td>\n      <td>0.043225</td>\n      <td>0.082784</td>\n      <td>-1.323946</td>\n      <td>-0.480760</td>\n      <td>...</td>\n      <td>-0.308532</td>\n      <td>-0.469163</td>\n      <td>0.336068</td>\n      <td>0.259476</td>\n      <td>0.102245</td>\n      <td>0.076977</td>\n      <td>-0.314101</td>\n      <td>0.086247</td>\n      <td>-0.714192</td>\n      <td>1.452193</td>\n    </tr>\n    <tr>\n      <th>4</th>\n      <td>des_005</td>\n      <td>1.0</td>\n      <td>3698.709678</td>\n      <td>BRCA</td>\n      <td>0</td>\n      <td>1.0</td>\n      <td>-0.153122</td>\n      <td>-0.236232</td>\n      <td>-1.111532</td>\n      <td>-0.346052</td>\n      <td>...</td>\n      <td>-0.221240</td>\n      <td>-0.167294</td>\n      <td>0.027907</td>\n      <td>0.082342</td>\n      <td>0.213956</td>\n      <td>0.300887</td>\n      <td>0.382069</td>\n      <td>0.101864</td>\n      <td>-0.800811</td>\n      <td>-0.772994</td>\n    </tr>\n    <tr>\n      <th>...</th>\n      <td>...</td>\n      <td>...</td>\n      <td>...</td>\n      <td>...</td>\n      <td>...</td>\n      <td>...</td>\n      <td>...</td>\n      <td>...</td>\n      <td>...</td>\n      <td>...</td>\n      <td>...</td>\n      <td>...</td>\n      <td>...</td>\n      <td>...</td>\n      <td>...</td>\n      <td>...</td>\n      <td>...</td>\n      <td>...</td>\n      <td>...</td>\n      <td>...</td>\n      <td>...</td>\n    </tr>\n    <tr>\n      <th>942</th>\n      <td>chin_119</td>\n      <td>0.0</td>\n      <td>3070.800000</td>\n      <td>BRCA</td>\n      <td>0</td>\n      <td>0.0</td>\n      <td>0.092185</td>\n      <td>0.275988</td>\n      <td>-0.607323</td>\n      <td>-0.329327</td>\n      <td>...</td>\n      <td>-0.037116</td>\n      <td>-0.228817</td>\n      <td>0.944593</td>\n      <td>0.225527</td>\n      <td>-0.097065</td>\n      <td>-0.181808</td>\n      <td>-0.380657</td>\n      <td>-0.115709</td>\n      <td>-0.246299</td>\n      <td>0.950697</td>\n    </tr>\n    <tr>\n      <th>943</th>\n      <td>chin_120</td>\n      <td>0.0</td>\n      <td>2498.400000</td>\n      <td>BRCA</td>\n      <td>0</td>\n      <td>1.0</td>\n      <td>0.067500</td>\n      <td>0.234737</td>\n      <td>-1.013198</td>\n      <td>0.006865</td>\n      <td>...</td>\n      <td>0.037221</td>\n      <td>-0.896951</td>\n      <td>-0.468928</td>\n      <td>-0.080080</td>\n      <td>0.031021</td>\n      <td>0.832429</td>\n      <td>-0.302434</td>\n      <td>-0.160284</td>\n      <td>-0.549442</td>\n      <td>-0.524765</td>\n    </tr>\n    <tr>\n      <th>944</th>\n      <td>chin_121</td>\n      <td>1.0</td>\n      <td>774.000000</td>\n      <td>BRCA</td>\n      <td>0</td>\n      <td>1.0</td>\n      <td>0.273030</td>\n      <td>-0.111077</td>\n      <td>-0.411176</td>\n      <td>0.098484</td>\n      <td>...</td>\n      <td>0.095100</td>\n      <td>0.059252</td>\n      <td>-0.141053</td>\n      <td>0.242307</td>\n      <td>0.113553</td>\n      <td>-0.313916</td>\n      <td>0.072109</td>\n      <td>0.081729</td>\n      <td>-0.260302</td>\n      <td>-0.670864</td>\n    </tr>\n    <tr>\n      <th>945</th>\n      <td>chin_122</td>\n      <td>0.0</td>\n      <td>3578.400000</td>\n      <td>BRCA</td>\n      <td>0</td>\n      <td>1.0</td>\n      <td>0.107638</td>\n      <td>-0.006313</td>\n      <td>0.261992</td>\n      <td>-0.041633</td>\n      <td>...</td>\n      <td>-0.005773</td>\n      <td>-0.403308</td>\n      <td>-0.244118</td>\n      <td>0.305542</td>\n      <td>0.075446</td>\n      <td>0.677694</td>\n      <td>-0.517645</td>\n      <td>0.184526</td>\n      <td>-0.074965</td>\n      <td>-0.674244</td>\n    </tr>\n    <tr>\n      <th>946</th>\n      <td>chin_123</td>\n      <td>0.0</td>\n      <td>1083.600000</td>\n      <td>BRCA</td>\n      <td>0</td>\n      <td>1.0</td>\n      <td>0.372270</td>\n      <td>0.554239</td>\n      <td>-0.380183</td>\n      <td>-0.185645</td>\n      <td>...</td>\n      <td>-0.003923</td>\n      <td>-0.067459</td>\n      <td>-0.233662</td>\n      <td>0.183295</td>\n      <td>0.001457</td>\n      <td>0.001798</td>\n      <td>-0.567315</td>\n      <td>0.152645</td>\n      <td>-0.997686</td>\n      <td>2.362153</td>\n    </tr>\n  </tbody>\n</table>\n<p>947 rows × 13241 columns</p>\n</div>"
     },
     "execution_count": 15,
     "metadata": {},
     "output_type": "execute_result"
    }
   ],
   "source": [
    "first_col_name = affy_cl_df.columns[0]  # Name of the first column in affy_cl_df\n",
    "\n",
    "affy_df = pd.DataFrame()\n",
    "affy_df[first_col_name] = affy_cl_df[first_col_name]  # First column from affy_cl_df\n",
    "affy_df['PFI'] = affy_cl_df['e_dmfs']  # e_dmfs column\n",
    "affy_df['PFItime'] = affy_cl_df['DMFS_day']  # t_dmfs column\n",
    "affy_df['gen_id'] = 'BRCA'  # gen_id column with 'BRCA'\n",
    "affy_df['predicted_label'] = 0  # predicted_label column with 0\n",
    "\n",
    "# Step 2: Combine with affy_gen_df_transposed\n",
    "affy_combined_df = pd.concat([affy_df, reset_index_df], axis=1)\n",
    "affy_combined_df['index'] = affy_cl_df['ER']\n",
    "affy_combined_df"
   ],
   "metadata": {
    "collapsed": false,
    "ExecuteTime": {
     "start_time": "2024-03-03T00:58:54.994058Z",
     "end_time": "2024-03-03T00:58:55.114897Z"
    }
   }
  },
  {
   "cell_type": "code",
   "execution_count": 92,
   "outputs": [],
   "source": [
    "affy_combined_df = affy_combined_df.dropna(subset=['PFItime'])\n",
    "affy_combined_df = affy_combined_df.dropna(subset=['PFI'])\n",
    "affy_combined_df = affy_combined_df[affy_combined_df['index'] == 1]\n",
    "affy_combined_df.to_csv('OncotypeDX/AffyDatasetERp_newmapping.csv')"
   ],
   "metadata": {
    "collapsed": false,
    "ExecuteTime": {
     "start_time": "2024-01-17T08:18:37.206463Z",
     "end_time": "2024-01-17T08:18:46.409132Z"
    }
   }
  },
  {
   "cell_type": "code",
   "execution_count": 1,
   "outputs": [
    {
     "data": {
      "text/plain": "    Unnamed: 0  PFI      PFItime gen_id  predicted_label  index     1-Dec  \\\n1      des_002  0.0  6378.387096   BRCA                0    1.0 -0.144498   \n3      des_004  1.0  6053.225805   BRCA                0    1.0  0.043225   \n4      des_005  1.0  3698.709678   BRCA                0    1.0 -0.153122   \n5      des_006  0.0  6297.096774   BRCA                0    1.0 -0.406953   \n7      des_008  1.0  5628.387096   BRCA                0    1.0 -0.055058   \n..         ...  ...          ...    ...              ...    ...       ...   \n940   chin_117  1.0   550.800000   BRCA                0    1.0 -0.010294   \n943   chin_120  0.0  2498.400000   BRCA                0    1.0  0.067500   \n944   chin_121  1.0   774.000000   BRCA                0    1.0  0.273030   \n945   chin_122  0.0  3578.400000   BRCA                0    1.0  0.107638   \n946   chin_123  0.0  1083.600000   BRCA                0    1.0  0.372270   \n\n        1-Mar    10-Sep    11-Sep  ...      ZW10    ZWILCH     ZWINT  \\\n1    0.249914 -0.669134 -0.507407  ... -0.237177  0.365768  1.281030   \n3    0.082784 -1.323946 -0.480760  ... -0.308532 -0.469163  0.336068   \n4   -0.236232 -1.111532 -0.346052  ... -0.221240 -0.167294  0.027907   \n5    0.061302  0.497087  0.186070  ... -0.067663 -1.421602 -1.527551   \n7    0.355748  0.380520  0.900408  ... -0.060602 -0.025962 -0.578648   \n..        ...       ...       ...  ...       ...       ...       ...   \n940  0.124758 -0.119649 -0.284326  ...  0.358554 -0.106219  0.200590   \n943  0.234737 -1.013198  0.006865  ...  0.037221 -0.896951 -0.468928   \n944 -0.111077 -0.411176  0.098484  ...  0.095100  0.059252 -0.141053   \n945 -0.006313  0.261992 -0.041633  ... -0.005773 -0.403308 -0.244118   \n946  0.554239 -0.380183 -0.185645  ... -0.003923 -0.067459 -0.233662   \n\n         ZXDA      ZXDB      ZXDC       ZYX     ZZEF1      ZZZ3   abParts  \n1   -0.209219 -0.244859  0.570790 -0.623655  0.100728 -0.627032  1.406080  \n3    0.259476  0.102245  0.076977 -0.314101  0.086247 -0.714192  1.452193  \n4    0.082342  0.213956  0.300887  0.382069  0.101864 -0.800811 -0.772994  \n5   -0.041991 -0.138426 -0.324874  0.199087 -0.096363 -0.170161  1.537229  \n7    0.020548 -0.359485 -0.474222  0.072205  0.076015  0.343186  0.685400  \n..        ...       ...       ...       ...       ...       ...       ...  \n940  0.137867 -0.070717 -0.443608  0.418045  0.033622 -1.378941 -0.677801  \n943 -0.080080  0.031021  0.832429 -0.302434 -0.160284 -0.549442 -0.524765  \n944  0.242307  0.113553 -0.313916  0.072109  0.081729 -0.260302 -0.670864  \n945  0.305542  0.075446  0.677694 -0.517645  0.184526 -0.074965 -0.674244  \n946  0.183295  0.001457  0.001798 -0.567315  0.152645 -0.997686  2.362153  \n\n[687 rows x 13241 columns]",
      "text/html": "<div>\n<style scoped>\n    .dataframe tbody tr th:only-of-type {\n        vertical-align: middle;\n    }\n\n    .dataframe tbody tr th {\n        vertical-align: top;\n    }\n\n    .dataframe thead th {\n        text-align: right;\n    }\n</style>\n<table border=\"1\" class=\"dataframe\">\n  <thead>\n    <tr style=\"text-align: right;\">\n      <th></th>\n      <th>Unnamed: 0</th>\n      <th>PFI</th>\n      <th>PFItime</th>\n      <th>gen_id</th>\n      <th>predicted_label</th>\n      <th>index</th>\n      <th>1-Dec</th>\n      <th>1-Mar</th>\n      <th>10-Sep</th>\n      <th>11-Sep</th>\n      <th>...</th>\n      <th>ZW10</th>\n      <th>ZWILCH</th>\n      <th>ZWINT</th>\n      <th>ZXDA</th>\n      <th>ZXDB</th>\n      <th>ZXDC</th>\n      <th>ZYX</th>\n      <th>ZZEF1</th>\n      <th>ZZZ3</th>\n      <th>abParts</th>\n    </tr>\n  </thead>\n  <tbody>\n    <tr>\n      <th>1</th>\n      <td>des_002</td>\n      <td>0.0</td>\n      <td>6378.387096</td>\n      <td>BRCA</td>\n      <td>0</td>\n      <td>1.0</td>\n      <td>-0.144498</td>\n      <td>0.249914</td>\n      <td>-0.669134</td>\n      <td>-0.507407</td>\n      <td>...</td>\n      <td>-0.237177</td>\n      <td>0.365768</td>\n      <td>1.281030</td>\n      <td>-0.209219</td>\n      <td>-0.244859</td>\n      <td>0.570790</td>\n      <td>-0.623655</td>\n      <td>0.100728</td>\n      <td>-0.627032</td>\n      <td>1.406080</td>\n    </tr>\n    <tr>\n      <th>3</th>\n      <td>des_004</td>\n      <td>1.0</td>\n      <td>6053.225805</td>\n      <td>BRCA</td>\n      <td>0</td>\n      <td>1.0</td>\n      <td>0.043225</td>\n      <td>0.082784</td>\n      <td>-1.323946</td>\n      <td>-0.480760</td>\n      <td>...</td>\n      <td>-0.308532</td>\n      <td>-0.469163</td>\n      <td>0.336068</td>\n      <td>0.259476</td>\n      <td>0.102245</td>\n      <td>0.076977</td>\n      <td>-0.314101</td>\n      <td>0.086247</td>\n      <td>-0.714192</td>\n      <td>1.452193</td>\n    </tr>\n    <tr>\n      <th>4</th>\n      <td>des_005</td>\n      <td>1.0</td>\n      <td>3698.709678</td>\n      <td>BRCA</td>\n      <td>0</td>\n      <td>1.0</td>\n      <td>-0.153122</td>\n      <td>-0.236232</td>\n      <td>-1.111532</td>\n      <td>-0.346052</td>\n      <td>...</td>\n      <td>-0.221240</td>\n      <td>-0.167294</td>\n      <td>0.027907</td>\n      <td>0.082342</td>\n      <td>0.213956</td>\n      <td>0.300887</td>\n      <td>0.382069</td>\n      <td>0.101864</td>\n      <td>-0.800811</td>\n      <td>-0.772994</td>\n    </tr>\n    <tr>\n      <th>5</th>\n      <td>des_006</td>\n      <td>0.0</td>\n      <td>6297.096774</td>\n      <td>BRCA</td>\n      <td>0</td>\n      <td>1.0</td>\n      <td>-0.406953</td>\n      <td>0.061302</td>\n      <td>0.497087</td>\n      <td>0.186070</td>\n      <td>...</td>\n      <td>-0.067663</td>\n      <td>-1.421602</td>\n      <td>-1.527551</td>\n      <td>-0.041991</td>\n      <td>-0.138426</td>\n      <td>-0.324874</td>\n      <td>0.199087</td>\n      <td>-0.096363</td>\n      <td>-0.170161</td>\n      <td>1.537229</td>\n    </tr>\n    <tr>\n      <th>7</th>\n      <td>des_008</td>\n      <td>1.0</td>\n      <td>5628.387096</td>\n      <td>BRCA</td>\n      <td>0</td>\n      <td>1.0</td>\n      <td>-0.055058</td>\n      <td>0.355748</td>\n      <td>0.380520</td>\n      <td>0.900408</td>\n      <td>...</td>\n      <td>-0.060602</td>\n      <td>-0.025962</td>\n      <td>-0.578648</td>\n      <td>0.020548</td>\n      <td>-0.359485</td>\n      <td>-0.474222</td>\n      <td>0.072205</td>\n      <td>0.076015</td>\n      <td>0.343186</td>\n      <td>0.685400</td>\n    </tr>\n    <tr>\n      <th>...</th>\n      <td>...</td>\n      <td>...</td>\n      <td>...</td>\n      <td>...</td>\n      <td>...</td>\n      <td>...</td>\n      <td>...</td>\n      <td>...</td>\n      <td>...</td>\n      <td>...</td>\n      <td>...</td>\n      <td>...</td>\n      <td>...</td>\n      <td>...</td>\n      <td>...</td>\n      <td>...</td>\n      <td>...</td>\n      <td>...</td>\n      <td>...</td>\n      <td>...</td>\n      <td>...</td>\n    </tr>\n    <tr>\n      <th>940</th>\n      <td>chin_117</td>\n      <td>1.0</td>\n      <td>550.800000</td>\n      <td>BRCA</td>\n      <td>0</td>\n      <td>1.0</td>\n      <td>-0.010294</td>\n      <td>0.124758</td>\n      <td>-0.119649</td>\n      <td>-0.284326</td>\n      <td>...</td>\n      <td>0.358554</td>\n      <td>-0.106219</td>\n      <td>0.200590</td>\n      <td>0.137867</td>\n      <td>-0.070717</td>\n      <td>-0.443608</td>\n      <td>0.418045</td>\n      <td>0.033622</td>\n      <td>-1.378941</td>\n      <td>-0.677801</td>\n    </tr>\n    <tr>\n      <th>943</th>\n      <td>chin_120</td>\n      <td>0.0</td>\n      <td>2498.400000</td>\n      <td>BRCA</td>\n      <td>0</td>\n      <td>1.0</td>\n      <td>0.067500</td>\n      <td>0.234737</td>\n      <td>-1.013198</td>\n      <td>0.006865</td>\n      <td>...</td>\n      <td>0.037221</td>\n      <td>-0.896951</td>\n      <td>-0.468928</td>\n      <td>-0.080080</td>\n      <td>0.031021</td>\n      <td>0.832429</td>\n      <td>-0.302434</td>\n      <td>-0.160284</td>\n      <td>-0.549442</td>\n      <td>-0.524765</td>\n    </tr>\n    <tr>\n      <th>944</th>\n      <td>chin_121</td>\n      <td>1.0</td>\n      <td>774.000000</td>\n      <td>BRCA</td>\n      <td>0</td>\n      <td>1.0</td>\n      <td>0.273030</td>\n      <td>-0.111077</td>\n      <td>-0.411176</td>\n      <td>0.098484</td>\n      <td>...</td>\n      <td>0.095100</td>\n      <td>0.059252</td>\n      <td>-0.141053</td>\n      <td>0.242307</td>\n      <td>0.113553</td>\n      <td>-0.313916</td>\n      <td>0.072109</td>\n      <td>0.081729</td>\n      <td>-0.260302</td>\n      <td>-0.670864</td>\n    </tr>\n    <tr>\n      <th>945</th>\n      <td>chin_122</td>\n      <td>0.0</td>\n      <td>3578.400000</td>\n      <td>BRCA</td>\n      <td>0</td>\n      <td>1.0</td>\n      <td>0.107638</td>\n      <td>-0.006313</td>\n      <td>0.261992</td>\n      <td>-0.041633</td>\n      <td>...</td>\n      <td>-0.005773</td>\n      <td>-0.403308</td>\n      <td>-0.244118</td>\n      <td>0.305542</td>\n      <td>0.075446</td>\n      <td>0.677694</td>\n      <td>-0.517645</td>\n      <td>0.184526</td>\n      <td>-0.074965</td>\n      <td>-0.674244</td>\n    </tr>\n    <tr>\n      <th>946</th>\n      <td>chin_123</td>\n      <td>0.0</td>\n      <td>1083.600000</td>\n      <td>BRCA</td>\n      <td>0</td>\n      <td>1.0</td>\n      <td>0.372270</td>\n      <td>0.554239</td>\n      <td>-0.380183</td>\n      <td>-0.185645</td>\n      <td>...</td>\n      <td>-0.003923</td>\n      <td>-0.067459</td>\n      <td>-0.233662</td>\n      <td>0.183295</td>\n      <td>0.001457</td>\n      <td>0.001798</td>\n      <td>-0.567315</td>\n      <td>0.152645</td>\n      <td>-0.997686</td>\n      <td>2.362153</td>\n    </tr>\n  </tbody>\n</table>\n<p>687 rows × 13241 columns</p>\n</div>"
     },
     "execution_count": 1,
     "metadata": {},
     "output_type": "execute_result"
    }
   ],
   "source": [
    "import pandas as pd\n",
    "affy_combined_df = pd.read_csv('OncotypeDX/AffyDatasetERp_newmapping.csv', index_col=0)\n",
    "affy_combined_df"
   ],
   "metadata": {
    "collapsed": false,
    "ExecuteTime": {
     "start_time": "2024-02-23T08:03:33.213105Z",
     "end_time": "2024-02-23T08:03:42.257456Z"
    }
   }
  },
  {
   "cell_type": "code",
   "execution_count": 5,
   "outputs": [
    {
     "name": "stderr",
     "output_type": "stream",
     "text": [
      "C:\\Users\\anchen.sun\\Anaconda3\\envs\\Contrastive Learning Method for Predicting Cancer Prognosis from Gene\\lib\\site-packages\\openpyxl\\worksheet\\_reader.py:312: UserWarning: Unknown extension is not supported and will be removed\n",
      "  warn(msg)\n"
     ]
    },
    {
     "data": {
      "text/plain": "(['ACTB',\n  'GAPDH',\n  'RPLPO',\n  'GUS',\n  'TFRC',\n  'Ki67 ',\n  'STK15 ',\n  'Survivin ',\n  'CCNB1 ',\n  'MYBL2',\n  'MMP11 ',\n  'CTSL2 ',\n  'GRB7',\n  'HER2',\n  'ER ',\n  'PGR',\n  'BCL2',\n  'SCUBE2',\n  'GSTM1',\n  'CD68',\n  'BAG1'],\n ['BBC3',\n  'EGLN1',\n  'TGFB3',\n  'ESM1',\n  'IGFBP5',\n  'FGF18',\n  'SCUBE2',\n  'WISP1',\n  'FLT1',\n  'HRASLS',\n  'STK32B',\n  'RASSF7',\n  'DCK',\n  'MELK',\n  'EXT1',\n  'GNAZ',\n  'EBF4',\n  'MTDH',\n  'PITRM1',\n  'QSCN6L1',\n  'CCNE2',\n  'ECT2',\n  'CENPA',\n  'LIN9',\n  'KNTC2',\n  'MCM6',\n  'NUSAP1',\n  'ORC6L',\n  'TSPYL5',\n  'RUNDC1',\n  'PRC1',\n  'RFC4',\n  'RECQL5',\n  'CDCA7',\n  'DTL',\n  'COL4A2',\n  'GPR180',\n  'MMP9',\n  'GPR126',\n  'RTN4RL1',\n  'DIAPH3',\n  'CDC42BPA',\n  'PALM2',\n  'ALDH4A1',\n  'AYTL2',\n  'OXCT1',\n  'PECI',\n  'GMPS',\n  'GSTM3',\n  'SLC2A3',\n  'LOC100288906',\n  'C9orf30',\n  'ZNF533',\n  'C16orf61',\n  'SERF1A',\n  'C20orf46',\n  'LOC730018',\n  'LOC100131053',\n  'AA555029_RC',\n  'LGP2',\n  'NMU',\n  'UCHL5',\n  'JHDM1D',\n  'AP2B1',\n  'MS4 A7',\n  'RAB6B'])"
     },
     "execution_count": 5,
     "metadata": {},
     "output_type": "execute_result"
    }
   ],
   "source": [
    "import pandas as pd\n",
    "\n",
    "# Function to extract gene names from a given worksheet\n",
    "def extract_gene_names(excel_file, sheet):\n",
    "    # Read the worksheet\n",
    "    data = pd.read_excel(excel_file, sheet_name=sheet)\n",
    "\n",
    "    # Assuming gene names are in the first column, extract them\n",
    "    # If the structure is different, this part of the code might need adjustment\n",
    "    gene_names = data.iloc[:, 0].dropna().unique().tolist()\n",
    "\n",
    "    return gene_names\n",
    "\n",
    "# Path to the Excel file\n",
    "file_path = 'oncotype_genelist.xlsx'\n",
    "\n",
    "# Load the Excel file\n",
    "excel_data = pd.ExcelFile(file_path)\n",
    "\n",
    "# Extract gene names from both worksheets\n",
    "oncotype_genes = extract_gene_names(excel_data, 'Oncotype DX')\n",
    "oncotype_genes"
   ],
   "metadata": {
    "collapsed": false
   }
  },
  {
   "cell_type": "code",
   "execution_count": 1,
   "outputs": [
    {
     "data": {
      "text/plain": "                          bcr_patient_uuid bcr_patient_barcode  \\\n2     6E7D5EC6-A469-467C-B748-237353C23416        TCGA-3C-AAAU   \n3     55262FCB-1B01-4480-B322-36570430C917        TCGA-3C-AALI   \n4     427D0648-3F77-4FFC-B52C-89855426D647        TCGA-3C-AALJ   \n5     C31900A4-5DCD-4022-97AC-638E86E889E4        TCGA-3C-AALK   \n6     6623FC5E-00BE-4476-967A-CBD55F676EA6        TCGA-4H-AAAK   \n...                                    ...                 ...   \n1094  5CD79093-1571-4F71-8136-0D84CCABDCAC        TCGA-WT-AB44   \n1095  F89588E9-CA73-4465-A7FB-7246EDB45E3A        TCGA-XX-A899   \n1096  CA20249F-B7EA-4FD9-9ECB-34F74755AE35        TCGA-XX-A89A   \n1097  23F438BD-1DBB-4D46-972F-1E8E74DDBD37        TCGA-Z7-A8R5   \n1098  B1D44C81-747D-471F-9093-AEB262A17975        TCGA-Z7-A8R6   \n\n     form_completion_date prospective_collection retrospective_collection  \\\n2               2014-1-13                     NO                      YES   \n3               2014-7-28                     NO                      YES   \n4               2014-7-28                     NO                      YES   \n5               2014-7-28                     NO                      YES   \n6              2014-11-13                    YES                       NO   \n...                   ...                    ...                      ...   \n1094            2014-7-16                     NO                      YES   \n1095            2014-2-21                     NO                      YES   \n1096            2014-2-21                     NO                      YES   \n1097             2014-7-9                     NO                      YES   \n1098             2014-7-9                     NO                      YES   \n\n        birth_days_to  gender  \\\n2              -20211  FEMALE   \n3              -18538  FEMALE   \n4              -22848  FEMALE   \n5              -19074  FEMALE   \n6              -18371  FEMALE   \n...               ...     ...   \n1094  [Not Available]  FEMALE   \n1095           -17022  FEMALE   \n1096           -25000  FEMALE   \n1097           -22280  FEMALE   \n1098           -16955  FEMALE   \n\n                                       menopause_status  \\\n2     Pre (<6 months since LMP AND no prior bilatera...   \n3     Post (prior bilateral ovariectomy OR >12 mo si...   \n4     Post (prior bilateral ovariectomy OR >12 mo si...   \n5                                             [Unknown]   \n6     Post (prior bilateral ovariectomy OR >12 mo si...   \n...                                                 ...   \n1094  Post (prior bilateral ovariectomy OR >12 mo si...   \n1095  Post (prior bilateral ovariectomy OR >12 mo si...   \n1096  Post (prior bilateral ovariectomy OR >12 mo si...   \n1097  Post (prior bilateral ovariectomy OR >12 mo si...   \n1098  Pre (<6 months since LMP AND no prior bilatera...   \n\n                           race               ethnicity  ...  \\\n2                         WHITE  NOT HISPANIC OR LATINO  ...   \n3     BLACK OR AFRICAN AMERICAN  NOT HISPANIC OR LATINO  ...   \n4     BLACK OR AFRICAN AMERICAN  NOT HISPANIC OR LATINO  ...   \n5     BLACK OR AFRICAN AMERICAN  NOT HISPANIC OR LATINO  ...   \n6                         WHITE  NOT HISPANIC OR LATINO  ...   \n...                         ...                     ...  ...   \n1094                      WHITE  NOT HISPANIC OR LATINO  ...   \n1095                      WHITE  NOT HISPANIC OR LATINO  ...   \n1096                      WHITE  NOT HISPANIC OR LATINO  ...   \n1097                      WHITE  NOT HISPANIC OR LATINO  ...   \n1098                      WHITE  NOT HISPANIC OR LATINO  ...   \n\n     icd_o_3_histology icd_o_3_site informed_consent_verified  \\\n2               8520/3        C50.9                       YES   \n3               8500/3        C50.9                       YES   \n4               8500/3        C50.9                       YES   \n5               8500/3        C50.9                       YES   \n6               8520/3        C50.9                       YES   \n...                ...          ...                       ...   \n1094            8520/3        C50.9                       YES   \n1095            8520/3        C50.9                       YES   \n1096            8520/3        C50.9                       YES   \n1097            8520/3        C50.9                       YES   \n1098            8022/3        C50.8                       YES   \n\n     metastatic_tumor_indicator patient_id     project_code  \\\n2               [Not Available]       AAAU  [Not Available]   \n3               [Not Available]       AALI  [Not Available]   \n4               [Not Available]       AALJ  [Not Available]   \n5               [Not Available]       AALK  [Not Available]   \n6               [Not Available]       AAAK  [Not Available]   \n...                         ...        ...              ...   \n1094            [Not Available]       AB44  [Not Available]   \n1095            [Not Available]       A899  [Not Available]   \n1096            [Not Available]       A89A  [Not Available]   \n1097            [Not Available]       A8R5  [Not Available]   \n1098            [Not Available]       A8R6  [Not Available]   \n\n     site_of_primary_tumor_other      stage_other tissue_source_site  \\\n2               [Not Applicable]  [Not Available]                 3C   \n3               [Not Applicable]  [Not Available]                 3C   \n4               [Not Applicable]  [Not Available]                 3C   \n5               [Not Applicable]  [Not Available]                 3C   \n6               [Not Applicable]  [Not Available]                 4H   \n...                          ...              ...                ...   \n1094            [Not Applicable]  [Not Available]                 WT   \n1095            [Not Applicable]  [Not Available]                 XX   \n1096            [Not Applicable]  [Not Available]                 XX   \n1097            [Not Applicable]  [Not Available]                 Z7   \n1098            [Not Applicable]  [Not Available]                 Z7   \n\n     tumor_tissue_site  \n2               Breast  \n3               Breast  \n4               Breast  \n5               Breast  \n6               Breast  \n...                ...  \n1094            Breast  \n1095            Breast  \n1096            Breast  \n1097            Breast  \n1098            Breast  \n\n[808 rows x 112 columns]",
      "text/html": "<div>\n<style scoped>\n    .dataframe tbody tr th:only-of-type {\n        vertical-align: middle;\n    }\n\n    .dataframe tbody tr th {\n        vertical-align: top;\n    }\n\n    .dataframe thead th {\n        text-align: right;\n    }\n</style>\n<table border=\"1\" class=\"dataframe\">\n  <thead>\n    <tr style=\"text-align: right;\">\n      <th></th>\n      <th>bcr_patient_uuid</th>\n      <th>bcr_patient_barcode</th>\n      <th>form_completion_date</th>\n      <th>prospective_collection</th>\n      <th>retrospective_collection</th>\n      <th>birth_days_to</th>\n      <th>gender</th>\n      <th>menopause_status</th>\n      <th>race</th>\n      <th>ethnicity</th>\n      <th>...</th>\n      <th>icd_o_3_histology</th>\n      <th>icd_o_3_site</th>\n      <th>informed_consent_verified</th>\n      <th>metastatic_tumor_indicator</th>\n      <th>patient_id</th>\n      <th>project_code</th>\n      <th>site_of_primary_tumor_other</th>\n      <th>stage_other</th>\n      <th>tissue_source_site</th>\n      <th>tumor_tissue_site</th>\n    </tr>\n  </thead>\n  <tbody>\n    <tr>\n      <th>2</th>\n      <td>6E7D5EC6-A469-467C-B748-237353C23416</td>\n      <td>TCGA-3C-AAAU</td>\n      <td>2014-1-13</td>\n      <td>NO</td>\n      <td>YES</td>\n      <td>-20211</td>\n      <td>FEMALE</td>\n      <td>Pre (&lt;6 months since LMP AND no prior bilatera...</td>\n      <td>WHITE</td>\n      <td>NOT HISPANIC OR LATINO</td>\n      <td>...</td>\n      <td>8520/3</td>\n      <td>C50.9</td>\n      <td>YES</td>\n      <td>[Not Available]</td>\n      <td>AAAU</td>\n      <td>[Not Available]</td>\n      <td>[Not Applicable]</td>\n      <td>[Not Available]</td>\n      <td>3C</td>\n      <td>Breast</td>\n    </tr>\n    <tr>\n      <th>3</th>\n      <td>55262FCB-1B01-4480-B322-36570430C917</td>\n      <td>TCGA-3C-AALI</td>\n      <td>2014-7-28</td>\n      <td>NO</td>\n      <td>YES</td>\n      <td>-18538</td>\n      <td>FEMALE</td>\n      <td>Post (prior bilateral ovariectomy OR &gt;12 mo si...</td>\n      <td>BLACK OR AFRICAN AMERICAN</td>\n      <td>NOT HISPANIC OR LATINO</td>\n      <td>...</td>\n      <td>8500/3</td>\n      <td>C50.9</td>\n      <td>YES</td>\n      <td>[Not Available]</td>\n      <td>AALI</td>\n      <td>[Not Available]</td>\n      <td>[Not Applicable]</td>\n      <td>[Not Available]</td>\n      <td>3C</td>\n      <td>Breast</td>\n    </tr>\n    <tr>\n      <th>4</th>\n      <td>427D0648-3F77-4FFC-B52C-89855426D647</td>\n      <td>TCGA-3C-AALJ</td>\n      <td>2014-7-28</td>\n      <td>NO</td>\n      <td>YES</td>\n      <td>-22848</td>\n      <td>FEMALE</td>\n      <td>Post (prior bilateral ovariectomy OR &gt;12 mo si...</td>\n      <td>BLACK OR AFRICAN AMERICAN</td>\n      <td>NOT HISPANIC OR LATINO</td>\n      <td>...</td>\n      <td>8500/3</td>\n      <td>C50.9</td>\n      <td>YES</td>\n      <td>[Not Available]</td>\n      <td>AALJ</td>\n      <td>[Not Available]</td>\n      <td>[Not Applicable]</td>\n      <td>[Not Available]</td>\n      <td>3C</td>\n      <td>Breast</td>\n    </tr>\n    <tr>\n      <th>5</th>\n      <td>C31900A4-5DCD-4022-97AC-638E86E889E4</td>\n      <td>TCGA-3C-AALK</td>\n      <td>2014-7-28</td>\n      <td>NO</td>\n      <td>YES</td>\n      <td>-19074</td>\n      <td>FEMALE</td>\n      <td>[Unknown]</td>\n      <td>BLACK OR AFRICAN AMERICAN</td>\n      <td>NOT HISPANIC OR LATINO</td>\n      <td>...</td>\n      <td>8500/3</td>\n      <td>C50.9</td>\n      <td>YES</td>\n      <td>[Not Available]</td>\n      <td>AALK</td>\n      <td>[Not Available]</td>\n      <td>[Not Applicable]</td>\n      <td>[Not Available]</td>\n      <td>3C</td>\n      <td>Breast</td>\n    </tr>\n    <tr>\n      <th>6</th>\n      <td>6623FC5E-00BE-4476-967A-CBD55F676EA6</td>\n      <td>TCGA-4H-AAAK</td>\n      <td>2014-11-13</td>\n      <td>YES</td>\n      <td>NO</td>\n      <td>-18371</td>\n      <td>FEMALE</td>\n      <td>Post (prior bilateral ovariectomy OR &gt;12 mo si...</td>\n      <td>WHITE</td>\n      <td>NOT HISPANIC OR LATINO</td>\n      <td>...</td>\n      <td>8520/3</td>\n      <td>C50.9</td>\n      <td>YES</td>\n      <td>[Not Available]</td>\n      <td>AAAK</td>\n      <td>[Not Available]</td>\n      <td>[Not Applicable]</td>\n      <td>[Not Available]</td>\n      <td>4H</td>\n      <td>Breast</td>\n    </tr>\n    <tr>\n      <th>...</th>\n      <td>...</td>\n      <td>...</td>\n      <td>...</td>\n      <td>...</td>\n      <td>...</td>\n      <td>...</td>\n      <td>...</td>\n      <td>...</td>\n      <td>...</td>\n      <td>...</td>\n      <td>...</td>\n      <td>...</td>\n      <td>...</td>\n      <td>...</td>\n      <td>...</td>\n      <td>...</td>\n      <td>...</td>\n      <td>...</td>\n      <td>...</td>\n      <td>...</td>\n      <td>...</td>\n    </tr>\n    <tr>\n      <th>1094</th>\n      <td>5CD79093-1571-4F71-8136-0D84CCABDCAC</td>\n      <td>TCGA-WT-AB44</td>\n      <td>2014-7-16</td>\n      <td>NO</td>\n      <td>YES</td>\n      <td>[Not Available]</td>\n      <td>FEMALE</td>\n      <td>Post (prior bilateral ovariectomy OR &gt;12 mo si...</td>\n      <td>WHITE</td>\n      <td>NOT HISPANIC OR LATINO</td>\n      <td>...</td>\n      <td>8520/3</td>\n      <td>C50.9</td>\n      <td>YES</td>\n      <td>[Not Available]</td>\n      <td>AB44</td>\n      <td>[Not Available]</td>\n      <td>[Not Applicable]</td>\n      <td>[Not Available]</td>\n      <td>WT</td>\n      <td>Breast</td>\n    </tr>\n    <tr>\n      <th>1095</th>\n      <td>F89588E9-CA73-4465-A7FB-7246EDB45E3A</td>\n      <td>TCGA-XX-A899</td>\n      <td>2014-2-21</td>\n      <td>NO</td>\n      <td>YES</td>\n      <td>-17022</td>\n      <td>FEMALE</td>\n      <td>Post (prior bilateral ovariectomy OR &gt;12 mo si...</td>\n      <td>WHITE</td>\n      <td>NOT HISPANIC OR LATINO</td>\n      <td>...</td>\n      <td>8520/3</td>\n      <td>C50.9</td>\n      <td>YES</td>\n      <td>[Not Available]</td>\n      <td>A899</td>\n      <td>[Not Available]</td>\n      <td>[Not Applicable]</td>\n      <td>[Not Available]</td>\n      <td>XX</td>\n      <td>Breast</td>\n    </tr>\n    <tr>\n      <th>1096</th>\n      <td>CA20249F-B7EA-4FD9-9ECB-34F74755AE35</td>\n      <td>TCGA-XX-A89A</td>\n      <td>2014-2-21</td>\n      <td>NO</td>\n      <td>YES</td>\n      <td>-25000</td>\n      <td>FEMALE</td>\n      <td>Post (prior bilateral ovariectomy OR &gt;12 mo si...</td>\n      <td>WHITE</td>\n      <td>NOT HISPANIC OR LATINO</td>\n      <td>...</td>\n      <td>8520/3</td>\n      <td>C50.9</td>\n      <td>YES</td>\n      <td>[Not Available]</td>\n      <td>A89A</td>\n      <td>[Not Available]</td>\n      <td>[Not Applicable]</td>\n      <td>[Not Available]</td>\n      <td>XX</td>\n      <td>Breast</td>\n    </tr>\n    <tr>\n      <th>1097</th>\n      <td>23F438BD-1DBB-4D46-972F-1E8E74DDBD37</td>\n      <td>TCGA-Z7-A8R5</td>\n      <td>2014-7-9</td>\n      <td>NO</td>\n      <td>YES</td>\n      <td>-22280</td>\n      <td>FEMALE</td>\n      <td>Post (prior bilateral ovariectomy OR &gt;12 mo si...</td>\n      <td>WHITE</td>\n      <td>NOT HISPANIC OR LATINO</td>\n      <td>...</td>\n      <td>8520/3</td>\n      <td>C50.9</td>\n      <td>YES</td>\n      <td>[Not Available]</td>\n      <td>A8R5</td>\n      <td>[Not Available]</td>\n      <td>[Not Applicable]</td>\n      <td>[Not Available]</td>\n      <td>Z7</td>\n      <td>Breast</td>\n    </tr>\n    <tr>\n      <th>1098</th>\n      <td>B1D44C81-747D-471F-9093-AEB262A17975</td>\n      <td>TCGA-Z7-A8R6</td>\n      <td>2014-7-9</td>\n      <td>NO</td>\n      <td>YES</td>\n      <td>-16955</td>\n      <td>FEMALE</td>\n      <td>Pre (&lt;6 months since LMP AND no prior bilatera...</td>\n      <td>WHITE</td>\n      <td>NOT HISPANIC OR LATINO</td>\n      <td>...</td>\n      <td>8022/3</td>\n      <td>C50.8</td>\n      <td>YES</td>\n      <td>[Not Available]</td>\n      <td>A8R6</td>\n      <td>[Not Available]</td>\n      <td>[Not Applicable]</td>\n      <td>[Not Available]</td>\n      <td>Z7</td>\n      <td>Breast</td>\n    </tr>\n  </tbody>\n</table>\n<p>808 rows × 112 columns</p>\n</div>"
     },
     "execution_count": 1,
     "metadata": {},
     "output_type": "execute_result"
    }
   ],
   "source": [
    "import pandas as pd\n",
    "\n",
    "#BRCAdata = pd.read_csv('SingleCancerDataSet/CancerRNA_BRCA_WholeTimeSeq_3.txt')\n",
    "\n",
    "def read_clinical_data(file_path):\n",
    "    # Read the text file into a DataFrame\n",
    "    # Assuming the file is tab-delimited and the first few lines might be headers or comments\n",
    "    df = pd.read_csv(file_path, sep='\\t')#, comment='#')\n",
    "    return df\n",
    "\n",
    "# Path to the text file\n",
    "text_file_path = 'nationwidechildrens.org_clinical_patient_brca.txt'\n",
    "\n",
    "# Read the data\n",
    "clinical_data = read_clinical_data(text_file_path)\n",
    "clinical_data_ERp = clinical_data[clinical_data['er_status_by_ihc'] == 'Positive']\n",
    "clinical_data_ERp"
   ],
   "metadata": {
    "collapsed": false,
    "ExecuteTime": {
     "start_time": "2024-01-17T05:44:26.054704Z",
     "end_time": "2024-01-17T05:44:36.383716Z"
    }
   }
  },
  {
   "cell_type": "code",
   "execution_count": 3,
   "outputs": [
    {
     "data": {
      "text/plain": "                          bcr_patient_uuid bcr_patient_barcode  \\\n3     55262FCB-1B01-4480-B322-36570430C917        TCGA-3C-AALI   \n4     427D0648-3F77-4FFC-B52C-89855426D647        TCGA-3C-AALJ   \n5     C31900A4-5DCD-4022-97AC-638E86E889E4        TCGA-3C-AALK   \n7     86C6F993-327F-4525-9983-29C55625593A        TCGA-5L-AAT0   \n8     16FC3677-0393-4ED1-AD3F-C8355F056369        TCGA-5L-AAT1   \n...                                    ...                 ...   \n1093  E7DB08A7-B439-4230-8DC4-1B54AF4736C4        TCGA-WT-AB41   \n1094  5CD79093-1571-4F71-8136-0D84CCABDCAC        TCGA-WT-AB44   \n1096  CA20249F-B7EA-4FD9-9ECB-34F74755AE35        TCGA-XX-A89A   \n1097  23F438BD-1DBB-4D46-972F-1E8E74DDBD37        TCGA-Z7-A8R5   \n1098  B1D44C81-747D-471F-9093-AEB262A17975        TCGA-Z7-A8R6   \n\n     form_completion_date prospective_collection retrospective_collection  \\\n3               2014-7-28                     NO                      YES   \n4               2014-7-28                     NO                      YES   \n5               2014-7-28                     NO                      YES   \n7               2014-8-15                     NO                      YES   \n8               2014-8-15                     NO                      YES   \n...                   ...                    ...                      ...   \n1093            2014-7-16                     NO                      YES   \n1094            2014-7-16                     NO                      YES   \n1096            2014-2-21                     NO                      YES   \n1097             2014-7-9                     NO                      YES   \n1098             2014-7-9                     NO                      YES   \n\n        birth_days_to  gender  \\\n3              -18538  FEMALE   \n4              -22848  FEMALE   \n5              -19074  FEMALE   \n7              -15393  FEMALE   \n8              -23225  FEMALE   \n...               ...     ...   \n1093  [Not Available]  FEMALE   \n1094  [Not Available]  FEMALE   \n1096           -25000  FEMALE   \n1097           -22280  FEMALE   \n1098           -16955  FEMALE   \n\n                                       menopause_status  \\\n3     Post (prior bilateral ovariectomy OR >12 mo si...   \n4     Post (prior bilateral ovariectomy OR >12 mo si...   \n5                                             [Unknown]   \n7     Post (prior bilateral ovariectomy OR >12 mo si...   \n8     Post (prior bilateral ovariectomy OR >12 mo si...   \n...                                                 ...   \n1093  Post (prior bilateral ovariectomy OR >12 mo si...   \n1094  Post (prior bilateral ovariectomy OR >12 mo si...   \n1096  Post (prior bilateral ovariectomy OR >12 mo si...   \n1097  Post (prior bilateral ovariectomy OR >12 mo si...   \n1098  Pre (<6 months since LMP AND no prior bilatera...   \n\n                           race               ethnicity  ...  \\\n3     BLACK OR AFRICAN AMERICAN  NOT HISPANIC OR LATINO  ...   \n4     BLACK OR AFRICAN AMERICAN  NOT HISPANIC OR LATINO  ...   \n5     BLACK OR AFRICAN AMERICAN  NOT HISPANIC OR LATINO  ...   \n7                         WHITE      HISPANIC OR LATINO  ...   \n8                         WHITE      HISPANIC OR LATINO  ...   \n...                         ...                     ...  ...   \n1093  BLACK OR AFRICAN AMERICAN  NOT HISPANIC OR LATINO  ...   \n1094                      WHITE  NOT HISPANIC OR LATINO  ...   \n1096                      WHITE  NOT HISPANIC OR LATINO  ...   \n1097                      WHITE  NOT HISPANIC OR LATINO  ...   \n1098                      WHITE  NOT HISPANIC OR LATINO  ...   \n\n     icd_o_3_histology icd_o_3_site informed_consent_verified  \\\n3               8500/3        C50.9                       YES   \n4               8500/3        C50.9                       YES   \n5               8500/3        C50.9                       YES   \n7               8520/3        C50.9                       YES   \n8               8520/3        C50.9                       YES   \n...                ...          ...                       ...   \n1093            8500/3        C50.9                       YES   \n1094            8520/3        C50.9                       YES   \n1096            8520/3        C50.9                       YES   \n1097            8520/3        C50.9                       YES   \n1098            8022/3        C50.8                       YES   \n\n     metastatic_tumor_indicator patient_id     project_code  \\\n3               [Not Available]       AALI  [Not Available]   \n4               [Not Available]       AALJ  [Not Available]   \n5               [Not Available]       AALK  [Not Available]   \n7               [Not Available]       AAT0  [Not Available]   \n8               [Not Available]       AAT1  [Not Available]   \n...                         ...        ...              ...   \n1093            [Not Available]       AB41  [Not Available]   \n1094            [Not Available]       AB44  [Not Available]   \n1096            [Not Available]       A89A  [Not Available]   \n1097            [Not Available]       A8R5  [Not Available]   \n1098            [Not Available]       A8R6  [Not Available]   \n\n     site_of_primary_tumor_other      stage_other tissue_source_site  \\\n3               [Not Applicable]  [Not Available]                 3C   \n4               [Not Applicable]  [Not Available]                 3C   \n5               [Not Applicable]  [Not Available]                 3C   \n7               [Not Applicable]  [Not Available]                 5L   \n8               [Not Applicable]  [Not Available]                 5L   \n...                          ...              ...                ...   \n1093            [Not Applicable]  [Not Available]                 WT   \n1094            [Not Applicable]  [Not Available]                 WT   \n1096            [Not Applicable]  [Not Available]                 XX   \n1097            [Not Applicable]  [Not Available]                 Z7   \n1098            [Not Applicable]  [Not Available]                 Z7   \n\n     tumor_tissue_site  \n3               Breast  \n4               Breast  \n5               Breast  \n7               Breast  \n8               Breast  \n...                ...  \n1093            Breast  \n1094            Breast  \n1096            Breast  \n1097            Breast  \n1098            Breast  \n\n[753 rows x 112 columns]",
      "text/html": "<div>\n<style scoped>\n    .dataframe tbody tr th:only-of-type {\n        vertical-align: middle;\n    }\n\n    .dataframe tbody tr th {\n        vertical-align: top;\n    }\n\n    .dataframe thead th {\n        text-align: right;\n    }\n</style>\n<table border=\"1\" class=\"dataframe\">\n  <thead>\n    <tr style=\"text-align: right;\">\n      <th></th>\n      <th>bcr_patient_uuid</th>\n      <th>bcr_patient_barcode</th>\n      <th>form_completion_date</th>\n      <th>prospective_collection</th>\n      <th>retrospective_collection</th>\n      <th>birth_days_to</th>\n      <th>gender</th>\n      <th>menopause_status</th>\n      <th>race</th>\n      <th>ethnicity</th>\n      <th>...</th>\n      <th>icd_o_3_histology</th>\n      <th>icd_o_3_site</th>\n      <th>informed_consent_verified</th>\n      <th>metastatic_tumor_indicator</th>\n      <th>patient_id</th>\n      <th>project_code</th>\n      <th>site_of_primary_tumor_other</th>\n      <th>stage_other</th>\n      <th>tissue_source_site</th>\n      <th>tumor_tissue_site</th>\n    </tr>\n  </thead>\n  <tbody>\n    <tr>\n      <th>3</th>\n      <td>55262FCB-1B01-4480-B322-36570430C917</td>\n      <td>TCGA-3C-AALI</td>\n      <td>2014-7-28</td>\n      <td>NO</td>\n      <td>YES</td>\n      <td>-18538</td>\n      <td>FEMALE</td>\n      <td>Post (prior bilateral ovariectomy OR &gt;12 mo si...</td>\n      <td>BLACK OR AFRICAN AMERICAN</td>\n      <td>NOT HISPANIC OR LATINO</td>\n      <td>...</td>\n      <td>8500/3</td>\n      <td>C50.9</td>\n      <td>YES</td>\n      <td>[Not Available]</td>\n      <td>AALI</td>\n      <td>[Not Available]</td>\n      <td>[Not Applicable]</td>\n      <td>[Not Available]</td>\n      <td>3C</td>\n      <td>Breast</td>\n    </tr>\n    <tr>\n      <th>4</th>\n      <td>427D0648-3F77-4FFC-B52C-89855426D647</td>\n      <td>TCGA-3C-AALJ</td>\n      <td>2014-7-28</td>\n      <td>NO</td>\n      <td>YES</td>\n      <td>-22848</td>\n      <td>FEMALE</td>\n      <td>Post (prior bilateral ovariectomy OR &gt;12 mo si...</td>\n      <td>BLACK OR AFRICAN AMERICAN</td>\n      <td>NOT HISPANIC OR LATINO</td>\n      <td>...</td>\n      <td>8500/3</td>\n      <td>C50.9</td>\n      <td>YES</td>\n      <td>[Not Available]</td>\n      <td>AALJ</td>\n      <td>[Not Available]</td>\n      <td>[Not Applicable]</td>\n      <td>[Not Available]</td>\n      <td>3C</td>\n      <td>Breast</td>\n    </tr>\n    <tr>\n      <th>5</th>\n      <td>C31900A4-5DCD-4022-97AC-638E86E889E4</td>\n      <td>TCGA-3C-AALK</td>\n      <td>2014-7-28</td>\n      <td>NO</td>\n      <td>YES</td>\n      <td>-19074</td>\n      <td>FEMALE</td>\n      <td>[Unknown]</td>\n      <td>BLACK OR AFRICAN AMERICAN</td>\n      <td>NOT HISPANIC OR LATINO</td>\n      <td>...</td>\n      <td>8500/3</td>\n      <td>C50.9</td>\n      <td>YES</td>\n      <td>[Not Available]</td>\n      <td>AALK</td>\n      <td>[Not Available]</td>\n      <td>[Not Applicable]</td>\n      <td>[Not Available]</td>\n      <td>3C</td>\n      <td>Breast</td>\n    </tr>\n    <tr>\n      <th>7</th>\n      <td>86C6F993-327F-4525-9983-29C55625593A</td>\n      <td>TCGA-5L-AAT0</td>\n      <td>2014-8-15</td>\n      <td>NO</td>\n      <td>YES</td>\n      <td>-15393</td>\n      <td>FEMALE</td>\n      <td>Post (prior bilateral ovariectomy OR &gt;12 mo si...</td>\n      <td>WHITE</td>\n      <td>HISPANIC OR LATINO</td>\n      <td>...</td>\n      <td>8520/3</td>\n      <td>C50.9</td>\n      <td>YES</td>\n      <td>[Not Available]</td>\n      <td>AAT0</td>\n      <td>[Not Available]</td>\n      <td>[Not Applicable]</td>\n      <td>[Not Available]</td>\n      <td>5L</td>\n      <td>Breast</td>\n    </tr>\n    <tr>\n      <th>8</th>\n      <td>16FC3677-0393-4ED1-AD3F-C8355F056369</td>\n      <td>TCGA-5L-AAT1</td>\n      <td>2014-8-15</td>\n      <td>NO</td>\n      <td>YES</td>\n      <td>-23225</td>\n      <td>FEMALE</td>\n      <td>Post (prior bilateral ovariectomy OR &gt;12 mo si...</td>\n      <td>WHITE</td>\n      <td>HISPANIC OR LATINO</td>\n      <td>...</td>\n      <td>8520/3</td>\n      <td>C50.9</td>\n      <td>YES</td>\n      <td>[Not Available]</td>\n      <td>AAT1</td>\n      <td>[Not Available]</td>\n      <td>[Not Applicable]</td>\n      <td>[Not Available]</td>\n      <td>5L</td>\n      <td>Breast</td>\n    </tr>\n    <tr>\n      <th>...</th>\n      <td>...</td>\n      <td>...</td>\n      <td>...</td>\n      <td>...</td>\n      <td>...</td>\n      <td>...</td>\n      <td>...</td>\n      <td>...</td>\n      <td>...</td>\n      <td>...</td>\n      <td>...</td>\n      <td>...</td>\n      <td>...</td>\n      <td>...</td>\n      <td>...</td>\n      <td>...</td>\n      <td>...</td>\n      <td>...</td>\n      <td>...</td>\n      <td>...</td>\n      <td>...</td>\n    </tr>\n    <tr>\n      <th>1093</th>\n      <td>E7DB08A7-B439-4230-8DC4-1B54AF4736C4</td>\n      <td>TCGA-WT-AB41</td>\n      <td>2014-7-16</td>\n      <td>NO</td>\n      <td>YES</td>\n      <td>[Not Available]</td>\n      <td>FEMALE</td>\n      <td>Post (prior bilateral ovariectomy OR &gt;12 mo si...</td>\n      <td>BLACK OR AFRICAN AMERICAN</td>\n      <td>NOT HISPANIC OR LATINO</td>\n      <td>...</td>\n      <td>8500/3</td>\n      <td>C50.9</td>\n      <td>YES</td>\n      <td>[Not Available]</td>\n      <td>AB41</td>\n      <td>[Not Available]</td>\n      <td>[Not Applicable]</td>\n      <td>[Not Available]</td>\n      <td>WT</td>\n      <td>Breast</td>\n    </tr>\n    <tr>\n      <th>1094</th>\n      <td>5CD79093-1571-4F71-8136-0D84CCABDCAC</td>\n      <td>TCGA-WT-AB44</td>\n      <td>2014-7-16</td>\n      <td>NO</td>\n      <td>YES</td>\n      <td>[Not Available]</td>\n      <td>FEMALE</td>\n      <td>Post (prior bilateral ovariectomy OR &gt;12 mo si...</td>\n      <td>WHITE</td>\n      <td>NOT HISPANIC OR LATINO</td>\n      <td>...</td>\n      <td>8520/3</td>\n      <td>C50.9</td>\n      <td>YES</td>\n      <td>[Not Available]</td>\n      <td>AB44</td>\n      <td>[Not Available]</td>\n      <td>[Not Applicable]</td>\n      <td>[Not Available]</td>\n      <td>WT</td>\n      <td>Breast</td>\n    </tr>\n    <tr>\n      <th>1096</th>\n      <td>CA20249F-B7EA-4FD9-9ECB-34F74755AE35</td>\n      <td>TCGA-XX-A89A</td>\n      <td>2014-2-21</td>\n      <td>NO</td>\n      <td>YES</td>\n      <td>-25000</td>\n      <td>FEMALE</td>\n      <td>Post (prior bilateral ovariectomy OR &gt;12 mo si...</td>\n      <td>WHITE</td>\n      <td>NOT HISPANIC OR LATINO</td>\n      <td>...</td>\n      <td>8520/3</td>\n      <td>C50.9</td>\n      <td>YES</td>\n      <td>[Not Available]</td>\n      <td>A89A</td>\n      <td>[Not Available]</td>\n      <td>[Not Applicable]</td>\n      <td>[Not Available]</td>\n      <td>XX</td>\n      <td>Breast</td>\n    </tr>\n    <tr>\n      <th>1097</th>\n      <td>23F438BD-1DBB-4D46-972F-1E8E74DDBD37</td>\n      <td>TCGA-Z7-A8R5</td>\n      <td>2014-7-9</td>\n      <td>NO</td>\n      <td>YES</td>\n      <td>-22280</td>\n      <td>FEMALE</td>\n      <td>Post (prior bilateral ovariectomy OR &gt;12 mo si...</td>\n      <td>WHITE</td>\n      <td>NOT HISPANIC OR LATINO</td>\n      <td>...</td>\n      <td>8520/3</td>\n      <td>C50.9</td>\n      <td>YES</td>\n      <td>[Not Available]</td>\n      <td>A8R5</td>\n      <td>[Not Available]</td>\n      <td>[Not Applicable]</td>\n      <td>[Not Available]</td>\n      <td>Z7</td>\n      <td>Breast</td>\n    </tr>\n    <tr>\n      <th>1098</th>\n      <td>B1D44C81-747D-471F-9093-AEB262A17975</td>\n      <td>TCGA-Z7-A8R6</td>\n      <td>2014-7-9</td>\n      <td>NO</td>\n      <td>YES</td>\n      <td>-16955</td>\n      <td>FEMALE</td>\n      <td>Pre (&lt;6 months since LMP AND no prior bilatera...</td>\n      <td>WHITE</td>\n      <td>NOT HISPANIC OR LATINO</td>\n      <td>...</td>\n      <td>8022/3</td>\n      <td>C50.8</td>\n      <td>YES</td>\n      <td>[Not Available]</td>\n      <td>A8R6</td>\n      <td>[Not Available]</td>\n      <td>[Not Applicable]</td>\n      <td>[Not Available]</td>\n      <td>Z7</td>\n      <td>Breast</td>\n    </tr>\n  </tbody>\n</table>\n<p>753 rows × 112 columns</p>\n</div>"
     },
     "execution_count": 3,
     "metadata": {},
     "output_type": "execute_result"
    }
   ],
   "source": [
    "clinical_data['lymph_nodes_examined_he_count'] = pd.to_numeric(clinical_data['lymph_nodes_examined_he_count'], errors='coerce')\n",
    "clinical_data_N03 = clinical_data[clinical_data['lymph_nodes_examined_he_count'] < 4]\n",
    "clinical_data_N03"
   ],
   "metadata": {
    "collapsed": false,
    "ExecuteTime": {
     "start_time": "2023-12-24T12:01:41.506697Z",
     "end_time": "2023-12-24T12:01:41.566888Z"
    }
   }
  },
  {
   "cell_type": "code",
   "execution_count": 4,
   "outputs": [
    {
     "data": {
      "text/plain": "               bar  PFI  PFItime gen_id  predicted_label  \\\n0     TCGA-3C-AAAU    1     1808   BRCA                2   \n1     TCGA-3C-AALI    0     4005   BRCA                2   \n2     TCGA-3C-AALJ    0     1474   BRCA                2   \n3     TCGA-3C-AALK    0     1448   BRCA                2   \n4     TCGA-4H-AAAK    0      348   BRCA                0   \n...            ...  ...      ...    ...              ...   \n1076  TCGA-WT-AB44    0      883   BRCA                1   \n1077  TCGA-XX-A899    0      467   BRCA                0   \n1078  TCGA-XX-A89A    0      488   BRCA                0   \n1079  TCGA-Z7-A8R5    1      181   BRCA                0   \n1080  TCGA-Z7-A8R6    0     3256   BRCA                2   \n\n                              type  ?|100130426  ?|100133144  ?|100134869  \\\n0     TCGA-3C-AAAU-01A-11R-A41B-07     0.000000     4.118061     3.800289   \n1     TCGA-3C-AALI-01A-11R-A41B-07     0.000000     3.359788     4.199986   \n2     TCGA-3C-AALJ-01A-31R-A41B-07     0.931002     3.657960     3.354650   \n3     TCGA-3C-AALK-01A-11R-A41B-07     0.000000     3.710327     3.594537   \n4     TCGA-4H-AAAK-01A-12R-A41B-07     0.000000     2.972104     3.947647   \n...                            ...          ...          ...          ...   \n1076  TCGA-WT-AB44-01A-11R-A41B-07     0.000000     0.000000     2.090176   \n1077  TCGA-XX-A899-01A-11R-A36F-07     0.000000     3.943528     4.488059   \n1078  TCGA-XX-A89A-01A-11R-A36F-07     0.000000     4.543743     4.821425   \n1079  TCGA-Z7-A8R5-01A-42R-A41B-07     0.000000     1.706553     3.051946   \n1080  TCGA-Z7-A8R6-01A-11R-A41B-07     0.000000     2.979385     4.688152   \n\n       ?|10357  ...  ZWILCH|55055  ZWINT|11130  ZXDA|7789  ZXDB|158586  \\\n0     5.732006  ...      8.703295     9.865667   7.028923     9.978396   \n1     6.144766  ...     10.182804     9.916175   5.926358     8.812540   \n2     7.278886  ...      8.259376    11.306221   5.184205     9.063390   \n3     7.178555  ...      8.627556     9.387149   5.808048     8.777199   \n4     6.412998  ...      8.667860     9.399744   5.642014     8.732184   \n...        ...  ...           ...          ...        ...          ...   \n1076  5.435105  ...      7.238538     7.506359   4.668738     7.933897   \n1077  7.116614  ...      8.836199     8.839478   6.167239     9.332486   \n1078  6.025532  ...      9.053106     9.441656   5.633832     8.420049   \n1079  6.427038  ...      7.443847     8.020363   5.055508     7.962803   \n1080  7.397041  ...      9.028373    11.250796   5.147706     8.610047   \n\n      ZXDC|79364  ZYG11A|440590  ZYG11B|79699   ZYX|7791  ZZEF1|23140  \\\n0      10.696533       8.019557     10.240040  11.776536    10.888690   \n1      10.392446       7.640079      9.239811  12.426689    10.365940   \n2       9.588362       8.378607      9.058492  12.414619     9.882464   \n3       9.756358       7.462903      9.248793  12.474809     9.611272   \n4      10.037259       3.910982      9.601297  11.981103     9.702025   \n...          ...            ...           ...        ...          ...   \n1076    9.596113       6.637412      8.304744  13.417075     9.646832   \n1077   10.307816       4.476369      9.428756  12.321677    10.918013   \n1078   10.426820       7.369676      9.546532  12.419581    10.490259   \n1079    9.638843       5.727014      8.985637  12.704904     9.561122   \n1080    9.890097       7.134827      9.166080  11.732812     9.143177   \n\n      ZZZ3|26009  \n0      10.206355  \n1       8.671516  \n2       8.995821  \n3       9.455058  \n4       9.785783  \n...          ...  \n1076    8.794699  \n1077    9.390339  \n1078    9.898916  \n1079    9.554261  \n1080    8.855224  \n\n[1081 rows x 20537 columns]",
      "text/html": "<div>\n<style scoped>\n    .dataframe tbody tr th:only-of-type {\n        vertical-align: middle;\n    }\n\n    .dataframe tbody tr th {\n        vertical-align: top;\n    }\n\n    .dataframe thead th {\n        text-align: right;\n    }\n</style>\n<table border=\"1\" class=\"dataframe\">\n  <thead>\n    <tr style=\"text-align: right;\">\n      <th></th>\n      <th>bar</th>\n      <th>PFI</th>\n      <th>PFItime</th>\n      <th>gen_id</th>\n      <th>predicted_label</th>\n      <th>type</th>\n      <th>?|100130426</th>\n      <th>?|100133144</th>\n      <th>?|100134869</th>\n      <th>?|10357</th>\n      <th>...</th>\n      <th>ZWILCH|55055</th>\n      <th>ZWINT|11130</th>\n      <th>ZXDA|7789</th>\n      <th>ZXDB|158586</th>\n      <th>ZXDC|79364</th>\n      <th>ZYG11A|440590</th>\n      <th>ZYG11B|79699</th>\n      <th>ZYX|7791</th>\n      <th>ZZEF1|23140</th>\n      <th>ZZZ3|26009</th>\n    </tr>\n  </thead>\n  <tbody>\n    <tr>\n      <th>0</th>\n      <td>TCGA-3C-AAAU</td>\n      <td>1</td>\n      <td>1808</td>\n      <td>BRCA</td>\n      <td>2</td>\n      <td>TCGA-3C-AAAU-01A-11R-A41B-07</td>\n      <td>0.000000</td>\n      <td>4.118061</td>\n      <td>3.800289</td>\n      <td>5.732006</td>\n      <td>...</td>\n      <td>8.703295</td>\n      <td>9.865667</td>\n      <td>7.028923</td>\n      <td>9.978396</td>\n      <td>10.696533</td>\n      <td>8.019557</td>\n      <td>10.240040</td>\n      <td>11.776536</td>\n      <td>10.888690</td>\n      <td>10.206355</td>\n    </tr>\n    <tr>\n      <th>1</th>\n      <td>TCGA-3C-AALI</td>\n      <td>0</td>\n      <td>4005</td>\n      <td>BRCA</td>\n      <td>2</td>\n      <td>TCGA-3C-AALI-01A-11R-A41B-07</td>\n      <td>0.000000</td>\n      <td>3.359788</td>\n      <td>4.199986</td>\n      <td>6.144766</td>\n      <td>...</td>\n      <td>10.182804</td>\n      <td>9.916175</td>\n      <td>5.926358</td>\n      <td>8.812540</td>\n      <td>10.392446</td>\n      <td>7.640079</td>\n      <td>9.239811</td>\n      <td>12.426689</td>\n      <td>10.365940</td>\n      <td>8.671516</td>\n    </tr>\n    <tr>\n      <th>2</th>\n      <td>TCGA-3C-AALJ</td>\n      <td>0</td>\n      <td>1474</td>\n      <td>BRCA</td>\n      <td>2</td>\n      <td>TCGA-3C-AALJ-01A-31R-A41B-07</td>\n      <td>0.931002</td>\n      <td>3.657960</td>\n      <td>3.354650</td>\n      <td>7.278886</td>\n      <td>...</td>\n      <td>8.259376</td>\n      <td>11.306221</td>\n      <td>5.184205</td>\n      <td>9.063390</td>\n      <td>9.588362</td>\n      <td>8.378607</td>\n      <td>9.058492</td>\n      <td>12.414619</td>\n      <td>9.882464</td>\n      <td>8.995821</td>\n    </tr>\n    <tr>\n      <th>3</th>\n      <td>TCGA-3C-AALK</td>\n      <td>0</td>\n      <td>1448</td>\n      <td>BRCA</td>\n      <td>2</td>\n      <td>TCGA-3C-AALK-01A-11R-A41B-07</td>\n      <td>0.000000</td>\n      <td>3.710327</td>\n      <td>3.594537</td>\n      <td>7.178555</td>\n      <td>...</td>\n      <td>8.627556</td>\n      <td>9.387149</td>\n      <td>5.808048</td>\n      <td>8.777199</td>\n      <td>9.756358</td>\n      <td>7.462903</td>\n      <td>9.248793</td>\n      <td>12.474809</td>\n      <td>9.611272</td>\n      <td>9.455058</td>\n    </tr>\n    <tr>\n      <th>4</th>\n      <td>TCGA-4H-AAAK</td>\n      <td>0</td>\n      <td>348</td>\n      <td>BRCA</td>\n      <td>0</td>\n      <td>TCGA-4H-AAAK-01A-12R-A41B-07</td>\n      <td>0.000000</td>\n      <td>2.972104</td>\n      <td>3.947647</td>\n      <td>6.412998</td>\n      <td>...</td>\n      <td>8.667860</td>\n      <td>9.399744</td>\n      <td>5.642014</td>\n      <td>8.732184</td>\n      <td>10.037259</td>\n      <td>3.910982</td>\n      <td>9.601297</td>\n      <td>11.981103</td>\n      <td>9.702025</td>\n      <td>9.785783</td>\n    </tr>\n    <tr>\n      <th>...</th>\n      <td>...</td>\n      <td>...</td>\n      <td>...</td>\n      <td>...</td>\n      <td>...</td>\n      <td>...</td>\n      <td>...</td>\n      <td>...</td>\n      <td>...</td>\n      <td>...</td>\n      <td>...</td>\n      <td>...</td>\n      <td>...</td>\n      <td>...</td>\n      <td>...</td>\n      <td>...</td>\n      <td>...</td>\n      <td>...</td>\n      <td>...</td>\n      <td>...</td>\n      <td>...</td>\n    </tr>\n    <tr>\n      <th>1076</th>\n      <td>TCGA-WT-AB44</td>\n      <td>0</td>\n      <td>883</td>\n      <td>BRCA</td>\n      <td>1</td>\n      <td>TCGA-WT-AB44-01A-11R-A41B-07</td>\n      <td>0.000000</td>\n      <td>0.000000</td>\n      <td>2.090176</td>\n      <td>5.435105</td>\n      <td>...</td>\n      <td>7.238538</td>\n      <td>7.506359</td>\n      <td>4.668738</td>\n      <td>7.933897</td>\n      <td>9.596113</td>\n      <td>6.637412</td>\n      <td>8.304744</td>\n      <td>13.417075</td>\n      <td>9.646832</td>\n      <td>8.794699</td>\n    </tr>\n    <tr>\n      <th>1077</th>\n      <td>TCGA-XX-A899</td>\n      <td>0</td>\n      <td>467</td>\n      <td>BRCA</td>\n      <td>0</td>\n      <td>TCGA-XX-A899-01A-11R-A36F-07</td>\n      <td>0.000000</td>\n      <td>3.943528</td>\n      <td>4.488059</td>\n      <td>7.116614</td>\n      <td>...</td>\n      <td>8.836199</td>\n      <td>8.839478</td>\n      <td>6.167239</td>\n      <td>9.332486</td>\n      <td>10.307816</td>\n      <td>4.476369</td>\n      <td>9.428756</td>\n      <td>12.321677</td>\n      <td>10.918013</td>\n      <td>9.390339</td>\n    </tr>\n    <tr>\n      <th>1078</th>\n      <td>TCGA-XX-A89A</td>\n      <td>0</td>\n      <td>488</td>\n      <td>BRCA</td>\n      <td>0</td>\n      <td>TCGA-XX-A89A-01A-11R-A36F-07</td>\n      <td>0.000000</td>\n      <td>4.543743</td>\n      <td>4.821425</td>\n      <td>6.025532</td>\n      <td>...</td>\n      <td>9.053106</td>\n      <td>9.441656</td>\n      <td>5.633832</td>\n      <td>8.420049</td>\n      <td>10.426820</td>\n      <td>7.369676</td>\n      <td>9.546532</td>\n      <td>12.419581</td>\n      <td>10.490259</td>\n      <td>9.898916</td>\n    </tr>\n    <tr>\n      <th>1079</th>\n      <td>TCGA-Z7-A8R5</td>\n      <td>1</td>\n      <td>181</td>\n      <td>BRCA</td>\n      <td>0</td>\n      <td>TCGA-Z7-A8R5-01A-42R-A41B-07</td>\n      <td>0.000000</td>\n      <td>1.706553</td>\n      <td>3.051946</td>\n      <td>6.427038</td>\n      <td>...</td>\n      <td>7.443847</td>\n      <td>8.020363</td>\n      <td>5.055508</td>\n      <td>7.962803</td>\n      <td>9.638843</td>\n      <td>5.727014</td>\n      <td>8.985637</td>\n      <td>12.704904</td>\n      <td>9.561122</td>\n      <td>9.554261</td>\n    </tr>\n    <tr>\n      <th>1080</th>\n      <td>TCGA-Z7-A8R6</td>\n      <td>0</td>\n      <td>3256</td>\n      <td>BRCA</td>\n      <td>2</td>\n      <td>TCGA-Z7-A8R6-01A-11R-A41B-07</td>\n      <td>0.000000</td>\n      <td>2.979385</td>\n      <td>4.688152</td>\n      <td>7.397041</td>\n      <td>...</td>\n      <td>9.028373</td>\n      <td>11.250796</td>\n      <td>5.147706</td>\n      <td>8.610047</td>\n      <td>9.890097</td>\n      <td>7.134827</td>\n      <td>9.166080</td>\n      <td>11.732812</td>\n      <td>9.143177</td>\n      <td>8.855224</td>\n    </tr>\n  </tbody>\n</table>\n<p>1081 rows × 20537 columns</p>\n</div>"
     },
     "execution_count": 4,
     "metadata": {},
     "output_type": "execute_result"
    }
   ],
   "source": [
    "BRCAdata"
   ],
   "metadata": {
    "collapsed": false,
    "ExecuteTime": {
     "start_time": "2023-12-24T12:01:41.538613Z",
     "end_time": "2023-12-24T12:01:41.703524Z"
    }
   }
  },
  {
   "cell_type": "code",
   "execution_count": 5,
   "outputs": [
    {
     "data": {
      "text/plain": "               bar  PFI  PFItime gen_id  predicted_label  \\\n1     TCGA-3C-AALI    0     4005   BRCA                2   \n2     TCGA-3C-AALJ    0     1474   BRCA                2   \n3     TCGA-3C-AALK    0     1448   BRCA                2   \n5     TCGA-5L-AAT0    0     1477   BRCA                2   \n6     TCGA-5L-AAT1    0     1471   BRCA                2   \n...            ...  ...      ...    ...              ...   \n1075  TCGA-WT-AB41    0     1611   BRCA                2   \n1076  TCGA-WT-AB44    0      883   BRCA                1   \n1078  TCGA-XX-A89A    0      488   BRCA                0   \n1079  TCGA-Z7-A8R5    1      181   BRCA                0   \n1080  TCGA-Z7-A8R6    0     3256   BRCA                2   \n\n                              type  ?|100130426  ?|100133144  ?|100134869  \\\n1     TCGA-3C-AALI-01A-11R-A41B-07     0.000000     3.359788     4.199986   \n2     TCGA-3C-AALJ-01A-31R-A41B-07     0.931002     3.657960     3.354650   \n3     TCGA-3C-AALK-01A-11R-A41B-07     0.000000     3.710327     3.594537   \n5     TCGA-5L-AAT0-01A-12R-A41B-07     0.000000     2.318722     3.868786   \n6     TCGA-5L-AAT1-01A-12R-A41B-07     0.000000     0.000000     3.535418   \n...                            ...          ...          ...          ...   \n1075  TCGA-WT-AB41-01A-11R-A41B-07     0.000000     0.000000     2.869694   \n1076  TCGA-WT-AB44-01A-11R-A41B-07     0.000000     0.000000     2.090176   \n1078  TCGA-XX-A89A-01A-11R-A36F-07     0.000000     4.543743     4.821425   \n1079  TCGA-Z7-A8R5-01A-42R-A41B-07     0.000000     1.706553     3.051946   \n1080  TCGA-Z7-A8R6-01A-11R-A41B-07     0.000000     2.979385     4.688152   \n\n       ?|10357  ...  ZWILCH|55055  ZWINT|11130  ZXDA|7789  ZXDB|158586  \\\n1     6.144766  ...     10.182804     9.916175   5.926358     8.812540   \n2     7.278886  ...      8.259376    11.306221   5.184205     9.063390   \n3     7.178555  ...      8.627556     9.387149   5.808048     8.777199   \n5     6.848711  ...      8.372251     8.790208   6.121674     9.332028   \n6     6.870340  ...      8.076890     9.071682   5.518057     9.152417   \n...        ...  ...           ...          ...        ...          ...   \n1075  5.771563  ...      7.479336     8.950384   4.372681     7.808552   \n1076  5.435105  ...      7.238538     7.506359   4.668738     7.933897   \n1078  6.025532  ...      9.053106     9.441656   5.633832     8.420049   \n1079  6.427038  ...      7.443847     8.020363   5.055508     7.962803   \n1080  7.397041  ...      9.028373    11.250796   5.147706     8.610047   \n\n      ZXDC|79364  ZYG11A|440590  ZYG11B|79699   ZYX|7791  ZZEF1|23140  \\\n1      10.392446       7.640079      9.239811  12.426689    10.365940   \n2       9.588362       8.378607      9.058492  12.414619     9.882464   \n3       9.756358       7.462903      9.248793  12.474809     9.611272   \n5      10.125039       4.073657      9.293437  12.012967     9.850388   \n6       9.950687       5.775833      9.006879  12.109534    10.464107   \n...          ...            ...           ...        ...          ...   \n1075    8.842985       5.570766      7.863325  12.704956     9.127633   \n1076    9.596113       6.637412      8.304744  13.417075     9.646832   \n1078   10.426820       7.369676      9.546532  12.419581    10.490259   \n1079    9.638843       5.727014      8.985637  12.704904     9.561122   \n1080    9.890097       7.134827      9.166080  11.732812     9.143177   \n\n      ZZZ3|26009  \n1       8.671516  \n2       8.995821  \n3       9.455058  \n5      10.053573  \n6       9.154481  \n...          ...  \n1075    8.170256  \n1076    8.794699  \n1078    9.898916  \n1079    9.554261  \n1080    8.855224  \n\n[749 rows x 20537 columns]",
      "text/html": "<div>\n<style scoped>\n    .dataframe tbody tr th:only-of-type {\n        vertical-align: middle;\n    }\n\n    .dataframe tbody tr th {\n        vertical-align: top;\n    }\n\n    .dataframe thead th {\n        text-align: right;\n    }\n</style>\n<table border=\"1\" class=\"dataframe\">\n  <thead>\n    <tr style=\"text-align: right;\">\n      <th></th>\n      <th>bar</th>\n      <th>PFI</th>\n      <th>PFItime</th>\n      <th>gen_id</th>\n      <th>predicted_label</th>\n      <th>type</th>\n      <th>?|100130426</th>\n      <th>?|100133144</th>\n      <th>?|100134869</th>\n      <th>?|10357</th>\n      <th>...</th>\n      <th>ZWILCH|55055</th>\n      <th>ZWINT|11130</th>\n      <th>ZXDA|7789</th>\n      <th>ZXDB|158586</th>\n      <th>ZXDC|79364</th>\n      <th>ZYG11A|440590</th>\n      <th>ZYG11B|79699</th>\n      <th>ZYX|7791</th>\n      <th>ZZEF1|23140</th>\n      <th>ZZZ3|26009</th>\n    </tr>\n  </thead>\n  <tbody>\n    <tr>\n      <th>1</th>\n      <td>TCGA-3C-AALI</td>\n      <td>0</td>\n      <td>4005</td>\n      <td>BRCA</td>\n      <td>2</td>\n      <td>TCGA-3C-AALI-01A-11R-A41B-07</td>\n      <td>0.000000</td>\n      <td>3.359788</td>\n      <td>4.199986</td>\n      <td>6.144766</td>\n      <td>...</td>\n      <td>10.182804</td>\n      <td>9.916175</td>\n      <td>5.926358</td>\n      <td>8.812540</td>\n      <td>10.392446</td>\n      <td>7.640079</td>\n      <td>9.239811</td>\n      <td>12.426689</td>\n      <td>10.365940</td>\n      <td>8.671516</td>\n    </tr>\n    <tr>\n      <th>2</th>\n      <td>TCGA-3C-AALJ</td>\n      <td>0</td>\n      <td>1474</td>\n      <td>BRCA</td>\n      <td>2</td>\n      <td>TCGA-3C-AALJ-01A-31R-A41B-07</td>\n      <td>0.931002</td>\n      <td>3.657960</td>\n      <td>3.354650</td>\n      <td>7.278886</td>\n      <td>...</td>\n      <td>8.259376</td>\n      <td>11.306221</td>\n      <td>5.184205</td>\n      <td>9.063390</td>\n      <td>9.588362</td>\n      <td>8.378607</td>\n      <td>9.058492</td>\n      <td>12.414619</td>\n      <td>9.882464</td>\n      <td>8.995821</td>\n    </tr>\n    <tr>\n      <th>3</th>\n      <td>TCGA-3C-AALK</td>\n      <td>0</td>\n      <td>1448</td>\n      <td>BRCA</td>\n      <td>2</td>\n      <td>TCGA-3C-AALK-01A-11R-A41B-07</td>\n      <td>0.000000</td>\n      <td>3.710327</td>\n      <td>3.594537</td>\n      <td>7.178555</td>\n      <td>...</td>\n      <td>8.627556</td>\n      <td>9.387149</td>\n      <td>5.808048</td>\n      <td>8.777199</td>\n      <td>9.756358</td>\n      <td>7.462903</td>\n      <td>9.248793</td>\n      <td>12.474809</td>\n      <td>9.611272</td>\n      <td>9.455058</td>\n    </tr>\n    <tr>\n      <th>5</th>\n      <td>TCGA-5L-AAT0</td>\n      <td>0</td>\n      <td>1477</td>\n      <td>BRCA</td>\n      <td>2</td>\n      <td>TCGA-5L-AAT0-01A-12R-A41B-07</td>\n      <td>0.000000</td>\n      <td>2.318722</td>\n      <td>3.868786</td>\n      <td>6.848711</td>\n      <td>...</td>\n      <td>8.372251</td>\n      <td>8.790208</td>\n      <td>6.121674</td>\n      <td>9.332028</td>\n      <td>10.125039</td>\n      <td>4.073657</td>\n      <td>9.293437</td>\n      <td>12.012967</td>\n      <td>9.850388</td>\n      <td>10.053573</td>\n    </tr>\n    <tr>\n      <th>6</th>\n      <td>TCGA-5L-AAT1</td>\n      <td>0</td>\n      <td>1471</td>\n      <td>BRCA</td>\n      <td>2</td>\n      <td>TCGA-5L-AAT1-01A-12R-A41B-07</td>\n      <td>0.000000</td>\n      <td>0.000000</td>\n      <td>3.535418</td>\n      <td>6.870340</td>\n      <td>...</td>\n      <td>8.076890</td>\n      <td>9.071682</td>\n      <td>5.518057</td>\n      <td>9.152417</td>\n      <td>9.950687</td>\n      <td>5.775833</td>\n      <td>9.006879</td>\n      <td>12.109534</td>\n      <td>10.464107</td>\n      <td>9.154481</td>\n    </tr>\n    <tr>\n      <th>...</th>\n      <td>...</td>\n      <td>...</td>\n      <td>...</td>\n      <td>...</td>\n      <td>...</td>\n      <td>...</td>\n      <td>...</td>\n      <td>...</td>\n      <td>...</td>\n      <td>...</td>\n      <td>...</td>\n      <td>...</td>\n      <td>...</td>\n      <td>...</td>\n      <td>...</td>\n      <td>...</td>\n      <td>...</td>\n      <td>...</td>\n      <td>...</td>\n      <td>...</td>\n      <td>...</td>\n    </tr>\n    <tr>\n      <th>1075</th>\n      <td>TCGA-WT-AB41</td>\n      <td>0</td>\n      <td>1611</td>\n      <td>BRCA</td>\n      <td>2</td>\n      <td>TCGA-WT-AB41-01A-11R-A41B-07</td>\n      <td>0.000000</td>\n      <td>0.000000</td>\n      <td>2.869694</td>\n      <td>5.771563</td>\n      <td>...</td>\n      <td>7.479336</td>\n      <td>8.950384</td>\n      <td>4.372681</td>\n      <td>7.808552</td>\n      <td>8.842985</td>\n      <td>5.570766</td>\n      <td>7.863325</td>\n      <td>12.704956</td>\n      <td>9.127633</td>\n      <td>8.170256</td>\n    </tr>\n    <tr>\n      <th>1076</th>\n      <td>TCGA-WT-AB44</td>\n      <td>0</td>\n      <td>883</td>\n      <td>BRCA</td>\n      <td>1</td>\n      <td>TCGA-WT-AB44-01A-11R-A41B-07</td>\n      <td>0.000000</td>\n      <td>0.000000</td>\n      <td>2.090176</td>\n      <td>5.435105</td>\n      <td>...</td>\n      <td>7.238538</td>\n      <td>7.506359</td>\n      <td>4.668738</td>\n      <td>7.933897</td>\n      <td>9.596113</td>\n      <td>6.637412</td>\n      <td>8.304744</td>\n      <td>13.417075</td>\n      <td>9.646832</td>\n      <td>8.794699</td>\n    </tr>\n    <tr>\n      <th>1078</th>\n      <td>TCGA-XX-A89A</td>\n      <td>0</td>\n      <td>488</td>\n      <td>BRCA</td>\n      <td>0</td>\n      <td>TCGA-XX-A89A-01A-11R-A36F-07</td>\n      <td>0.000000</td>\n      <td>4.543743</td>\n      <td>4.821425</td>\n      <td>6.025532</td>\n      <td>...</td>\n      <td>9.053106</td>\n      <td>9.441656</td>\n      <td>5.633832</td>\n      <td>8.420049</td>\n      <td>10.426820</td>\n      <td>7.369676</td>\n      <td>9.546532</td>\n      <td>12.419581</td>\n      <td>10.490259</td>\n      <td>9.898916</td>\n    </tr>\n    <tr>\n      <th>1079</th>\n      <td>TCGA-Z7-A8R5</td>\n      <td>1</td>\n      <td>181</td>\n      <td>BRCA</td>\n      <td>0</td>\n      <td>TCGA-Z7-A8R5-01A-42R-A41B-07</td>\n      <td>0.000000</td>\n      <td>1.706553</td>\n      <td>3.051946</td>\n      <td>6.427038</td>\n      <td>...</td>\n      <td>7.443847</td>\n      <td>8.020363</td>\n      <td>5.055508</td>\n      <td>7.962803</td>\n      <td>9.638843</td>\n      <td>5.727014</td>\n      <td>8.985637</td>\n      <td>12.704904</td>\n      <td>9.561122</td>\n      <td>9.554261</td>\n    </tr>\n    <tr>\n      <th>1080</th>\n      <td>TCGA-Z7-A8R6</td>\n      <td>0</td>\n      <td>3256</td>\n      <td>BRCA</td>\n      <td>2</td>\n      <td>TCGA-Z7-A8R6-01A-11R-A41B-07</td>\n      <td>0.000000</td>\n      <td>2.979385</td>\n      <td>4.688152</td>\n      <td>7.397041</td>\n      <td>...</td>\n      <td>9.028373</td>\n      <td>11.250796</td>\n      <td>5.147706</td>\n      <td>8.610047</td>\n      <td>9.890097</td>\n      <td>7.134827</td>\n      <td>9.166080</td>\n      <td>11.732812</td>\n      <td>9.143177</td>\n      <td>8.855224</td>\n    </tr>\n  </tbody>\n</table>\n<p>749 rows × 20537 columns</p>\n</div>"
     },
     "execution_count": 5,
     "metadata": {},
     "output_type": "execute_result"
    }
   ],
   "source": [
    "BRCAdataN03 = BRCAdata[BRCAdata['bar'].isin(clinical_data_N03['bcr_patient_barcode'])]\n",
    "BRCAdataN03"
   ],
   "metadata": {
    "collapsed": false,
    "ExecuteTime": {
     "start_time": "2023-12-24T12:01:41.569882Z",
     "end_time": "2023-12-24T12:01:41.721138Z"
    }
   }
  },
  {
   "cell_type": "code",
   "execution_count": 3,
   "outputs": [
    {
     "data": {
      "text/plain": "               bar  PFI  PFItime gen_id  predicted_label  \\\n0     TCGA-3C-AAAU    1     1808   BRCA                2   \n1     TCGA-3C-AALI    0     4005   BRCA                2   \n2     TCGA-3C-AALJ    0     1474   BRCA                2   \n3     TCGA-3C-AALK    0     1448   BRCA                2   \n4     TCGA-4H-AAAK    0      348   BRCA                0   \n...            ...  ...      ...    ...              ...   \n1076  TCGA-WT-AB44    0      883   BRCA                1   \n1077  TCGA-XX-A899    0      467   BRCA                0   \n1078  TCGA-XX-A89A    0      488   BRCA                0   \n1079  TCGA-Z7-A8R5    1      181   BRCA                0   \n1080  TCGA-Z7-A8R6    0     3256   BRCA                2   \n\n                              type  ?|100130426  ?|100133144  ?|100134869  \\\n0     TCGA-3C-AAAU-01A-11R-A41B-07     0.000000     4.118061     3.800289   \n1     TCGA-3C-AALI-01A-11R-A41B-07     0.000000     3.359788     4.199986   \n2     TCGA-3C-AALJ-01A-31R-A41B-07     0.931002     3.657960     3.354650   \n3     TCGA-3C-AALK-01A-11R-A41B-07     0.000000     3.710327     3.594537   \n4     TCGA-4H-AAAK-01A-12R-A41B-07     0.000000     2.972104     3.947647   \n...                            ...          ...          ...          ...   \n1076  TCGA-WT-AB44-01A-11R-A41B-07     0.000000     0.000000     2.090176   \n1077  TCGA-XX-A899-01A-11R-A36F-07     0.000000     3.943528     4.488059   \n1078  TCGA-XX-A89A-01A-11R-A36F-07     0.000000     4.543743     4.821425   \n1079  TCGA-Z7-A8R5-01A-42R-A41B-07     0.000000     1.706553     3.051946   \n1080  TCGA-Z7-A8R6-01A-11R-A41B-07     0.000000     2.979385     4.688152   \n\n       ?|10357  ...  ZWILCH|55055  ZWINT|11130  ZXDA|7789  ZXDB|158586  \\\n0     5.732006  ...      8.703295     9.865667   7.028923     9.978396   \n1     6.144766  ...     10.182804     9.916175   5.926358     8.812540   \n2     7.278886  ...      8.259376    11.306221   5.184205     9.063390   \n3     7.178555  ...      8.627556     9.387149   5.808048     8.777199   \n4     6.412998  ...      8.667860     9.399744   5.642014     8.732184   \n...        ...  ...           ...          ...        ...          ...   \n1076  5.435105  ...      7.238538     7.506359   4.668738     7.933897   \n1077  7.116614  ...      8.836199     8.839478   6.167239     9.332486   \n1078  6.025532  ...      9.053106     9.441656   5.633832     8.420049   \n1079  6.427038  ...      7.443847     8.020363   5.055508     7.962803   \n1080  7.397041  ...      9.028373    11.250796   5.147706     8.610047   \n\n      ZXDC|79364  ZYG11A|440590  ZYG11B|79699   ZYX|7791  ZZEF1|23140  \\\n0      10.696533       8.019557     10.240040  11.776536    10.888690   \n1      10.392446       7.640079      9.239811  12.426689    10.365940   \n2       9.588362       8.378607      9.058492  12.414619     9.882464   \n3       9.756358       7.462903      9.248793  12.474809     9.611272   \n4      10.037259       3.910982      9.601297  11.981103     9.702025   \n...          ...            ...           ...        ...          ...   \n1076    9.596113       6.637412      8.304744  13.417075     9.646832   \n1077   10.307816       4.476369      9.428756  12.321677    10.918013   \n1078   10.426820       7.369676      9.546532  12.419581    10.490259   \n1079    9.638843       5.727014      8.985637  12.704904     9.561122   \n1080    9.890097       7.134827      9.166080  11.732812     9.143177   \n\n      ZZZ3|26009  \n0      10.206355  \n1       8.671516  \n2       8.995821  \n3       9.455058  \n4       9.785783  \n...          ...  \n1076    8.794699  \n1077    9.390339  \n1078    9.898916  \n1079    9.554261  \n1080    8.855224  \n\n[795 rows x 20537 columns]",
      "text/html": "<div>\n<style scoped>\n    .dataframe tbody tr th:only-of-type {\n        vertical-align: middle;\n    }\n\n    .dataframe tbody tr th {\n        vertical-align: top;\n    }\n\n    .dataframe thead th {\n        text-align: right;\n    }\n</style>\n<table border=\"1\" class=\"dataframe\">\n  <thead>\n    <tr style=\"text-align: right;\">\n      <th></th>\n      <th>bar</th>\n      <th>PFI</th>\n      <th>PFItime</th>\n      <th>gen_id</th>\n      <th>predicted_label</th>\n      <th>type</th>\n      <th>?|100130426</th>\n      <th>?|100133144</th>\n      <th>?|100134869</th>\n      <th>?|10357</th>\n      <th>...</th>\n      <th>ZWILCH|55055</th>\n      <th>ZWINT|11130</th>\n      <th>ZXDA|7789</th>\n      <th>ZXDB|158586</th>\n      <th>ZXDC|79364</th>\n      <th>ZYG11A|440590</th>\n      <th>ZYG11B|79699</th>\n      <th>ZYX|7791</th>\n      <th>ZZEF1|23140</th>\n      <th>ZZZ3|26009</th>\n    </tr>\n  </thead>\n  <tbody>\n    <tr>\n      <th>0</th>\n      <td>TCGA-3C-AAAU</td>\n      <td>1</td>\n      <td>1808</td>\n      <td>BRCA</td>\n      <td>2</td>\n      <td>TCGA-3C-AAAU-01A-11R-A41B-07</td>\n      <td>0.000000</td>\n      <td>4.118061</td>\n      <td>3.800289</td>\n      <td>5.732006</td>\n      <td>...</td>\n      <td>8.703295</td>\n      <td>9.865667</td>\n      <td>7.028923</td>\n      <td>9.978396</td>\n      <td>10.696533</td>\n      <td>8.019557</td>\n      <td>10.240040</td>\n      <td>11.776536</td>\n      <td>10.888690</td>\n      <td>10.206355</td>\n    </tr>\n    <tr>\n      <th>1</th>\n      <td>TCGA-3C-AALI</td>\n      <td>0</td>\n      <td>4005</td>\n      <td>BRCA</td>\n      <td>2</td>\n      <td>TCGA-3C-AALI-01A-11R-A41B-07</td>\n      <td>0.000000</td>\n      <td>3.359788</td>\n      <td>4.199986</td>\n      <td>6.144766</td>\n      <td>...</td>\n      <td>10.182804</td>\n      <td>9.916175</td>\n      <td>5.926358</td>\n      <td>8.812540</td>\n      <td>10.392446</td>\n      <td>7.640079</td>\n      <td>9.239811</td>\n      <td>12.426689</td>\n      <td>10.365940</td>\n      <td>8.671516</td>\n    </tr>\n    <tr>\n      <th>2</th>\n      <td>TCGA-3C-AALJ</td>\n      <td>0</td>\n      <td>1474</td>\n      <td>BRCA</td>\n      <td>2</td>\n      <td>TCGA-3C-AALJ-01A-31R-A41B-07</td>\n      <td>0.931002</td>\n      <td>3.657960</td>\n      <td>3.354650</td>\n      <td>7.278886</td>\n      <td>...</td>\n      <td>8.259376</td>\n      <td>11.306221</td>\n      <td>5.184205</td>\n      <td>9.063390</td>\n      <td>9.588362</td>\n      <td>8.378607</td>\n      <td>9.058492</td>\n      <td>12.414619</td>\n      <td>9.882464</td>\n      <td>8.995821</td>\n    </tr>\n    <tr>\n      <th>3</th>\n      <td>TCGA-3C-AALK</td>\n      <td>0</td>\n      <td>1448</td>\n      <td>BRCA</td>\n      <td>2</td>\n      <td>TCGA-3C-AALK-01A-11R-A41B-07</td>\n      <td>0.000000</td>\n      <td>3.710327</td>\n      <td>3.594537</td>\n      <td>7.178555</td>\n      <td>...</td>\n      <td>8.627556</td>\n      <td>9.387149</td>\n      <td>5.808048</td>\n      <td>8.777199</td>\n      <td>9.756358</td>\n      <td>7.462903</td>\n      <td>9.248793</td>\n      <td>12.474809</td>\n      <td>9.611272</td>\n      <td>9.455058</td>\n    </tr>\n    <tr>\n      <th>4</th>\n      <td>TCGA-4H-AAAK</td>\n      <td>0</td>\n      <td>348</td>\n      <td>BRCA</td>\n      <td>0</td>\n      <td>TCGA-4H-AAAK-01A-12R-A41B-07</td>\n      <td>0.000000</td>\n      <td>2.972104</td>\n      <td>3.947647</td>\n      <td>6.412998</td>\n      <td>...</td>\n      <td>8.667860</td>\n      <td>9.399744</td>\n      <td>5.642014</td>\n      <td>8.732184</td>\n      <td>10.037259</td>\n      <td>3.910982</td>\n      <td>9.601297</td>\n      <td>11.981103</td>\n      <td>9.702025</td>\n      <td>9.785783</td>\n    </tr>\n    <tr>\n      <th>...</th>\n      <td>...</td>\n      <td>...</td>\n      <td>...</td>\n      <td>...</td>\n      <td>...</td>\n      <td>...</td>\n      <td>...</td>\n      <td>...</td>\n      <td>...</td>\n      <td>...</td>\n      <td>...</td>\n      <td>...</td>\n      <td>...</td>\n      <td>...</td>\n      <td>...</td>\n      <td>...</td>\n      <td>...</td>\n      <td>...</td>\n      <td>...</td>\n      <td>...</td>\n      <td>...</td>\n    </tr>\n    <tr>\n      <th>1076</th>\n      <td>TCGA-WT-AB44</td>\n      <td>0</td>\n      <td>883</td>\n      <td>BRCA</td>\n      <td>1</td>\n      <td>TCGA-WT-AB44-01A-11R-A41B-07</td>\n      <td>0.000000</td>\n      <td>0.000000</td>\n      <td>2.090176</td>\n      <td>5.435105</td>\n      <td>...</td>\n      <td>7.238538</td>\n      <td>7.506359</td>\n      <td>4.668738</td>\n      <td>7.933897</td>\n      <td>9.596113</td>\n      <td>6.637412</td>\n      <td>8.304744</td>\n      <td>13.417075</td>\n      <td>9.646832</td>\n      <td>8.794699</td>\n    </tr>\n    <tr>\n      <th>1077</th>\n      <td>TCGA-XX-A899</td>\n      <td>0</td>\n      <td>467</td>\n      <td>BRCA</td>\n      <td>0</td>\n      <td>TCGA-XX-A899-01A-11R-A36F-07</td>\n      <td>0.000000</td>\n      <td>3.943528</td>\n      <td>4.488059</td>\n      <td>7.116614</td>\n      <td>...</td>\n      <td>8.836199</td>\n      <td>8.839478</td>\n      <td>6.167239</td>\n      <td>9.332486</td>\n      <td>10.307816</td>\n      <td>4.476369</td>\n      <td>9.428756</td>\n      <td>12.321677</td>\n      <td>10.918013</td>\n      <td>9.390339</td>\n    </tr>\n    <tr>\n      <th>1078</th>\n      <td>TCGA-XX-A89A</td>\n      <td>0</td>\n      <td>488</td>\n      <td>BRCA</td>\n      <td>0</td>\n      <td>TCGA-XX-A89A-01A-11R-A36F-07</td>\n      <td>0.000000</td>\n      <td>4.543743</td>\n      <td>4.821425</td>\n      <td>6.025532</td>\n      <td>...</td>\n      <td>9.053106</td>\n      <td>9.441656</td>\n      <td>5.633832</td>\n      <td>8.420049</td>\n      <td>10.426820</td>\n      <td>7.369676</td>\n      <td>9.546532</td>\n      <td>12.419581</td>\n      <td>10.490259</td>\n      <td>9.898916</td>\n    </tr>\n    <tr>\n      <th>1079</th>\n      <td>TCGA-Z7-A8R5</td>\n      <td>1</td>\n      <td>181</td>\n      <td>BRCA</td>\n      <td>0</td>\n      <td>TCGA-Z7-A8R5-01A-42R-A41B-07</td>\n      <td>0.000000</td>\n      <td>1.706553</td>\n      <td>3.051946</td>\n      <td>6.427038</td>\n      <td>...</td>\n      <td>7.443847</td>\n      <td>8.020363</td>\n      <td>5.055508</td>\n      <td>7.962803</td>\n      <td>9.638843</td>\n      <td>5.727014</td>\n      <td>8.985637</td>\n      <td>12.704904</td>\n      <td>9.561122</td>\n      <td>9.554261</td>\n    </tr>\n    <tr>\n      <th>1080</th>\n      <td>TCGA-Z7-A8R6</td>\n      <td>0</td>\n      <td>3256</td>\n      <td>BRCA</td>\n      <td>2</td>\n      <td>TCGA-Z7-A8R6-01A-11R-A41B-07</td>\n      <td>0.000000</td>\n      <td>2.979385</td>\n      <td>4.688152</td>\n      <td>7.397041</td>\n      <td>...</td>\n      <td>9.028373</td>\n      <td>11.250796</td>\n      <td>5.147706</td>\n      <td>8.610047</td>\n      <td>9.890097</td>\n      <td>7.134827</td>\n      <td>9.166080</td>\n      <td>11.732812</td>\n      <td>9.143177</td>\n      <td>8.855224</td>\n    </tr>\n  </tbody>\n</table>\n<p>795 rows × 20537 columns</p>\n</div>"
     },
     "execution_count": 3,
     "metadata": {},
     "output_type": "execute_result"
    }
   ],
   "source": [
    "BRCAdataERp = BRCAdata[BRCAdata['bar'].isin(clinical_data_ERp['bcr_patient_barcode'])]\n",
    "BRCAdataERp"
   ],
   "metadata": {
    "collapsed": false,
    "ExecuteTime": {
     "start_time": "2023-12-25T17:44:25.178347Z",
     "end_time": "2023-12-25T17:44:25.298026Z"
    }
   }
  },
  {
   "cell_type": "code",
   "execution_count": 7,
   "outputs": [],
   "source": [
    "# Calculating variance for columns from the 7th to the end\n",
    "variances = BRCAdataERp.iloc[:, 6:].var()\n",
    "\n",
    "# Finding the top 30% columns based on variance\n",
    "top_30_percent = variances.nlargest(int(len(variances) * 0.3))\n",
    "\n",
    "# Getting the column names of the top 30% variance columns\n",
    "selected_columns = top_30_percent.index.tolist()\n",
    "\n",
    "# Combining the first 6 columns with the selected columns\n",
    "final_columns = BRCAdataERp.columns[:6].tolist() + selected_columns\n",
    "\n",
    "# Creating the new dataframe\n",
    "BRCAdataERp30 = BRCAdataERp[final_columns]"
   ],
   "metadata": {
    "collapsed": false,
    "ExecuteTime": {
     "start_time": "2023-12-25T18:14:08.577129Z",
     "end_time": "2023-12-25T18:14:08.786559Z"
    }
   }
  },
  {
   "cell_type": "code",
   "execution_count": 8,
   "outputs": [
    {
     "data": {
      "text/plain": "               bar  PFI  PFItime gen_id  predicted_label  \\\n0     TCGA-3C-AAAU    1     1808   BRCA                2   \n1     TCGA-3C-AALI    0     4005   BRCA                2   \n2     TCGA-3C-AALJ    0     1474   BRCA                2   \n3     TCGA-3C-AALK    0     1448   BRCA                2   \n4     TCGA-4H-AAAK    0      348   BRCA                0   \n...            ...  ...      ...    ...              ...   \n1076  TCGA-WT-AB44    0      883   BRCA                1   \n1077  TCGA-XX-A899    0      467   BRCA                0   \n1078  TCGA-XX-A89A    0      488   BRCA                0   \n1079  TCGA-Z7-A8R5    1      181   BRCA                0   \n1080  TCGA-Z7-A8R6    0     3256   BRCA                2   \n\n                              type  CLEC3A|10143  CPB1|1360  SCGB2A2|4250  \\\n0     TCGA-3C-AAAU-01A-11R-A41B-07      2.454334  16.161348     15.969238   \n1     TCGA-3C-AALI-01A-11R-A41B-07     11.768726   4.243707     16.161817   \n2     TCGA-3C-AALJ-01A-31R-A41B-07      0.000000  11.107740      0.000000   \n3     TCGA-3C-AALK-01A-11R-A41B-07      5.376641   6.928501      8.744171   \n4     TCGA-4H-AAAK-01A-12R-A41B-07      7.493047   2.707503     14.983354   \n...                            ...           ...        ...           ...   \n1076  TCGA-WT-AB44-01A-11R-A41B-07     12.177494   1.783876     13.690642   \n1077  TCGA-XX-A899-01A-11R-A36F-07      1.569734   3.084115     14.990902   \n1078  TCGA-XX-A89A-01A-11R-A36F-07      0.000000   6.176470      7.770096   \n1079  TCGA-Z7-A8R5-01A-42R-A41B-07      8.379851  11.611555     15.371994   \n1080  TCGA-Z7-A8R6-01A-11R-A41B-07     12.813493   8.947596      7.729430   \n\n      GSTM1|2944  ...  NTM|50863  NRN1L|123904  NR5A2|2494  LST1|7940  \\\n0      10.834447  ...   8.154813      2.031430    5.661946   5.473365   \n1       6.529103  ...   8.112142      2.170534    4.201697   7.451277   \n2       2.877018  ...   8.451409      3.932647    7.413949   7.413949   \n3      11.637127  ...   8.623746      1.090515    5.662442   7.059561   \n4      11.365940  ...   8.920067      1.613343    5.472627   7.012178   \n...          ...  ...        ...           ...         ...        ...   \n1076    0.859572  ...   8.462964      4.421398    5.265546   7.938692   \n1077   11.906586  ...   7.720025      2.228049    7.207990   7.720025   \n1078    8.985572  ...   9.303968      1.502229    6.973898   7.901307   \n1079    1.481299  ...   6.453042      0.000000    6.413151   9.352858   \n1080   11.985710  ...   8.284218      0.000000    4.451449   6.371118   \n\n      EBF1|1879  NTNG2|84628  TTC24|164118  TRO|7216  NEUROD4|58158  \\\n0      6.276391     3.781612      1.445356  7.396639       1.770871   \n1      7.349126     8.027486      2.419593  6.978058       0.626486   \n2      7.531717     4.770401      2.686993  7.593974       0.000000   \n3      7.937250     5.697371      1.164271  7.887702       0.000000   \n4      7.342315     5.311917      0.511468  8.132243       0.000000   \n...         ...          ...           ...       ...            ...   \n1076   6.804415     5.542626      0.000000  7.716483       0.000000   \n1077   9.197760     4.526520      4.065917  7.706489       0.000000   \n1078   9.254615     4.851479      1.938926  8.260313       0.000000   \n1079   7.015950     4.413377      1.133958  7.577028       0.000000   \n1080   6.022985     3.425379      0.000000  7.201144       0.000000   \n\n      VSIG8|391123  \n0         1.630172  \n1         4.940467  \n2         3.455860  \n3         0.869871  \n4         1.434081  \n...            ...  \n1076      4.323262  \n1077      0.837863  \n1078      1.795144  \n1079      2.801821  \n1080      1.454123  \n\n[795 rows x 6165 columns]",
      "text/html": "<div>\n<style scoped>\n    .dataframe tbody tr th:only-of-type {\n        vertical-align: middle;\n    }\n\n    .dataframe tbody tr th {\n        vertical-align: top;\n    }\n\n    .dataframe thead th {\n        text-align: right;\n    }\n</style>\n<table border=\"1\" class=\"dataframe\">\n  <thead>\n    <tr style=\"text-align: right;\">\n      <th></th>\n      <th>bar</th>\n      <th>PFI</th>\n      <th>PFItime</th>\n      <th>gen_id</th>\n      <th>predicted_label</th>\n      <th>type</th>\n      <th>CLEC3A|10143</th>\n      <th>CPB1|1360</th>\n      <th>SCGB2A2|4250</th>\n      <th>GSTM1|2944</th>\n      <th>...</th>\n      <th>NTM|50863</th>\n      <th>NRN1L|123904</th>\n      <th>NR5A2|2494</th>\n      <th>LST1|7940</th>\n      <th>EBF1|1879</th>\n      <th>NTNG2|84628</th>\n      <th>TTC24|164118</th>\n      <th>TRO|7216</th>\n      <th>NEUROD4|58158</th>\n      <th>VSIG8|391123</th>\n    </tr>\n  </thead>\n  <tbody>\n    <tr>\n      <th>0</th>\n      <td>TCGA-3C-AAAU</td>\n      <td>1</td>\n      <td>1808</td>\n      <td>BRCA</td>\n      <td>2</td>\n      <td>TCGA-3C-AAAU-01A-11R-A41B-07</td>\n      <td>2.454334</td>\n      <td>16.161348</td>\n      <td>15.969238</td>\n      <td>10.834447</td>\n      <td>...</td>\n      <td>8.154813</td>\n      <td>2.031430</td>\n      <td>5.661946</td>\n      <td>5.473365</td>\n      <td>6.276391</td>\n      <td>3.781612</td>\n      <td>1.445356</td>\n      <td>7.396639</td>\n      <td>1.770871</td>\n      <td>1.630172</td>\n    </tr>\n    <tr>\n      <th>1</th>\n      <td>TCGA-3C-AALI</td>\n      <td>0</td>\n      <td>4005</td>\n      <td>BRCA</td>\n      <td>2</td>\n      <td>TCGA-3C-AALI-01A-11R-A41B-07</td>\n      <td>11.768726</td>\n      <td>4.243707</td>\n      <td>16.161817</td>\n      <td>6.529103</td>\n      <td>...</td>\n      <td>8.112142</td>\n      <td>2.170534</td>\n      <td>4.201697</td>\n      <td>7.451277</td>\n      <td>7.349126</td>\n      <td>8.027486</td>\n      <td>2.419593</td>\n      <td>6.978058</td>\n      <td>0.626486</td>\n      <td>4.940467</td>\n    </tr>\n    <tr>\n      <th>2</th>\n      <td>TCGA-3C-AALJ</td>\n      <td>0</td>\n      <td>1474</td>\n      <td>BRCA</td>\n      <td>2</td>\n      <td>TCGA-3C-AALJ-01A-31R-A41B-07</td>\n      <td>0.000000</td>\n      <td>11.107740</td>\n      <td>0.000000</td>\n      <td>2.877018</td>\n      <td>...</td>\n      <td>8.451409</td>\n      <td>3.932647</td>\n      <td>7.413949</td>\n      <td>7.413949</td>\n      <td>7.531717</td>\n      <td>4.770401</td>\n      <td>2.686993</td>\n      <td>7.593974</td>\n      <td>0.000000</td>\n      <td>3.455860</td>\n    </tr>\n    <tr>\n      <th>3</th>\n      <td>TCGA-3C-AALK</td>\n      <td>0</td>\n      <td>1448</td>\n      <td>BRCA</td>\n      <td>2</td>\n      <td>TCGA-3C-AALK-01A-11R-A41B-07</td>\n      <td>5.376641</td>\n      <td>6.928501</td>\n      <td>8.744171</td>\n      <td>11.637127</td>\n      <td>...</td>\n      <td>8.623746</td>\n      <td>1.090515</td>\n      <td>5.662442</td>\n      <td>7.059561</td>\n      <td>7.937250</td>\n      <td>5.697371</td>\n      <td>1.164271</td>\n      <td>7.887702</td>\n      <td>0.000000</td>\n      <td>0.869871</td>\n    </tr>\n    <tr>\n      <th>4</th>\n      <td>TCGA-4H-AAAK</td>\n      <td>0</td>\n      <td>348</td>\n      <td>BRCA</td>\n      <td>0</td>\n      <td>TCGA-4H-AAAK-01A-12R-A41B-07</td>\n      <td>7.493047</td>\n      <td>2.707503</td>\n      <td>14.983354</td>\n      <td>11.365940</td>\n      <td>...</td>\n      <td>8.920067</td>\n      <td>1.613343</td>\n      <td>5.472627</td>\n      <td>7.012178</td>\n      <td>7.342315</td>\n      <td>5.311917</td>\n      <td>0.511468</td>\n      <td>8.132243</td>\n      <td>0.000000</td>\n      <td>1.434081</td>\n    </tr>\n    <tr>\n      <th>...</th>\n      <td>...</td>\n      <td>...</td>\n      <td>...</td>\n      <td>...</td>\n      <td>...</td>\n      <td>...</td>\n      <td>...</td>\n      <td>...</td>\n      <td>...</td>\n      <td>...</td>\n      <td>...</td>\n      <td>...</td>\n      <td>...</td>\n      <td>...</td>\n      <td>...</td>\n      <td>...</td>\n      <td>...</td>\n      <td>...</td>\n      <td>...</td>\n      <td>...</td>\n      <td>...</td>\n    </tr>\n    <tr>\n      <th>1076</th>\n      <td>TCGA-WT-AB44</td>\n      <td>0</td>\n      <td>883</td>\n      <td>BRCA</td>\n      <td>1</td>\n      <td>TCGA-WT-AB44-01A-11R-A41B-07</td>\n      <td>12.177494</td>\n      <td>1.783876</td>\n      <td>13.690642</td>\n      <td>0.859572</td>\n      <td>...</td>\n      <td>8.462964</td>\n      <td>4.421398</td>\n      <td>5.265546</td>\n      <td>7.938692</td>\n      <td>6.804415</td>\n      <td>5.542626</td>\n      <td>0.000000</td>\n      <td>7.716483</td>\n      <td>0.000000</td>\n      <td>4.323262</td>\n    </tr>\n    <tr>\n      <th>1077</th>\n      <td>TCGA-XX-A899</td>\n      <td>0</td>\n      <td>467</td>\n      <td>BRCA</td>\n      <td>0</td>\n      <td>TCGA-XX-A899-01A-11R-A36F-07</td>\n      <td>1.569734</td>\n      <td>3.084115</td>\n      <td>14.990902</td>\n      <td>11.906586</td>\n      <td>...</td>\n      <td>7.720025</td>\n      <td>2.228049</td>\n      <td>7.207990</td>\n      <td>7.720025</td>\n      <td>9.197760</td>\n      <td>4.526520</td>\n      <td>4.065917</td>\n      <td>7.706489</td>\n      <td>0.000000</td>\n      <td>0.837863</td>\n    </tr>\n    <tr>\n      <th>1078</th>\n      <td>TCGA-XX-A89A</td>\n      <td>0</td>\n      <td>488</td>\n      <td>BRCA</td>\n      <td>0</td>\n      <td>TCGA-XX-A89A-01A-11R-A36F-07</td>\n      <td>0.000000</td>\n      <td>6.176470</td>\n      <td>7.770096</td>\n      <td>8.985572</td>\n      <td>...</td>\n      <td>9.303968</td>\n      <td>1.502229</td>\n      <td>6.973898</td>\n      <td>7.901307</td>\n      <td>9.254615</td>\n      <td>4.851479</td>\n      <td>1.938926</td>\n      <td>8.260313</td>\n      <td>0.000000</td>\n      <td>1.795144</td>\n    </tr>\n    <tr>\n      <th>1079</th>\n      <td>TCGA-Z7-A8R5</td>\n      <td>1</td>\n      <td>181</td>\n      <td>BRCA</td>\n      <td>0</td>\n      <td>TCGA-Z7-A8R5-01A-42R-A41B-07</td>\n      <td>8.379851</td>\n      <td>11.611555</td>\n      <td>15.371994</td>\n      <td>1.481299</td>\n      <td>...</td>\n      <td>6.453042</td>\n      <td>0.000000</td>\n      <td>6.413151</td>\n      <td>9.352858</td>\n      <td>7.015950</td>\n      <td>4.413377</td>\n      <td>1.133958</td>\n      <td>7.577028</td>\n      <td>0.000000</td>\n      <td>2.801821</td>\n    </tr>\n    <tr>\n      <th>1080</th>\n      <td>TCGA-Z7-A8R6</td>\n      <td>0</td>\n      <td>3256</td>\n      <td>BRCA</td>\n      <td>2</td>\n      <td>TCGA-Z7-A8R6-01A-11R-A41B-07</td>\n      <td>12.813493</td>\n      <td>8.947596</td>\n      <td>7.729430</td>\n      <td>11.985710</td>\n      <td>...</td>\n      <td>8.284218</td>\n      <td>0.000000</td>\n      <td>4.451449</td>\n      <td>6.371118</td>\n      <td>6.022985</td>\n      <td>3.425379</td>\n      <td>0.000000</td>\n      <td>7.201144</td>\n      <td>0.000000</td>\n      <td>1.454123</td>\n    </tr>\n  </tbody>\n</table>\n<p>795 rows × 6165 columns</p>\n</div>"
     },
     "execution_count": 8,
     "metadata": {},
     "output_type": "execute_result"
    }
   ],
   "source": [
    "BRCAdataERp30"
   ],
   "metadata": {
    "collapsed": false,
    "ExecuteTime": {
     "start_time": "2023-12-25T18:14:13.067776Z",
     "end_time": "2023-12-25T18:14:13.107141Z"
    }
   }
  },
  {
   "cell_type": "code",
   "execution_count": 12,
   "outputs": [
    {
     "name": "stderr",
     "output_type": "stream",
     "text": [
      "C:\\Users\\anchen.sun\\AppData\\Local\\Temp\\ipykernel_24368\\2230274183.py:1: SettingWithCopyWarning: \n",
      "A value is trying to be set on a copy of a slice from a DataFrame.\n",
      "Try using .loc[row_indexer,col_indexer] = value instead\n",
      "\n",
      "See the caveats in the documentation: https://pandas.pydata.org/pandas-docs/stable/user_guide/indexing.html#returning-a-view-versus-a-copy\n",
      "  BRCAdataERp['predicted_label'] = np.where(\n"
     ]
    },
    {
     "data": {
      "text/plain": "2.0    173\n0.0     44\n1.0     22\nName: predicted_label, dtype: int64"
     },
     "execution_count": 12,
     "metadata": {},
     "output_type": "execute_result"
    }
   ],
   "source": [
    "BRCAdataERp['predicted_label'] = np.where(\n",
    "    (BRCAdataERp['PFItime'] < 3*365) & (BRCAdataERp['PFI'] == 1), 0,\n",
    "    np.where(\n",
    "        (BRCAdataERp['PFItime'] >= 3*365) & (BRCAdataERp['PFItime'] < 5*365) & (BRCAdataERp['PFI'] == 1), 1,\n",
    "        np.where(BRCAdataERp['PFItime'] >= 5*365, 2, np.nan)\n",
    "    )\n",
    ")\n",
    "\n",
    "# Remove rows where 'FPItime' < 5*365 and 'PFI' == 0\n",
    "BRCAdataERp = BRCAdataERp.drop(BRCAdataERp[(BRCAdataERp['PFItime'] < 5*365) & (BRCAdataERp['PFI'] == 0)].index)\n",
    "\n",
    "BRCAdataERp\n",
    "\n",
    "label_counts = BRCAdataERp['predicted_label'].value_counts()\n",
    "label_counts"
   ],
   "metadata": {
    "collapsed": false,
    "ExecuteTime": {
     "start_time": "2023-12-24T12:02:27.881756Z",
     "end_time": "2023-12-24T12:02:28.177898Z"
    }
   }
  },
  {
   "cell_type": "code",
   "execution_count": 13,
   "outputs": [
    {
     "data": {
      "text/plain": "               bar  PFI  PFItime gen_id  predicted_label  \\\n0     TCGA-3C-AAAU    1     1808   BRCA              1.0   \n1     TCGA-3C-AALI    0     4005   BRCA              2.0   \n22    TCGA-A2-A04N    0     4354   BRCA              2.0   \n25    TCGA-A2-A04R    0     3709   BRCA              2.0   \n28    TCGA-A2-A04V    1     1470   BRCA              1.0   \n...            ...  ...      ...    ...              ...   \n1056  TCGA-PE-A5DD    0     1953   BRCA              2.0   \n1057  TCGA-PE-A5DE    0     2645   BRCA              2.0   \n1073  TCGA-V7-A7HQ    0     2033   BRCA              2.0   \n1079  TCGA-Z7-A8R5    1      181   BRCA              0.0   \n1080  TCGA-Z7-A8R6    0     3256   BRCA              2.0   \n\n                              type  ?|100130426  ?|100133144  ?|100134869  \\\n0     TCGA-3C-AAAU-01A-11R-A41B-07          0.0     4.118061     3.800289   \n1     TCGA-3C-AALI-01A-11R-A41B-07          0.0     3.359788     4.199986   \n22    TCGA-A2-A04N-01A-11R-A115-07          0.0     2.655604     2.996570   \n25    TCGA-A2-A04R-01A-41R-A109-07          0.0     2.209703     3.653908   \n28    TCGA-A2-A04V-01A-21R-A034-07          0.0     2.463152     2.647038   \n...                            ...          ...          ...          ...   \n1056  TCGA-PE-A5DD-01A-12R-A27Q-07          0.0     2.256195     3.600888   \n1057  TCGA-PE-A5DE-01A-11R-A27Q-07          0.0     1.584337     2.610629   \n1073  TCGA-V7-A7HQ-01A-11R-A33J-07          0.0     0.000000     2.028286   \n1079  TCGA-Z7-A8R5-01A-42R-A41B-07          0.0     1.706553     3.051946   \n1080  TCGA-Z7-A8R6-01A-11R-A41B-07          0.0     2.979385     4.688152   \n\n       ?|10357  ...  ZWILCH|55055  ZWINT|11130  ZXDA|7789  ZXDB|158586  \\\n0     5.732006  ...      8.703295     9.865667   7.028923     9.978396   \n1     6.144766  ...     10.182804     9.916175   5.926358     8.812540   \n22    6.768753  ...      8.590812     8.960659   6.086555     8.530832   \n25    6.916966  ...      8.512665    10.183635   6.748099    11.653517   \n28    7.387509  ...      9.055128     9.975719   5.325955     9.058219   \n...        ...  ...           ...          ...        ...          ...   \n1056  6.741656  ...      8.138175     9.803556   5.898404     8.086800   \n1057  6.813538  ...      8.587174     9.063034   5.820651     9.173690   \n1073  4.954075  ...      7.337479     7.961062   4.608916     7.527633   \n1079  6.427038  ...      7.443847     8.020363   5.055508     7.962803   \n1080  7.397041  ...      9.028373    11.250796   5.147706     8.610047   \n\n      ZXDC|79364  ZYG11A|440590  ZYG11B|79699   ZYX|7791  ZZEF1|23140  \\\n0      10.696533       8.019557     10.240040  11.776536    10.888690   \n1      10.392446       7.640079      9.239811  12.426689    10.365940   \n22     10.081364       5.503794      9.621045  11.322841    10.072896   \n25     10.390491       6.340753      9.669213  11.544201     9.351732   \n28      9.906973       3.193504      9.454822  12.001408     9.186830   \n...          ...            ...           ...        ...          ...   \n1056   10.350022       7.907287      9.147467  11.781515    10.065524   \n1057   10.263868       5.490913      9.294938  12.154033     9.925995   \n1073    9.252814       5.358586      8.575872  12.656058     9.548103   \n1079    9.638843       5.727014      8.985637  12.704904     9.561122   \n1080    9.890097       7.134827      9.166080  11.732812     9.143177   \n\n      ZZZ3|26009  \n0      10.206355  \n1       8.671516  \n22      9.807368  \n25      8.792045  \n28      9.747225  \n...          ...  \n1056    8.821111  \n1057    9.390642  \n1073    8.250810  \n1079    9.554261  \n1080    8.855224  \n\n[239 rows x 20537 columns]",
      "text/html": "<div>\n<style scoped>\n    .dataframe tbody tr th:only-of-type {\n        vertical-align: middle;\n    }\n\n    .dataframe tbody tr th {\n        vertical-align: top;\n    }\n\n    .dataframe thead th {\n        text-align: right;\n    }\n</style>\n<table border=\"1\" class=\"dataframe\">\n  <thead>\n    <tr style=\"text-align: right;\">\n      <th></th>\n      <th>bar</th>\n      <th>PFI</th>\n      <th>PFItime</th>\n      <th>gen_id</th>\n      <th>predicted_label</th>\n      <th>type</th>\n      <th>?|100130426</th>\n      <th>?|100133144</th>\n      <th>?|100134869</th>\n      <th>?|10357</th>\n      <th>...</th>\n      <th>ZWILCH|55055</th>\n      <th>ZWINT|11130</th>\n      <th>ZXDA|7789</th>\n      <th>ZXDB|158586</th>\n      <th>ZXDC|79364</th>\n      <th>ZYG11A|440590</th>\n      <th>ZYG11B|79699</th>\n      <th>ZYX|7791</th>\n      <th>ZZEF1|23140</th>\n      <th>ZZZ3|26009</th>\n    </tr>\n  </thead>\n  <tbody>\n    <tr>\n      <th>0</th>\n      <td>TCGA-3C-AAAU</td>\n      <td>1</td>\n      <td>1808</td>\n      <td>BRCA</td>\n      <td>1.0</td>\n      <td>TCGA-3C-AAAU-01A-11R-A41B-07</td>\n      <td>0.0</td>\n      <td>4.118061</td>\n      <td>3.800289</td>\n      <td>5.732006</td>\n      <td>...</td>\n      <td>8.703295</td>\n      <td>9.865667</td>\n      <td>7.028923</td>\n      <td>9.978396</td>\n      <td>10.696533</td>\n      <td>8.019557</td>\n      <td>10.240040</td>\n      <td>11.776536</td>\n      <td>10.888690</td>\n      <td>10.206355</td>\n    </tr>\n    <tr>\n      <th>1</th>\n      <td>TCGA-3C-AALI</td>\n      <td>0</td>\n      <td>4005</td>\n      <td>BRCA</td>\n      <td>2.0</td>\n      <td>TCGA-3C-AALI-01A-11R-A41B-07</td>\n      <td>0.0</td>\n      <td>3.359788</td>\n      <td>4.199986</td>\n      <td>6.144766</td>\n      <td>...</td>\n      <td>10.182804</td>\n      <td>9.916175</td>\n      <td>5.926358</td>\n      <td>8.812540</td>\n      <td>10.392446</td>\n      <td>7.640079</td>\n      <td>9.239811</td>\n      <td>12.426689</td>\n      <td>10.365940</td>\n      <td>8.671516</td>\n    </tr>\n    <tr>\n      <th>22</th>\n      <td>TCGA-A2-A04N</td>\n      <td>0</td>\n      <td>4354</td>\n      <td>BRCA</td>\n      <td>2.0</td>\n      <td>TCGA-A2-A04N-01A-11R-A115-07</td>\n      <td>0.0</td>\n      <td>2.655604</td>\n      <td>2.996570</td>\n      <td>6.768753</td>\n      <td>...</td>\n      <td>8.590812</td>\n      <td>8.960659</td>\n      <td>6.086555</td>\n      <td>8.530832</td>\n      <td>10.081364</td>\n      <td>5.503794</td>\n      <td>9.621045</td>\n      <td>11.322841</td>\n      <td>10.072896</td>\n      <td>9.807368</td>\n    </tr>\n    <tr>\n      <th>25</th>\n      <td>TCGA-A2-A04R</td>\n      <td>0</td>\n      <td>3709</td>\n      <td>BRCA</td>\n      <td>2.0</td>\n      <td>TCGA-A2-A04R-01A-41R-A109-07</td>\n      <td>0.0</td>\n      <td>2.209703</td>\n      <td>3.653908</td>\n      <td>6.916966</td>\n      <td>...</td>\n      <td>8.512665</td>\n      <td>10.183635</td>\n      <td>6.748099</td>\n      <td>11.653517</td>\n      <td>10.390491</td>\n      <td>6.340753</td>\n      <td>9.669213</td>\n      <td>11.544201</td>\n      <td>9.351732</td>\n      <td>8.792045</td>\n    </tr>\n    <tr>\n      <th>28</th>\n      <td>TCGA-A2-A04V</td>\n      <td>1</td>\n      <td>1470</td>\n      <td>BRCA</td>\n      <td>1.0</td>\n      <td>TCGA-A2-A04V-01A-21R-A034-07</td>\n      <td>0.0</td>\n      <td>2.463152</td>\n      <td>2.647038</td>\n      <td>7.387509</td>\n      <td>...</td>\n      <td>9.055128</td>\n      <td>9.975719</td>\n      <td>5.325955</td>\n      <td>9.058219</td>\n      <td>9.906973</td>\n      <td>3.193504</td>\n      <td>9.454822</td>\n      <td>12.001408</td>\n      <td>9.186830</td>\n      <td>9.747225</td>\n    </tr>\n    <tr>\n      <th>...</th>\n      <td>...</td>\n      <td>...</td>\n      <td>...</td>\n      <td>...</td>\n      <td>...</td>\n      <td>...</td>\n      <td>...</td>\n      <td>...</td>\n      <td>...</td>\n      <td>...</td>\n      <td>...</td>\n      <td>...</td>\n      <td>...</td>\n      <td>...</td>\n      <td>...</td>\n      <td>...</td>\n      <td>...</td>\n      <td>...</td>\n      <td>...</td>\n      <td>...</td>\n      <td>...</td>\n    </tr>\n    <tr>\n      <th>1056</th>\n      <td>TCGA-PE-A5DD</td>\n      <td>0</td>\n      <td>1953</td>\n      <td>BRCA</td>\n      <td>2.0</td>\n      <td>TCGA-PE-A5DD-01A-12R-A27Q-07</td>\n      <td>0.0</td>\n      <td>2.256195</td>\n      <td>3.600888</td>\n      <td>6.741656</td>\n      <td>...</td>\n      <td>8.138175</td>\n      <td>9.803556</td>\n      <td>5.898404</td>\n      <td>8.086800</td>\n      <td>10.350022</td>\n      <td>7.907287</td>\n      <td>9.147467</td>\n      <td>11.781515</td>\n      <td>10.065524</td>\n      <td>8.821111</td>\n    </tr>\n    <tr>\n      <th>1057</th>\n      <td>TCGA-PE-A5DE</td>\n      <td>0</td>\n      <td>2645</td>\n      <td>BRCA</td>\n      <td>2.0</td>\n      <td>TCGA-PE-A5DE-01A-11R-A27Q-07</td>\n      <td>0.0</td>\n      <td>1.584337</td>\n      <td>2.610629</td>\n      <td>6.813538</td>\n      <td>...</td>\n      <td>8.587174</td>\n      <td>9.063034</td>\n      <td>5.820651</td>\n      <td>9.173690</td>\n      <td>10.263868</td>\n      <td>5.490913</td>\n      <td>9.294938</td>\n      <td>12.154033</td>\n      <td>9.925995</td>\n      <td>9.390642</td>\n    </tr>\n    <tr>\n      <th>1073</th>\n      <td>TCGA-V7-A7HQ</td>\n      <td>0</td>\n      <td>2033</td>\n      <td>BRCA</td>\n      <td>2.0</td>\n      <td>TCGA-V7-A7HQ-01A-11R-A33J-07</td>\n      <td>0.0</td>\n      <td>0.000000</td>\n      <td>2.028286</td>\n      <td>4.954075</td>\n      <td>...</td>\n      <td>7.337479</td>\n      <td>7.961062</td>\n      <td>4.608916</td>\n      <td>7.527633</td>\n      <td>9.252814</td>\n      <td>5.358586</td>\n      <td>8.575872</td>\n      <td>12.656058</td>\n      <td>9.548103</td>\n      <td>8.250810</td>\n    </tr>\n    <tr>\n      <th>1079</th>\n      <td>TCGA-Z7-A8R5</td>\n      <td>1</td>\n      <td>181</td>\n      <td>BRCA</td>\n      <td>0.0</td>\n      <td>TCGA-Z7-A8R5-01A-42R-A41B-07</td>\n      <td>0.0</td>\n      <td>1.706553</td>\n      <td>3.051946</td>\n      <td>6.427038</td>\n      <td>...</td>\n      <td>7.443847</td>\n      <td>8.020363</td>\n      <td>5.055508</td>\n      <td>7.962803</td>\n      <td>9.638843</td>\n      <td>5.727014</td>\n      <td>8.985637</td>\n      <td>12.704904</td>\n      <td>9.561122</td>\n      <td>9.554261</td>\n    </tr>\n    <tr>\n      <th>1080</th>\n      <td>TCGA-Z7-A8R6</td>\n      <td>0</td>\n      <td>3256</td>\n      <td>BRCA</td>\n      <td>2.0</td>\n      <td>TCGA-Z7-A8R6-01A-11R-A41B-07</td>\n      <td>0.0</td>\n      <td>2.979385</td>\n      <td>4.688152</td>\n      <td>7.397041</td>\n      <td>...</td>\n      <td>9.028373</td>\n      <td>11.250796</td>\n      <td>5.147706</td>\n      <td>8.610047</td>\n      <td>9.890097</td>\n      <td>7.134827</td>\n      <td>9.166080</td>\n      <td>11.732812</td>\n      <td>9.143177</td>\n      <td>8.855224</td>\n    </tr>\n  </tbody>\n</table>\n<p>239 rows × 20537 columns</p>\n</div>"
     },
     "execution_count": 13,
     "metadata": {},
     "output_type": "execute_result"
    }
   ],
   "source": [
    "BRCAdataERp"
   ],
   "metadata": {
    "collapsed": false,
    "ExecuteTime": {
     "start_time": "2023-12-24T12:02:36.150040Z",
     "end_time": "2023-12-24T12:02:36.225379Z"
    }
   }
  },
  {
   "cell_type": "code",
   "execution_count": 9,
   "outputs": [
    {
     "data": {
      "text/plain": "0    678\n1     71\nName: PFI, dtype: int64"
     },
     "execution_count": 9,
     "metadata": {},
     "output_type": "execute_result"
    }
   ],
   "source": [
    "label_counts = BRCAdataN03['PFI'].value_counts()\n",
    "label_counts"
   ],
   "metadata": {
    "collapsed": false,
    "ExecuteTime": {
     "start_time": "2023-12-24T12:02:15.717558Z",
     "end_time": "2023-12-24T12:02:15.765035Z"
    }
   }
  },
  {
   "cell_type": "code",
   "execution_count": 10,
   "outputs": [
    {
     "data": {
      "text/plain": "57"
     },
     "execution_count": 10,
     "metadata": {},
     "output_type": "execute_result"
    }
   ],
   "source": [
    "count = ((BRCAdataN03['PFI'] == 1) & (BRCAdataN03['PFItime'] < 5 * 365)).sum()\n",
    "count"
   ],
   "metadata": {
    "collapsed": false,
    "ExecuteTime": {
     "start_time": "2023-12-24T12:02:17.470976Z",
     "end_time": "2023-12-24T12:02:17.490925Z"
    }
   }
  },
  {
   "cell_type": "code",
   "execution_count": 11,
   "outputs": [
    {
     "name": "stderr",
     "output_type": "stream",
     "text": [
      "C:\\Users\\anchen.sun\\AppData\\Local\\Temp\\ipykernel_24368\\3922337522.py:3: SettingWithCopyWarning: \n",
      "A value is trying to be set on a copy of a slice from a DataFrame.\n",
      "Try using .loc[row_indexer,col_indexer] = value instead\n",
      "\n",
      "See the caveats in the documentation: https://pandas.pydata.org/pandas-docs/stable/user_guide/indexing.html#returning-a-view-versus-a-copy\n",
      "  BRCAdataN03['predicted_label'] = np.where(\n"
     ]
    },
    {
     "data": {
      "text/plain": "1.0    187\n0.0     57\nName: predicted_label, dtype: int64"
     },
     "execution_count": 11,
     "metadata": {},
     "output_type": "execute_result"
    }
   ],
   "source": [
    "import numpy as np\n",
    "# Assign 'predicted_label' based on conditions specified\n",
    "BRCAdataN03['predicted_label'] = np.where(\n",
    "    (BRCAdataN03['PFItime'] < 5*365) & (BRCAdataN03['PFI'] == 1), 0,\n",
    "    np.where(BRCAdataN03['PFItime'] >= 5*365, 1, np.nan)\n",
    ")\n",
    "\n",
    "# Remove rows where 'FPItime' < 5*365 and 'PFI' == 0\n",
    "BRCAdataN03 = BRCAdataN03.drop(BRCAdataN03[(BRCAdataN03['PFItime'] < 5*365) & (BRCAdataN03['PFI'] == 0)].index)\n",
    "\n",
    "BRCAdataN03\n",
    "\n",
    "label_counts = BRCAdataN03['predicted_label'].value_counts()\n",
    "label_counts"
   ],
   "metadata": {
    "collapsed": false,
    "ExecuteTime": {
     "start_time": "2023-12-24T12:02:22.481477Z",
     "end_time": "2023-12-24T12:02:23.081393Z"
    }
   }
  },
  {
   "cell_type": "code",
   "execution_count": 39,
   "outputs": [
    {
     "data": {
      "text/plain": "               bar  PFI  PFItime gen_id  predicted_label  \\\n0     TCGA-3C-AAAU    1     1808   BRCA                2   \n1     TCGA-3C-AALI    0     4005   BRCA                2   \n2     TCGA-3C-AALJ    0     1474   BRCA                2   \n3     TCGA-3C-AALK    0     1448   BRCA                2   \n4     TCGA-4H-AAAK    0      348   BRCA                0   \n...            ...  ...      ...    ...              ...   \n1076  TCGA-WT-AB44    0      883   BRCA                1   \n1077  TCGA-XX-A899    0      467   BRCA                0   \n1078  TCGA-XX-A89A    0      488   BRCA                0   \n1079  TCGA-Z7-A8R5    1      181   BRCA                0   \n1080  TCGA-Z7-A8R6    0     3256   BRCA                2   \n\n                              type    ACTB|60  AURKA|6790   BAG1|573  \\\n0     TCGA-3C-AAAU-01A-11R-A41B-07  15.353564    8.949975  10.885368   \n1     TCGA-3C-AALI-01A-11R-A41B-07  16.708114    9.819643   9.509826   \n2     TCGA-3C-AALJ-01A-31R-A41B-07  16.748193    9.590061  10.869378   \n3     TCGA-3C-AALK-01A-11R-A41B-07  16.591885    7.833782  10.690138   \n4     TCGA-4H-AAAK-01A-12R-A41B-07  16.529582    7.626410  11.073807   \n...                            ...        ...         ...        ...   \n1076  TCGA-WT-AB44-01A-11R-A41B-07  17.784175    5.464943  11.158629   \n1077  TCGA-XX-A899-01A-11R-A36F-07  16.554048    7.542513  10.609465   \n1078  TCGA-XX-A89A-01A-11R-A36F-07  16.757729    7.728927  10.152285   \n1079  TCGA-Z7-A8R5-01A-42R-A41B-07  17.005592    6.413151  11.338970   \n1080  TCGA-Z7-A8R6-01A-11R-A41B-07  16.711223    9.715394  10.519892   \n\n       BCL2|596  ...  GRB7|2886  GSTM1|2944  GUSB|2990  MKI67|4288  \\\n0     11.177893  ...   9.659782   10.834447  11.826405   11.335318   \n1      8.054295  ...  14.700364    6.529103  10.664029   11.158913   \n2     11.310346  ...  10.296423    2.877018  11.110111    9.892131   \n3     11.085545  ...  10.961124   11.637127  11.837659   10.155362   \n4     10.622345  ...  10.023158   11.365940  10.559865   10.237664   \n...         ...  ...        ...         ...        ...         ...   \n1076   7.342261  ...   8.472922    0.859572  11.950199    6.246670   \n1077  10.155286  ...   9.898072   11.906586  10.705200   10.227652   \n1078   9.710050  ...   8.039813    8.985572  10.967867   10.316248   \n1079   9.673025  ...  10.138963    1.481299  11.836516    7.941928   \n1080   9.787607  ...   9.148494   11.985710  10.768201   11.634865   \n\n      MMP11|4320  MYBL2|4605   PGR|5241  RPLP0|6175  SCUBE2|57758  TFRC|7037  \n0      13.490149    9.552627  11.151188   13.934566     10.042042  11.728988  \n1      13.226647   12.067955   4.817045   13.984917      7.460210  11.814094  \n2      13.858748   11.519056   8.891282   15.035211      6.692762   9.939522  \n3      13.057728    8.978759  11.127646   15.007452     13.571018  11.194240  \n4      15.008210    8.914989  12.111850   14.671652     12.798984  11.242400  \n...          ...         ...        ...         ...           ...        ...  \n1076   13.168431    5.069526   7.618239   14.864496      9.855289   9.210248  \n1077   12.902620    8.136043  13.497715   14.883607     12.857260  12.006046  \n1078   13.478972    8.777696  10.815103   14.826658     10.541000  10.621072  \n1079   11.512686    7.434862   8.781455   15.804635     11.397937  10.522582  \n1080   14.485578   11.733549  11.130178   14.528759     13.533062  10.967882  \n\n[795 rows x 27 columns]",
      "text/html": "<div>\n<style scoped>\n    .dataframe tbody tr th:only-of-type {\n        vertical-align: middle;\n    }\n\n    .dataframe tbody tr th {\n        vertical-align: top;\n    }\n\n    .dataframe thead th {\n        text-align: right;\n    }\n</style>\n<table border=\"1\" class=\"dataframe\">\n  <thead>\n    <tr style=\"text-align: right;\">\n      <th></th>\n      <th>bar</th>\n      <th>PFI</th>\n      <th>PFItime</th>\n      <th>gen_id</th>\n      <th>predicted_label</th>\n      <th>type</th>\n      <th>ACTB|60</th>\n      <th>AURKA|6790</th>\n      <th>BAG1|573</th>\n      <th>BCL2|596</th>\n      <th>...</th>\n      <th>GRB7|2886</th>\n      <th>GSTM1|2944</th>\n      <th>GUSB|2990</th>\n      <th>MKI67|4288</th>\n      <th>MMP11|4320</th>\n      <th>MYBL2|4605</th>\n      <th>PGR|5241</th>\n      <th>RPLP0|6175</th>\n      <th>SCUBE2|57758</th>\n      <th>TFRC|7037</th>\n    </tr>\n  </thead>\n  <tbody>\n    <tr>\n      <th>0</th>\n      <td>TCGA-3C-AAAU</td>\n      <td>1</td>\n      <td>1808</td>\n      <td>BRCA</td>\n      <td>2</td>\n      <td>TCGA-3C-AAAU-01A-11R-A41B-07</td>\n      <td>15.353564</td>\n      <td>8.949975</td>\n      <td>10.885368</td>\n      <td>11.177893</td>\n      <td>...</td>\n      <td>9.659782</td>\n      <td>10.834447</td>\n      <td>11.826405</td>\n      <td>11.335318</td>\n      <td>13.490149</td>\n      <td>9.552627</td>\n      <td>11.151188</td>\n      <td>13.934566</td>\n      <td>10.042042</td>\n      <td>11.728988</td>\n    </tr>\n    <tr>\n      <th>1</th>\n      <td>TCGA-3C-AALI</td>\n      <td>0</td>\n      <td>4005</td>\n      <td>BRCA</td>\n      <td>2</td>\n      <td>TCGA-3C-AALI-01A-11R-A41B-07</td>\n      <td>16.708114</td>\n      <td>9.819643</td>\n      <td>9.509826</td>\n      <td>8.054295</td>\n      <td>...</td>\n      <td>14.700364</td>\n      <td>6.529103</td>\n      <td>10.664029</td>\n      <td>11.158913</td>\n      <td>13.226647</td>\n      <td>12.067955</td>\n      <td>4.817045</td>\n      <td>13.984917</td>\n      <td>7.460210</td>\n      <td>11.814094</td>\n    </tr>\n    <tr>\n      <th>2</th>\n      <td>TCGA-3C-AALJ</td>\n      <td>0</td>\n      <td>1474</td>\n      <td>BRCA</td>\n      <td>2</td>\n      <td>TCGA-3C-AALJ-01A-31R-A41B-07</td>\n      <td>16.748193</td>\n      <td>9.590061</td>\n      <td>10.869378</td>\n      <td>11.310346</td>\n      <td>...</td>\n      <td>10.296423</td>\n      <td>2.877018</td>\n      <td>11.110111</td>\n      <td>9.892131</td>\n      <td>13.858748</td>\n      <td>11.519056</td>\n      <td>8.891282</td>\n      <td>15.035211</td>\n      <td>6.692762</td>\n      <td>9.939522</td>\n    </tr>\n    <tr>\n      <th>3</th>\n      <td>TCGA-3C-AALK</td>\n      <td>0</td>\n      <td>1448</td>\n      <td>BRCA</td>\n      <td>2</td>\n      <td>TCGA-3C-AALK-01A-11R-A41B-07</td>\n      <td>16.591885</td>\n      <td>7.833782</td>\n      <td>10.690138</td>\n      <td>11.085545</td>\n      <td>...</td>\n      <td>10.961124</td>\n      <td>11.637127</td>\n      <td>11.837659</td>\n      <td>10.155362</td>\n      <td>13.057728</td>\n      <td>8.978759</td>\n      <td>11.127646</td>\n      <td>15.007452</td>\n      <td>13.571018</td>\n      <td>11.194240</td>\n    </tr>\n    <tr>\n      <th>4</th>\n      <td>TCGA-4H-AAAK</td>\n      <td>0</td>\n      <td>348</td>\n      <td>BRCA</td>\n      <td>0</td>\n      <td>TCGA-4H-AAAK-01A-12R-A41B-07</td>\n      <td>16.529582</td>\n      <td>7.626410</td>\n      <td>11.073807</td>\n      <td>10.622345</td>\n      <td>...</td>\n      <td>10.023158</td>\n      <td>11.365940</td>\n      <td>10.559865</td>\n      <td>10.237664</td>\n      <td>15.008210</td>\n      <td>8.914989</td>\n      <td>12.111850</td>\n      <td>14.671652</td>\n      <td>12.798984</td>\n      <td>11.242400</td>\n    </tr>\n    <tr>\n      <th>...</th>\n      <td>...</td>\n      <td>...</td>\n      <td>...</td>\n      <td>...</td>\n      <td>...</td>\n      <td>...</td>\n      <td>...</td>\n      <td>...</td>\n      <td>...</td>\n      <td>...</td>\n      <td>...</td>\n      <td>...</td>\n      <td>...</td>\n      <td>...</td>\n      <td>...</td>\n      <td>...</td>\n      <td>...</td>\n      <td>...</td>\n      <td>...</td>\n      <td>...</td>\n      <td>...</td>\n    </tr>\n    <tr>\n      <th>1076</th>\n      <td>TCGA-WT-AB44</td>\n      <td>0</td>\n      <td>883</td>\n      <td>BRCA</td>\n      <td>1</td>\n      <td>TCGA-WT-AB44-01A-11R-A41B-07</td>\n      <td>17.784175</td>\n      <td>5.464943</td>\n      <td>11.158629</td>\n      <td>7.342261</td>\n      <td>...</td>\n      <td>8.472922</td>\n      <td>0.859572</td>\n      <td>11.950199</td>\n      <td>6.246670</td>\n      <td>13.168431</td>\n      <td>5.069526</td>\n      <td>7.618239</td>\n      <td>14.864496</td>\n      <td>9.855289</td>\n      <td>9.210248</td>\n    </tr>\n    <tr>\n      <th>1077</th>\n      <td>TCGA-XX-A899</td>\n      <td>0</td>\n      <td>467</td>\n      <td>BRCA</td>\n      <td>0</td>\n      <td>TCGA-XX-A899-01A-11R-A36F-07</td>\n      <td>16.554048</td>\n      <td>7.542513</td>\n      <td>10.609465</td>\n      <td>10.155286</td>\n      <td>...</td>\n      <td>9.898072</td>\n      <td>11.906586</td>\n      <td>10.705200</td>\n      <td>10.227652</td>\n      <td>12.902620</td>\n      <td>8.136043</td>\n      <td>13.497715</td>\n      <td>14.883607</td>\n      <td>12.857260</td>\n      <td>12.006046</td>\n    </tr>\n    <tr>\n      <th>1078</th>\n      <td>TCGA-XX-A89A</td>\n      <td>0</td>\n      <td>488</td>\n      <td>BRCA</td>\n      <td>0</td>\n      <td>TCGA-XX-A89A-01A-11R-A36F-07</td>\n      <td>16.757729</td>\n      <td>7.728927</td>\n      <td>10.152285</td>\n      <td>9.710050</td>\n      <td>...</td>\n      <td>8.039813</td>\n      <td>8.985572</td>\n      <td>10.967867</td>\n      <td>10.316248</td>\n      <td>13.478972</td>\n      <td>8.777696</td>\n      <td>10.815103</td>\n      <td>14.826658</td>\n      <td>10.541000</td>\n      <td>10.621072</td>\n    </tr>\n    <tr>\n      <th>1079</th>\n      <td>TCGA-Z7-A8R5</td>\n      <td>1</td>\n      <td>181</td>\n      <td>BRCA</td>\n      <td>0</td>\n      <td>TCGA-Z7-A8R5-01A-42R-A41B-07</td>\n      <td>17.005592</td>\n      <td>6.413151</td>\n      <td>11.338970</td>\n      <td>9.673025</td>\n      <td>...</td>\n      <td>10.138963</td>\n      <td>1.481299</td>\n      <td>11.836516</td>\n      <td>7.941928</td>\n      <td>11.512686</td>\n      <td>7.434862</td>\n      <td>8.781455</td>\n      <td>15.804635</td>\n      <td>11.397937</td>\n      <td>10.522582</td>\n    </tr>\n    <tr>\n      <th>1080</th>\n      <td>TCGA-Z7-A8R6</td>\n      <td>0</td>\n      <td>3256</td>\n      <td>BRCA</td>\n      <td>2</td>\n      <td>TCGA-Z7-A8R6-01A-11R-A41B-07</td>\n      <td>16.711223</td>\n      <td>9.715394</td>\n      <td>10.519892</td>\n      <td>9.787607</td>\n      <td>...</td>\n      <td>9.148494</td>\n      <td>11.985710</td>\n      <td>10.768201</td>\n      <td>11.634865</td>\n      <td>14.485578</td>\n      <td>11.733549</td>\n      <td>11.130178</td>\n      <td>14.528759</td>\n      <td>13.533062</td>\n      <td>10.967882</td>\n    </tr>\n  </tbody>\n</table>\n<p>795 rows × 27 columns</p>\n</div>"
     },
     "execution_count": 39,
     "metadata": {},
     "output_type": "execute_result"
    }
   ],
   "source": [
    "filtered_dataframe = BRCAdataERp[combined_header_list]\n",
    "filtered_dataframe"
   ],
   "metadata": {
    "collapsed": false,
    "ExecuteTime": {
     "start_time": "2023-12-24T12:51:54.497748Z",
     "end_time": "2023-12-24T12:51:54.550607Z"
    }
   }
  },
  {
   "cell_type": "code",
   "execution_count": 42,
   "outputs": [
    {
     "data": {
      "text/plain": "       ACTB|60  AURKA|6790  BAG1|573  BCL2|596  BIRC5|332  CCNB1|891  \\\n0     1.820299   -4.583289 -2.647896 -2.355372  -4.919298  -3.207037   \n1     2.814837   -4.073635 -4.383451 -5.838982  -4.144256  -3.017797   \n2     3.011616   -4.146516 -2.867199 -2.426231  -4.194588  -2.904241   \n3     2.565451   -6.192652 -3.336296 -2.940888  -4.995714  -4.332846   \n4     2.834946   -6.068226 -2.620829 -3.072291  -6.022479  -4.353317   \n...        ...         ...       ...       ...        ...        ...   \n1076  3.949459   -8.369773 -2.676087 -6.492454  -8.016829  -6.290091   \n1077  2.676445   -6.335089 -3.268138 -3.722317  -6.501061  -4.761423   \n1078  3.169342   -5.859460 -3.436102 -3.878336  -6.339368  -4.308335   \n1079  2.831980   -7.760461 -2.834641 -4.500587  -7.218996  -5.903928   \n1080  2.864929   -4.130900 -3.326402 -4.058687  -4.210908  -2.386791   \n\n      CD68|968  CTSL2|1515  ERBB2|2064  ESR1|2099  ...  GRB7|2886  GSTM1|2944  \\\n0    -3.551911   -6.463058   -0.736736  -1.777142  ...  -3.873483   -2.698817   \n1    -2.867252   -5.093002    3.677068  -7.774015  ...   0.807087   -7.364175   \n2    -2.533101   -6.219065   -0.301988  -0.867114  ...  -3.440154  -10.859559   \n3    -3.519759   -7.439079    1.110229  -2.746643  ...  -3.065310   -2.389306   \n4    -2.728743   -8.429844   -0.115603  -1.264366  ...  -3.671477   -2.328696   \n...        ...         ...         ...        ...  ...        ...         ...   \n1076 -3.362359   -7.859684   -0.635474  -1.679976  ...  -5.361793  -12.975143   \n1077 -2.218994   -8.659577   -0.813402  -2.461597  ...  -3.979531   -1.971017   \n1078 -1.499681   -9.857041   -1.993325  -2.300236  ...  -5.548574   -4.602815   \n1079 -2.561503   -6.467170   -1.156561  -2.484321  ...  -4.034648  -12.692312   \n1080 -3.070626   -6.743982   -1.529939  -1.195482  ...  -4.697800   -1.860584   \n\n      GUSB|2990  MKI67|4288  MMP11|4320  MYBL2|4605  PGR|5241  RPLP0|6175  \\\n0     -1.706859   -2.197947   -0.043116   -3.980638 -2.382077    0.401302   \n1     -3.229248   -2.734365   -0.666630   -1.825322 -9.076232    0.091640   \n2     -2.626466   -3.844446    0.122171   -2.217521 -4.845295    1.298635   \n3     -2.188774   -3.871071   -0.968706   -5.047675 -2.898787    0.981019   \n4     -3.134771   -3.456971    1.313574   -4.779647 -1.582786    0.977016   \n...         ...         ...         ...         ...       ...         ...   \n1076  -1.884517   -7.588045   -0.666284   -8.765189 -6.216477    1.029780   \n1077  -3.172403   -3.649951   -0.974983   -5.741560 -0.379888    1.006005   \n1078  -2.620519   -3.272139   -0.109415   -4.810691 -2.773284    1.238271   \n1079  -2.337095   -6.231683   -2.660925   -6.738750 -5.392156    1.631024   \n1080  -3.078093   -2.211429    0.639284   -2.112745 -2.716116    0.682465   \n\n      SCUBE2|57758  TFRC|7037  \n0        -3.491222  -1.804277  \n1        -6.433067  -2.079184  \n2        -7.043815  -3.797055  \n3        -0.455416  -2.832194  \n4        -0.895651  -2.452236  \n...            ...        ...  \n1076     -3.979426  -4.624468  \n1077     -1.020343  -1.871557  \n1078     -3.047387  -2.967315  \n1079     -2.775675  -3.651030  \n1080     -0.313232  -2.878412  \n\n[795 rows x 21 columns]",
      "text/html": "<div>\n<style scoped>\n    .dataframe tbody tr th:only-of-type {\n        vertical-align: middle;\n    }\n\n    .dataframe tbody tr th {\n        vertical-align: top;\n    }\n\n    .dataframe thead th {\n        text-align: right;\n    }\n</style>\n<table border=\"1\" class=\"dataframe\">\n  <thead>\n    <tr style=\"text-align: right;\">\n      <th></th>\n      <th>ACTB|60</th>\n      <th>AURKA|6790</th>\n      <th>BAG1|573</th>\n      <th>BCL2|596</th>\n      <th>BIRC5|332</th>\n      <th>CCNB1|891</th>\n      <th>CD68|968</th>\n      <th>CTSL2|1515</th>\n      <th>ERBB2|2064</th>\n      <th>ESR1|2099</th>\n      <th>...</th>\n      <th>GRB7|2886</th>\n      <th>GSTM1|2944</th>\n      <th>GUSB|2990</th>\n      <th>MKI67|4288</th>\n      <th>MMP11|4320</th>\n      <th>MYBL2|4605</th>\n      <th>PGR|5241</th>\n      <th>RPLP0|6175</th>\n      <th>SCUBE2|57758</th>\n      <th>TFRC|7037</th>\n    </tr>\n  </thead>\n  <tbody>\n    <tr>\n      <th>0</th>\n      <td>1.820299</td>\n      <td>-4.583289</td>\n      <td>-2.647896</td>\n      <td>-2.355372</td>\n      <td>-4.919298</td>\n      <td>-3.207037</td>\n      <td>-3.551911</td>\n      <td>-6.463058</td>\n      <td>-0.736736</td>\n      <td>-1.777142</td>\n      <td>...</td>\n      <td>-3.873483</td>\n      <td>-2.698817</td>\n      <td>-1.706859</td>\n      <td>-2.197947</td>\n      <td>-0.043116</td>\n      <td>-3.980638</td>\n      <td>-2.382077</td>\n      <td>0.401302</td>\n      <td>-3.491222</td>\n      <td>-1.804277</td>\n    </tr>\n    <tr>\n      <th>1</th>\n      <td>2.814837</td>\n      <td>-4.073635</td>\n      <td>-4.383451</td>\n      <td>-5.838982</td>\n      <td>-4.144256</td>\n      <td>-3.017797</td>\n      <td>-2.867252</td>\n      <td>-5.093002</td>\n      <td>3.677068</td>\n      <td>-7.774015</td>\n      <td>...</td>\n      <td>0.807087</td>\n      <td>-7.364175</td>\n      <td>-3.229248</td>\n      <td>-2.734365</td>\n      <td>-0.666630</td>\n      <td>-1.825322</td>\n      <td>-9.076232</td>\n      <td>0.091640</td>\n      <td>-6.433067</td>\n      <td>-2.079184</td>\n    </tr>\n    <tr>\n      <th>2</th>\n      <td>3.011616</td>\n      <td>-4.146516</td>\n      <td>-2.867199</td>\n      <td>-2.426231</td>\n      <td>-4.194588</td>\n      <td>-2.904241</td>\n      <td>-2.533101</td>\n      <td>-6.219065</td>\n      <td>-0.301988</td>\n      <td>-0.867114</td>\n      <td>...</td>\n      <td>-3.440154</td>\n      <td>-10.859559</td>\n      <td>-2.626466</td>\n      <td>-3.844446</td>\n      <td>0.122171</td>\n      <td>-2.217521</td>\n      <td>-4.845295</td>\n      <td>1.298635</td>\n      <td>-7.043815</td>\n      <td>-3.797055</td>\n    </tr>\n    <tr>\n      <th>3</th>\n      <td>2.565451</td>\n      <td>-6.192652</td>\n      <td>-3.336296</td>\n      <td>-2.940888</td>\n      <td>-4.995714</td>\n      <td>-4.332846</td>\n      <td>-3.519759</td>\n      <td>-7.439079</td>\n      <td>1.110229</td>\n      <td>-2.746643</td>\n      <td>...</td>\n      <td>-3.065310</td>\n      <td>-2.389306</td>\n      <td>-2.188774</td>\n      <td>-3.871071</td>\n      <td>-0.968706</td>\n      <td>-5.047675</td>\n      <td>-2.898787</td>\n      <td>0.981019</td>\n      <td>-0.455416</td>\n      <td>-2.832194</td>\n    </tr>\n    <tr>\n      <th>4</th>\n      <td>2.834946</td>\n      <td>-6.068226</td>\n      <td>-2.620829</td>\n      <td>-3.072291</td>\n      <td>-6.022479</td>\n      <td>-4.353317</td>\n      <td>-2.728743</td>\n      <td>-8.429844</td>\n      <td>-0.115603</td>\n      <td>-1.264366</td>\n      <td>...</td>\n      <td>-3.671477</td>\n      <td>-2.328696</td>\n      <td>-3.134771</td>\n      <td>-3.456971</td>\n      <td>1.313574</td>\n      <td>-4.779647</td>\n      <td>-1.582786</td>\n      <td>0.977016</td>\n      <td>-0.895651</td>\n      <td>-2.452236</td>\n    </tr>\n    <tr>\n      <th>...</th>\n      <td>...</td>\n      <td>...</td>\n      <td>...</td>\n      <td>...</td>\n      <td>...</td>\n      <td>...</td>\n      <td>...</td>\n      <td>...</td>\n      <td>...</td>\n      <td>...</td>\n      <td>...</td>\n      <td>...</td>\n      <td>...</td>\n      <td>...</td>\n      <td>...</td>\n      <td>...</td>\n      <td>...</td>\n      <td>...</td>\n      <td>...</td>\n      <td>...</td>\n      <td>...</td>\n    </tr>\n    <tr>\n      <th>1076</th>\n      <td>3.949459</td>\n      <td>-8.369773</td>\n      <td>-2.676087</td>\n      <td>-6.492454</td>\n      <td>-8.016829</td>\n      <td>-6.290091</td>\n      <td>-3.362359</td>\n      <td>-7.859684</td>\n      <td>-0.635474</td>\n      <td>-1.679976</td>\n      <td>...</td>\n      <td>-5.361793</td>\n      <td>-12.975143</td>\n      <td>-1.884517</td>\n      <td>-7.588045</td>\n      <td>-0.666284</td>\n      <td>-8.765189</td>\n      <td>-6.216477</td>\n      <td>1.029780</td>\n      <td>-3.979426</td>\n      <td>-4.624468</td>\n    </tr>\n    <tr>\n      <th>1077</th>\n      <td>2.676445</td>\n      <td>-6.335089</td>\n      <td>-3.268138</td>\n      <td>-3.722317</td>\n      <td>-6.501061</td>\n      <td>-4.761423</td>\n      <td>-2.218994</td>\n      <td>-8.659577</td>\n      <td>-0.813402</td>\n      <td>-2.461597</td>\n      <td>...</td>\n      <td>-3.979531</td>\n      <td>-1.971017</td>\n      <td>-3.172403</td>\n      <td>-3.649951</td>\n      <td>-0.974983</td>\n      <td>-5.741560</td>\n      <td>-0.379888</td>\n      <td>1.006005</td>\n      <td>-1.020343</td>\n      <td>-1.871557</td>\n    </tr>\n    <tr>\n      <th>1078</th>\n      <td>3.169342</td>\n      <td>-5.859460</td>\n      <td>-3.436102</td>\n      <td>-3.878336</td>\n      <td>-6.339368</td>\n      <td>-4.308335</td>\n      <td>-1.499681</td>\n      <td>-9.857041</td>\n      <td>-1.993325</td>\n      <td>-2.300236</td>\n      <td>...</td>\n      <td>-5.548574</td>\n      <td>-4.602815</td>\n      <td>-2.620519</td>\n      <td>-3.272139</td>\n      <td>-0.109415</td>\n      <td>-4.810691</td>\n      <td>-2.773284</td>\n      <td>1.238271</td>\n      <td>-3.047387</td>\n      <td>-2.967315</td>\n    </tr>\n    <tr>\n      <th>1079</th>\n      <td>2.831980</td>\n      <td>-7.760461</td>\n      <td>-2.834641</td>\n      <td>-4.500587</td>\n      <td>-7.218996</td>\n      <td>-5.903928</td>\n      <td>-2.561503</td>\n      <td>-6.467170</td>\n      <td>-1.156561</td>\n      <td>-2.484321</td>\n      <td>...</td>\n      <td>-4.034648</td>\n      <td>-12.692312</td>\n      <td>-2.337095</td>\n      <td>-6.231683</td>\n      <td>-2.660925</td>\n      <td>-6.738750</td>\n      <td>-5.392156</td>\n      <td>1.631024</td>\n      <td>-2.775675</td>\n      <td>-3.651030</td>\n    </tr>\n    <tr>\n      <th>1080</th>\n      <td>2.864929</td>\n      <td>-4.130900</td>\n      <td>-3.326402</td>\n      <td>-4.058687</td>\n      <td>-4.210908</td>\n      <td>-2.386791</td>\n      <td>-3.070626</td>\n      <td>-6.743982</td>\n      <td>-1.529939</td>\n      <td>-1.195482</td>\n      <td>...</td>\n      <td>-4.697800</td>\n      <td>-1.860584</td>\n      <td>-3.078093</td>\n      <td>-2.211429</td>\n      <td>0.639284</td>\n      <td>-2.112745</td>\n      <td>-2.716116</td>\n      <td>0.682465</td>\n      <td>-0.313232</td>\n      <td>-2.878412</td>\n    </tr>\n  </tbody>\n</table>\n<p>795 rows × 21 columns</p>\n</div>"
     },
     "execution_count": 42,
     "metadata": {},
     "output_type": "execute_result"
    }
   ],
   "source": [
    "refer_gen = ['ACTB|60', 'GAPDH|2597', 'RPLP0|6175', 'GUSB|2990', 'TFRC|7037']\n",
    "\n",
    "selected_columns = filtered_dataframe.iloc[:, 6:]\n",
    "\n",
    "# Step 2: Calculate the average of the reference columns\n",
    "# Ensure that all columns in refer_gen are in the DataFrame\n",
    "assert all(item in filtered_dataframe.columns for item in refer_gen), \"Some columns in refer_gen are not in the DataFrame\"\n",
    "\n",
    "# Calculate the average of the specified columns\n",
    "average_of_refer_gen = filtered_dataframe[refer_gen].mean(axis=1)\n",
    "\n",
    "# Step 3: Normalize the selected columns by subtracting the average\n",
    "normalized_columns = selected_columns.sub(average_of_refer_gen, axis=0)\n",
    "normalized_columns"
   ],
   "metadata": {
    "collapsed": false
   }
  },
  {
   "cell_type": "code",
   "execution_count": 46,
   "outputs": [],
   "source": [
    "normalized_columns.drop(refer_gen, axis=1, inplace=True)\n",
    "\n",
    "# Extract the first 6 columns from the original dataframe\n",
    "first_six_columns = filtered_dataframe.iloc[:, :6]\n",
    "\n",
    "# Step 2: Combine the first 6 columns with the normalized columns\n",
    "combined_dataframe = pd.concat([first_six_columns, normalized_columns], axis=1)"
   ],
   "metadata": {
    "collapsed": false
   }
  },
  {
   "cell_type": "code",
   "execution_count": 47,
   "outputs": [
    {
     "data": {
      "text/plain": "               bar  PFI  PFItime gen_id  predicted_label  \\\n0     TCGA-3C-AAAU    1     1808   BRCA                2   \n1     TCGA-3C-AALI    0     4005   BRCA                2   \n2     TCGA-3C-AALJ    0     1474   BRCA                2   \n3     TCGA-3C-AALK    0     1448   BRCA                2   \n4     TCGA-4H-AAAK    0      348   BRCA                0   \n...            ...  ...      ...    ...              ...   \n1076  TCGA-WT-AB44    0      883   BRCA                1   \n1077  TCGA-XX-A899    0      467   BRCA                0   \n1078  TCGA-XX-A89A    0      488   BRCA                0   \n1079  TCGA-Z7-A8R5    1      181   BRCA                0   \n1080  TCGA-Z7-A8R6    0     3256   BRCA                2   \n\n                              type  AURKA|6790  BAG1|573  BCL2|596  BIRC5|332  \\\n0     TCGA-3C-AAAU-01A-11R-A41B-07   -4.583289 -2.647896 -2.355372  -4.919298   \n1     TCGA-3C-AALI-01A-11R-A41B-07   -4.073635 -4.383451 -5.838982  -4.144256   \n2     TCGA-3C-AALJ-01A-31R-A41B-07   -4.146516 -2.867199 -2.426231  -4.194588   \n3     TCGA-3C-AALK-01A-11R-A41B-07   -6.192652 -3.336296 -2.940888  -4.995714   \n4     TCGA-4H-AAAK-01A-12R-A41B-07   -6.068226 -2.620829 -3.072291  -6.022479   \n...                            ...         ...       ...       ...        ...   \n1076  TCGA-WT-AB44-01A-11R-A41B-07   -8.369773 -2.676087 -6.492454  -8.016829   \n1077  TCGA-XX-A899-01A-11R-A36F-07   -6.335089 -3.268138 -3.722317  -6.501061   \n1078  TCGA-XX-A89A-01A-11R-A36F-07   -5.859460 -3.436102 -3.878336  -6.339368   \n1079  TCGA-Z7-A8R5-01A-42R-A41B-07   -7.760461 -2.834641 -4.500587  -7.218996   \n1080  TCGA-Z7-A8R6-01A-11R-A41B-07   -4.130900 -3.326402 -4.058687  -4.210908   \n\n      ...  CTSL2|1515  ERBB2|2064  ESR1|2099  GRB7|2886  GSTM1|2944  \\\n0     ...   -6.463058   -0.736736  -1.777142  -3.873483   -2.698817   \n1     ...   -5.093002    3.677068  -7.774015   0.807087   -7.364175   \n2     ...   -6.219065   -0.301988  -0.867114  -3.440154  -10.859559   \n3     ...   -7.439079    1.110229  -2.746643  -3.065310   -2.389306   \n4     ...   -8.429844   -0.115603  -1.264366  -3.671477   -2.328696   \n...   ...         ...         ...        ...        ...         ...   \n1076  ...   -7.859684   -0.635474  -1.679976  -5.361793  -12.975143   \n1077  ...   -8.659577   -0.813402  -2.461597  -3.979531   -1.971017   \n1078  ...   -9.857041   -1.993325  -2.300236  -5.548574   -4.602815   \n1079  ...   -6.467170   -1.156561  -2.484321  -4.034648  -12.692312   \n1080  ...   -6.743982   -1.529939  -1.195482  -4.697800   -1.860584   \n\n      MKI67|4288  MMP11|4320  MYBL2|4605  PGR|5241  SCUBE2|57758  \n0      -2.197947   -0.043116   -3.980638 -2.382077     -3.491222  \n1      -2.734365   -0.666630   -1.825322 -9.076232     -6.433067  \n2      -3.844446    0.122171   -2.217521 -4.845295     -7.043815  \n3      -3.871071   -0.968706   -5.047675 -2.898787     -0.455416  \n4      -3.456971    1.313574   -4.779647 -1.582786     -0.895651  \n...          ...         ...         ...       ...           ...  \n1076   -7.588045   -0.666284   -8.765189 -6.216477     -3.979426  \n1077   -3.649951   -0.974983   -5.741560 -0.379888     -1.020343  \n1078   -3.272139   -0.109415   -4.810691 -2.773284     -3.047387  \n1079   -6.231683   -2.660925   -6.738750 -5.392156     -2.775675  \n1080   -2.211429    0.639284   -2.112745 -2.716116     -0.313232  \n\n[795 rows x 22 columns]",
      "text/html": "<div>\n<style scoped>\n    .dataframe tbody tr th:only-of-type {\n        vertical-align: middle;\n    }\n\n    .dataframe tbody tr th {\n        vertical-align: top;\n    }\n\n    .dataframe thead th {\n        text-align: right;\n    }\n</style>\n<table border=\"1\" class=\"dataframe\">\n  <thead>\n    <tr style=\"text-align: right;\">\n      <th></th>\n      <th>bar</th>\n      <th>PFI</th>\n      <th>PFItime</th>\n      <th>gen_id</th>\n      <th>predicted_label</th>\n      <th>type</th>\n      <th>AURKA|6790</th>\n      <th>BAG1|573</th>\n      <th>BCL2|596</th>\n      <th>BIRC5|332</th>\n      <th>...</th>\n      <th>CTSL2|1515</th>\n      <th>ERBB2|2064</th>\n      <th>ESR1|2099</th>\n      <th>GRB7|2886</th>\n      <th>GSTM1|2944</th>\n      <th>MKI67|4288</th>\n      <th>MMP11|4320</th>\n      <th>MYBL2|4605</th>\n      <th>PGR|5241</th>\n      <th>SCUBE2|57758</th>\n    </tr>\n  </thead>\n  <tbody>\n    <tr>\n      <th>0</th>\n      <td>TCGA-3C-AAAU</td>\n      <td>1</td>\n      <td>1808</td>\n      <td>BRCA</td>\n      <td>2</td>\n      <td>TCGA-3C-AAAU-01A-11R-A41B-07</td>\n      <td>-4.583289</td>\n      <td>-2.647896</td>\n      <td>-2.355372</td>\n      <td>-4.919298</td>\n      <td>...</td>\n      <td>-6.463058</td>\n      <td>-0.736736</td>\n      <td>-1.777142</td>\n      <td>-3.873483</td>\n      <td>-2.698817</td>\n      <td>-2.197947</td>\n      <td>-0.043116</td>\n      <td>-3.980638</td>\n      <td>-2.382077</td>\n      <td>-3.491222</td>\n    </tr>\n    <tr>\n      <th>1</th>\n      <td>TCGA-3C-AALI</td>\n      <td>0</td>\n      <td>4005</td>\n      <td>BRCA</td>\n      <td>2</td>\n      <td>TCGA-3C-AALI-01A-11R-A41B-07</td>\n      <td>-4.073635</td>\n      <td>-4.383451</td>\n      <td>-5.838982</td>\n      <td>-4.144256</td>\n      <td>...</td>\n      <td>-5.093002</td>\n      <td>3.677068</td>\n      <td>-7.774015</td>\n      <td>0.807087</td>\n      <td>-7.364175</td>\n      <td>-2.734365</td>\n      <td>-0.666630</td>\n      <td>-1.825322</td>\n      <td>-9.076232</td>\n      <td>-6.433067</td>\n    </tr>\n    <tr>\n      <th>2</th>\n      <td>TCGA-3C-AALJ</td>\n      <td>0</td>\n      <td>1474</td>\n      <td>BRCA</td>\n      <td>2</td>\n      <td>TCGA-3C-AALJ-01A-31R-A41B-07</td>\n      <td>-4.146516</td>\n      <td>-2.867199</td>\n      <td>-2.426231</td>\n      <td>-4.194588</td>\n      <td>...</td>\n      <td>-6.219065</td>\n      <td>-0.301988</td>\n      <td>-0.867114</td>\n      <td>-3.440154</td>\n      <td>-10.859559</td>\n      <td>-3.844446</td>\n      <td>0.122171</td>\n      <td>-2.217521</td>\n      <td>-4.845295</td>\n      <td>-7.043815</td>\n    </tr>\n    <tr>\n      <th>3</th>\n      <td>TCGA-3C-AALK</td>\n      <td>0</td>\n      <td>1448</td>\n      <td>BRCA</td>\n      <td>2</td>\n      <td>TCGA-3C-AALK-01A-11R-A41B-07</td>\n      <td>-6.192652</td>\n      <td>-3.336296</td>\n      <td>-2.940888</td>\n      <td>-4.995714</td>\n      <td>...</td>\n      <td>-7.439079</td>\n      <td>1.110229</td>\n      <td>-2.746643</td>\n      <td>-3.065310</td>\n      <td>-2.389306</td>\n      <td>-3.871071</td>\n      <td>-0.968706</td>\n      <td>-5.047675</td>\n      <td>-2.898787</td>\n      <td>-0.455416</td>\n    </tr>\n    <tr>\n      <th>4</th>\n      <td>TCGA-4H-AAAK</td>\n      <td>0</td>\n      <td>348</td>\n      <td>BRCA</td>\n      <td>0</td>\n      <td>TCGA-4H-AAAK-01A-12R-A41B-07</td>\n      <td>-6.068226</td>\n      <td>-2.620829</td>\n      <td>-3.072291</td>\n      <td>-6.022479</td>\n      <td>...</td>\n      <td>-8.429844</td>\n      <td>-0.115603</td>\n      <td>-1.264366</td>\n      <td>-3.671477</td>\n      <td>-2.328696</td>\n      <td>-3.456971</td>\n      <td>1.313574</td>\n      <td>-4.779647</td>\n      <td>-1.582786</td>\n      <td>-0.895651</td>\n    </tr>\n    <tr>\n      <th>...</th>\n      <td>...</td>\n      <td>...</td>\n      <td>...</td>\n      <td>...</td>\n      <td>...</td>\n      <td>...</td>\n      <td>...</td>\n      <td>...</td>\n      <td>...</td>\n      <td>...</td>\n      <td>...</td>\n      <td>...</td>\n      <td>...</td>\n      <td>...</td>\n      <td>...</td>\n      <td>...</td>\n      <td>...</td>\n      <td>...</td>\n      <td>...</td>\n      <td>...</td>\n      <td>...</td>\n    </tr>\n    <tr>\n      <th>1076</th>\n      <td>TCGA-WT-AB44</td>\n      <td>0</td>\n      <td>883</td>\n      <td>BRCA</td>\n      <td>1</td>\n      <td>TCGA-WT-AB44-01A-11R-A41B-07</td>\n      <td>-8.369773</td>\n      <td>-2.676087</td>\n      <td>-6.492454</td>\n      <td>-8.016829</td>\n      <td>...</td>\n      <td>-7.859684</td>\n      <td>-0.635474</td>\n      <td>-1.679976</td>\n      <td>-5.361793</td>\n      <td>-12.975143</td>\n      <td>-7.588045</td>\n      <td>-0.666284</td>\n      <td>-8.765189</td>\n      <td>-6.216477</td>\n      <td>-3.979426</td>\n    </tr>\n    <tr>\n      <th>1077</th>\n      <td>TCGA-XX-A899</td>\n      <td>0</td>\n      <td>467</td>\n      <td>BRCA</td>\n      <td>0</td>\n      <td>TCGA-XX-A899-01A-11R-A36F-07</td>\n      <td>-6.335089</td>\n      <td>-3.268138</td>\n      <td>-3.722317</td>\n      <td>-6.501061</td>\n      <td>...</td>\n      <td>-8.659577</td>\n      <td>-0.813402</td>\n      <td>-2.461597</td>\n      <td>-3.979531</td>\n      <td>-1.971017</td>\n      <td>-3.649951</td>\n      <td>-0.974983</td>\n      <td>-5.741560</td>\n      <td>-0.379888</td>\n      <td>-1.020343</td>\n    </tr>\n    <tr>\n      <th>1078</th>\n      <td>TCGA-XX-A89A</td>\n      <td>0</td>\n      <td>488</td>\n      <td>BRCA</td>\n      <td>0</td>\n      <td>TCGA-XX-A89A-01A-11R-A36F-07</td>\n      <td>-5.859460</td>\n      <td>-3.436102</td>\n      <td>-3.878336</td>\n      <td>-6.339368</td>\n      <td>...</td>\n      <td>-9.857041</td>\n      <td>-1.993325</td>\n      <td>-2.300236</td>\n      <td>-5.548574</td>\n      <td>-4.602815</td>\n      <td>-3.272139</td>\n      <td>-0.109415</td>\n      <td>-4.810691</td>\n      <td>-2.773284</td>\n      <td>-3.047387</td>\n    </tr>\n    <tr>\n      <th>1079</th>\n      <td>TCGA-Z7-A8R5</td>\n      <td>1</td>\n      <td>181</td>\n      <td>BRCA</td>\n      <td>0</td>\n      <td>TCGA-Z7-A8R5-01A-42R-A41B-07</td>\n      <td>-7.760461</td>\n      <td>-2.834641</td>\n      <td>-4.500587</td>\n      <td>-7.218996</td>\n      <td>...</td>\n      <td>-6.467170</td>\n      <td>-1.156561</td>\n      <td>-2.484321</td>\n      <td>-4.034648</td>\n      <td>-12.692312</td>\n      <td>-6.231683</td>\n      <td>-2.660925</td>\n      <td>-6.738750</td>\n      <td>-5.392156</td>\n      <td>-2.775675</td>\n    </tr>\n    <tr>\n      <th>1080</th>\n      <td>TCGA-Z7-A8R6</td>\n      <td>0</td>\n      <td>3256</td>\n      <td>BRCA</td>\n      <td>2</td>\n      <td>TCGA-Z7-A8R6-01A-11R-A41B-07</td>\n      <td>-4.130900</td>\n      <td>-3.326402</td>\n      <td>-4.058687</td>\n      <td>-4.210908</td>\n      <td>...</td>\n      <td>-6.743982</td>\n      <td>-1.529939</td>\n      <td>-1.195482</td>\n      <td>-4.697800</td>\n      <td>-1.860584</td>\n      <td>-2.211429</td>\n      <td>0.639284</td>\n      <td>-2.112745</td>\n      <td>-2.716116</td>\n      <td>-0.313232</td>\n    </tr>\n  </tbody>\n</table>\n<p>795 rows × 22 columns</p>\n</div>"
     },
     "execution_count": 47,
     "metadata": {},
     "output_type": "execute_result"
    }
   ],
   "source": [
    "combined_dataframe"
   ],
   "metadata": {
    "collapsed": false
   }
  },
  {
   "cell_type": "code",
   "execution_count": 48,
   "outputs": [],
   "source": [
    "combined_dataframe.to_csv('OncotypeDX/OncotypeDX.csv', index_label=False)"
   ],
   "metadata": {
    "collapsed": false,
    "ExecuteTime": {
     "start_time": "2023-12-24T18:14:33.273389Z",
     "end_time": "2023-12-24T18:14:33.314858Z"
    }
   }
  },
  {
   "cell_type": "code",
   "execution_count": 6,
   "outputs": [],
   "source": [
    "# Replacement pairs for Oncotype Genes\n",
    "replacement_pairs = [\n",
    "    ['RPLPO', 'RPLP0'],\n",
    "    ['GUS', 'GUSB'],\n",
    "    ['Ki67', 'MKI67'],\n",
    "    ['STK15', 'AURKA'],\n",
    "    ['Survivin', 'BIRC5'],\n",
    "    ['HER2', 'ERBB2'],\n",
    "    ['ER', 'ESR1'],  # Corrected 'MS4 A7' to 'MS4A7'\n",
    "    ['CTSL2', 'CTSV']\n",
    "]\n",
    "\n",
    "# Replacing elements in Oncotype Genes\n",
    "for pair in replacement_pairs:\n",
    "    oncotype_genes = [pair[1] if gene.strip() == pair[0] else gene.strip() for gene in oncotype_genes]"
   ],
   "metadata": {
    "collapsed": false
   }
  },
  {
   "cell_type": "code",
   "execution_count": 9,
   "outputs": [
    {
     "data": {
      "text/plain": "['ACTB',\n 'GAPDH',\n 'RPLP0',\n 'GUSB',\n 'TFRC',\n 'MKI67',\n 'AURKA',\n 'BIRC5',\n 'CCNB1',\n 'MYBL2',\n 'MMP11',\n 'CTSV',\n 'GRB7',\n 'ERBB2',\n 'ESR1',\n 'PGR',\n 'BCL2',\n 'SCUBE2',\n 'GSTM1',\n 'CD68',\n 'BAG1']"
     },
     "execution_count": 9,
     "metadata": {},
     "output_type": "execute_result"
    }
   ],
   "source": [
    "oncotype_genes"
   ],
   "metadata": {
    "collapsed": false,
    "ExecuteTime": {
     "start_time": "2024-01-09T18:19:17.365549Z",
     "end_time": "2024-01-09T18:19:17.397463Z"
    }
   }
  },
  {
   "cell_type": "code",
   "execution_count": null,
   "outputs": [],
   "source": [
    "# Getting list of header names from the dataframe\n",
    "header_names = BRCAdataERp.columns.tolist()\n",
    "header_name_get = []\n",
    "header_name_found = []\n",
    "count_f = 0\n",
    "for header_name in header_names:\n",
    "    Gene = header_name.split('|')[0]\n",
    "    if Gene in oncotype_genes:\n",
    "        header_name_get.append(header_name)\n",
    "        header_name_found.append(Gene)\n",
    "        count_f += 1\n",
    "print(count_f, len(oncotype_genes))\n",
    "\n",
    "for gene in oncotype_genes:\n",
    "    if gene not in header_name_found:\n",
    "        print(gene)"
   ],
   "metadata": {
    "collapsed": false,
    "ExecuteTime": {
     "start_time": "2023-12-24T12:50:04.269543Z",
     "end_time": "2023-12-24T12:50:04.312429Z"
    }
   }
  },
  {
   "cell_type": "code",
   "execution_count": 11,
   "outputs": [
    {
     "data": {
      "text/plain": "1.0    456\n0.0    127\nName: predicted_label, dtype: int64"
     },
     "execution_count": 11,
     "metadata": {},
     "output_type": "execute_result"
    }
   ],
   "source": [
    "import numpy as np\n",
    "# Assign 'predicted_label' based on conditions specified\n",
    "affy_combined_df['predicted_label'] = np.where(\n",
    "    (affy_combined_df['PFItime'] < 5*365) & (affy_combined_df['PFI'] == 1), 0,\n",
    "    np.where(affy_combined_df['PFItime'] >= 5*365, 1, np.nan)\n",
    ")\n",
    "\n",
    "# Remove rows where 'FPItime' < 5*365 and 'PFI' == 0\n",
    "affy_combined_df = affy_combined_df.drop(affy_combined_df[(affy_combined_df['PFItime'] < 5*365) & (affy_combined_df['PFI'] == 0)].index)\n",
    "\n",
    "affy_combined_df\n",
    "\n",
    "label_counts = affy_combined_df['predicted_label'].value_counts()\n",
    "label_counts"
   ],
   "metadata": {
    "collapsed": false,
    "ExecuteTime": {
     "start_time": "2024-01-17T06:06:48.690448Z",
     "end_time": "2024-01-17T06:06:48.746822Z"
    }
   }
  },
  {
   "cell_type": "code",
   "execution_count": 8,
   "outputs": [
    {
     "name": "stdout",
     "output_type": "stream",
     "text": [
      "21 21\n"
     ]
    }
   ],
   "source": [
    "# Getting list of header names from the dataframe\n",
    "header_names = affy_combined_df.columns.tolist()\n",
    "header_name_get = []\n",
    "header_name_found = []\n",
    "count_f = 0\n",
    "for header_name in header_names:\n",
    "    Gene = header_name.strip()\n",
    "    if Gene in oncotype_genes:\n",
    "        header_name_get.append(header_name)\n",
    "        header_name_found.append(Gene)\n",
    "        count_f += 1\n",
    "print(count_f, len(oncotype_genes))\n",
    "\n",
    "for gene in oncotype_genes:\n",
    "    if gene not in header_name_found:\n",
    "        print(gene)"
   ],
   "metadata": {
    "collapsed": false,
    "ExecuteTime": {
     "start_time": "2024-01-26T10:38:05.417503Z",
     "end_time": "2024-01-26T10:38:05.457400Z"
    }
   }
  },
  {
   "cell_type": "code",
   "execution_count": 9,
   "outputs": [
    {
     "data": {
      "text/plain": "['Unnamed: 0',\n 'PFI',\n 'PFItime',\n 'gen_id',\n 'predicted_label',\n 'index',\n 'ACTB',\n 'AURKA',\n 'BAG1',\n 'BCL2',\n 'BIRC5',\n 'CCNB1',\n 'CD68',\n 'CTSV',\n 'ERBB2',\n 'ESR1',\n 'GAPDH',\n 'GRB7',\n 'GSTM1',\n 'GUSB',\n 'MKI67',\n 'MMP11',\n 'MYBL2',\n 'PGR',\n 'RPLP0',\n 'SCUBE2',\n 'TFRC']"
     },
     "execution_count": 9,
     "metadata": {},
     "output_type": "execute_result"
    }
   ],
   "source": [
    "# Getting the first 6 elements of header_names\n",
    "first_six_header_names = header_names[:6]\n",
    "\n",
    "# Adding header_name_get list to the first six elements\n",
    "combined_header_list = first_six_header_names + header_name_get\n",
    "\n",
    "combined_header_list"
   ],
   "metadata": {
    "collapsed": false,
    "ExecuteTime": {
     "start_time": "2024-01-26T10:38:31.788251Z",
     "end_time": "2024-01-26T10:38:31.825468Z"
    }
   }
  },
  {
   "cell_type": "code",
   "execution_count": 10,
   "outputs": [
    {
     "data": {
      "text/plain": "    Unnamed: 0  PFI      PFItime gen_id  predicted_label  index      ACTB  \\\n1      des_002  0.0  6378.387096   BRCA               14    1.0 -0.179557   \n3      des_004  1.0  6053.225805   BRCA               14    1.0 -0.005007   \n4      des_005  1.0  3698.709678   BRCA               12    1.0 -0.102600   \n5      des_006  0.0  6297.096774   BRCA               14    1.0  0.154052   \n7      des_008  1.0  5628.387096   BRCA               14    1.0 -0.248645   \n..         ...  ...          ...    ...              ...    ...       ...   \n940   chin_117  1.0   550.800000   BRCA                1    1.0 -0.014117   \n943   chin_120  0.0  2498.400000   BRCA                7    1.0  0.054804   \n944   chin_121  1.0   774.000000   BRCA                1    1.0 -0.169848   \n945   chin_122  0.0  3578.400000   BRCA               12    1.0 -0.525953   \n946   chin_123  0.0  1083.600000   BRCA                2    1.0 -0.181558   \n\n        AURKA      BAG1      BCL2  ...      GRB7     GSTM1      GUSB  \\\n1    0.920025 -0.438676 -0.156289  ... -0.423248  2.673695 -0.048076   \n3    0.583612 -0.065601  0.223244  ... -0.252476 -0.617600  0.290971   \n4   -0.045914  1.384298  0.587622  ...  0.151648  0.078462  0.050111   \n5   -0.844199  0.543108 -0.160250  ... -0.572769  0.385534  1.500382   \n7   -0.905228  0.165928 -0.036436  ... -0.344622 -0.471886  0.201617   \n..        ...       ...       ...  ...       ...       ...       ...   \n940 -0.098112 -0.120523 -0.210756  ...  1.775745 -0.205239  0.698205   \n943  0.003160 -0.212139 -0.074631  ... -1.032093  0.062884 -0.199887   \n944  0.442631 -0.614017 -0.286218  ...  3.560197  1.226345 -0.390326   \n945 -0.300623 -0.125337  0.360447  ... -0.406157  0.002963  0.305950   \n946 -0.002757 -0.015597 -0.170575  ... -0.061823 -0.105990 -0.678073   \n\n        MKI67     MMP11     MYBL2       PGR     RPLP0    SCUBE2      TFRC  \n1    0.341314 -1.087375  0.689560  0.224565 -0.108680  0.381823  0.456652  \n3   -0.050626 -0.617245  0.804256  0.746911  0.217890  1.449740 -0.187092  \n4   -0.292733  0.503690  0.279456 -0.293534 -0.033477 -0.752239 -0.962766  \n5   -0.564141 -1.135269 -0.370057 -0.407753 -0.154775  1.898315 -1.355184  \n7   -0.116472 -1.539346 -0.446095 -0.271676  0.065084  1.188079 -1.985356  \n..        ...       ...       ...       ...       ...       ...       ...  \n940  0.266199  1.084116 -0.359786 -0.173349 -0.244463 -0.884045 -0.321335  \n943 -0.307770  0.405676  0.198379 -0.241120  0.066422  1.277772  0.529140  \n944 -0.224605  0.532214 -0.333850  0.850982 -0.475792  0.498632 -0.454316  \n945  0.033642  0.416317 -0.390989  0.126049 -0.193830  3.214367 -0.957912  \n946  0.308174 -0.881720 -0.294471  0.208764 -0.210008  2.002747 -1.070770  \n\n[687 rows x 27 columns]",
      "text/html": "<div>\n<style scoped>\n    .dataframe tbody tr th:only-of-type {\n        vertical-align: middle;\n    }\n\n    .dataframe tbody tr th {\n        vertical-align: top;\n    }\n\n    .dataframe thead th {\n        text-align: right;\n    }\n</style>\n<table border=\"1\" class=\"dataframe\">\n  <thead>\n    <tr style=\"text-align: right;\">\n      <th></th>\n      <th>Unnamed: 0</th>\n      <th>PFI</th>\n      <th>PFItime</th>\n      <th>gen_id</th>\n      <th>predicted_label</th>\n      <th>index</th>\n      <th>ACTB</th>\n      <th>AURKA</th>\n      <th>BAG1</th>\n      <th>BCL2</th>\n      <th>...</th>\n      <th>GRB7</th>\n      <th>GSTM1</th>\n      <th>GUSB</th>\n      <th>MKI67</th>\n      <th>MMP11</th>\n      <th>MYBL2</th>\n      <th>PGR</th>\n      <th>RPLP0</th>\n      <th>SCUBE2</th>\n      <th>TFRC</th>\n    </tr>\n  </thead>\n  <tbody>\n    <tr>\n      <th>1</th>\n      <td>des_002</td>\n      <td>0.0</td>\n      <td>6378.387096</td>\n      <td>BRCA</td>\n      <td>14</td>\n      <td>1.0</td>\n      <td>-0.179557</td>\n      <td>0.920025</td>\n      <td>-0.438676</td>\n      <td>-0.156289</td>\n      <td>...</td>\n      <td>-0.423248</td>\n      <td>2.673695</td>\n      <td>-0.048076</td>\n      <td>0.341314</td>\n      <td>-1.087375</td>\n      <td>0.689560</td>\n      <td>0.224565</td>\n      <td>-0.108680</td>\n      <td>0.381823</td>\n      <td>0.456652</td>\n    </tr>\n    <tr>\n      <th>3</th>\n      <td>des_004</td>\n      <td>1.0</td>\n      <td>6053.225805</td>\n      <td>BRCA</td>\n      <td>14</td>\n      <td>1.0</td>\n      <td>-0.005007</td>\n      <td>0.583612</td>\n      <td>-0.065601</td>\n      <td>0.223244</td>\n      <td>...</td>\n      <td>-0.252476</td>\n      <td>-0.617600</td>\n      <td>0.290971</td>\n      <td>-0.050626</td>\n      <td>-0.617245</td>\n      <td>0.804256</td>\n      <td>0.746911</td>\n      <td>0.217890</td>\n      <td>1.449740</td>\n      <td>-0.187092</td>\n    </tr>\n    <tr>\n      <th>4</th>\n      <td>des_005</td>\n      <td>1.0</td>\n      <td>3698.709678</td>\n      <td>BRCA</td>\n      <td>12</td>\n      <td>1.0</td>\n      <td>-0.102600</td>\n      <td>-0.045914</td>\n      <td>1.384298</td>\n      <td>0.587622</td>\n      <td>...</td>\n      <td>0.151648</td>\n      <td>0.078462</td>\n      <td>0.050111</td>\n      <td>-0.292733</td>\n      <td>0.503690</td>\n      <td>0.279456</td>\n      <td>-0.293534</td>\n      <td>-0.033477</td>\n      <td>-0.752239</td>\n      <td>-0.962766</td>\n    </tr>\n    <tr>\n      <th>5</th>\n      <td>des_006</td>\n      <td>0.0</td>\n      <td>6297.096774</td>\n      <td>BRCA</td>\n      <td>14</td>\n      <td>1.0</td>\n      <td>0.154052</td>\n      <td>-0.844199</td>\n      <td>0.543108</td>\n      <td>-0.160250</td>\n      <td>...</td>\n      <td>-0.572769</td>\n      <td>0.385534</td>\n      <td>1.500382</td>\n      <td>-0.564141</td>\n      <td>-1.135269</td>\n      <td>-0.370057</td>\n      <td>-0.407753</td>\n      <td>-0.154775</td>\n      <td>1.898315</td>\n      <td>-1.355184</td>\n    </tr>\n    <tr>\n      <th>7</th>\n      <td>des_008</td>\n      <td>1.0</td>\n      <td>5628.387096</td>\n      <td>BRCA</td>\n      <td>14</td>\n      <td>1.0</td>\n      <td>-0.248645</td>\n      <td>-0.905228</td>\n      <td>0.165928</td>\n      <td>-0.036436</td>\n      <td>...</td>\n      <td>-0.344622</td>\n      <td>-0.471886</td>\n      <td>0.201617</td>\n      <td>-0.116472</td>\n      <td>-1.539346</td>\n      <td>-0.446095</td>\n      <td>-0.271676</td>\n      <td>0.065084</td>\n      <td>1.188079</td>\n      <td>-1.985356</td>\n    </tr>\n    <tr>\n      <th>...</th>\n      <td>...</td>\n      <td>...</td>\n      <td>...</td>\n      <td>...</td>\n      <td>...</td>\n      <td>...</td>\n      <td>...</td>\n      <td>...</td>\n      <td>...</td>\n      <td>...</td>\n      <td>...</td>\n      <td>...</td>\n      <td>...</td>\n      <td>...</td>\n      <td>...</td>\n      <td>...</td>\n      <td>...</td>\n      <td>...</td>\n      <td>...</td>\n      <td>...</td>\n      <td>...</td>\n    </tr>\n    <tr>\n      <th>940</th>\n      <td>chin_117</td>\n      <td>1.0</td>\n      <td>550.800000</td>\n      <td>BRCA</td>\n      <td>1</td>\n      <td>1.0</td>\n      <td>-0.014117</td>\n      <td>-0.098112</td>\n      <td>-0.120523</td>\n      <td>-0.210756</td>\n      <td>...</td>\n      <td>1.775745</td>\n      <td>-0.205239</td>\n      <td>0.698205</td>\n      <td>0.266199</td>\n      <td>1.084116</td>\n      <td>-0.359786</td>\n      <td>-0.173349</td>\n      <td>-0.244463</td>\n      <td>-0.884045</td>\n      <td>-0.321335</td>\n    </tr>\n    <tr>\n      <th>943</th>\n      <td>chin_120</td>\n      <td>0.0</td>\n      <td>2498.400000</td>\n      <td>BRCA</td>\n      <td>7</td>\n      <td>1.0</td>\n      <td>0.054804</td>\n      <td>0.003160</td>\n      <td>-0.212139</td>\n      <td>-0.074631</td>\n      <td>...</td>\n      <td>-1.032093</td>\n      <td>0.062884</td>\n      <td>-0.199887</td>\n      <td>-0.307770</td>\n      <td>0.405676</td>\n      <td>0.198379</td>\n      <td>-0.241120</td>\n      <td>0.066422</td>\n      <td>1.277772</td>\n      <td>0.529140</td>\n    </tr>\n    <tr>\n      <th>944</th>\n      <td>chin_121</td>\n      <td>1.0</td>\n      <td>774.000000</td>\n      <td>BRCA</td>\n      <td>1</td>\n      <td>1.0</td>\n      <td>-0.169848</td>\n      <td>0.442631</td>\n      <td>-0.614017</td>\n      <td>-0.286218</td>\n      <td>...</td>\n      <td>3.560197</td>\n      <td>1.226345</td>\n      <td>-0.390326</td>\n      <td>-0.224605</td>\n      <td>0.532214</td>\n      <td>-0.333850</td>\n      <td>0.850982</td>\n      <td>-0.475792</td>\n      <td>0.498632</td>\n      <td>-0.454316</td>\n    </tr>\n    <tr>\n      <th>945</th>\n      <td>chin_122</td>\n      <td>0.0</td>\n      <td>3578.400000</td>\n      <td>BRCA</td>\n      <td>12</td>\n      <td>1.0</td>\n      <td>-0.525953</td>\n      <td>-0.300623</td>\n      <td>-0.125337</td>\n      <td>0.360447</td>\n      <td>...</td>\n      <td>-0.406157</td>\n      <td>0.002963</td>\n      <td>0.305950</td>\n      <td>0.033642</td>\n      <td>0.416317</td>\n      <td>-0.390989</td>\n      <td>0.126049</td>\n      <td>-0.193830</td>\n      <td>3.214367</td>\n      <td>-0.957912</td>\n    </tr>\n    <tr>\n      <th>946</th>\n      <td>chin_123</td>\n      <td>0.0</td>\n      <td>1083.600000</td>\n      <td>BRCA</td>\n      <td>2</td>\n      <td>1.0</td>\n      <td>-0.181558</td>\n      <td>-0.002757</td>\n      <td>-0.015597</td>\n      <td>-0.170575</td>\n      <td>...</td>\n      <td>-0.061823</td>\n      <td>-0.105990</td>\n      <td>-0.678073</td>\n      <td>0.308174</td>\n      <td>-0.881720</td>\n      <td>-0.294471</td>\n      <td>0.208764</td>\n      <td>-0.210008</td>\n      <td>2.002747</td>\n      <td>-1.070770</td>\n    </tr>\n  </tbody>\n</table>\n<p>687 rows × 27 columns</p>\n</div>"
     },
     "execution_count": 10,
     "metadata": {},
     "output_type": "execute_result"
    }
   ],
   "source": [
    "filtered_dataframe = affy_combined_df[combined_header_list]\n",
    "filtered_dataframe"
   ],
   "metadata": {
    "collapsed": false,
    "ExecuteTime": {
     "start_time": "2024-01-26T10:38:35.715283Z",
     "end_time": "2024-01-26T10:38:35.776626Z"
    }
   }
  },
  {
   "cell_type": "code",
   "execution_count": 11,
   "outputs": [
    {
     "data": {
      "text/plain": "         ACTB     AURKA      BAG1      BCL2     BIRC5     CCNB1      CD68  \\\n1   -0.216817  0.882765 -0.475936 -0.193548  1.206504  1.747881  0.096644   \n3   -0.133928  0.454690 -0.194523  0.094322  1.062460  0.200686  0.308376   \n4    0.174829  0.231515  1.661727  0.865051  0.644838  0.423330  0.396852   \n5    0.236845 -0.761406  0.625901 -0.077457 -0.666438  0.203353  0.113525   \n7    0.254318 -0.402265  0.668890  0.466527 -0.130769 -0.020183  0.583903   \n..        ...       ...       ...       ...       ...       ...       ...   \n940 -0.024760 -0.108755 -0.131166 -0.221399 -0.370909  0.610568 -0.246811   \n943  0.026340 -0.025304 -0.240603 -0.103095  0.062647 -0.310601  0.240187   \n944  0.174103  0.786581 -0.270066  0.057733  0.336437  0.571783  0.360787   \n945 -0.125243  0.100087  0.275373  0.761157  0.398750  0.304670  0.905799   \n946  0.347481  0.526282  0.513442  0.358464  0.510429  0.576555  0.337554   \n\n         CTSV     ERBB2      ESR1  ...      GRB7     GSTM1      GUSB  \\\n1    0.208980 -0.494149  0.218984  ... -0.460508  2.636435 -0.085336   \n3   -0.259289  0.039889  0.236366  ... -0.381398 -0.746521  0.162049   \n4    0.000905  0.169969  0.567116  ...  0.429077  0.355891  0.327540   \n5    0.000749  0.496511  0.043156  ... -0.489976  0.468327  1.583176   \n7   -0.350587  0.234419  1.235543  ...  0.158341  0.031077  0.704580   \n..        ...       ...       ...  ...       ...       ...       ...   \n940  0.536553  1.937975 -0.133914  ...  1.765102 -0.215882  0.687562   \n943 -0.302796 -0.485797  0.251934  ... -1.060556  0.034420 -0.228351   \n944  0.094805  2.212109  0.216910  ...  3.904147  1.570296 -0.046375   \n945  0.305409  0.174905  0.527957  ... -0.005447  0.403672  0.706660   \n946  0.411538  0.546584  0.879548  ...  0.467216  0.423048 -0.149034   \n\n        MKI67     MMP11     MYBL2       PGR     RPLP0    SCUBE2      TFRC  \n1    0.304055 -1.124634  0.652300  0.187305 -0.145940  0.344563  0.419392  \n3   -0.179547 -0.746167  0.675335  0.617989  0.088969  1.320819 -0.316013  \n4   -0.015304  0.781119  0.556885 -0.016105  0.243952 -0.474810 -0.685337  \n5   -0.481347 -1.052476 -0.287264 -0.324959 -0.071982  1.981108 -1.272391  \n7    0.386491 -1.036383  0.056868  0.231286  0.568047  1.691042 -1.482394  \n..        ...       ...       ...       ...       ...       ...       ...  \n940  0.255556  1.073474 -0.370429 -0.183992 -0.255105 -0.894688 -0.331978  \n943 -0.336233  0.377212  0.169915 -0.269584  0.037958  1.249308  0.500676  \n944  0.119346  0.876165  0.010101  1.194933 -0.131841  0.842583 -0.110365  \n945  0.434352  0.817027  0.009721  0.526759  0.206880  3.615077 -0.557202  \n946  0.837213 -0.352682  0.234568  0.737803  0.319031  2.531785 -0.541731  \n\n[687 rows x 21 columns]",
      "text/html": "<div>\n<style scoped>\n    .dataframe tbody tr th:only-of-type {\n        vertical-align: middle;\n    }\n\n    .dataframe tbody tr th {\n        vertical-align: top;\n    }\n\n    .dataframe thead th {\n        text-align: right;\n    }\n</style>\n<table border=\"1\" class=\"dataframe\">\n  <thead>\n    <tr style=\"text-align: right;\">\n      <th></th>\n      <th>ACTB</th>\n      <th>AURKA</th>\n      <th>BAG1</th>\n      <th>BCL2</th>\n      <th>BIRC5</th>\n      <th>CCNB1</th>\n      <th>CD68</th>\n      <th>CTSV</th>\n      <th>ERBB2</th>\n      <th>ESR1</th>\n      <th>...</th>\n      <th>GRB7</th>\n      <th>GSTM1</th>\n      <th>GUSB</th>\n      <th>MKI67</th>\n      <th>MMP11</th>\n      <th>MYBL2</th>\n      <th>PGR</th>\n      <th>RPLP0</th>\n      <th>SCUBE2</th>\n      <th>TFRC</th>\n    </tr>\n  </thead>\n  <tbody>\n    <tr>\n      <th>1</th>\n      <td>-0.216817</td>\n      <td>0.882765</td>\n      <td>-0.475936</td>\n      <td>-0.193548</td>\n      <td>1.206504</td>\n      <td>1.747881</td>\n      <td>0.096644</td>\n      <td>0.208980</td>\n      <td>-0.494149</td>\n      <td>0.218984</td>\n      <td>...</td>\n      <td>-0.460508</td>\n      <td>2.636435</td>\n      <td>-0.085336</td>\n      <td>0.304055</td>\n      <td>-1.124634</td>\n      <td>0.652300</td>\n      <td>0.187305</td>\n      <td>-0.145940</td>\n      <td>0.344563</td>\n      <td>0.419392</td>\n    </tr>\n    <tr>\n      <th>3</th>\n      <td>-0.133928</td>\n      <td>0.454690</td>\n      <td>-0.194523</td>\n      <td>0.094322</td>\n      <td>1.062460</td>\n      <td>0.200686</td>\n      <td>0.308376</td>\n      <td>-0.259289</td>\n      <td>0.039889</td>\n      <td>0.236366</td>\n      <td>...</td>\n      <td>-0.381398</td>\n      <td>-0.746521</td>\n      <td>0.162049</td>\n      <td>-0.179547</td>\n      <td>-0.746167</td>\n      <td>0.675335</td>\n      <td>0.617989</td>\n      <td>0.088969</td>\n      <td>1.320819</td>\n      <td>-0.316013</td>\n    </tr>\n    <tr>\n      <th>4</th>\n      <td>0.174829</td>\n      <td>0.231515</td>\n      <td>1.661727</td>\n      <td>0.865051</td>\n      <td>0.644838</td>\n      <td>0.423330</td>\n      <td>0.396852</td>\n      <td>0.000905</td>\n      <td>0.169969</td>\n      <td>0.567116</td>\n      <td>...</td>\n      <td>0.429077</td>\n      <td>0.355891</td>\n      <td>0.327540</td>\n      <td>-0.015304</td>\n      <td>0.781119</td>\n      <td>0.556885</td>\n      <td>-0.016105</td>\n      <td>0.243952</td>\n      <td>-0.474810</td>\n      <td>-0.685337</td>\n    </tr>\n    <tr>\n      <th>5</th>\n      <td>0.236845</td>\n      <td>-0.761406</td>\n      <td>0.625901</td>\n      <td>-0.077457</td>\n      <td>-0.666438</td>\n      <td>0.203353</td>\n      <td>0.113525</td>\n      <td>0.000749</td>\n      <td>0.496511</td>\n      <td>0.043156</td>\n      <td>...</td>\n      <td>-0.489976</td>\n      <td>0.468327</td>\n      <td>1.583176</td>\n      <td>-0.481347</td>\n      <td>-1.052476</td>\n      <td>-0.287264</td>\n      <td>-0.324959</td>\n      <td>-0.071982</td>\n      <td>1.981108</td>\n      <td>-1.272391</td>\n    </tr>\n    <tr>\n      <th>7</th>\n      <td>0.254318</td>\n      <td>-0.402265</td>\n      <td>0.668890</td>\n      <td>0.466527</td>\n      <td>-0.130769</td>\n      <td>-0.020183</td>\n      <td>0.583903</td>\n      <td>-0.350587</td>\n      <td>0.234419</td>\n      <td>1.235543</td>\n      <td>...</td>\n      <td>0.158341</td>\n      <td>0.031077</td>\n      <td>0.704580</td>\n      <td>0.386491</td>\n      <td>-1.036383</td>\n      <td>0.056868</td>\n      <td>0.231286</td>\n      <td>0.568047</td>\n      <td>1.691042</td>\n      <td>-1.482394</td>\n    </tr>\n    <tr>\n      <th>...</th>\n      <td>...</td>\n      <td>...</td>\n      <td>...</td>\n      <td>...</td>\n      <td>...</td>\n      <td>...</td>\n      <td>...</td>\n      <td>...</td>\n      <td>...</td>\n      <td>...</td>\n      <td>...</td>\n      <td>...</td>\n      <td>...</td>\n      <td>...</td>\n      <td>...</td>\n      <td>...</td>\n      <td>...</td>\n      <td>...</td>\n      <td>...</td>\n      <td>...</td>\n      <td>...</td>\n    </tr>\n    <tr>\n      <th>940</th>\n      <td>-0.024760</td>\n      <td>-0.108755</td>\n      <td>-0.131166</td>\n      <td>-0.221399</td>\n      <td>-0.370909</td>\n      <td>0.610568</td>\n      <td>-0.246811</td>\n      <td>0.536553</td>\n      <td>1.937975</td>\n      <td>-0.133914</td>\n      <td>...</td>\n      <td>1.765102</td>\n      <td>-0.215882</td>\n      <td>0.687562</td>\n      <td>0.255556</td>\n      <td>1.073474</td>\n      <td>-0.370429</td>\n      <td>-0.183992</td>\n      <td>-0.255105</td>\n      <td>-0.894688</td>\n      <td>-0.331978</td>\n    </tr>\n    <tr>\n      <th>943</th>\n      <td>0.026340</td>\n      <td>-0.025304</td>\n      <td>-0.240603</td>\n      <td>-0.103095</td>\n      <td>0.062647</td>\n      <td>-0.310601</td>\n      <td>0.240187</td>\n      <td>-0.302796</td>\n      <td>-0.485797</td>\n      <td>0.251934</td>\n      <td>...</td>\n      <td>-1.060556</td>\n      <td>0.034420</td>\n      <td>-0.228351</td>\n      <td>-0.336233</td>\n      <td>0.377212</td>\n      <td>0.169915</td>\n      <td>-0.269584</td>\n      <td>0.037958</td>\n      <td>1.249308</td>\n      <td>0.500676</td>\n    </tr>\n    <tr>\n      <th>944</th>\n      <td>0.174103</td>\n      <td>0.786581</td>\n      <td>-0.270066</td>\n      <td>0.057733</td>\n      <td>0.336437</td>\n      <td>0.571783</td>\n      <td>0.360787</td>\n      <td>0.094805</td>\n      <td>2.212109</td>\n      <td>0.216910</td>\n      <td>...</td>\n      <td>3.904147</td>\n      <td>1.570296</td>\n      <td>-0.046375</td>\n      <td>0.119346</td>\n      <td>0.876165</td>\n      <td>0.010101</td>\n      <td>1.194933</td>\n      <td>-0.131841</td>\n      <td>0.842583</td>\n      <td>-0.110365</td>\n    </tr>\n    <tr>\n      <th>945</th>\n      <td>-0.125243</td>\n      <td>0.100087</td>\n      <td>0.275373</td>\n      <td>0.761157</td>\n      <td>0.398750</td>\n      <td>0.304670</td>\n      <td>0.905799</td>\n      <td>0.305409</td>\n      <td>0.174905</td>\n      <td>0.527957</td>\n      <td>...</td>\n      <td>-0.005447</td>\n      <td>0.403672</td>\n      <td>0.706660</td>\n      <td>0.434352</td>\n      <td>0.817027</td>\n      <td>0.009721</td>\n      <td>0.526759</td>\n      <td>0.206880</td>\n      <td>3.615077</td>\n      <td>-0.557202</td>\n    </tr>\n    <tr>\n      <th>946</th>\n      <td>0.347481</td>\n      <td>0.526282</td>\n      <td>0.513442</td>\n      <td>0.358464</td>\n      <td>0.510429</td>\n      <td>0.576555</td>\n      <td>0.337554</td>\n      <td>0.411538</td>\n      <td>0.546584</td>\n      <td>0.879548</td>\n      <td>...</td>\n      <td>0.467216</td>\n      <td>0.423048</td>\n      <td>-0.149034</td>\n      <td>0.837213</td>\n      <td>-0.352682</td>\n      <td>0.234568</td>\n      <td>0.737803</td>\n      <td>0.319031</td>\n      <td>2.531785</td>\n      <td>-0.541731</td>\n    </tr>\n  </tbody>\n</table>\n<p>687 rows × 21 columns</p>\n</div>"
     },
     "execution_count": 11,
     "metadata": {},
     "output_type": "execute_result"
    }
   ],
   "source": [
    "refer_gen = ['ACTB', 'GAPDH', 'RPLP0', 'GUSB', 'TFRC']\n",
    "\n",
    "selected_columns = filtered_dataframe.iloc[:, 6:]\n",
    "\n",
    "# Step 2: Calculate the average of the reference columns\n",
    "# Ensure that all columns in refer_gen are in the DataFrame\n",
    "assert all(item in filtered_dataframe.columns for item in refer_gen), \"Some columns in refer_gen are not in the DataFrame\"\n",
    "\n",
    "# Calculate the average of the specified columns\n",
    "average_of_refer_gen = filtered_dataframe[refer_gen].mean(axis=1)\n",
    "\n",
    "# Step 3: Normalize the selected columns by subtracting the average\n",
    "normalized_columns = selected_columns.sub(average_of_refer_gen, axis=0)\n",
    "normalized_columns"
   ],
   "metadata": {
    "collapsed": false,
    "ExecuteTime": {
     "start_time": "2024-01-26T10:38:37.751767Z",
     "end_time": "2024-01-26T10:38:37.806653Z"
    }
   }
  },
  {
   "cell_type": "code",
   "execution_count": 12,
   "outputs": [],
   "source": [
    "normalized_columns.drop(refer_gen, axis=1, inplace=True)\n",
    "\n",
    "# Extract the first 6 columns from the original dataframe\n",
    "first_six_columns = filtered_dataframe.iloc[:, :6]\n",
    "\n",
    "# Step 2: Combine the first 6 columns with the normalized columns\n",
    "combined_dataframe = pd.concat([first_six_columns, normalized_columns], axis=1)"
   ],
   "metadata": {
    "collapsed": false,
    "ExecuteTime": {
     "start_time": "2024-01-26T10:38:42.366018Z",
     "end_time": "2024-01-26T10:38:42.388957Z"
    }
   }
  },
  {
   "cell_type": "code",
   "execution_count": 11,
   "outputs": [],
   "source": [
    "combined_dataframe.to_csv('OncotypeDX/AffyOncotypeDX.csv', index_label=False)"
   ],
   "metadata": {
    "collapsed": false,
    "ExecuteTime": {
     "start_time": "2024-01-21T10:52:19.832391Z",
     "end_time": "2024-01-21T10:52:19.892266Z"
    }
   }
  },
  {
   "cell_type": "code",
   "execution_count": 36,
   "outputs": [],
   "source": [
    "combined_dataframe = pd.read_csv('OncotypeDX/AffyOncotypeDX.csv')"
   ],
   "metadata": {
    "collapsed": false,
    "ExecuteTime": {
     "start_time": "2024-02-23T07:41:20.174052Z",
     "end_time": "2024-02-23T07:41:20.229901Z"
    }
   }
  },
  {
   "cell_type": "code",
   "execution_count": 2,
   "outputs": [],
   "source": [
    "combined_dataframe = affy_combined_df"
   ],
   "metadata": {
    "collapsed": false,
    "ExecuteTime": {
     "start_time": "2024-02-23T08:03:40.418245Z",
     "end_time": "2024-02-23T08:03:42.357192Z"
    }
   }
  },
  {
   "cell_type": "code",
   "execution_count": 38,
   "outputs": [
    {
     "data": {
      "text/plain": "predicted_label\n1.0    456\n0.0    127\nName: count, dtype: int64"
     },
     "execution_count": 38,
     "metadata": {},
     "output_type": "execute_result"
    }
   ],
   "source": [
    "import numpy as np\n",
    "# Assign 'predicted_label' based on conditions specified\n",
    "combined_dataframe['predicted_label'] = np.where(\n",
    "    (combined_dataframe['PFItime'] < 5*365) & (combined_dataframe['PFI'] == 1), 0,\n",
    "    np.where(combined_dataframe['PFItime'] >= 5*365, 1, np.nan)\n",
    ")\n",
    "\n",
    "# Remove rows where 'FPItime' < 5*365 and 'PFI' == 0\n",
    "combined_dataframe = combined_dataframe.drop(combined_dataframe[(combined_dataframe['PFItime'] < 5*365) & (combined_dataframe['PFI'] == 0)].index)\n",
    "\n",
    "label_counts = combined_dataframe['predicted_label'].value_counts()\n",
    "label_counts"
   ],
   "metadata": {
    "collapsed": false,
    "ExecuteTime": {
     "start_time": "2024-02-23T07:41:40.131970Z",
     "end_time": "2024-02-23T07:41:40.153458Z"
    }
   }
  },
  {
   "cell_type": "code",
   "execution_count": 3,
   "outputs": [],
   "source": [
    "seed_list = [10, 74, 341, 925, 1036, 1555, 1777, 2030, 2060, 2090, 2200,\n",
    "                 2222, 2268, 2289, 2341, 2741, 2765, 2782, 2857, 2864, 2918,\n",
    "                 2937, 2948, 2960, 2968, 3005, 3008, 3154, 3199, 3212, 3388,\n",
    "                 3455, 3466, 3611, 3679, 3927, 4000, 4013, 4416, 4520]"
   ],
   "metadata": {
    "collapsed": false,
    "ExecuteTime": {
     "start_time": "2024-02-23T08:03:40.434202Z",
     "end_time": "2024-02-23T08:03:42.391337Z"
    }
   }
  },
  {
   "cell_type": "code",
   "execution_count": 4,
   "outputs": [
    {
     "name": "stdout",
     "output_type": "stream",
     "text": [
      "[10, 0.6323862208]\n",
      "0.675132\n",
      "[74, 0.6895505928]\n",
      "0.674387\n",
      "[341, 0.7253028891]\n",
      "0.631174\n",
      "[925, 0.6585858586]\n",
      "0.650758\n",
      "[1036, 0.645813282]\n",
      "0.630735\n",
      "[1555, 0.6775237274]\n",
      "0.638697\n",
      "[1777, 0.6588667125]\n",
      "0.707961\n",
      "[2030, 0.6484268126]\n",
      "0.660739\n",
      "[2060, 0.6560833122]\n",
      "0.647701\n",
      "[2090, 0.6998956159]\n",
      "0.674322\n",
      "[2200, 0.7330415755]\n",
      "0.754923\n",
      "[2222, 0.6830725462]\n",
      "0.653201\n",
      "[2268, 0.7617873652]\n",
      "0.653621\n",
      "[2289, 0.7236758137]\n",
      "0.68411\n",
      "[2341, 0.6171854217]\n",
      "0.629157\n",
      "[2741, 0.6154603644]\n",
      "0.636386\n",
      "[2765, 0.6206331878]\n",
      "0.631004\n",
      "[2782, 0.6268698061]\n",
      "0.662604\n",
      "[2857, 0.6578128739]\n",
      "0.623833\n",
      "[2864, 0.6130268199]\n",
      "0.641026\n",
      "[2918, 0.7184796855]\n",
      "0.6173\n",
      "[2937, 0.6824405477]\n",
      "0.656258\n",
      "[2948, 0.6200260078]\n",
      "0.662679\n",
      "[2960, 0.6607825831]\n",
      "0.601059\n",
      "[2968, 0.5947740416]\n",
      "0.657314\n",
      "[3005, 0.6571035116]\n",
      "0.632316\n",
      "[3008, 0.7509836987]\n",
      "0.687184\n",
      "[3154, 0.7076159907]\n",
      "0.726291\n",
      "[3199, 0.6991013325]\n",
      "0.673071\n",
      "[3212, 0.6462872858]\n",
      "0.699175\n",
      "[3388, 0.6540819619]\n",
      "0.643756\n",
      "[3455, 0.6320231493]\n",
      "0.652038\n",
      "[3466, 0.6968784228]\n",
      "0.714677\n",
      "[3611, 0.7375767728]\n",
      "0.691234\n",
      "[3679, 0.6240020603]\n",
      "0.679114\n",
      "[3927, 0.6676129032]\n",
      "0.674581\n",
      "[4000, 0.6597005614]\n",
      "0.732377\n",
      "[4013, 0.6281901194]\n",
      "0.679934\n",
      "[4416, 0.6636700159]\n",
      "0.683765\n",
      "[4520, 0.6742095474]\n",
      "0.615933\n",
      "0.6680135249425001\n",
      "0.6635381749999999\n"
     ]
    }
   ],
   "source": [
    "from sklearn.model_selection import train_test_split\n",
    "from sksurv.linear_model import CoxnetSurvivalAnalysis, CoxPHSurvivalAnalysis\n",
    "from sksurv.metrics import concordance_index_censored, integrated_brier_score\n",
    "import numpy as np\n",
    "import concurrent.futures\n",
    "from xgbse.converters import convert_data_to_xgb_format\n",
    "from xgbse.metrics import concordance_index\n",
    "import xgboost as xgb\n",
    "\n",
    "def build_y_data(y_data):\n",
    "    y_time = y_data.iloc[:, 0].astype(int).values.tolist()\n",
    "    y_sta = y_data.iloc[:, 1].astype(int).values.tolist()\n",
    "    y = []\n",
    "    for k in range(len(y_time)):\n",
    "        y.append([y_sta[k], y_time[k]])\n",
    "\n",
    "    # List of tuples\n",
    "    aux = [(e1, e2) for e1, e2 in y]\n",
    "\n",
    "    # Structured array\n",
    "    new_data_y = np.array(aux, dtype=[('Status', '?'), ('Survival_in_days', '<f8')])\n",
    "    return new_data_y\n",
    "\n",
    "sum = 0\n",
    "sum_xgb = 0\n",
    "xgb_collect = []\n",
    "coxen_collect = []\n",
    "for seed in seed_list:\n",
    "\n",
    "    get_data = combined_dataframe.sort_values(by=['PFItime'])\n",
    "    #get_data = BRCAdataERp30.sort_values(by=['PFItime'])\n",
    "    #get_data = affy_combined_df.sort_values(by=['PFItime'])\n",
    "    data_len = get_data.shape[0]\n",
    "    start = 0\n",
    "    if len(get_data) < 80:\n",
    "        piece_num = 5\n",
    "    else:\n",
    "        piece_num = 20\n",
    "\n",
    "    end = start + int(data_len / piece_num)\n",
    "    x_train_get = []\n",
    "    y_train_get = []\n",
    "    x_test_get = []\n",
    "    y_test_get = []\n",
    "\n",
    "    for i in range(piece_num):\n",
    "        if i == piece_num - 1:\n",
    "            end = data_len\n",
    "        data_sample = get_data.iloc[start:end]\n",
    "        start = end\n",
    "        end = end + int(data_len / piece_num)\n",
    "        labely = data_sample[['PFItime', 'PFI']]\n",
    "        labelx = data_sample.iloc[:, 6:]\n",
    "        x_train, x_test, y_train, y_test = train_test_split(labelx, labely, test_size=0.2,\n",
    "                                                            random_state=seed)  # Pass seed 10, 74, 341, 925, 1036 #114\n",
    "        x_train_get.append(x_train)\n",
    "        y_train_get.append(y_train)\n",
    "        x_test_get.append(x_test)\n",
    "        y_test_get.append(y_test)\n",
    "\n",
    "    x_train_combine = pd.concat(x_train_get)\n",
    "    y_train_combine = pd.concat(y_train_get)\n",
    "    x_test_combine = pd.concat(x_test_get)\n",
    "    y_test_combine = pd.concat(y_test_get)\n",
    "\n",
    "    x = x_train_combine\n",
    "    x_test = x_test_combine\n",
    "\n",
    "    y = build_y_data(y_train_combine)\n",
    "    y_test = build_y_data(y_test_combine)\n",
    "\n",
    "    PARAMS_COX = {\n",
    "                'objective': 'survival:cox',\n",
    "                'eval_metric': 'cox-nloglik',\n",
    "                'tree_method': 'hist',\n",
    "                'learning_rate': 5e-2,\n",
    "                'max_depth': 8,\n",
    "                'booster': 'dart',\n",
    "                'subsample': 0.8,\n",
    "                'min_child_weight': 2,\n",
    "                'colsample_bynode': 0.7\n",
    "            }\n",
    "    dtrain = convert_data_to_xgb_format(x, y, 'survival:cox')\n",
    "    dval = convert_data_to_xgb_format(x_test, y_test, 'survival:cox')\n",
    "    bst = xgb.train(\n",
    "        PARAMS_COX,\n",
    "        dtrain,\n",
    "        num_boost_round=1000,\n",
    "        early_stopping_rounds=10,\n",
    "        evals=[(dval, 'val')],\n",
    "        verbose_eval=0\n",
    "    )\n",
    "\n",
    "    # predicting and evaluating\n",
    "    preds = bst.predict(dval)\n",
    "    try:\n",
    "        scores = concordance_index_censored(y_test['Status'], y_test['Survival_in_days'], preds)\n",
    "        c_index = round(scores[0], 10)\n",
    "        #c_index = concordance_index(y_test, preds, risk_strategy='precomputed')\n",
    "    except:\n",
    "        #c_index = 0.5\n",
    "        c_index = 0.5\n",
    "\n",
    "    print([seed, c_index])\n",
    "    sum_xgb += c_index\n",
    "    xgb_collect.append(c_index)\n",
    "\n",
    "    estimator = CoxnetSurvivalAnalysis(normalize=True)  # alphas=alpha_get\n",
    "    estimator.fit(x, y)\n",
    "    scores = concordance_index_censored(y_test['Status'], y_test['Survival_in_days'],\n",
    "                                        estimator.predict(x_test))\n",
    "    c_index = round(scores[0], 6)\n",
    "    print(c_index)\n",
    "    sum += c_index\n",
    "    coxen_collect.append(c_index)\n",
    "\n",
    "print(sum_xgb/40)\n",
    "print(sum/40)"
   ],
   "metadata": {
    "collapsed": false,
    "ExecuteTime": {
     "start_time": "2024-02-23T08:03:43.758226Z",
     "end_time": "2024-02-23T08:22:05.525608Z"
    }
   }
  },
  {
   "cell_type": "code",
   "execution_count": 6,
   "outputs": [],
   "source": [
    "df = pd.DataFrame(coxen_collect, columns=['Value'])\n",
    "df.to_csv('output.csv', index=False)"
   ],
   "metadata": {
    "collapsed": false,
    "ExecuteTime": {
     "start_time": "2024-02-23T08:24:31.838992Z",
     "end_time": "2024-02-23T08:24:31.889779Z"
    }
   }
  },
  {
   "cell_type": "code",
   "execution_count": 104,
   "outputs": [
    {
     "name": "stdout",
     "output_type": "stream",
     "text": [
      "127 [14, 14, 14, 14, 14, 14, 14, 14, 15] 456 [14, 14, 14, 14, 14, 14, 14, 14, 14, 14, 14, 14, 14, 14, 14, 14, 14, 14, 14, 14, 14, 14, 14, 14, 15, 15, 15, 15, 15, 15, 15, 15]\n",
      "10 0.7654320987654321\n",
      "127 [14, 14, 14, 14, 14, 14, 14, 14, 15] 456 [14, 14, 14, 14, 14, 14, 14, 14, 14, 14, 14, 14, 14, 14, 14, 14, 14, 14, 14, 14, 14, 14, 14, 14, 15, 15, 15, 15, 15, 15, 15, 15]\n",
      "74 0.7318672839506173\n",
      "127 [14, 14, 14, 14, 14, 14, 14, 14, 15] 456 [14, 14, 14, 14, 14, 14, 14, 14, 14, 14, 14, 14, 14, 14, 14, 14, 14, 14, 14, 14, 14, 14, 14, 14, 15, 15, 15, 15, 15, 15, 15, 15]\n",
      "341 0.716820987654321\n",
      "127 [14, 14, 14, 14, 14, 14, 14, 14, 15] 456 [14, 14, 14, 14, 14, 14, 14, 14, 14, 14, 14, 14, 14, 14, 14, 14, 14, 14, 14, 14, 14, 14, 14, 14, 15, 15, 15, 15, 15, 15, 15, 15]\n",
      "925 0.783179012345679\n",
      "127 [14, 14, 14, 14, 14, 14, 14, 14, 15] 456 [14, 14, 14, 14, 14, 14, 14, 14, 14, 14, 14, 14, 14, 14, 14, 14, 14, 14, 14, 14, 14, 14, 14, 14, 15, 15, 15, 15, 15, 15, 15, 15]\n",
      "1036 0.6277006172839507\n",
      "127 [14, 14, 14, 14, 14, 14, 14, 14, 15] 456 [14, 14, 14, 14, 14, 14, 14, 14, 14, 14, 14, 14, 14, 14, 14, 14, 14, 14, 14, 14, 14, 14, 14, 14, 15, 15, 15, 15, 15, 15, 15, 15]\n",
      "1555 0.6060956790123456\n",
      "127 [14, 14, 14, 14, 14, 14, 14, 14, 15] 456 [14, 14, 14, 14, 14, 14, 14, 14, 14, 14, 14, 14, 14, 14, 14, 14, 14, 14, 14, 14, 14, 14, 14, 14, 15, 15, 15, 15, 15, 15, 15, 15]\n",
      "1777 0.7391975308641976\n",
      "127 [14, 14, 14, 14, 14, 14, 14, 14, 15] 456 [14, 14, 14, 14, 14, 14, 14, 14, 14, 14, 14, 14, 14, 14, 14, 14, 14, 14, 14, 14, 14, 14, 14, 14, 15, 15, 15, 15, 15, 15, 15, 15]\n",
      "2030 0.65625\n",
      "127 [14, 14, 14, 14, 14, 14, 14, 14, 15] 456 [14, 14, 14, 14, 14, 14, 14, 14, 14, 14, 14, 14, 14, 14, 14, 14, 14, 14, 14, 14, 14, 14, 14, 14, 15, 15, 15, 15, 15, 15, 15, 15]\n",
      "2060 0.6739969135802468\n",
      "127 [14, 14, 14, 14, 14, 14, 14, 14, 15] 456 [14, 14, 14, 14, 14, 14, 14, 14, 14, 14, 14, 14, 14, 14, 14, 14, 14, 14, 14, 14, 14, 14, 14, 14, 15, 15, 15, 15, 15, 15, 15, 15]\n",
      "2090 0.7542438271604938\n",
      "127 [14, 14, 14, 14, 14, 14, 14, 14, 15] 456 [14, 14, 14, 14, 14, 14, 14, 14, 14, 14, 14, 14, 14, 14, 14, 14, 14, 14, 14, 14, 14, 14, 14, 14, 15, 15, 15, 15, 15, 15, 15, 15]\n",
      "2200 0.6215277777777778\n",
      "127 [14, 14, 14, 14, 14, 14, 14, 14, 15] 456 [14, 14, 14, 14, 14, 14, 14, 14, 14, 14, 14, 14, 14, 14, 14, 14, 14, 14, 14, 14, 14, 14, 14, 14, 15, 15, 15, 15, 15, 15, 15, 15]\n",
      "2222 0.6323302469135803\n",
      "127 [14, 14, 14, 14, 14, 14, 14, 14, 15] 456 [14, 14, 14, 14, 14, 14, 14, 14, 14, 14, 14, 14, 14, 14, 14, 14, 14, 14, 14, 14, 14, 14, 14, 14, 15, 15, 15, 15, 15, 15, 15, 15]\n",
      "2268 0.666280864197531\n",
      "127 [14, 14, 14, 14, 14, 14, 14, 14, 15] 456 [14, 14, 14, 14, 14, 14, 14, 14, 14, 14, 14, 14, 14, 14, 14, 14, 14, 14, 14, 14, 14, 14, 14, 14, 15, 15, 15, 15, 15, 15, 15, 15]\n",
      "2289 0.7017746913580247\n",
      "127 [14, 14, 14, 14, 14, 14, 14, 14, 15] 456 [14, 14, 14, 14, 14, 14, 14, 14, 14, 14, 14, 14, 14, 14, 14, 14, 14, 14, 14, 14, 14, 14, 14, 14, 15, 15, 15, 15, 15, 15, 15, 15]\n",
      "2341 0.7330246913580248\n",
      "127 [14, 14, 14, 14, 14, 14, 14, 14, 15] 456 [14, 14, 14, 14, 14, 14, 14, 14, 14, 14, 14, 14, 14, 14, 14, 14, 14, 14, 14, 14, 14, 14, 14, 14, 15, 15, 15, 15, 15, 15, 15, 15]\n",
      "2741 0.6979166666666667\n",
      "127 [14, 14, 14, 14, 14, 14, 14, 14, 15] 456 [14, 14, 14, 14, 14, 14, 14, 14, 14, 14, 14, 14, 14, 14, 14, 14, 14, 14, 14, 14, 14, 14, 14, 14, 15, 15, 15, 15, 15, 15, 15, 15]\n",
      "2765 0.7102623456790125\n",
      "127 [14, 14, 14, 14, 14, 14, 14, 14, 15] 456 [14, 14, 14, 14, 14, 14, 14, 14, 14, 14, 14, 14, 14, 14, 14, 14, 14, 14, 14, 14, 14, 14, 14, 14, 15, 15, 15, 15, 15, 15, 15, 15]\n",
      "2782 0.7048611111111112\n",
      "127 [14, 14, 14, 14, 14, 14, 14, 14, 15] 456 [14, 14, 14, 14, 14, 14, 14, 14, 14, 14, 14, 14, 14, 14, 14, 14, 14, 14, 14, 14, 14, 14, 14, 14, 15, 15, 15, 15, 15, 15, 15, 15]\n",
      "2857 0.6959876543209876\n",
      "127 [14, 14, 14, 14, 14, 14, 14, 14, 15] 456 [14, 14, 14, 14, 14, 14, 14, 14, 14, 14, 14, 14, 14, 14, 14, 14, 14, 14, 14, 14, 14, 14, 14, 14, 15, 15, 15, 15, 15, 15, 15, 15]\n",
      "2864 0.739969135802469\n",
      "127 [14, 14, 14, 14, 14, 14, 14, 14, 15] 456 [14, 14, 14, 14, 14, 14, 14, 14, 14, 14, 14, 14, 14, 14, 14, 14, 14, 14, 14, 14, 14, 14, 14, 14, 15, 15, 15, 15, 15, 15, 15, 15]\n",
      "2918 0.787037037037037\n",
      "127 [14, 14, 14, 14, 14, 14, 14, 14, 15] 456 [14, 14, 14, 14, 14, 14, 14, 14, 14, 14, 14, 14, 14, 14, 14, 14, 14, 14, 14, 14, 14, 14, 14, 14, 15, 15, 15, 15, 15, 15, 15, 15]\n",
      "2937 0.6527777777777779\n",
      "127 [14, 14, 14, 14, 14, 14, 14, 14, 15] 456 [14, 14, 14, 14, 14, 14, 14, 14, 14, 14, 14, 14, 14, 14, 14, 14, 14, 14, 14, 14, 14, 14, 14, 14, 15, 15, 15, 15, 15, 15, 15, 15]\n",
      "2948 0.6361882716049383\n",
      "127 [14, 14, 14, 14, 14, 14, 14, 14, 15] 456 [14, 14, 14, 14, 14, 14, 14, 14, 14, 14, 14, 14, 14, 14, 14, 14, 14, 14, 14, 14, 14, 14, 14, 14, 15, 15, 15, 15, 15, 15, 15, 15]\n",
      "2960 0.6238425925925926\n",
      "127 [14, 14, 14, 14, 14, 14, 14, 14, 15] 456 [14, 14, 14, 14, 14, 14, 14, 14, 14, 14, 14, 14, 14, 14, 14, 14, 14, 14, 14, 14, 14, 14, 14, 14, 15, 15, 15, 15, 15, 15, 15, 15]\n",
      "2968 0.6728395061728395\n",
      "127 [14, 14, 14, 14, 14, 14, 14, 14, 15] 456 [14, 14, 14, 14, 14, 14, 14, 14, 14, 14, 14, 14, 14, 14, 14, 14, 14, 14, 14, 14, 14, 14, 14, 14, 15, 15, 15, 15, 15, 15, 15, 15]\n",
      "3005 0.6620370370370372\n",
      "127 [14, 14, 14, 14, 14, 14, 14, 14, 15] 456 [14, 14, 14, 14, 14, 14, 14, 14, 14, 14, 14, 14, 14, 14, 14, 14, 14, 14, 14, 14, 14, 14, 14, 14, 15, 15, 15, 15, 15, 15, 15, 15]\n",
      "3008 0.7183641975308642\n",
      "127 [14, 14, 14, 14, 14, 14, 14, 14, 15] 456 [14, 14, 14, 14, 14, 14, 14, 14, 14, 14, 14, 14, 14, 14, 14, 14, 14, 14, 14, 14, 14, 14, 14, 14, 15, 15, 15, 15, 15, 15, 15, 15]\n",
      "3154 0.634645061728395\n",
      "127 [14, 14, 14, 14, 14, 14, 14, 14, 15] 456 [14, 14, 14, 14, 14, 14, 14, 14, 14, 14, 14, 14, 14, 14, 14, 14, 14, 14, 14, 14, 14, 14, 14, 14, 15, 15, 15, 15, 15, 15, 15, 15]\n",
      "3199 0.7079475308641975\n",
      "127 [14, 14, 14, 14, 14, 14, 14, 14, 15] 456 [14, 14, 14, 14, 14, 14, 14, 14, 14, 14, 14, 14, 14, 14, 14, 14, 14, 14, 14, 14, 14, 14, 14, 14, 15, 15, 15, 15, 15, 15, 15, 15]\n",
      "3212 0.6018518518518519\n",
      "127 [14, 14, 14, 14, 14, 14, 14, 14, 15] 456 [14, 14, 14, 14, 14, 14, 14, 14, 14, 14, 14, 14, 14, 14, 14, 14, 14, 14, 14, 14, 14, 14, 14, 14, 15, 15, 15, 15, 15, 15, 15, 15]\n",
      "3388 0.6813271604938271\n",
      "127 [14, 14, 14, 14, 14, 14, 14, 14, 15] 456 [14, 14, 14, 14, 14, 14, 14, 14, 14, 14, 14, 14, 14, 14, 14, 14, 14, 14, 14, 14, 14, 14, 14, 14, 15, 15, 15, 15, 15, 15, 15, 15]\n",
      "3455 0.6215277777777778\n",
      "127 [14, 14, 14, 14, 14, 14, 14, 14, 15] 456 [14, 14, 14, 14, 14, 14, 14, 14, 14, 14, 14, 14, 14, 14, 14, 14, 14, 14, 14, 14, 14, 14, 14, 14, 15, 15, 15, 15, 15, 15, 15, 15]\n",
      "3466 0.7040895061728396\n",
      "127 [14, 14, 14, 14, 14, 14, 14, 14, 15] 456 [14, 14, 14, 14, 14, 14, 14, 14, 14, 14, 14, 14, 14, 14, 14, 14, 14, 14, 14, 14, 14, 14, 14, 14, 15, 15, 15, 15, 15, 15, 15, 15]\n",
      "3611 0.6300154320987653\n",
      "127 [14, 14, 14, 14, 14, 14, 14, 14, 15] 456 [14, 14, 14, 14, 14, 14, 14, 14, 14, 14, 14, 14, 14, 14, 14, 14, 14, 14, 14, 14, 14, 14, 14, 14, 15, 15, 15, 15, 15, 15, 15, 15]\n",
      "3679 0.810570987654321\n",
      "127 [14, 14, 14, 14, 14, 14, 14, 14, 15] 456 [14, 14, 14, 14, 14, 14, 14, 14, 14, 14, 14, 14, 14, 14, 14, 14, 14, 14, 14, 14, 14, 14, 14, 14, 15, 15, 15, 15, 15, 15, 15, 15]\n",
      "3927 0.6577932098765433\n",
      "127 [14, 14, 14, 14, 14, 14, 14, 14, 15] 456 [14, 14, 14, 14, 14, 14, 14, 14, 14, 14, 14, 14, 14, 14, 14, 14, 14, 14, 14, 14, 14, 14, 14, 14, 15, 15, 15, 15, 15, 15, 15, 15]\n",
      "4000 0.6462191358024691\n",
      "127 [14, 14, 14, 14, 14, 14, 14, 14, 15] 456 [14, 14, 14, 14, 14, 14, 14, 14, 14, 14, 14, 14, 14, 14, 14, 14, 14, 14, 14, 14, 14, 14, 14, 14, 15, 15, 15, 15, 15, 15, 15, 15]\n",
      "4013 0.6790123456790124\n",
      "127 [14, 14, 14, 14, 14, 14, 14, 14, 15] 456 [14, 14, 14, 14, 14, 14, 14, 14, 14, 14, 14, 14, 14, 14, 14, 14, 14, 14, 14, 14, 14, 14, 14, 14, 15, 15, 15, 15, 15, 15, 15, 15]\n",
      "4416 0.7658179012345678\n",
      "127 [14, 14, 14, 14, 14, 14, 14, 14, 15] 456 [14, 14, 14, 14, 14, 14, 14, 14, 14, 14, 14, 14, 14, 14, 14, 14, 14, 14, 14, 14, 14, 14, 14, 14, 15, 15, 15, 15, 15, 15, 15, 15]\n",
      "4520 0.7665895061728394\n",
      "0.6904803240740739\n"
     ]
    }
   ],
   "source": [
    "from xgboost import XGBClassifier\n",
    "from sklearn.metrics import accuracy_score, f1_score, roc_auc_score, precision_score, recall_score, auc, roc_curve, roc_auc_score\n",
    "import numpy as np\n",
    "import random\n",
    "\n",
    "def divide_number(n, bing=10):\n",
    "    if n < 20:\n",
    "        return [n]\n",
    "    else:\n",
    "        if bing > 10:\n",
    "            remainder = n % bing\n",
    "            if n // bing > remainder:\n",
    "                result = [bing] * (n // bing)\n",
    "                for j in range(remainder):\n",
    "                    result[-(j + 1)] += 1\n",
    "                return result\n",
    "            else:\n",
    "                try:\n",
    "                    min_remainder = 15\n",
    "                    result = []\n",
    "                    for k in range(bing, 16):\n",
    "                        remainder = n % k\n",
    "                        if remainder < min_remainder:\n",
    "                            min_remainder = remainder\n",
    "                            result = [k] * (n // k)\n",
    "                    for j in range(min_remainder):\n",
    "                        result[-(j + 1)] += 1\n",
    "                    return result\n",
    "                except:\n",
    "                    return divide_number(n, bing - 1)\n",
    "        else:\n",
    "            min_remainder = 15\n",
    "            result = []\n",
    "            for k in range(10, 16):\n",
    "                remainder = n % k\n",
    "                if remainder < min_remainder:\n",
    "                    min_remainder = remainder\n",
    "                    result = [k] * (n // k)\n",
    "            for j in range(min_remainder):\n",
    "                result[-(j + 1)] += 1\n",
    "            return result\n",
    "\n",
    "sum = 0\n",
    "for seed in seed_list:\n",
    "\n",
    "    get_data = combined_dataframe.sort_values(by=['PFItime'])\n",
    "\n",
    "    get_data_0 = get_data[get_data['PFItime'] < (5*365)]\n",
    "    get_data_1 = get_data[get_data['PFItime'] >= (5*365)]\n",
    "    data_len_0 = get_data_0.shape[0]\n",
    "    data_len_1 = get_data_1.shape[0]\n",
    "    if data_len_0 < data_len_1:\n",
    "        get_data_0_split = divide_number(data_len_0)\n",
    "        get_data_1_split = divide_number(data_len_1, get_data_0_split[0])\n",
    "    else:\n",
    "        get_data_1_split = divide_number(data_len_1)\n",
    "        get_data_0_split = divide_number(data_len_0, get_data_1_split[0])\n",
    "    print(data_len_0, get_data_0_split, data_len_1, get_data_1_split)\n",
    "\n",
    "    x_train_get = []\n",
    "    y_train_get = []\n",
    "    x_test_get = []\n",
    "    y_test_get = []\n",
    "    x_train_get_split = [[], [], [], [], []]\n",
    "    y_train_get_split = [[], [], [], [], []]\n",
    "\n",
    "    start = 0\n",
    "    for split_get in get_data_0_split:\n",
    "        end = start + split_get\n",
    "        #print(start, end)\n",
    "        data_sample = get_data.iloc[start:end]\n",
    "        start = end\n",
    "        labely = data_sample['predicted_label']\n",
    "        labelx = data_sample.iloc[:, 6:]\n",
    "        x_train, x_test, y_train, y_test = train_test_split(labelx, labely, test_size=0.2,\n",
    "                                                            random_state=seed)  # Pass seed 10, 74, 341, 925, 1036 #114\n",
    "        x_train_get.append(x_train)\n",
    "        y_train_get.append(y_train)\n",
    "        x_test_get.append(x_test)\n",
    "        y_test_get.append(y_test)\n",
    "\n",
    "        sublists_x = []\n",
    "        sublists_y = []\n",
    "\n",
    "        data_format = list(zip(x_train.values.tolist(), y_train.values.tolist()))\n",
    "\n",
    "        sublist_length = len(data_format) // 5\n",
    "\n",
    "        # randomly shuffle the data list\n",
    "        random.shuffle(data_format)\n",
    "\n",
    "        # split the shuffled list into 5 sublists of equal length\n",
    "        sublists = [data_format[i:i + sublist_length] for i in range(0, len(data_format), sublist_length)]\n",
    "        if sublist_length * 5 < len(data_format):\n",
    "            sublists[-1] += (data_format[len(sublists) * sublist_length:])\n",
    "\n",
    "        # separate the sublists back into x and y\n",
    "        sublists_x += ([t[0] for t in sublist] for sublist in sublists)\n",
    "        sublists_y += ([t[1] for t in sublist] for sublist in sublists)\n",
    "\n",
    "        if len(sublists_y) > 5:\n",
    "            sublists_y[-2] += sublists_y[-1]\n",
    "            sublists_y.pop()\n",
    "            sublists_x[-2] += sublists_x[-1]\n",
    "            sublists_x.pop()\n",
    "\n",
    "        for j in range(5):\n",
    "            x_train_get_split[j] += sublists_x[j]\n",
    "            y_train_get_split[j] += sublists_y[j]\n",
    "\n",
    "    start = data_len_0\n",
    "    for split_get in get_data_1_split:\n",
    "        end = start + split_get\n",
    "        # print(start, end)\n",
    "        data_sample = get_data.iloc[start:end]\n",
    "        start = end\n",
    "        labely = data_sample['predicted_label']\n",
    "        labelx = data_sample.iloc[:, 6:]\n",
    "        x_train, x_test, y_train, y_test = train_test_split(labelx, labely, test_size=0.2,\n",
    "                                                            random_state=seed)  # Pass seed 10, 74, 341, 925, 1036 #114\n",
    "        x_train_get.append(x_train)\n",
    "        y_train_get.append(y_train)\n",
    "        x_test_get.append(x_test)\n",
    "        y_test_get.append(y_test)\n",
    "\n",
    "        sublists_x = []\n",
    "        sublists_y = []\n",
    "\n",
    "        data_format = list(zip(x_train.values.tolist(), y_train.values.tolist()))\n",
    "\n",
    "        sublist_length = len(data_format) // 5\n",
    "\n",
    "        # randomly shuffle the data list\n",
    "        random.shuffle(data_format)\n",
    "\n",
    "        # split the shuffled list into 5 sublists of equal length\n",
    "        sublists = [data_format[i:i + sublist_length] for i in range(0, len(data_format), sublist_length)]\n",
    "        if sublist_length * 5 < len(data_format):\n",
    "            sublists[-1] += (data_format[len(sublists) * sublist_length:])\n",
    "\n",
    "        # separate the sublists back into x and y\n",
    "        sublists_x += ([t[0] for t in sublist] for sublist in sublists)\n",
    "        sublists_y += ([t[1] for t in sublist] for sublist in sublists)\n",
    "\n",
    "        if len(sublists_y) > 5:\n",
    "            sublists_y[-2] += sublists_y[-1]\n",
    "            sublists_y.pop()\n",
    "            sublists_x[-2] += sublists_x[-1]\n",
    "            sublists_x.pop()\n",
    "\n",
    "        for j in range(5):\n",
    "            x_train_get_split[j] += sublists_x[j]\n",
    "            y_train_get_split[j] += sublists_y[j]\n",
    "\n",
    "\n",
    "    x_train_combine = pd.concat(x_train_get)\n",
    "    y_train_combine = pd.concat(y_train_get)\n",
    "    x_test_combine = pd.concat(x_test_get)\n",
    "    y_test_combine = pd.concat(y_test_get)\n",
    "\n",
    "    x_train_combine_split = []\n",
    "    y_train_combine_split = []\n",
    "    for j in range(5):\n",
    "        x_train_combine_split.append((x_train_get_split[j]))\n",
    "        y_train_combine_split.append((y_train_get_split[j]))\n",
    "\n",
    "    x = x_train_combine\n",
    "    y = y_train_combine\n",
    "    x_test = x_test_combine\n",
    "    y_test = y_test_combine\n",
    "\n",
    "    #eval_set = [(x, y), (x_test, y_test)]\n",
    "\n",
    "    # time distribution CV\n",
    "    param_max_depth = [3, 4, 5, 6]\n",
    "    param_learning_rate = [0.3, 0.2, 0.1]\n",
    "    param_n_estimators = [100]\n",
    "    best_combine = []\n",
    "\n",
    "    # Perform the five-fold cross-validation search for the best hyperparameters\n",
    "    for i in range(5):\n",
    "\n",
    "        best_d = 0\n",
    "        best_l = 0\n",
    "        best_n = 0\n",
    "        best_score_auc_roc = 0\n",
    "\n",
    "        # Define the training and testing data for this fold\n",
    "        x_train_cv = np.vstack(x_train_combine_split[:i] + x_train_combine_split[i + 1:])\n",
    "        y_train_cv = np.hstack(y_train_combine_split[:i] + y_train_combine_split[i + 1:])\n",
    "        x_test_cv = x_train_combine_split[i]\n",
    "        y_test_cv = y_train_combine_split[i]\n",
    "\n",
    "        # Define the GridSearchCV object to search over the hyperparameter grid\n",
    "        for d_para in param_max_depth:\n",
    "            for l_para in param_learning_rate:\n",
    "                for n_para in param_n_estimators:\n",
    "                    xgb_model = XGBClassifier(max_depth=d_para, learning_rate=l_para, n_estimators=n_para)#, tree_method='gpu_hist', predictor='gpu_predictor')\n",
    "                    xgb_model.fit(x_train_cv, y_train_cv)\n",
    "                    prob_predictions = xgb_model.predict_proba(x_test_cv)[:, 1]\n",
    "                    score_auc_roc = roc_auc_score(y_test_cv, prob_predictions)\n",
    "                    if score_auc_roc > best_score_auc_roc:\n",
    "                        best_score_auc_roc = score_auc_roc\n",
    "                        best_d = d_para\n",
    "                        best_l = l_para\n",
    "                        best_n = n_para\n",
    "        best_combine.append([best_d, best_l, best_n, best_score_auc_roc])\n",
    "\n",
    "    # Define a dictionary to count the frequency of each combination of parameters\n",
    "    params_count = {}\n",
    "\n",
    "    # Define a dictionary to store the total score for each combination of parameters\n",
    "    params_score = {}\n",
    "\n",
    "    # Loop through each sublist in the params_list\n",
    "    for sublist in best_combine:\n",
    "        # Get the values of a, b, c, and score for the current sublist\n",
    "        a, b, c, score = sublist\n",
    "\n",
    "        # Check if the current combination of parameters is already in the params_count dictionary\n",
    "        if (a, b, c) in params_count:\n",
    "            # If it is, increment the count and add the score to the params_score dictionary\n",
    "            params_count[(a, b, c)] += 1\n",
    "            params_score[(a, b, c)] += score\n",
    "        else:\n",
    "            # If it is not, add the combination to the params_count dictionary with a count of 1 and add the score to the params_score dictionary\n",
    "            params_count[(a, b, c)] = 1\n",
    "            params_score[(a, b, c)] = score\n",
    "\n",
    "    # Get the combination of parameters that appears the most in the params_list\n",
    "    max_count = max(params_count.values())\n",
    "    best_params = max([key for key, value in params_count.items() if value == max_count],\n",
    "                      key=lambda x: params_score[x] / params_count[x])\n",
    "\n",
    "    # Create an XGBClassifier object with best parameters\n",
    "    model = XGBClassifier(max_depth=best_params[0], learning_rate=best_params[1], n_estimators=best_params[2])#**grid_search.best_params_)\n",
    "    model.fit(x, y)\n",
    "    #model.fit(x, y)#, eval_metric=[\"error\", \"logloss\"], early_stopping_rounds=30, eval_set=eval_set, verbose=True)\n",
    "\n",
    "    predictions = model.predict(x_test)\n",
    "    prob_predictions = model.predict_proba(x_test)[:, 1]\n",
    "\n",
    "    # Compute ROC curve and ROC area for each class\n",
    "    fpr, tpr, _ = roc_curve(y_test, prob_predictions)\n",
    "    auc_roc = roc_auc_score(y_test, prob_predictions)\n",
    "    print(seed, auc_roc)\n",
    "    sum += auc_roc\n",
    "\n",
    "print(sum / 40)"
   ],
   "metadata": {
    "collapsed": false,
    "ExecuteTime": {
     "start_time": "2024-01-17T08:38:14.375887Z",
     "end_time": "2024-01-17T08:39:38.954916Z"
    }
   }
  },
  {
   "cell_type": "code",
   "execution_count": 13,
   "outputs": [
    {
     "data": {
      "text/plain": "    Unnamed: 0  PFI      PFItime gen_id  predicted_label  index     AURKA  \\\n1      des_002  0.0  6378.387096   BRCA               14    1.0  0.882765   \n3      des_004  1.0  6053.225805   BRCA               14    1.0  0.454690   \n4      des_005  1.0  3698.709678   BRCA               12    1.0  0.231515   \n5      des_006  0.0  6297.096774   BRCA               14    1.0 -0.761406   \n7      des_008  1.0  5628.387096   BRCA               14    1.0 -0.402265   \n..         ...  ...          ...    ...              ...    ...       ...   \n940   chin_117  1.0   550.800000   BRCA                1    1.0 -0.108755   \n943   chin_120  0.0  2498.400000   BRCA                7    1.0 -0.025304   \n944   chin_121  1.0   774.000000   BRCA                1    1.0  0.786581   \n945   chin_122  0.0  3578.400000   BRCA               12    1.0  0.100087   \n946   chin_123  0.0  1083.600000   BRCA                2    1.0  0.526282   \n\n         BAG1      BCL2     BIRC5  ...      CTSV     ERBB2      ESR1  \\\n1   -0.475936 -0.193548  1.206504  ...  0.208980 -0.494149  0.218984   \n3   -0.194523  0.094322  1.062460  ... -0.259289  0.039889  0.236366   \n4    1.661727  0.865051  0.644838  ...  0.000905  0.169969  0.567116   \n5    0.625901 -0.077457 -0.666438  ...  0.000749  0.496511  0.043156   \n7    0.668890  0.466527 -0.130769  ... -0.350587  0.234419  1.235543   \n..        ...       ...       ...  ...       ...       ...       ...   \n940 -0.131166 -0.221399 -0.370909  ...  0.536553  1.937975 -0.133914   \n943 -0.240603 -0.103095  0.062647  ... -0.302796 -0.485797  0.251934   \n944 -0.270066  0.057733  0.336437  ...  0.094805  2.212109  0.216910   \n945  0.275373  0.761157  0.398750  ...  0.305409  0.174905  0.527957   \n946  0.513442  0.358464  0.510429  ...  0.411538  0.546584  0.879548   \n\n         GRB7     GSTM1     MKI67     MMP11     MYBL2       PGR    SCUBE2  \n1   -0.460508  2.636435  0.304055 -1.124634  0.652300  0.187305  0.344563  \n3   -0.381398 -0.746521 -0.179547 -0.746167  0.675335  0.617989  1.320819  \n4    0.429077  0.355891 -0.015304  0.781119  0.556885 -0.016105 -0.474810  \n5   -0.489976  0.468327 -0.481347 -1.052476 -0.287264 -0.324959  1.981108  \n7    0.158341  0.031077  0.386491 -1.036383  0.056868  0.231286  1.691042  \n..        ...       ...       ...       ...       ...       ...       ...  \n940  1.765102 -0.215882  0.255556  1.073474 -0.370429 -0.183992 -0.894688  \n943 -1.060556  0.034420 -0.336233  0.377212  0.169915 -0.269584  1.249308  \n944  3.904147  1.570296  0.119346  0.876165  0.010101  1.194933  0.842583  \n945 -0.005447  0.403672  0.434352  0.817027  0.009721  0.526759  3.615077  \n946  0.467216  0.423048  0.837213 -0.352682  0.234568  0.737803  2.531785  \n\n[687 rows x 22 columns]",
      "text/html": "<div>\n<style scoped>\n    .dataframe tbody tr th:only-of-type {\n        vertical-align: middle;\n    }\n\n    .dataframe tbody tr th {\n        vertical-align: top;\n    }\n\n    .dataframe thead th {\n        text-align: right;\n    }\n</style>\n<table border=\"1\" class=\"dataframe\">\n  <thead>\n    <tr style=\"text-align: right;\">\n      <th></th>\n      <th>Unnamed: 0</th>\n      <th>PFI</th>\n      <th>PFItime</th>\n      <th>gen_id</th>\n      <th>predicted_label</th>\n      <th>index</th>\n      <th>AURKA</th>\n      <th>BAG1</th>\n      <th>BCL2</th>\n      <th>BIRC5</th>\n      <th>...</th>\n      <th>CTSV</th>\n      <th>ERBB2</th>\n      <th>ESR1</th>\n      <th>GRB7</th>\n      <th>GSTM1</th>\n      <th>MKI67</th>\n      <th>MMP11</th>\n      <th>MYBL2</th>\n      <th>PGR</th>\n      <th>SCUBE2</th>\n    </tr>\n  </thead>\n  <tbody>\n    <tr>\n      <th>1</th>\n      <td>des_002</td>\n      <td>0.0</td>\n      <td>6378.387096</td>\n      <td>BRCA</td>\n      <td>14</td>\n      <td>1.0</td>\n      <td>0.882765</td>\n      <td>-0.475936</td>\n      <td>-0.193548</td>\n      <td>1.206504</td>\n      <td>...</td>\n      <td>0.208980</td>\n      <td>-0.494149</td>\n      <td>0.218984</td>\n      <td>-0.460508</td>\n      <td>2.636435</td>\n      <td>0.304055</td>\n      <td>-1.124634</td>\n      <td>0.652300</td>\n      <td>0.187305</td>\n      <td>0.344563</td>\n    </tr>\n    <tr>\n      <th>3</th>\n      <td>des_004</td>\n      <td>1.0</td>\n      <td>6053.225805</td>\n      <td>BRCA</td>\n      <td>14</td>\n      <td>1.0</td>\n      <td>0.454690</td>\n      <td>-0.194523</td>\n      <td>0.094322</td>\n      <td>1.062460</td>\n      <td>...</td>\n      <td>-0.259289</td>\n      <td>0.039889</td>\n      <td>0.236366</td>\n      <td>-0.381398</td>\n      <td>-0.746521</td>\n      <td>-0.179547</td>\n      <td>-0.746167</td>\n      <td>0.675335</td>\n      <td>0.617989</td>\n      <td>1.320819</td>\n    </tr>\n    <tr>\n      <th>4</th>\n      <td>des_005</td>\n      <td>1.0</td>\n      <td>3698.709678</td>\n      <td>BRCA</td>\n      <td>12</td>\n      <td>1.0</td>\n      <td>0.231515</td>\n      <td>1.661727</td>\n      <td>0.865051</td>\n      <td>0.644838</td>\n      <td>...</td>\n      <td>0.000905</td>\n      <td>0.169969</td>\n      <td>0.567116</td>\n      <td>0.429077</td>\n      <td>0.355891</td>\n      <td>-0.015304</td>\n      <td>0.781119</td>\n      <td>0.556885</td>\n      <td>-0.016105</td>\n      <td>-0.474810</td>\n    </tr>\n    <tr>\n      <th>5</th>\n      <td>des_006</td>\n      <td>0.0</td>\n      <td>6297.096774</td>\n      <td>BRCA</td>\n      <td>14</td>\n      <td>1.0</td>\n      <td>-0.761406</td>\n      <td>0.625901</td>\n      <td>-0.077457</td>\n      <td>-0.666438</td>\n      <td>...</td>\n      <td>0.000749</td>\n      <td>0.496511</td>\n      <td>0.043156</td>\n      <td>-0.489976</td>\n      <td>0.468327</td>\n      <td>-0.481347</td>\n      <td>-1.052476</td>\n      <td>-0.287264</td>\n      <td>-0.324959</td>\n      <td>1.981108</td>\n    </tr>\n    <tr>\n      <th>7</th>\n      <td>des_008</td>\n      <td>1.0</td>\n      <td>5628.387096</td>\n      <td>BRCA</td>\n      <td>14</td>\n      <td>1.0</td>\n      <td>-0.402265</td>\n      <td>0.668890</td>\n      <td>0.466527</td>\n      <td>-0.130769</td>\n      <td>...</td>\n      <td>-0.350587</td>\n      <td>0.234419</td>\n      <td>1.235543</td>\n      <td>0.158341</td>\n      <td>0.031077</td>\n      <td>0.386491</td>\n      <td>-1.036383</td>\n      <td>0.056868</td>\n      <td>0.231286</td>\n      <td>1.691042</td>\n    </tr>\n    <tr>\n      <th>...</th>\n      <td>...</td>\n      <td>...</td>\n      <td>...</td>\n      <td>...</td>\n      <td>...</td>\n      <td>...</td>\n      <td>...</td>\n      <td>...</td>\n      <td>...</td>\n      <td>...</td>\n      <td>...</td>\n      <td>...</td>\n      <td>...</td>\n      <td>...</td>\n      <td>...</td>\n      <td>...</td>\n      <td>...</td>\n      <td>...</td>\n      <td>...</td>\n      <td>...</td>\n      <td>...</td>\n    </tr>\n    <tr>\n      <th>940</th>\n      <td>chin_117</td>\n      <td>1.0</td>\n      <td>550.800000</td>\n      <td>BRCA</td>\n      <td>1</td>\n      <td>1.0</td>\n      <td>-0.108755</td>\n      <td>-0.131166</td>\n      <td>-0.221399</td>\n      <td>-0.370909</td>\n      <td>...</td>\n      <td>0.536553</td>\n      <td>1.937975</td>\n      <td>-0.133914</td>\n      <td>1.765102</td>\n      <td>-0.215882</td>\n      <td>0.255556</td>\n      <td>1.073474</td>\n      <td>-0.370429</td>\n      <td>-0.183992</td>\n      <td>-0.894688</td>\n    </tr>\n    <tr>\n      <th>943</th>\n      <td>chin_120</td>\n      <td>0.0</td>\n      <td>2498.400000</td>\n      <td>BRCA</td>\n      <td>7</td>\n      <td>1.0</td>\n      <td>-0.025304</td>\n      <td>-0.240603</td>\n      <td>-0.103095</td>\n      <td>0.062647</td>\n      <td>...</td>\n      <td>-0.302796</td>\n      <td>-0.485797</td>\n      <td>0.251934</td>\n      <td>-1.060556</td>\n      <td>0.034420</td>\n      <td>-0.336233</td>\n      <td>0.377212</td>\n      <td>0.169915</td>\n      <td>-0.269584</td>\n      <td>1.249308</td>\n    </tr>\n    <tr>\n      <th>944</th>\n      <td>chin_121</td>\n      <td>1.0</td>\n      <td>774.000000</td>\n      <td>BRCA</td>\n      <td>1</td>\n      <td>1.0</td>\n      <td>0.786581</td>\n      <td>-0.270066</td>\n      <td>0.057733</td>\n      <td>0.336437</td>\n      <td>...</td>\n      <td>0.094805</td>\n      <td>2.212109</td>\n      <td>0.216910</td>\n      <td>3.904147</td>\n      <td>1.570296</td>\n      <td>0.119346</td>\n      <td>0.876165</td>\n      <td>0.010101</td>\n      <td>1.194933</td>\n      <td>0.842583</td>\n    </tr>\n    <tr>\n      <th>945</th>\n      <td>chin_122</td>\n      <td>0.0</td>\n      <td>3578.400000</td>\n      <td>BRCA</td>\n      <td>12</td>\n      <td>1.0</td>\n      <td>0.100087</td>\n      <td>0.275373</td>\n      <td>0.761157</td>\n      <td>0.398750</td>\n      <td>...</td>\n      <td>0.305409</td>\n      <td>0.174905</td>\n      <td>0.527957</td>\n      <td>-0.005447</td>\n      <td>0.403672</td>\n      <td>0.434352</td>\n      <td>0.817027</td>\n      <td>0.009721</td>\n      <td>0.526759</td>\n      <td>3.615077</td>\n    </tr>\n    <tr>\n      <th>946</th>\n      <td>chin_123</td>\n      <td>0.0</td>\n      <td>1083.600000</td>\n      <td>BRCA</td>\n      <td>2</td>\n      <td>1.0</td>\n      <td>0.526282</td>\n      <td>0.513442</td>\n      <td>0.358464</td>\n      <td>0.510429</td>\n      <td>...</td>\n      <td>0.411538</td>\n      <td>0.546584</td>\n      <td>0.879548</td>\n      <td>0.467216</td>\n      <td>0.423048</td>\n      <td>0.837213</td>\n      <td>-0.352682</td>\n      <td>0.234568</td>\n      <td>0.737803</td>\n      <td>2.531785</td>\n    </tr>\n  </tbody>\n</table>\n<p>687 rows × 22 columns</p>\n</div>"
     },
     "execution_count": 13,
     "metadata": {},
     "output_type": "execute_result"
    }
   ],
   "source": [
    "#combined_dataframe = affy_combined_df\n",
    "combined_dataframe"
   ],
   "metadata": {
    "collapsed": false,
    "ExecuteTime": {
     "start_time": "2024-01-26T10:38:58.394128Z",
     "end_time": "2024-01-26T10:38:58.417067Z"
    }
   }
  },
  {
   "cell_type": "code",
   "execution_count": 14,
   "outputs": [
    {
     "name": "stdout",
     "output_type": "stream",
     "text": [
      "[0.0, 691.2, 1251.2903226, 1824.1935483, 2208.3870969, 2629.5, 2934.0, 3429.677418, 4291.2]\n",
      "[0.0, 543.6, 961.2, 1428.3, 1824.1935483, 2131.2, 2433.6, 2732.4, 2934.0, 3292.2, 3667.741935, 4674.193548]\n",
      "[0.0, 468.0, 806.4, 1141.2, 1539.6774195, 1824.1935483, 2070.0, 2311.2, 2562.5806452, 2782.8, 2934.0, 3211.2, 3534.193548, 3996.0, 4971.290322]\n"
     ]
    }
   ],
   "source": [
    "import numpy as np\n",
    "timelist = combined_dataframe['PFItime'].tolist()\n",
    "timelist.sort()\n",
    "for n in [9, 12, 15]:\n",
    "    div_point = []\n",
    "    timelabel = []\n",
    "    for i in range(n):\n",
    "        div_point.append(timelist[int(len(timelist) / n * i)])\n",
    "    print(div_point)\n",
    "    for item in combined_dataframe['PFItime'].tolist():\n",
    "        i = 0\n",
    "        while item >= div_point[i] and i < (n - 1):\n",
    "            i += 1\n",
    "        if item >= div_point[i] and i == (n - 1):\n",
    "            i += 1\n",
    "        timelabel.append(i - 1)\n",
    "    combined_dataframe['predicted_label'] = np.array(timelabel)\n",
    "    combined_dataframe.to_csv('SingleCancerDataSet/CancerRNA_AffyBRCAOncotypeDX_WholeTimeSeq_' + str(n) + '_DMFS.txt', index=None)"
   ],
   "metadata": {
    "collapsed": false,
    "ExecuteTime": {
     "start_time": "2024-01-26T10:39:18.570920Z",
     "end_time": "2024-01-26T10:39:18.623778Z"
    }
   }
  }
 ],
 "metadata": {
  "kernelspec": {
   "display_name": "Python 3",
   "language": "python",
   "name": "python3"
  },
  "language_info": {
   "codemirror_mode": {
    "name": "ipython",
    "version": 2
   },
   "file_extension": ".py",
   "mimetype": "text/x-python",
   "name": "python",
   "nbconvert_exporter": "python",
   "pygments_lexer": "ipython2",
   "version": "2.7.6"
  }
 },
 "nbformat": 4,
 "nbformat_minor": 0
}
