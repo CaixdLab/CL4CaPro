{
 "cells": [
  {
   "cell_type": "markdown",
   "source": [
    "# Contrastive Learning for Predicting Cancer Prognosis Using Gene Expression Values\n",
    "\n",
    "## Sample Model Training\n",
    "\n",
    "TrainCL4CaPro.ipynb notebook is offering comprehensive step-by-step instructions on how to effortlessly train a CL4CaPro model from the ground up and validate its performance.\n",
    "\n",
    "### Prepare Dataset\n",
    "\n",
    "Put TCGA-CDR-SupplementalTableS1.xlsx in the same path with *ExtractData.py*\n",
    "\n",
    "#### ExtractData from TCGA Table"
   ],
   "metadata": {
    "collapsed": false
   }
  },
  {
   "cell_type": "code",
   "execution_count": null,
   "metadata": {
    "collapsed": true
   },
   "outputs": [],
   "source": [
    "! python ExtractData.py"
   ]
  },
  {
   "cell_type": "markdown",
   "source": [
    "Then put EBPlusPlusAdjustPANCAN_IlluminaHiSeq_RNASeqV2.geneExp.tsv in the same path and run following script by modifying cancer name you want\n",
    "\n",
    "#### Define Functions"
   ],
   "metadata": {
    "collapsed": false
   }
  },
  {
   "cell_type": "code",
   "execution_count": null,
   "outputs": [],
   "source": [
    "import pandas as pd\n",
    "\n",
    "def loadGen():\n",
    "    Gendata = pd.read_csv('EBPlusPlusAdjustPANCAN_IlluminaHiSeq_RNASeqV2.geneExp.tsv',sep='\\t')\n",
    "    gene_id_list = Gendata['gene_id'].tolist()\n",
    "    return Gendata, gene_id_list\n",
    "\n",
    "def loadCancer(CancerType):\n",
    "    CancerDataPath = './' + CancerType + 'Data.csv'\n",
    "    data = pd.read_csv(CancerDataPath)\n",
    "    return data\n",
    "\n",
    "def AggregateInfo(data):\n",
    "    Agg_Info = []\n",
    "    for index, row in data.iterrows():\n",
    "        bcr = row['bcr_patient_barcode'].split('-')\n",
    "        PFI = row['PFI.1'] #row['DSS_cr']\n",
    "        PFItime = row['PFI.time.1'] #row['DSS.time.cr']\n",
    "        try:\n",
    "            if int(PFI) != 0:\n",
    "                PFI = 1\n",
    "        except:\n",
    "            PFI = 1\n",
    "        Agg_Info.append([bcr, PFI, PFItime])\n",
    "    return Agg_Info\n",
    "\n",
    "def PreproData(Agg_Info, Gendata, CancerType):\n",
    "    PreprocessedData = []\n",
    "    for bcr, PFI, PFItime in Agg_Info:\n",
    "        Agg_Gen_Info = ['-'.join(bcr), PFI, PFItime, CancerType]\n",
    "        MatchFlag = 0\n",
    "        for col in Gendata.columns.values:\n",
    "            col_info = col.split('-')\n",
    "            #Match Bar Code\n",
    "            if col_info[0:3] == bcr[0:3]:\n",
    "                number = int(col_info[3][0:2])\n",
    "                if MatchFlag == 1:\n",
    "                    #print('WARN: multiple match: ', col_info)\n",
    "                    if number > 0 and number < 10: #multi-tumor samples\n",
    "                        print('Multi-tumor samples: ', col)\n",
    "                else:\n",
    "                    #Check tumor sample\n",
    "                    if number > 0 and number < 10: #tumor\n",
    "                        Agg_Gen_Info.append(col)\n",
    "                        MatchFlag = 1\n",
    "                        GenGet = Gendata[col].tolist() #Get all gen data in the column\n",
    "                        #Check missing values or negative values\n",
    "                        for item in GenGet:\n",
    "                            if item == 'NaN' or float(item) < 0:\n",
    "                                Agg_Gen_Info.append(np.nan)\n",
    "                                print('Find None or Negative')\n",
    "                            else:\n",
    "                                Agg_Gen_Info.append(item)#math.log2(item + 1))\n",
    "                    else:\n",
    "                        print('Find normal sample: ', col)\n",
    "        if MatchFlag == 0:\n",
    "            print('UnMatched:', Agg_Gen_Info)\n",
    "        else:\n",
    "            PreprocessedData.append(Agg_Gen_Info)\n",
    "    return PreprocessedData\n",
    "\n",
    "def add_header(gene_id_list):\n",
    "    agg_header = gene_id_list\n",
    "    agg_header.insert(0, 'bar')\n",
    "    agg_header.insert(1, 'PFI')\n",
    "    agg_header.insert(2, 'PFItime')\n",
    "    agg_header.insert(3, 'gen_id')\n",
    "    agg_header.insert(4, 'type')\n",
    "    return agg_header\n",
    "\n",
    "def saveDF(PreprocessedData, CancerType, agg_header):\n",
    "    PreprocessedDF = pd.DataFrame(PreprocessedData, columns = agg_header)\n",
    "    PreprocessedDF.to_csv('./' + CancerType + 'RawGeneData.txt', index=None)"
   ],
   "metadata": {
    "collapsed": false
   }
  },
  {
   "cell_type": "markdown",
   "source": [
    "#### Build Data for given cancer"
   ],
   "metadata": {
    "collapsed": false
   }
  },
  {
   "cell_type": "code",
   "execution_count": null,
   "outputs": [],
   "source": [
    "CancerTypeList = ['LGG']\n",
    "CancerGroupName = 'LGG'\n",
    "TotalData = []\n",
    "Gendata, gene_id_list = loadGen()\n",
    "agg_header = add_header(gene_id_list)\n",
    "for eachCancer in CancerTypeList:\n",
    "    print('Processing: ', eachCancer)\n",
    "    data = loadCancer(eachCancer)\n",
    "    Agg_Info = AggregateInfo(data)\n",
    "    PreprocessedData = PreproData(Agg_Info, Gendata, eachCancer)\n",
    "    TotalData = TotalData + PreprocessedData\n",
    "    saveDF(PreprocessedData, eachCancer, agg_header)\n",
    "    print('Preprocess Successfully')\n",
    "saveDF(TotalData, 'Total_' + CancerGroupName + '_', agg_header)\n",
    "print('Total Data Saved.')"
   ],
   "metadata": {
    "collapsed": false
   }
  },
  {
   "cell_type": "markdown",
   "source": [
    "#### Build WholeTimeSeq Dataset for Cox"
   ],
   "metadata": {
    "collapsed": false
   }
  },
  {
   "cell_type": "code",
   "execution_count": null,
   "outputs": [],
   "source": [
    "import numpy as np\n",
    "cancer_group_list = ['LGG']\n",
    "for cancer_group in cancer_group_list:\n",
    "    data_get = pd.read_csv('TotalData_' + cancer_group + '.txt')\n",
    "    data_get.insert(4, 'predicted_label', 0, True)\n",
    "    timelist = data_get['PFItime'].tolist()\n",
    "    timelist.sort()\n",
    "    for n in [6, 8, 10, 12]:\n",
    "        div_point = []\n",
    "        timelabel = []\n",
    "        for i in range(n):\n",
    "            div_point.append(timelist[int(len(timelist) / n * i)])\n",
    "        print(div_point)\n",
    "        for item in data_get['PFItime'].tolist():\n",
    "            i = 0\n",
    "            while item >= div_point[i] and i < (n - 1):\n",
    "                i += 1\n",
    "            if item >= div_point[i] and i == (n - 1):\n",
    "                i += 1\n",
    "            timelabel.append(i - 1)\n",
    "        data_get['predicted_label'] = np.array(timelabel)\n",
    "        data_get.to_csv('DataSet/CancerRNA_' + cancer_group + '_WholeTimeSeq_' + str(n) + '.txt', index=None)"
   ],
   "metadata": {
    "collapsed": false
   }
  },
  {
   "cell_type": "markdown",
   "source": [
    "#### Build WholeTimeSeq Dataset for Classifier"
   ],
   "metadata": {
    "collapsed": false
   }
  },
  {
   "cell_type": "code",
   "execution_count": null,
   "outputs": [],
   "source": [
    "cancer_group = 'LGG'\n",
    "cancer_type = ['LGG']#, 'READ', 'STAD']\n",
    "for cancer_get in cancer_type:\n",
    "    threshold = 0\n",
    "    n = 2\n",
    "    div_point = [1] * n\n",
    "    threshold = 3 * 365\n",
    "    data_get = pd.read_csv('TotalRawData_' + cancer_group + '.txt')\n",
    "    data_get = data_get[data_get.gen_id == cancer_get]\n",
    "    data_get = data_get[(data_get.PFI == 1) | (data_get.PFItime > threshold)]\n",
    "    data_get.insert(4, 'predicted_label', 0, True)\n",
    "\n",
    "    timelabel = []\n",
    "    for item in data_get['PFItime'].tolist():\n",
    "        i = 0\n",
    "        if item < threshold:\n",
    "            timelabel.append(0)\n",
    "        else:\n",
    "            timelabel.append(1)\n",
    "\n",
    "    data_get['predicted_label'] = np.array(timelabel)\n",
    "    data_get.to_csv('DataSet/CancerRNA_' + cancer_get + '_Risk_' + str(n) + '.txt', index=None)"
   ],
   "metadata": {
    "collapsed": false
   }
  },
  {
   "cell_type": "markdown",
   "source": [
    "### Train Contrastive Learning Model for Classifier\n",
    "Change row 18 to assign task as 'Task'"
   ],
   "metadata": {
    "collapsed": false
   }
  },
  {
   "cell_type": "code",
   "execution_count": null,
   "outputs": [],
   "source": [
    "! python Auto_Train_GPU.py"
   ],
   "metadata": {
    "collapsed": false
   }
  },
  {
   "cell_type": "markdown",
   "source": [
    "### Train Contrastive Learning Model for Cox\n",
    "Change row 18 to assign task as 'WholeTimeSeq'"
   ],
   "metadata": {
    "collapsed": false
   }
  },
  {
   "cell_type": "code",
   "execution_count": null,
   "outputs": [],
   "source": [
    "! python Auto_Train_GPU.py"
   ],
   "metadata": {
    "collapsed": false
   }
  },
  {
   "cell_type": "markdown",
   "source": [
    "### Test and Validate Classifier CL4CaPro Model"
   ],
   "metadata": {
    "collapsed": false
   }
  },
  {
   "cell_type": "code",
   "execution_count": null,
   "outputs": [],
   "source": [
    "! python Classifier_method.py --cancer_group BRCA --seed {seed} --core 20 > PlotLog/{}.log &"
   ],
   "metadata": {
    "collapsed": false
   }
  },
  {
   "cell_type": "markdown",
   "source": [
    "### Test and Validate Cox CL4CaPro Model"
   ],
   "metadata": {
    "collapsed": false
   }
  },
  {
   "cell_type": "code",
   "execution_count": null,
   "outputs": [],
   "source": [
    "! python Cox_methods.py --cancer_group BRCA --seed {seed} --core 20 > PlotLog/{}.log &"
   ],
   "metadata": {
    "collapsed": false
   }
  }
 ],
 "metadata": {
  "kernelspec": {
   "display_name": "Python 3",
   "language": "python",
   "name": "python3"
  },
  "language_info": {
   "codemirror_mode": {
    "name": "ipython",
    "version": 2
   },
   "file_extension": ".py",
   "mimetype": "text/x-python",
   "name": "python",
   "nbconvert_exporter": "python",
   "pygments_lexer": "ipython2",
   "version": "2.7.6"
  }
 },
 "nbformat": 4,
 "nbformat_minor": 0
}
