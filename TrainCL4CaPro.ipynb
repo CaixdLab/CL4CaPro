{
 "cells": [
  {
   "cell_type": "markdown",
   "source": [
    "# Contrastive Learning for Predicting Cancer Prognosis Using Gene Expression Values\n",
    "\n",
    "## Sample Model Training\n",
    "\n",
    "TrainCL4CaPro.ipynb notebook is offering detailed step-by-step instructions on how to train a CL4CaPro model from the ground up and validate its performance.\n",
    "\n",
    "### Prepare Dataset\n",
    "\n",
    "Put TCGA-CDR-SupplementalTableS1.xlsx and EBPlusPlusAdjustPANCAN_IlluminaHiSeq_RNASeqV2.geneExp.tsv in the same path with *ExtractData.py*. You can download them in OneDrive folder TCGA (https://miamiedu-my.sharepoint.com/:f:/r/personal/x_cai_miami_edu/Documents/CaixdLab/CL4CaPro/CL4CaPro_Models/TCGA?csf=1&web=1&e=IZYpyp)\n",
    "\n",
    "#### ExtractData from TCGA Table"
   ],
   "metadata": {
    "collapsed": false
   }
  },
  {
   "cell_type": "code",
   "execution_count": null,
   "metadata": {
    "collapsed": true
   },
   "outputs": [],
   "source": [
    "! python ExtractData.py"
   ]
  },
  {
   "cell_type": "markdown",
   "source": [
    "Then put EBPlusPlusAdjustPANCAN_IlluminaHiSeq_RNASeqV2.geneExp.tsv in the same path and run following script by modifying cancer name you want\n",
    "\n",
    "#### Define Functions"
   ],
   "metadata": {
    "collapsed": false
   }
  },
  {
   "cell_type": "code",
   "execution_count": null,
   "outputs": [],
   "source": [
    "import pandas as pd\n",
    "import numpy as np\n",
    "\n",
    "def loadGen():\n",
    "    Gendata = pd.read_csv('EBPlusPlusAdjustPANCAN_IlluminaHiSeq_RNASeqV2.geneExp.tsv',sep='\\t')\n",
    "    gene_id_list = Gendata['gene_id'].tolist()\n",
    "    return Gendata, gene_id_list\n",
    "\n",
    "def loadCancer(CancerType):\n",
    "    CancerDataPath = './' + CancerType + 'Data.csv'\n",
    "    data = pd.read_csv(CancerDataPath)\n",
    "    return data\n",
    "\n",
    "def AggregateInfo(data):\n",
    "    Agg_Info = []\n",
    "    for index, row in data.iterrows():\n",
    "        bcr = row['bcr_patient_barcode'].split('-')\n",
    "        PFI = row['PFI.1'] #row['DSS_cr']\n",
    "        PFItime = row['PFI.time.1'] #row['DSS.time.cr']\n",
    "        try:\n",
    "            if int(PFI) != 0:\n",
    "                PFI = 1\n",
    "        except:\n",
    "            PFI = 1\n",
    "        Agg_Info.append([bcr, PFI, PFItime])\n",
    "    return Agg_Info\n",
    "\n",
    "def PreproData(Agg_Info, Gendata, CancerType):\n",
    "    PreprocessedData = []\n",
    "    for bcr, PFI, PFItime in Agg_Info:\n",
    "        Agg_Gen_Info = ['-'.join(bcr), PFI, PFItime, CancerType]\n",
    "        MatchFlag = 0\n",
    "        for col in Gendata.columns.values:\n",
    "            col_info = col.split('-')\n",
    "            #Match Bar Code\n",
    "            if col_info[0:3] == bcr[0:3]:\n",
    "                number = int(col_info[3][0:2])\n",
    "                if MatchFlag == 1:\n",
    "                    #print('WARN: multiple match: ', col_info)\n",
    "                    if number > 0 and number < 10: #multi-tumor samples\n",
    "                        print('Multi-tumor samples: ', col)\n",
    "                else:\n",
    "                    #Check tumor sample\n",
    "                    if number > 0 and number < 10: #tumor\n",
    "                        Agg_Gen_Info.append(col)\n",
    "                        MatchFlag = 1\n",
    "                        GenGet = Gendata[col].tolist() #Get all gen data in the column\n",
    "                        #Check missing values or negative values\n",
    "                        for item in GenGet:\n",
    "                            if item == 'NaN' or float(item) < 0:\n",
    "                                Agg_Gen_Info.append(np.nan)\n",
    "                                print('Find None or Negative')\n",
    "                            else:\n",
    "                                Agg_Gen_Info.append(item)#math.log2(item + 1))\n",
    "                    else:\n",
    "                        print('Find normal sample: ', col)\n",
    "        if MatchFlag == 0:\n",
    "            print('UnMatched:', Agg_Gen_Info)\n",
    "        else:\n",
    "            PreprocessedData.append(Agg_Gen_Info)\n",
    "    return PreprocessedData\n",
    "\n",
    "def add_header(gene_id_list):\n",
    "    agg_header = gene_id_list\n",
    "    agg_header.insert(0, 'bar')\n",
    "    agg_header.insert(1, 'PFI')\n",
    "    agg_header.insert(2, 'PFItime')\n",
    "    agg_header.insert(3, 'gen_id')\n",
    "    agg_header.insert(4, 'type')\n",
    "    return agg_header\n",
    "\n",
    "def saveDF(PreprocessedData, CancerType, agg_header):\n",
    "    PreprocessedDF = pd.DataFrame(PreprocessedData, columns = agg_header)\n",
    "    PreprocessedDF.to_csv('./' + CancerType + 'RawGeneData.txt', index=None)"
   ],
   "metadata": {
    "collapsed": false
   }
  },
  {
   "cell_type": "markdown",
   "source": [
    "#### Build Data for given cancer\n",
    "Sample cancer is BRCA\n",
    "The available single cancer for TCGA dataset including:\n",
    "\"BLCA\", \"BRCA\", \"CESC\", \"COAD\", \"GBM\", \"HNSC\", \"KIRC\", \"KIRP\", \"LGG\", \"LIHC\", \"LUAD\", \"LUSC\", \"OV\", \"PRAD\", \"SARC\", \"SKCM\", \"STAD\", \"THCA\", \"UCEC\"\n",
    "The available cancer groups for TCGA dataset including:\n",
    "\"SM\": ['BLCA', 'CESC', 'ESCA', 'HNSC', 'LUSC']\n",
    "\"NGT\": ['GBM', 'LGG', 'PCPG']\n",
    "\"MSE\": ['SKCM', 'UVM']\n",
    "\"CCPRC\": ['KIRC', 'KIRP']\n",
    "\"HC\": ['CHOL', 'LIHC']\n",
    "\"GG\": ['COAD', 'READ', 'ESCA', 'STAD']\n",
    "\"DS\": ['PAAD', 'STAD']\n",
    "\"LC\": ['LUAD', 'LUSC']"
   ],
   "metadata": {
    "collapsed": false
   }
  },
  {
   "cell_type": "code",
   "execution_count": null,
   "outputs": [],
   "source": [
    "Cancer_Name = 'BRCA' # Change cancer name or cancer group name"
   ],
   "metadata": {
    "collapsed": false
   }
  },
  {
   "cell_type": "code",
   "execution_count": null,
   "outputs": [],
   "source": [
    "if Cancer_Name == 'SM':\n",
    "    CancerTypeList = ['BLCA', 'CESC', 'ESCA', 'HNSC', 'LUSC']\n",
    "elif Cancer_Name == 'NGT':\n",
    "    CancerTypeList = ['GBM', 'LGG', 'PCPG']\n",
    "elif Cancer_Name == 'MSE':\n",
    "    CancerTypeList = ['SKCM', 'UVM']\n",
    "elif Cancer_Name == 'CCPRC':\n",
    "    CancerTypeList = ['KIRC', 'KIRP']\n",
    "elif Cancer_Name == 'HC':\n",
    "    CancerTypeList = ['CHOL', 'LIHC']\n",
    "elif Cancer_Name == 'GG':\n",
    "    CancerTypeList = ['COAD', 'READ', 'ESCA', 'STAD']\n",
    "elif Cancer_Name == 'DS':\n",
    "    CancerTypeList = ['PAAD', 'STAD']\n",
    "elif Cancer_Name == 'LC':\n",
    "    CancerTypeList = ['LUAD', 'LUSC']\n",
    "else:\n",
    "    CancerTypeList = [Cancer_Name]"
   ],
   "metadata": {
    "collapsed": false
   }
  },
  {
   "cell_type": "code",
   "execution_count": null,
   "outputs": [],
   "source": [
    "CancerGroupName = Cancer_Name\n",
    "TotalData = []\n",
    "Gendata, gene_id_list = loadGen()\n",
    "agg_header = add_header(gene_id_list)\n",
    "for eachCancer in CancerTypeList:\n",
    "    print('Processing: ', eachCancer)\n",
    "    data = loadCancer(eachCancer)\n",
    "    Agg_Info = AggregateInfo(data)\n",
    "    PreprocessedData = PreproData(Agg_Info, Gendata, eachCancer)\n",
    "    TotalData = TotalData + PreprocessedData\n",
    "    saveDF(PreprocessedData, eachCancer, agg_header)\n",
    "    print('Preprocess Successfully')\n",
    "saveDF(TotalData, 'Total_' + CancerGroupName + '_', agg_header)\n",
    "print('Total Data Saved.')"
   ],
   "metadata": {
    "collapsed": false
   }
  },
  {
   "cell_type": "markdown",
   "source": [
    "#### Build WholeTimeSeq Dataset for Cox"
   ],
   "metadata": {
    "collapsed": false
   }
  },
  {
   "cell_type": "code",
   "execution_count": null,
   "outputs": [],
   "source": [
    "cancer_group = Cancer_Name\n",
    "data_get = pd.read_csv('TotalData_' + cancer_group + '.txt')\n",
    "data_get.insert(4, 'predicted_label', 0, True)\n",
    "timelist = data_get['PFItime'].tolist()\n",
    "timelist.sort()\n",
    "for n in [6, 8, 10, 12]:\n",
    "    div_point = []\n",
    "    timelabel = []\n",
    "    for i in range(n):\n",
    "        div_point.append(timelist[int(len(timelist) / n * i)])\n",
    "    print(div_point)\n",
    "    for item in data_get['PFItime'].tolist():\n",
    "        i = 0\n",
    "        while item >= div_point[i] and i < (n - 1):\n",
    "            i += 1\n",
    "        if item >= div_point[i] and i == (n - 1):\n",
    "            i += 1\n",
    "        timelabel.append(i - 1)\n",
    "    data_get['predicted_label'] = np.array(timelabel)\n",
    "    data_get.to_csv('DataSet/CancerRNA_' + cancer_group + '_WholeTimeSeq_' + str(n) + '.txt', index=None)"
   ],
   "metadata": {
    "collapsed": false
   }
  },
  {
   "cell_type": "markdown",
   "source": [
    "#### Build WholeTimeSeq Dataset for Classifier"
   ],
   "metadata": {
    "collapsed": false
   }
  },
  {
   "cell_type": "code",
   "execution_count": null,
   "outputs": [],
   "source": [
    "cancer_get = Cancer_Name\n",
    "threshold = 0\n",
    "n = 2\n",
    "div_point = [1] * n\n",
    "threshold = 3 * 365\n",
    "data_get = pd.read_csv('TotalRawData_' + cancer_group + '.txt')\n",
    "data_get = data_get[data_get.gen_id == cancer_get]\n",
    "data_get = data_get[(data_get.PFI == 1) | (data_get.PFItime > threshold)]\n",
    "data_get.insert(4, 'predicted_label', 0, True)\n",
    "\n",
    "timelabel = []\n",
    "for item in data_get['PFItime'].tolist():\n",
    "    i = 0\n",
    "    if item < threshold:\n",
    "        timelabel.append(0)\n",
    "    else:\n",
    "        timelabel.append(1)\n",
    "\n",
    "data_get['predicted_label'] = np.array(timelabel)\n",
    "data_get.to_csv('DataSet/CancerRNA_' + cancer_get + '_Risk_' + str(n) + '.txt', index=None)"
   ],
   "metadata": {
    "collapsed": false
   }
  },
  {
   "cell_type": "markdown",
   "source": [
    "### Model Training\n",
    "All 40 seed models will be trained through the follwing code, GPU required. Default threads setting to 4 for RTX 4090 24Gb.\n",
    "#### Train Contrastive Learning Model for Classifier"
   ],
   "metadata": {
    "collapsed": false
   }
  },
  {
   "cell_type": "code",
   "execution_count": null,
   "outputs": [],
   "source": [
    "! python Auto_Train_GPU.py --cancer_group {Cancer_Name} --task Classifier"
   ],
   "metadata": {
    "collapsed": false
   }
  },
  {
   "cell_type": "markdown",
   "source": [
    "#### Train Contrastive Learning Model for Cox"
   ],
   "metadata": {
    "collapsed": false
   }
  },
  {
   "cell_type": "code",
   "execution_count": null,
   "outputs": [],
   "source": [
    "! python Auto_Train_GPU.py --cancer_group {Cancer_Name} --task Cox"
   ],
   "metadata": {
    "collapsed": false
   }
  },
  {
   "cell_type": "markdown",
   "source": [
    "### Test and Validate CL4CaPro Model\n",
    "#### All 40 seeds Classifier Results"
   ],
   "metadata": {
    "collapsed": false
   }
  },
  {
   "cell_type": "code",
   "execution_count": null,
   "outputs": [],
   "source": [
    "! python Auto_Vali.py --cancer_group {Cancer_Name} --task Classifier"
   ],
   "metadata": {
    "collapsed": false
   }
  },
  {
   "cell_type": "markdown",
   "source": [
    "#### All 40 seeds Cox Results"
   ],
   "metadata": {
    "collapsed": false
   }
  },
  {
   "cell_type": "code",
   "execution_count": null,
   "outputs": [],
   "source": [
    "! python Auto_Vali.py --cancer_group {Cancer_Name} --task Cox"
   ],
   "metadata": {
    "collapsed": false
   }
  },
  {
   "cell_type": "markdown",
   "source": [
    "#### Single Seed Classifier Results\n",
    "Pick one seed from the following seed list we provided in the Auto_Train_GPU.py then run the following command, you will see the results of the picked seed.\n",
    "seed_list = [10, 74, 341, 925, 1036, 1555, 1777, 2030, 2060, 2090, 2200,\n",
    "             2222, 2268, 2289, 2341, 2741, 2765, 2782, 2857, 2864, 2918,\n",
    "             2937, 2948, 2960, 2968, 3005, 3008, 3154, 3199, 3212, 3388,\n",
    "             3455, 3466, 3611, 3679, 3927, 4000, 4013, 4416, 4520]"
   ],
   "metadata": {
    "collapsed": false
   }
  },
  {
   "cell_type": "code",
   "execution_count": null,
   "outputs": [],
   "source": [
    "! python Auto_Vali.py --cancer_group {Cancer_Name} --task Classifier --seed {seed} --core 20 > ClassifierLog/{}.log &"
   ],
   "metadata": {
    "collapsed": false
   }
  },
  {
   "cell_type": "markdown",
   "source": [
    "#### Single Seed Cox Resutls"
   ],
   "metadata": {
    "collapsed": false
   }
  },
  {
   "cell_type": "code",
   "execution_count": null,
   "outputs": [],
   "source": [
    "! python Auto_Vali.py --cancer_group {Cancer_Name} --task Cox --seed {seed} --core 20 > CoxLog/{}.log &"
   ],
   "metadata": {
    "collapsed": false
   }
  },
  {
   "cell_type": "markdown",
   "source": [
    "#### All 40 seeds Classifier Results Samples\n",
    "##### Import Library"
   ],
   "metadata": {
    "collapsed": false
   }
  },
  {
   "cell_type": "code",
   "execution_count": 2,
   "outputs": [],
   "source": [
    "import os\n",
    "import numpy as np\n",
    "import pandas as pd\n",
    "import matplotlib.pyplot as plt\n",
    "from scipy.interpolate import interp1d\n",
    "from scipy.stats import ranksums\n",
    "plt.rcdefaults()"
   ],
   "metadata": {
    "collapsed": false,
    "ExecuteTime": {
     "start_time": "2024-04-14T15:05:30.289088Z",
     "end_time": "2024-04-14T15:05:30.306043Z"
    }
   }
  },
  {
   "cell_type": "markdown",
   "source": [
    "##### Generate Plot"
   ],
   "metadata": {
    "collapsed": false
   }
  },
  {
   "cell_type": "code",
   "execution_count": 3,
   "outputs": [
    {
     "name": "stdout",
     "output_type": "stream",
     "text": [
      "UCEC\n"
     ]
    },
    {
     "name": "stderr",
     "output_type": "stream",
     "text": [
      "C:\\Users\\anchen.sun\\Anaconda3\\envs\\Contrastive Learning Method for Predicting Cancer Prognosis from Gene\\lib\\site-packages\\scipy\\interpolate\\interpolate.py:630: RuntimeWarning: divide by zero encountered in true_divide\n",
      "  slope = (y_hi - y_lo) / (x_hi - x_lo)[:, None]\n",
      "C:\\Users\\anchen.sun\\Anaconda3\\envs\\Contrastive Learning Method for Predicting Cancer Prognosis from Gene\\lib\\site-packages\\scipy\\interpolate\\interpolate.py:633: RuntimeWarning: invalid value encountered in multiply\n",
      "  y_new = slope*(x_new - x_lo)[:, None] + y_lo\n",
      "C:\\Users\\anchen.sun\\Anaconda3\\envs\\Contrastive Learning Method for Predicting Cancer Prognosis from Gene\\lib\\site-packages\\scipy\\interpolate\\interpolate.py:630: RuntimeWarning: divide by zero encountered in true_divide\n",
      "  slope = (y_hi - y_lo) / (x_hi - x_lo)[:, None]\n",
      "C:\\Users\\anchen.sun\\Anaconda3\\envs\\Contrastive Learning Method for Predicting Cancer Prognosis from Gene\\lib\\site-packages\\scipy\\interpolate\\interpolate.py:633: RuntimeWarning: invalid value encountered in multiply\n",
      "  y_new = slope*(x_new - x_lo)[:, None] + y_lo\n",
      "C:\\Users\\anchen.sun\\AppData\\Local\\Temp\\ipykernel_23372\\4184451652.py:140: UserWarning: FixedFormatter should only be used together with FixedLocator\n",
      "  ax.set_yticklabels(['']*len(xticks))\n"
     ]
    },
    {
     "data": {
      "text/plain": "<Figure size 200x180 with 1 Axes>",
      "image/png": "[encoded data removed]"
     },
     "metadata": {},
     "output_type": "display_data"
    },
    {
     "name": "stdout",
     "output_type": "stream",
     "text": [
      "STAD\n"
     ]
    },
    {
     "name": "stderr",
     "output_type": "stream",
     "text": [
      "C:\\Users\\anchen.sun\\Anaconda3\\envs\\Contrastive Learning Method for Predicting Cancer Prognosis from Gene\\lib\\site-packages\\scipy\\interpolate\\interpolate.py:630: RuntimeWarning: divide by zero encountered in true_divide\n",
      "  slope = (y_hi - y_lo) / (x_hi - x_lo)[:, None]\n",
      "C:\\Users\\anchen.sun\\Anaconda3\\envs\\Contrastive Learning Method for Predicting Cancer Prognosis from Gene\\lib\\site-packages\\scipy\\interpolate\\interpolate.py:633: RuntimeWarning: invalid value encountered in multiply\n",
      "  y_new = slope*(x_new - x_lo)[:, None] + y_lo\n",
      "C:\\Users\\anchen.sun\\Anaconda3\\envs\\Contrastive Learning Method for Predicting Cancer Prognosis from Gene\\lib\\site-packages\\scipy\\interpolate\\interpolate.py:630: RuntimeWarning: divide by zero encountered in true_divide\n",
      "  slope = (y_hi - y_lo) / (x_hi - x_lo)[:, None]\n",
      "C:\\Users\\anchen.sun\\Anaconda3\\envs\\Contrastive Learning Method for Predicting Cancer Prognosis from Gene\\lib\\site-packages\\scipy\\interpolate\\interpolate.py:633: RuntimeWarning: invalid value encountered in multiply\n",
      "  y_new = slope*(x_new - x_lo)[:, None] + y_lo\n",
      "C:\\Users\\anchen.sun\\AppData\\Local\\Temp\\ipykernel_23372\\4184451652.py:140: UserWarning: FixedFormatter should only be used together with FixedLocator\n",
      "  ax.set_yticklabels(['']*len(xticks))\n"
     ]
    },
    {
     "data": {
      "text/plain": "<Figure size 200x180 with 1 Axes>",
      "image/png": "[encoded data removed]"
     },
     "metadata": {},
     "output_type": "display_data"
    },
    {
     "name": "stderr",
     "output_type": "stream",
     "text": [
      "C:\\Users\\anchen.sun\\Anaconda3\\envs\\Contrastive Learning Method for Predicting Cancer Prognosis from Gene\\lib\\site-packages\\scipy\\interpolate\\interpolate.py:630: RuntimeWarning: divide by zero encountered in true_divide\n",
      "  slope = (y_hi - y_lo) / (x_hi - x_lo)[:, None]\n",
      "C:\\Users\\anchen.sun\\Anaconda3\\envs\\Contrastive Learning Method for Predicting Cancer Prognosis from Gene\\lib\\site-packages\\scipy\\interpolate\\interpolate.py:633: RuntimeWarning: invalid value encountered in multiply\n",
      "  y_new = slope*(x_new - x_lo)[:, None] + y_lo\n"
     ]
    },
    {
     "name": "stdout",
     "output_type": "stream",
     "text": [
      "SARC\n"
     ]
    },
    {
     "name": "stderr",
     "output_type": "stream",
     "text": [
      "C:\\Users\\anchen.sun\\Anaconda3\\envs\\Contrastive Learning Method for Predicting Cancer Prognosis from Gene\\lib\\site-packages\\scipy\\interpolate\\interpolate.py:630: RuntimeWarning: divide by zero encountered in true_divide\n",
      "  slope = (y_hi - y_lo) / (x_hi - x_lo)[:, None]\n",
      "C:\\Users\\anchen.sun\\Anaconda3\\envs\\Contrastive Learning Method for Predicting Cancer Prognosis from Gene\\lib\\site-packages\\scipy\\interpolate\\interpolate.py:633: RuntimeWarning: invalid value encountered in multiply\n",
      "  y_new = slope*(x_new - x_lo)[:, None] + y_lo\n",
      "C:\\Users\\anchen.sun\\AppData\\Local\\Temp\\ipykernel_23372\\4184451652.py:140: UserWarning: FixedFormatter should only be used together with FixedLocator\n",
      "  ax.set_yticklabels(['']*len(xticks))\n"
     ]
    },
    {
     "data": {
      "text/plain": "<Figure size 200x180 with 1 Axes>",
      "image/png": "[encoded data removed]"
     },
     "metadata": {},
     "output_type": "display_data"
    },
    {
     "name": "stderr",
     "output_type": "stream",
     "text": [
      "C:\\Users\\anchen.sun\\Anaconda3\\envs\\Contrastive Learning Method for Predicting Cancer Prognosis from Gene\\lib\\site-packages\\scipy\\interpolate\\interpolate.py:630: RuntimeWarning: divide by zero encountered in true_divide\n",
      "  slope = (y_hi - y_lo) / (x_hi - x_lo)[:, None]\n",
      "C:\\Users\\anchen.sun\\Anaconda3\\envs\\Contrastive Learning Method for Predicting Cancer Prognosis from Gene\\lib\\site-packages\\scipy\\interpolate\\interpolate.py:633: RuntimeWarning: invalid value encountered in multiply\n",
      "  y_new = slope*(x_new - x_lo)[:, None] + y_lo\n",
      "C:\\Users\\anchen.sun\\Anaconda3\\envs\\Contrastive Learning Method for Predicting Cancer Prognosis from Gene\\lib\\site-packages\\scipy\\interpolate\\interpolate.py:630: RuntimeWarning: divide by zero encountered in true_divide\n",
      "  slope = (y_hi - y_lo) / (x_hi - x_lo)[:, None]\n",
      "C:\\Users\\anchen.sun\\Anaconda3\\envs\\Contrastive Learning Method for Predicting Cancer Prognosis from Gene\\lib\\site-packages\\scipy\\interpolate\\interpolate.py:633: RuntimeWarning: invalid value encountered in multiply\n",
      "  y_new = slope*(x_new - x_lo)[:, None] + y_lo\n"
     ]
    },
    {
     "name": "stdout",
     "output_type": "stream",
     "text": [
      "SKCM\n"
     ]
    },
    {
     "name": "stderr",
     "output_type": "stream",
     "text": [
      "C:\\Users\\anchen.sun\\AppData\\Local\\Temp\\ipykernel_23372\\4184451652.py:140: UserWarning: FixedFormatter should only be used together with FixedLocator\n",
      "  ax.set_yticklabels(['']*len(xticks))\n"
     ]
    },
    {
     "data": {
      "text/plain": "<Figure size 200x180 with 1 Axes>",
      "image/png": "[encoded data removed]"
     },
     "metadata": {},
     "output_type": "display_data"
    }
   ],
   "source": [
    "#cancer_group_list, x_label_flag, y_label_flag, legend_flag, (size_h, size_w, mode_type) = [\"BRCA\", \"KIRC\", \"LUAD\", \"LUSC\", \"OV\", \"CESC\", \"COAD\", \"KIRP\", \"LGG\"], False, False, False, (2, 1.8*0.84, 'C')\n",
    "#cancer_group_list, x_label_flag, y_label_flag, legend_flag, (size_h, size_w, mode_type) = [\"HNSC\", \"LIHC\"], False, True, False, (2, 1.8*0.84, 'L')\n",
    "#cancer_group_list, x_label_flag, y_label_flag, legend_flag, (size_h, size_w, mode_type) = [\"BLCA\"], False, True, True, (2, 1.8*0.84, 'L')\n",
    "#cancer_group_list, x_label_flag, y_label_flag, legend_flag, (size_h, size_w, mode_type) = [\"PRAD\", \"THCA\"], True, True, False, (2, 1.8, 'LB')\n",
    "cancer_group_list, x_label_flag, y_label_flag, legend_flag, (size_h, size_w, mode_type) = [\"UCEC\", \"STAD\", \"SARC\", \"SKCM\"], True, False, False, (2, 1.8, 'B')\n",
    "\n",
    "for cancer_get in cancer_group_list:\n",
    "\n",
    "    print(cancer_get)\n",
    "\n",
    "    # Given file path\n",
    "    extracted_folder_path = 'PaperFigures/ROCData'\n",
    "\n",
    "    # Listing the contents of the extracted folder\n",
    "    extracted_files = os.listdir(extracted_folder_path)\n",
    "\n",
    "    # Function to load FPR and TPR values from a given file\n",
    "    def load_fpr_tpr(file_path):\n",
    "        data = pd.read_csv(file_path)\n",
    "        return data[\"FPR\"], data[\"TPR\"]\n",
    "\n",
    "    # Loading FPR and TPR values from all the files\n",
    "    fpr_list, tpr_list = [], []\n",
    "    for file_name in extracted_files:\n",
    "        if cancer_get in file_name:\n",
    "            file_path = os.path.join(extracted_folder_path, file_name)\n",
    "            fpr, tpr = load_fpr_tpr(file_path)\n",
    "            fpr_list.append(fpr)\n",
    "            tpr_list.append(tpr)\n",
    "\n",
    "    # Defining a common set of FPR levels for interpolation\n",
    "    common_fpr_levels = np.linspace(0, 1, 100)\n",
    "\n",
    "    # Interpolating TPR values at the common FPR levels\n",
    "    interpolated_tpr_values = []\n",
    "    for fpr, tpr in zip(fpr_list, tpr_list):\n",
    "        # Creating an interpolation function\n",
    "        interp_func = interp1d(fpr, tpr, kind='linear', bounds_error=False, fill_value=\"extrapolate\")\n",
    "\n",
    "        # Interpolating the TPR values\n",
    "        interpolated_tpr = interp_func(common_fpr_levels)\n",
    "        interpolated_tpr_values.append(interpolated_tpr)\n",
    "\n",
    "    # Converting the list of arrays to a 2D NumPy array and filling NaN values\n",
    "    interpolated_tpr_array = np.vstack(interpolated_tpr_values)\n",
    "    min_valid_value = np.nanmin(interpolated_tpr_array)\n",
    "    interpolated_tpr_array = np.nan_to_num(interpolated_tpr_array, nan=min_valid_value)\n",
    "\n",
    "    # Calculating the mean and standard error of the TPR\n",
    "    mean_tpr = np.mean(interpolated_tpr_array, axis=0)\n",
    "    stderr_tpr = np.std(interpolated_tpr_array, axis=0) / np.sqrt(interpolated_tpr_array.shape[0])\n",
    "\n",
    "    # Vectorized AUC calculation using trapezoidal rule\n",
    "    auc_roc_values_interpolated_CL = np.trapz(interpolated_tpr_array, common_fpr_levels, axis=1)\n",
    "\n",
    "    # Calculating the average and standard deviation of AUC-ROC\n",
    "    average_auc_roc_interpolated_CL = auc_roc_values_interpolated_CL.mean()\n",
    "    std_auc_roc_interpolated_CL = auc_roc_values_interpolated_CL.std()\n",
    "\n",
    "    # Creating the ROC plot\n",
    "    fig, ax = plt.subplots(figsize=(size_h, size_w))\n",
    "    ax.plot(common_fpr_levels, mean_tpr, color='#0000C6', lw=0.5, label='CL-XGBoost')\n",
    "    ax.fill_between(common_fpr_levels, mean_tpr - stderr_tpr, mean_tpr + stderr_tpr, color='#DDDDFF', alpha=0.5)#, label='CL Std. Error')#, edgecolor='none')\n",
    "\n",
    "    # Given file path\n",
    "    extracted_folder_path = 'PaperFigures/ROCData_bench'\n",
    "\n",
    "    # Listing the contents of the extracted folder\n",
    "    extracted_files = os.listdir(extracted_folder_path)\n",
    "\n",
    "    # Function to load FPR and TPR values from a given file\n",
    "    def load_fpr_tpr(file_path):\n",
    "        data = pd.read_csv(file_path)\n",
    "        return data[\"FPR\"], data[\"TPR\"]\n",
    "\n",
    "    # Loading FPR and TPR values from all the files\n",
    "    fpr_list, tpr_list = [], []\n",
    "    for file_name in extracted_files:\n",
    "        if cancer_get in file_name:\n",
    "            file_path = os.path.join(extracted_folder_path, file_name)\n",
    "            fpr, tpr = load_fpr_tpr(file_path)\n",
    "            fpr_list.append(fpr)\n",
    "            tpr_list.append(tpr)\n",
    "\n",
    "    # Defining a common set of FPR levels for interpolation\n",
    "    common_fpr_levels = np.linspace(0, 1, 100)\n",
    "\n",
    "    # Interpolating TPR values at the common FPR levels\n",
    "    interpolated_tpr_values = []\n",
    "    for fpr, tpr in zip(fpr_list, tpr_list):\n",
    "        # Creating an interpolation function\n",
    "        interp_func = interp1d(fpr, tpr, kind='linear', bounds_error=False, fill_value=\"extrapolate\")\n",
    "\n",
    "        # Interpolating the TPR values\n",
    "        interpolated_tpr = interp_func(common_fpr_levels)\n",
    "        interpolated_tpr_values.append(interpolated_tpr)\n",
    "\n",
    "    # Converting the list of arrays to a 2D NumPy array and filling NaN values\n",
    "    interpolated_tpr_array = np.vstack(interpolated_tpr_values)\n",
    "    min_valid_value = np.nanmin(interpolated_tpr_array)\n",
    "    interpolated_tpr_array = np.nan_to_num(interpolated_tpr_array, nan=min_valid_value)\n",
    "\n",
    "    # Calculating the mean and standard error of the TPR\n",
    "    mean_tpr = np.mean(interpolated_tpr_array, axis=0)\n",
    "    stderr_tpr = np.std(interpolated_tpr_array, axis=0) / np.sqrt(interpolated_tpr_array.shape[0])\n",
    "\n",
    "    # Vectorized AUC calculation using trapezoidal rule\n",
    "    auc_roc_values_interpolated_nonCL = np.trapz(interpolated_tpr_array, common_fpr_levels, axis=1)\n",
    "\n",
    "    # Calculating the average and standard deviation of AUC-ROC\n",
    "    average_auc_roc_interpolated_nonCL = auc_roc_values_interpolated_nonCL.mean()\n",
    "    std_auc_roc_interpolated_nonCL = auc_roc_values_interpolated_nonCL.std()\n",
    "\n",
    "    ax.plot(common_fpr_levels, mean_tpr, color='#CE0000', lw=0.5, label='XGBoost')\n",
    "    ax.fill_between(common_fpr_levels, mean_tpr - stderr_tpr, mean_tpr + stderr_tpr, color='#FFD2D2', alpha=0.5)#, label='Std. Error')#, edgecolor='none')\n",
    "\n",
    "    # Set the colors of the axes to black\n",
    "    ax.spines['bottom'].set_color('black')\n",
    "    ax.spines['left'].set_color('black')\n",
    "    ax.spines['top'].set_color('black')\n",
    "    ax.spines['right'].set_color('black')\n",
    "\n",
    "    # Remove gridlines\n",
    "    ax.grid(False)\n",
    "\n",
    "    ax.xaxis.set_tick_params(width=1, length=5, color='black')\n",
    "    ax.yaxis.set_tick_params(width=1, length=5, color='black')\n",
    "\n",
    "    #plt.xlabel('False Positive Rate (FPR)', fontsize=7)\n",
    "    if y_label_flag:\n",
    "        plt.ylabel('True Positive Rate', fontsize=7)\n",
    "    else:\n",
    "        ax = plt.gca()\n",
    "        xticks = ax.get_yticks()\n",
    "        ax.set_yticklabels(['']*len(xticks))\n",
    "\n",
    "    if x_label_flag:\n",
    "        plt.xlabel('False Positive Rate', fontsize=7)\n",
    "    else:\n",
    "        ax = plt.gca()\n",
    "        xticks = ax.get_xticks()\n",
    "        ax.set_xticklabels(['']*len(xticks))\n",
    "\n",
    "    plt.tick_params(axis='x', labelsize=7)\n",
    "    plt.tick_params(axis='y', labelsize=7)\n",
    "    plt.text(0.02, 0.9, cancer_get, fontsize=7, ha='left')\n",
    "\n",
    "    # Adding AUC-ROC as text annotation in the right bottom corner\n",
    "    plt.text(0.95, 0.15, f'AUC = {average_auc_roc_interpolated_CL:.3f} ± {std_auc_roc_interpolated_CL:.3f}', fontsize=7, ha='right', color='#0000C6')\n",
    "\n",
    "    # Adding AUC-ROC as text annotation in the right bottom corner\n",
    "    plt.text(0.95, 0.05, f'AUC = {average_auc_roc_interpolated_nonCL:.3f} ± {std_auc_roc_interpolated_nonCL:.3f}', fontsize=7, ha='right', color='#CE0000')\n",
    "\n",
    "    # Calculate P-value\n",
    "    stat, p_value = ranksums(auc_roc_values_interpolated_CL, auc_roc_values_interpolated_nonCL)\n",
    "    plt.text(0.95, 0.25, f'P = {p_value:.2e}', fontsize=7, ha='right')\n",
    "\n",
    "    if legend_flag:\n",
    "        plt.legend(loc='lower right', fontsize=7, bbox_to_anchor=(1, 0.3))\n",
    "\n",
    "    # Setting the x-axis and y-axis limits to only show the region from 0 to 1\n",
    "    plt.xlim(0, 1)\n",
    "    plt.ylim(0, 1)\n",
    "    plt.tight_layout()\n",
    "    if mode_type == 'LB':\n",
    "        plt.subplots_adjust(left=0.2, right=0.95, top=0.95, bottom=0.2)\n",
    "    elif mode_type == 'B':\n",
    "        plt.subplots_adjust(left=0.2, right=0.95, top=0.95, bottom=0.2)\n",
    "    elif mode_type == 'L':\n",
    "        plt.subplots_adjust(left=0.2, right=0.95, top=0.95, bottom=0.05)\n",
    "    elif mode_type == 'C':\n",
    "        plt.subplots_adjust(left=0.2, right=0.95, top=0.95, bottom=0.05)\n",
    "\n",
    "    plt.show()"
   ],
   "metadata": {
    "collapsed": false,
    "ExecuteTime": {
     "start_time": "2024-04-14T15:05:31.373358Z",
     "end_time": "2024-04-14T15:05:32.484844Z"
    }
   }
  }
 ],
 "metadata": {
  "kernelspec": {
   "display_name": "Python 3",
   "language": "python",
   "name": "python3"
  },
  "language_info": {
   "codemirror_mode": {
    "name": "ipython",
    "version": 2
   },
   "file_extension": ".py",
   "mimetype": "text/x-python",
   "name": "python",
   "nbconvert_exporter": "python",
   "pygments_lexer": "ipython2",
   "version": "2.7.6"
  }
 },
 "nbformat": 4,
 "nbformat_minor": 0
}
